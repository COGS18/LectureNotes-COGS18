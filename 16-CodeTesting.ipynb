{
 "cells": [
  {
   "cell_type": "markdown",
   "id": "9620092c",
   "metadata": {
    "slideshow": {
     "slide_type": "-"
    }
   },
   "source": [
    "#### Class Question #1\n",
    "\n",
    "Given the following code, which assert will fail?"
   ]
  },
  {
   "cell_type": "code",
   "execution_count": null,
   "id": "32d75a3e",
   "metadata": {
    "slideshow": {
     "slide_type": "fragment"
    }
   },
   "outputs": [],
   "source": [
    "def double_len(input_arg):\n",
    "\n",
    "    output = input_arg.copy()\n",
    "    \n",
    "    for item in input_arg:\n",
    "        output.append(item)\n",
    "    \n",
    "    return output\n",
    "\n",
    "\n",
    "# test here\n",
    "double_len([1,2,3])"
   ]
  },
  {
   "cell_type": "markdown",
   "id": "f263686c",
   "metadata": {
    "slideshow": {
     "slide_type": "-"
    }
   },
   "source": [
    "- A) `assert type(double_len([1, 2])) == list`\n",
    "- B) `assert double_len([1, 2]) == [1, 2, 1, 2]`\n",
    "- C) `assert double_len((1, 2)) == (1, 2, 1, 2)` \n",
    "- D) `assert double_len(['a', 'b', 'c']) == ['a', 'b', 'c', 'a', 'b', 'c']`\n",
    "- E) `assert double_len([]) == []`"
   ]
  },
  {
   "cell_type": "code",
   "execution_count": null,
   "id": "214c6bac",
   "metadata": {
    "tags": [
     "live"
    ]
   },
   "outputs": [],
   "source": []
  },
  {
   "cell_type": "code",
   "execution_count": null,
   "id": "2bbaf9d4",
   "metadata": {
    "slideshow": {
     "slide_type": "slide"
    }
   },
   "outputs": [],
   "source": [
    "# Check that double_size returns a list\n",
    "assert type(double_len([1, 2])) == list"
   ]
  },
  {
   "cell_type": "code",
   "execution_count": null,
   "id": "f05906ae",
   "metadata": {
    "slideshow": {
     "slide_type": "fragment"
    }
   },
   "outputs": [],
   "source": [
    "# Check that an input list returns the expected result\n",
    "assert double_len([1, 2]) == [1, 2, 1, 2]"
   ]
  },
  {
   "cell_type": "code",
   "execution_count": null,
   "id": "c2154c22",
   "metadata": {
    "slideshow": {
     "slide_type": "fragment"
    }
   },
   "outputs": [],
   "source": [
    "# Check if the function works on tuples\n",
    "assert double_len((1, 2)) == (1, 2, 1, 2)"
   ]
  },
  {
   "cell_type": "code",
   "execution_count": null,
   "id": "d541391f",
   "metadata": {
    "slideshow": {
     "slide_type": "fragment"
    }
   },
   "outputs": [],
   "source": [
    "# Check that a different input list (different lengths / contents) returns expected result\n",
    "assert double_len(['a', 'b', 'c']) == ['a', 'b', 'c', 'a', 'b', 'c']"
   ]
  },
  {
   "cell_type": "code",
   "execution_count": null,
   "id": "711ced1d",
   "metadata": {
    "slideshow": {
     "slide_type": "fragment"
    }
   },
   "outputs": [],
   "source": [
    "# Check that an empty list executes, executing an empty list\n",
    "assert double_len([]) == []"
   ]
  },
  {
   "cell_type": "markdown",
   "id": "71af9e73",
   "metadata": {
    "slideshow": {
     "slide_type": "slide"
    }
   },
   "source": [
    "# Code Testing\n",
    "\n",
    "- smoke tests\n",
    "- unit tests\n",
    "- `pytest`"
   ]
  },
  {
   "cell_type": "markdown",
   "id": "31806293",
   "metadata": {
    "slideshow": {
     "slide_type": "-"
    }
   },
   "source": [
    "### The Programming Virtue of Self-Doubt\n",
    "\n",
    "Larry Wall, creator of the Perl programming language, joked that the three virtues of a programmer are [**laziness, impatience and hubris**](https://wiki.c2.com/?LazinessImpatienceHubris). **Laziness** to write programs to do work for you and also to document them so your future self can be lazy, **angry impatience** to force the computer to do things it really _should_ be able to do, and **hubris** to write code that other people won't look down on.\n",
    "\n",
    "Maybe we haven't learned these \"virtues\" yet, but one programming virtue I hope you've begun to learn is this:\n",
    "\n",
    "<br>\n",
    "<center style=\"font-family: Impact, fantasy; font-weight: bold; font-size: large\">Distrust</center>\n",
    "\n",
    "We **distrust** the code we write. We assume it doesn't work. Even when we run it once, and it seems to work, we still know it doesn't work.\n",
    "\n",
    "We are the ultimate skeptic of our own code. The code works? That's like telling me that unicorns exist—yeah right! Prove it. We need proof.\n",
    "\n",
    "The proof is tests. We test to turn our distrustful self-doubt into trusting confidence."
   ]
  },
  {
   "cell_type": "markdown",
   "id": "9e6b5673",
   "metadata": {
    "collapsed": true,
    "slideshow": {
     "slide_type": "slide"
    }
   },
   "source": [
    "## Writing Good Code"
   ]
  },
  {
   "cell_type": "markdown",
   "id": "bd073d72",
   "metadata": {
    "collapsed": true,
    "slideshow": {
     "slide_type": "fragment"
    }
   },
   "source": [
    "All in all, we want to write code that is:\n",
    "\n",
    "- Well organized (and follows a style guide)\n",
    "- Documented\n",
    "- **Tested**\n",
    "\n",
    "And you will have understandable, maintainable, and trustable code. "
   ]
  },
  {
   "cell_type": "markdown",
   "id": "3f8559a1",
   "metadata": {
    "collapsed": true,
    "slideshow": {
     "slide_type": "slide"
    }
   },
   "source": [
    "## Code Testing"
   ]
  },
  {
   "cell_type": "markdown",
   "id": "ceca373f",
   "metadata": {
    "slideshow": {
     "slide_type": "fragment"
    }
   },
   "source": [
    "<div class=\"alert alert-success\">\n",
    "Code tests are code that run and check other code, to make sure it does what it is expected to do. \n",
    "</div>\n",
    "\n",
    "The assertions that you've seen in your assignments are code tests. (Although today we will learn another way to organize tests.)"
   ]
  },
  {
   "cell_type": "markdown",
   "id": "21c03148",
   "metadata": {
    "slideshow": {
     "slide_type": "-"
    }
   },
   "source": [
    "## Why Write Tests"
   ]
  },
  {
   "cell_type": "markdown",
   "id": "43e257fb",
   "metadata": {
    "slideshow": {
     "slide_type": "fragment"
    }
   },
   "source": [
    "- To ensure code does what it is supposed to—to assuage your self-doubt.\n",
    "- To have a system for checking things when you change things in the code"
   ]
  },
  {
   "cell_type": "markdown",
   "id": "85cd393c",
   "metadata": {
    "slideshow": {
     "slide_type": "fragment"
    }
   },
   "source": [
    "Tests, when run, help identify code that will give an error if something has gone wrong. "
   ]
  },
  {
   "cell_type": "markdown",
   "id": "d629537b",
   "metadata": {
    "collapsed": true,
    "slideshow": {
     "slide_type": "slide"
    }
   },
   "source": [
    "## The Best (Laziest) Argument for Writing Tests\n",
    "\n",
    "Whenever you write new code, you will find yourself using little snippets of code to check it. \n",
    "\n",
    "Collect these snippets into a test function, and you get re-runnable tests for free."
   ]
  },
  {
   "cell_type": "markdown",
   "id": "62bbe945",
   "metadata": {
    "slideshow": {
     "slide_type": "slide"
    }
   },
   "source": [
    "![](img/code_testing.png)\n",
    "\n",
    "Source: https://twitter.com/jimhester_/status/1361697676832739328"
   ]
  },
  {
   "cell_type": "markdown",
   "id": "d37ab8c6",
   "metadata": {
    "collapsed": true,
    "slideshow": {
     "slide_type": "slide"
    }
   },
   "source": [
    "### Levels of Code Testing"
   ]
  },
  {
   "cell_type": "markdown",
   "id": "a6a3b65f",
   "metadata": {
    "slideshow": {
     "slide_type": "-"
    }
   },
   "source": [
    "1. **Smoke tests** - preliminary tests to basic functionality; checks if something runs (but not necessarily if it does the right thing) (gut check) \n",
    "2. **Unit tests** - test functions & objects to ensure that they code is behaving as expected\n",
    "3. **Integration tests** - tests functions, classes & modules interacting\n",
    "4. **System tests** - tests end-to-end behavior "
   ]
  },
  {
   "cell_type": "markdown",
   "id": "a146b093",
   "metadata": {
    "slideshow": {
     "slide_type": "-"
    }
   },
   "source": [
    "#### Our Focus: Unit Tests\n",
    "\n",
    "- one test for each \"piece\" of your code (each function, each class, each module, etc)\n",
    "- passes silently if true\n",
    "- error if it fails\n",
    "- consider \"edge cases\"\n",
    "- help you resist the urge to assume computers will act how you think it will work \n",
    "- functions used with pytest start with `test_`"
   ]
  },
  {
   "cell_type": "markdown",
   "id": "e7850ecb",
   "metadata": {
    "collapsed": true,
    "slideshow": {
     "slide_type": "slide"
    }
   },
   "source": [
    "## How to Write Tests"
   ]
  },
  {
   "cell_type": "markdown",
   "id": "9fd19d9f",
   "metadata": {
    "slideshow": {
     "slide_type": "fragment"
    }
   },
   "source": [
    "Given a function or class you want to test:\n",
    "- You need to have an expectation for what it should do\n",
    "- Write out some example cases, with known answers\n",
    "- Use `assert` to check that your example cases do run as expected\n",
    "- Collect these examples into test functions, stored in test files"
   ]
  },
  {
   "cell_type": "markdown",
   "id": "eab9321d",
   "metadata": {
    "collapsed": true,
    "slideshow": {
     "slide_type": "-"
    }
   },
   "source": [
    "## Example Test Code\n",
    "\n",
    "What function should do: add two inputs together"
   ]
  },
  {
   "cell_type": "code",
   "execution_count": null,
   "id": "50bb97b6",
   "metadata": {
    "slideshow": {
     "slide_type": "fragment"
    }
   },
   "outputs": [],
   "source": [
    "import math\n",
    "\n",
    "def test_add():\n",
    "    \"\"\"Tests for the `add` function.\"\"\"\n",
    "    \n",
    "    # Test adding positive numbers\n",
    "    assert add(2, 2) == 4\n",
    "    \n",
    "    # Test adding negative numbers\n",
    "    assert add(-2, -2) == -4\n",
    "    \n",
    "    # Test adding floats\n",
    "#     assert add(2.7, 1.2) == 3.9\n",
    "    assert math.isclose(add(2.7, 1.2), 3.9)\n",
    "    \n",
    "    # Test adding with 0\n",
    "    assert add(2, 0) == 2"
   ]
  },
  {
   "cell_type": "code",
   "execution_count": null,
   "id": "eec6aea7",
   "metadata": {
    "slideshow": {
     "slide_type": "fragment"
    }
   },
   "outputs": [],
   "source": [
    "def add(num1, num2):\n",
    "    return num1 + num2"
   ]
  },
  {
   "cell_type": "code",
   "execution_count": null,
   "id": "03b5abce",
   "metadata": {
    "slideshow": {
     "slide_type": "fragment"
    }
   },
   "outputs": [],
   "source": [
    "# Run our test function\n",
    "test_add()"
   ]
  },
  {
   "cell_type": "markdown",
   "id": "a427f5a5",
   "metadata": {
    "slideshow": {
     "slide_type": "slide"
    }
   },
   "source": [
    "#### Class Question #2\n",
    "\n",
    "If you were asked to write a function `remove_punc` that removed all the punctuation from a given input string...what are some things that would be `True` of the output of that function?"
   ]
  },
  {
   "cell_type": "markdown",
   "id": "f8de5a15",
   "metadata": {
    "slideshow": {
     "slide_type": "-"
    }
   },
   "source": [
    "Brainstorm here...what might we doubt about our function? What could go wrong?"
   ]
  },
  {
   "cell_type": "code",
   "execution_count": null,
   "id": "753be55c",
   "metadata": {
    "slideshow": {
     "slide_type": "fragment"
    },
    "tags": [
     "live"
    ]
   },
   "outputs": [],
   "source": [
    "# write assert statements here to check that it doesn't go wrong\n",
    "\n",
    "assert remove_punc(...) == ..."
   ]
  },
  {
   "cell_type": "code",
   "execution_count": null,
   "id": "964657a1",
   "metadata": {
    "slideshow": {
     "slide_type": "slide"
    }
   },
   "outputs": [],
   "source": [
    "import string\n",
    "string.punctuation"
   ]
  },
  {
   "cell_type": "code",
   "execution_count": null,
   "id": "f6b8a516",
   "metadata": {
    "slideshow": {
     "slide_type": "-"
    }
   },
   "outputs": [],
   "source": [
    "# test function here\n",
    "\n",
    "def test_remove_punc():\n",
    "    assert remove_punc('!\"#$%&\\'()*+,-./:;<=>?@[\\\\]^_`{|}~') == ''\n",
    "    assert remove_punc('this class is called: COGS 18') == 'this class is called COGS 18'\n",
    "    assert remove_punc('') == ''\n",
    "    assert remove_punc(\"Hi, I'm Brian!\") == 'Hi Im Brian'"
   ]
  },
  {
   "cell_type": "code",
   "execution_count": null,
   "id": "1127d4f8",
   "metadata": {},
   "outputs": [],
   "source": [
    "def remove_punc(in_str):\n",
    "    \n",
    "    out_str = in_str\n",
    "    \n",
    "    for punc in string.punctuation:\n",
    "        out_str = out_str.replace(punc, '')\n",
    "    \n",
    "    return out_str"
   ]
  },
  {
   "cell_type": "code",
   "execution_count": null,
   "id": "b6912377",
   "metadata": {},
   "outputs": [],
   "source": [
    "remove_punc(\"Hi, I'm Brian!\")"
   ]
  },
  {
   "cell_type": "code",
   "execution_count": null,
   "id": "86d0bdc1",
   "metadata": {
    "slideshow": {
     "slide_type": "fragment"
    }
   },
   "outputs": [],
   "source": [
    "test_remove_punc()"
   ]
  },
  {
   "cell_type": "markdown",
   "id": "908e767d",
   "metadata": {
    "slideshow": {
     "slide_type": "slide"
    }
   },
   "source": [
    "#### Class Question #3\n",
    "\n",
    "Here's a function that takes each pair of consecutive items in a list and divides the two numbers."
   ]
  },
  {
   "cell_type": "code",
   "execution_count": null,
   "id": "df5c6d3a",
   "metadata": {
    "slideshow": {
     "slide_type": "fragment"
    }
   },
   "outputs": [],
   "source": [
    "# Given the following function:\n",
    "\n",
    "def divide_neighbors(in_list):    \n",
    "    out = []\n",
    "    \n",
    "    for el1, el2 in zip(in_list, in_list[1:]):\n",
    "        out.append(el1 / el2)\n",
    "    \n",
    "    return out"
   ]
  },
  {
   "cell_type": "code",
   "execution_count": null,
   "id": "5bf08849",
   "metadata": {
    "slideshow": {
     "slide_type": "fragment"
    }
   },
   "outputs": [],
   "source": [
    "# And the following test function:\n",
    "\n",
    "def test_divide_neighbors():\n",
    "    assert type(divide_neighbors([1, 2])) == list\n",
    "    assert divide_neighbors([1, 2, 4]) == [0.5, 0.5]\n",
    "    assert divide_neighbors([2, 8, 4]) == [0.25, 2]\n",
    "\n",
    "\n",
    "# run the tests\n",
    "test_divide_neighbors()"
   ]
  },
  {
   "cell_type": "markdown",
   "id": "db961ff2",
   "metadata": {
    "slideshow": {
     "slide_type": "-"
    }
   },
   "source": [
    "These pass, but which important scenarios have we not tested? (Answer in English or with asserts.)"
   ]
  },
  {
   "cell_type": "code",
   "execution_count": null,
   "id": "3c66c553",
   "metadata": {
    "slideshow": {
     "slide_type": "-"
    },
    "tags": [
     "live"
    ]
   },
   "outputs": [],
   "source": []
  },
  {
   "cell_type": "markdown",
   "id": "e3c1ae3f",
   "metadata": {
    "slideshow": {
     "slide_type": "slide"
    }
   },
   "source": [
    "## Test Driven Development"
   ]
  },
  {
   "cell_type": "markdown",
   "id": "aeed69dc",
   "metadata": {
    "slideshow": {
     "slide_type": "fragment"
    }
   },
   "source": [
    "<div class=\"alert alert-success\">\n",
    "In software development, <b>test-driven development</b> is an approach in which you write tests <em>first</em>, and then write code to pass the tests. \n",
    "</div>"
   ]
  },
  {
   "cell_type": "markdown",
   "id": "ca4be4e6",
   "metadata": {
    "collapsed": true,
    "slideshow": {
     "slide_type": "fragment"
    }
   },
   "source": [
    "- Ensures you go into writing code with a good plan / outline\n",
    "- Ensures that you have a test suite, as you can not decide to neglect test code after the fact\n",
    "- Note: when you work on the assignments for this class, you are effectively doing test-driven development"
   ]
  },
  {
   "cell_type": "markdown",
   "id": "20f336c0",
   "metadata": {
    "collapsed": true,
    "slideshow": {
     "slide_type": "slide"
    }
   },
   "source": [
    "## Test Coverage"
   ]
  },
  {
   "cell_type": "markdown",
   "id": "cea73463",
   "metadata": {
    "slideshow": {
     "slide_type": "fragment"
    }
   },
   "source": [
    "<div class=\"alert alert-success\">\n",
    "<b>Test coverage</b> is the proportion of a software project that is run by the test suite. \n",
    "</div>"
   ]
  },
  {
   "cell_type": "markdown",
   "id": "fcc1fa71",
   "metadata": {},
   "source": [
    "Sometimes you will hear this term. 100% test coverage is a reasonable goal."
   ]
  },
  {
   "cell_type": "markdown",
   "id": "b214a6e5",
   "metadata": {},
   "source": [
    "#### Class Question #4\n",
    "\n",
    "If your code has 100% test coverage, does that mean your code is 100% correct?"
   ]
  },
  {
   "cell_type": "code",
   "execution_count": null,
   "id": "6c431985",
   "metadata": {
    "tags": [
     "live"
    ]
   },
   "outputs": [],
   "source": []
  },
  {
   "cell_type": "markdown",
   "id": "669501e3",
   "metadata": {
    "slideshow": {
     "slide_type": "slide"
    }
   },
   "source": [
    "#### Class Question #5\n",
    "\n",
    "Write a test function that checks the following piece of code:"
   ]
  },
  {
   "cell_type": "code",
   "execution_count": null,
   "id": "eb7a3279",
   "metadata": {
    "scrolled": true,
    "slideshow": {
     "slide_type": "-"
    }
   },
   "outputs": [],
   "source": [
    "def sum_list(input_list):\n",
    "    \"\"\"Add all values in a list - returns the sum\"\"\"\n",
    "    \n",
    "    output = 0\n",
    "    \n",
    "    for val in input_list:\n",
    "        output += val\n",
    "        \n",
    "    return output"
   ]
  },
  {
   "cell_type": "markdown",
   "id": "2ef94d3b",
   "metadata": {
    "slideshow": {
     "slide_type": "-"
    }
   },
   "source": [
    "1. Define test function `def test_...`\n",
    "2. `assert` within the test function\n",
    "    - check that the function is callable\n",
    "    - check the output is expected output / expected type\n",
    "    - check that function sums the list (which was our expectation)\n",
    "    - anything else?"
   ]
  },
  {
   "cell_type": "code",
   "execution_count": null,
   "id": "9f91a3cc",
   "metadata": {
    "slideshow": {
     "slide_type": "fragment"
    },
    "tags": [
     "live"
    ]
   },
   "outputs": [],
   "source": [
    "# your test here"
   ]
  },
  {
   "cell_type": "code",
   "execution_count": null,
   "id": "b68c6068",
   "metadata": {},
   "outputs": [],
   "source": [
    "test_sum_list()"
   ]
  },
  {
   "cell_type": "markdown",
   "id": "7ef2557e",
   "metadata": {
    "slideshow": {
     "slide_type": "slide"
    }
   },
   "source": [
    "## Testing Code when `input()` is used"
   ]
  },
  {
   "cell_type": "code",
   "execution_count": null,
   "id": "4ef5217e",
   "metadata": {
    "slideshow": {
     "slide_type": "-"
    }
   },
   "outputs": [],
   "source": [
    "def get_input():\n",
    "    \"\"\"ask user for an input message\n",
    "    \n",
    "    Returns\n",
    "    -------\n",
    "    msg : str\n",
    "        text specified on input by user\n",
    "    out_msg : None\n",
    "        always returns None; subsequent functions would return a more specific out_msg\n",
    "    \"\"\"\n",
    "    \n",
    "    msg = input('INPUT :\\t')\n",
    "    out_msg = None\n",
    "    \n",
    "    return msg, out_msg"
   ]
  },
  {
   "cell_type": "code",
   "execution_count": null,
   "id": "32263be6",
   "metadata": {
    "slideshow": {
     "slide_type": "-"
    }
   },
   "outputs": [],
   "source": [
    "get_input()"
   ]
  },
  {
   "cell_type": "code",
   "execution_count": null,
   "id": "9336f58c",
   "metadata": {
    "slideshow": {
     "slide_type": "fragment"
    }
   },
   "outputs": [],
   "source": [
    "import mock  # May need to !pip install --user mock\n",
    "import builtins\n",
    "\n",
    "def test_get_input():\n",
    "    # specify after lambda what you want function to use as \"input\"\n",
    "    with mock.patch.object(builtins, 'input', lambda _: 'Hello'):\n",
    "\n",
    "        # execute function and specify something that asserts True\n",
    "        msg, out_msg = get_input()\n",
    "        assert msg == 'Hello'\n",
    "        assert out_msg == None"
   ]
  },
  {
   "cell_type": "code",
   "execution_count": null,
   "id": "5b41e244",
   "metadata": {},
   "outputs": [],
   "source": [
    "test_get_input()"
   ]
  },
  {
   "cell_type": "markdown",
   "id": "eae902ee",
   "metadata": {
    "slideshow": {
     "slide_type": "fragment"
    }
   },
   "source": [
    "<div class=\"alert alert-danger\">\n",
    "If your function only has <code>print</code> statements as its output, it will *not* be testable. Consider this during development/planning!\n",
    "</div>"
   ]
  },
  {
   "cell_type": "markdown",
   "id": "9ed52911",
   "metadata": {},
   "source": [
    "### How to mitigate this mess\n",
    "\n",
    "A good practice is to write most of your functions _without_ `input` or `print`, instead just taking and returning plain strings/lists/numbers.\n",
    "\n",
    "Then have just one place in your code that uses `input` and `print`, and it calls your other functions as necessary."
   ]
  },
  {
   "cell_type": "code",
   "execution_count": null,
   "id": "45c07298",
   "metadata": {},
   "outputs": [],
   "source": [
    "# Hard to test\n",
    "\n",
    "def main():\n",
    "    print('How are you today?')\n",
    "    \n",
    "    answer = input().lower()\n",
    "\n",
    "    if 'not good' in answer:\n",
    "        print('Aww, too bad.')\n",
    "    if 'good' in answer:\n",
    "        print('Great!')\n",
    "    else:\n",
    "        print('Computers don\\'t have feelings either.')"
   ]
  },
  {
   "cell_type": "code",
   "execution_count": null,
   "id": "2feddb12",
   "metadata": {},
   "outputs": [],
   "source": [
    "# More testable\n",
    "\n",
    "# This code does not use input() or print(), easy to test.\n",
    "def reply_for(answer):\n",
    "    answer = answer.lower()\n",
    "    \n",
    "    if 'not good' in answer:\n",
    "        return 'Aww, too bad.'\n",
    "    elif 'good' in answer:\n",
    "        return 'Great!'\n",
    "    else:\n",
    "        return 'Computers don\\'t have feelings either.'\n",
    "\n",
    "    \n",
    "assert reply_for('good') == 'Great!'\n",
    "\n",
    "\n",
    "# If you test the above, then you can test this less.\n",
    "def main():\n",
    "    print('How are you today?')\n",
    "\n",
    "    answer = input()\n",
    "\n",
    "    reply = reply_for(answer)\n",
    "\n",
    "    print(reply)"
   ]
  },
  {
   "cell_type": "markdown",
   "id": "9adbc4a8",
   "metadata": {
    "slideshow": {
     "slide_type": "slide"
    }
   },
   "source": [
    "## PyTest"
   ]
  },
  {
   "cell_type": "markdown",
   "id": "a98e66fb",
   "metadata": {
    "slideshow": {
     "slide_type": "fragment"
    }
   },
   "source": [
    "<div class=\"alert alert-info\">\n",
    "<b><a href = 'https://docs.pytest.org/en/latest/'> PyTest </a></b> is a module that for writing and running test code. It is available from Anaconda and Datahub.\n",
    "</div>"
   ]
  },
  {
   "cell_type": "markdown",
   "id": "e0dd2221",
   "metadata": {
    "slideshow": {
     "slide_type": "-"
    }
   },
   "source": [
    "### `pytest`\n",
    "\n",
    "- check if error raised when expected to be raised\n",
    "- autorun all of your tests\n",
    "- formal testing to your code/projects\n",
    "\n",
    "#### Executing `pytest`\n",
    "\n",
    "1. Look for any file called `test_...`\n",
    "2. If everything works, silently moves along. \n",
    "4. For anything that fails, will alert you.\n",
    "\n",
    "**Available from Anaconda and on Datahub** or install it with:\n",
    "\n",
    "```\n",
    "!pip install --user pytest\n",
    "```"
   ]
  },
  {
   "cell_type": "markdown",
   "id": "96519e90",
   "metadata": {
    "slideshow": {
     "slide_type": "-"
    }
   },
   "source": [
    "Let's make two files with the following code...\n",
    "\n",
    "---\n",
    "\n",
    "#### `CodeTesting/my_functions.py`\n",
    "\n",
    "```python\n",
    "def divide_neighbors(in_list):    \n",
    "    output = []\n",
    "    \n",
    "    for el1, el2 in zip(in_list[1:], in_list):\n",
    "        output.append(el1 / el2)\n",
    "    \n",
    "    return output\n",
    "\n",
    "\n",
    "def sum_list(input_list):\n",
    "    \"\"\"add all values in a list - return sum\"\"\"\n",
    "    \n",
    "    output = 0\n",
    "    \n",
    "    for val in input_list:\n",
    "        output += val\n",
    "        \n",
    "    return output\n",
    "```\n",
    "\n",
    "---\n",
    "\n",
    "#### `CodeTesting/test_my_functions.py`\n",
    "\n",
    "```python\n",
    "def test_divide_neighbors():\n",
    "    assert type(divide_neighbors([1, 2])) == list\n",
    "    assert divide_neighbors([1, 2, 4]) == [0.5, 0.5]\n",
    "    assert divide_neighbors([2, 8, 4]) == [0.25, 2]\n",
    "\n",
    "    # Test lists with not enough elements\n",
    "    assert divide_neighbors([]) == []\n",
    "    assert divide_neighbors([10]) == []\n",
    "    \n",
    "    # Test division by zero\n",
    "    try:\n",
    "        divide_neighbors([10, 0])\n",
    "        assert False\n",
    "    except ZeroDivisionError:\n",
    "        \"it passed\"\n",
    "\n",
    "    \n",
    "def test_sum_list():\n",
    "    # Check that sum_list is a function\n",
    "    assert callable(sum_list)\n",
    "    \n",
    "    # Check that it returns an integer\n",
    "    assert type(sum_list([1, 2, 3, 4])) == int\n",
    "\n",
    "    # Check that it sums\n",
    "    assert sum_list([1, 2, 3, 4]) == 10\n",
    "    \n",
    "    # Check that the sum of the empty list is 0\n",
    "    assert sum_list([]) == 0\n",
    "```\n",
    "\n",
    "---"
   ]
  },
  {
   "cell_type": "markdown",
   "id": "a0c1f45b",
   "metadata": {},
   "source": [
    "I've provided the above two files for you. Something is not quite right yet. Let's read the errors from `pytest` to fix."
   ]
  },
  {
   "cell_type": "code",
   "execution_count": null,
   "id": "8f49849b",
   "metadata": {
    "scrolled": false
   },
   "outputs": [],
   "source": [
    "!pytest"
   ]
  },
  {
   "cell_type": "markdown",
   "id": "4f16b76c",
   "metadata": {},
   "source": [
    "It looks like we forgot to import the code we want to test into the test file."
   ]
  },
  {
   "cell_type": "markdown",
   "id": "3d93f47f",
   "metadata": {},
   "source": [
    "Once we fix that, there's another problem too—can you figure it out?"
   ]
  },
  {
   "cell_type": "markdown",
   "id": "4d2f5ac6",
   "metadata": {
    "slideshow": {
     "slide_type": "slide"
    }
   },
   "source": [
    "---"
   ]
  },
  {
   "cell_type": "markdown",
   "id": "a4121d2e",
   "metadata": {},
   "source": [
    "Below is the answer to Class Question #3: what did we not test about the `divide_neighbors` function?\n",
    "\n",
    "- We didn't test lists of length 0 or 1 that don't have enough elements to divide.\n",
    "- We didn't test division by 0"
   ]
  },
  {
   "cell_type": "code",
   "execution_count": null,
   "id": "4ce52a2b",
   "metadata": {},
   "outputs": [],
   "source": [
    "# And the following test function:\n",
    "\n",
    "def test_divide_neighbors():\n",
    "    assert type(divide_neighbors([1, 2])) == list\n",
    "    assert divide_neighbors([1, 2, 4]) == [0.5, 0.5]\n",
    "    assert divide_neighbors([2, 8, 4]) == [0.25, 2]\n",
    "\n",
    "    # Test lists with not enough elements\n",
    "    assert divide_neighbors([]) == []\n",
    "    assert divide_neighbors([10]) == []\n",
    "    \n",
    "    # Test division by zero\n",
    "    try:\n",
    "        divide_neighbors([10, 0])\n",
    "        assert False\n",
    "    except ZeroDivisionError:\n",
    "        \"it passed\"\n",
    "\n",
    "\n",
    "# run the tests\n",
    "test_divide_neighbors()"
   ]
  },
  {
   "cell_type": "markdown",
   "id": "a2a53bfe",
   "metadata": {},
   "source": [
    "A possible answer to Class Question #5: writing tests for `sum_list`."
   ]
  },
  {
   "cell_type": "code",
   "execution_count": null,
   "id": "8f049673",
   "metadata": {},
   "outputs": [],
   "source": [
    "\n",
    "def test_sum_list():\n",
    "    # Check that sum_list is a function\n",
    "    assert callable(sum_list)\n",
    "    \n",
    "    # Check that it returns an integer\n",
    "    assert type(sum_list([1, 2, 3, 4])) == int\n",
    "\n",
    "    # Check that it sums\n",
    "    assert sum_list([1, 2, 3, 4]) == 10\n",
    "    \n",
    "    # Check that the sum of the empty list is 0\n",
    "    assert sum_list([]) == 0\n",
    "\n",
    "    \n",
    "test_sum_list()"
   ]
  }
 ],
 "metadata": {
  "kernelspec": {
   "display_name": "Python 3 (ipykernel)",
   "language": "python",
   "name": "python3"
  },
  "language_info": {
   "codemirror_mode": {
    "name": "ipython",
    "version": 3
   },
   "file_extension": ".py",
   "mimetype": "text/x-python",
   "name": "python",
   "nbconvert_exporter": "python",
   "pygments_lexer": "ipython3",
   "version": "3.11.6"
  },
  "rise": {
   "scroll": true
  }
 },
 "nbformat": 4,
 "nbformat_minor": 5
}
