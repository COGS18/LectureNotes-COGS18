{
 "cells": [
  {
   "cell_type": "code",
   "execution_count": null,
   "id": "e99b7c3f",
   "metadata": {
    "tags": [
     "live"
    ]
   },
   "outputs": [],
   "source": [
    "# this cell should have a red border, indicating the code is installed for in-class responses\n",
    "# if not, go back to, like, lecture 4 and run the code cell to install"
   ]
  },
  {
   "cell_type": "markdown",
   "id": "6e7b5a3c",
   "metadata": {},
   "source": [
    "# Info About Midterm Exam 1\n",
    "\n",
    "16.5% of your course grade:\n",
    "- 13.5% in class\n",
    "- 3% take-home\n",
    "\n",
    "## In-Class Portion\n",
    "\n",
    "2/6 Tues (come early).\n",
    "Bring:<br>\n",
    "- Pencils/Pen\n",
    "- Student ID\n",
    "\n",
    "Closed notes. No computers.<br>\n",
    "Minimal code writing; lots of fill-in-the-blank.<br>\n",
    "75 minutes.\n",
    "\n",
    "## Take-Home Portion\n",
    "\n",
    "Distributed on Datahub.<br>\n",
    "~3 Coding exercises, similar to assignment questions.<br>\n",
    "Open notes. Open Google.<br>\n",
    "Work alone. No other humans. No ChatGPT or other AIs.<br>\n",
    "Submit on Datahub before class 2/8 10:59am. (Just like an assignment, but you cannot talk to others or ChatGPT.)\n",
    "\n",
    "## Preparation\n",
    "\n",
    "Review materials will be distributed shortly and announced on Piazza.<br>\n",
    "Thursday in class will be a review session (Feb 1)."
   ]
  },
  {
   "cell_type": "markdown",
   "id": "b9291f6e",
   "metadata": {
    "slideshow": {
     "slide_type": "slide"
    }
   },
   "source": [
    "# Control Flow - Loops\n",
    "\n",
    "_(This lecture is **not** included on Exam 1.)_\n",
    "\n",
    "Finally! With loops and everything else we have learned we can finally make meaningful programs!\n",
    "\n",
    "## Here's a simple Cogsci experiment: the [2-Back test](https://en.wikipedia.org/wiki/N-back) for working memory.\n",
    "\n",
    "For 2-back the subject must react (e.g. press a button) whenever a stimuli is repeated from 2 steps earlier, e.g. the \\*starred\\* in the below:\n",
    "\n",
    "**N W G \\*W\\* M S I \\*S\\* N M \\*N\\* N I**\n",
    "\n",
    "Can you make Python do the 2-back test?"
   ]
  },
  {
   "cell_type": "code",
   "execution_count": null,
   "id": "91e63c12",
   "metadata": {},
   "outputs": [],
   "source": [
    "# Want to output N W G *W* M S I *S* N M *N* N I\n",
    "\n",
    "stimuli      = ['N', 'W', 'G', 'W', 'M', 'S', 'I', 'S', 'N', 'M', 'N', 'N', 'I']\n",
    "shifted_by_2 = [None, None, 'N', 'W', 'G', 'W', 'M', 'S', 'I', 'S', 'N', 'M', 'N', 'N', 'I']\n",
    "# Or, equivalently:\n",
    "shifted_by_2 = [None, None] + stimuli\n",
    "\n",
    "index = 0 # Start at beginning of the stimuli list.\n",
    "\n",
    "letter = stimuli[index]      # N\n",
    "back2  = shifted_by_2[index] # None\n",
    "\n",
    "if letter == back2:\n",
    "    print('*' + letter + '*')\n",
    "else:\n",
    "    print(letter)\n",
    "\n",
    "index = 1\n",
    "\n",
    "letter = stimuli[index]      # W\n",
    "back2  = shifted_by_2[index] # None\n",
    "\n",
    "if letter == back2:\n",
    "    print('*' + letter + '*')\n",
    "else:\n",
    "    print(letter)\n",
    "\n",
    "index = 2 \n",
    "\n",
    "letter = stimuli[index]      # G\n",
    "back2  = shifted_by_2[index] # N\n",
    "\n",
    "if letter == back2:\n",
    "    print('*' + letter + '*')\n",
    "else:\n",
    "    print(letter)\n",
    "    \n",
    "index = 3\n",
    "\n",
    "letter = stimuli[index]      # W\n",
    "back2  = shifted_by_2[index] # W\n",
    "\n",
    "if letter == back2:\n",
    "    print('*' + letter + '*')\n",
    "else:\n",
    "    print(letter)\n",
    "\n",
    "# ...Can you finish the rest?!...\n",
    "# \n",
    "# Without loops, you may find yourself copy pasting a lot......!"
   ]
  },
  {
   "cell_type": "markdown",
   "id": "12472bf7",
   "metadata": {
    "slideshow": {
     "slide_type": "slide"
    }
   },
   "source": [
    "## What you will know by the end of the lecture\n",
    "\n",
    "- `while`\n",
    "- `for`\n",
    "- `range`\n",
    "- `continue`\n",
    "- `break`"
   ]
  },
  {
   "cell_type": "markdown",
   "id": "3b776e2f",
   "metadata": {
    "collapsed": true,
    "slideshow": {
     "slide_type": "slide"
    }
   },
   "source": [
    "### Common pattern: counters"
   ]
  },
  {
   "cell_type": "code",
   "execution_count": null,
   "id": "929f36a9",
   "metadata": {
    "slideshow": {
     "slide_type": "fragment"
    }
   },
   "outputs": [],
   "source": [
    "# Initialize a counter variable\n",
    "counter = 0 \n",
    "print(counter)"
   ]
  },
  {
   "cell_type": "code",
   "execution_count": null,
   "id": "066a3415",
   "metadata": {
    "slideshow": {
     "slide_type": "fragment"
    }
   },
   "outputs": [],
   "source": [
    "counter = counter + 1\n",
    "print(counter)"
   ]
  },
  {
   "cell_type": "code",
   "execution_count": null,
   "id": "afa0723c",
   "metadata": {
    "slideshow": {
     "slide_type": "fragment"
    }
   },
   "outputs": [],
   "source": [
    "counter = counter + 1\n",
    "print(counter)"
   ]
  },
  {
   "cell_type": "markdown",
   "id": "4f62b5ab",
   "metadata": {
    "slideshow": {
     "slide_type": "fragment"
    }
   },
   "source": [
    "The idea here...is that as the code executes, the value of the counter increases. We'll use these a lot in loops!"
   ]
  },
  {
   "cell_type": "markdown",
   "id": "520d3fa1",
   "metadata": {
    "slideshow": {
     "slide_type": "slide"
    }
   },
   "source": [
    "## Loops"
   ]
  },
  {
   "cell_type": "markdown",
   "id": "d7f1f57e",
   "metadata": {
    "slideshow": {
     "slide_type": "-"
    }
   },
   "source": [
    "<div class=\"alert alert-success\">\n",
    "A <b>loop</b> is a procedure that repeats a piece of code.\n",
    "</div>"
   ]
  },
  {
   "cell_type": "markdown",
   "id": "725cf6ff",
   "metadata": {
    "slideshow": {
     "slide_type": "-"
    }
   },
   "source": [
    "Loops are another way to avoid copying + pasting!\n",
    "\n",
    "(What was the other way we've learned?)"
   ]
  },
  {
   "cell_type": "markdown",
   "id": "7d255851",
   "metadata": {
    "slideshow": {
     "slide_type": "slide"
    }
   },
   "source": [
    "## `while` Loops"
   ]
  },
  {
   "cell_type": "markdown",
   "id": "11d222f6",
   "metadata": {
    "slideshow": {
     "slide_type": "-"
    }
   },
   "source": [
    "<div class=\"alert alert-success\">\n",
    "A <b>while loop</b> is a procedure to repeat a piece of code while some condition is still met. \n",
    "</div>"
   ]
  },
  {
   "cell_type": "markdown",
   "id": "ecf20069",
   "metadata": {
    "slideshow": {
     "slide_type": "fragment"
    }
   },
   "source": [
    "`while` loops always have the structure:\n",
    "\n",
    "```python\n",
    "while condition:\n",
    "    # Loop contents\n",
    "```\n",
    "\n",
    "While condition is true, execute the code contents. \n",
    "\n",
    "Repeat until condition is no longer True. "
   ]
  },
  {
   "cell_type": "markdown",
   "id": "ce1cf71e",
   "metadata": {
    "slideshow": {
     "slide_type": "-"
    }
   },
   "source": [
    "### `while` Loop Example I"
   ]
  },
  {
   "cell_type": "code",
   "execution_count": null,
   "id": "ab4ea98e",
   "metadata": {
    "slideshow": {
     "slide_type": "fragment"
    }
   },
   "outputs": [],
   "source": [
    "number = -5\n",
    "\n",
    "while number < 0:\n",
    "    print(number)\n",
    "    number = number + 1\n",
    "\n",
    "print('done')"
   ]
  },
  {
   "cell_type": "markdown",
   "id": "f6c6db0c",
   "metadata": {
    "slideshow": {
     "slide_type": "slide"
    }
   },
   "source": [
    "### `while` Loop Example II\n",
    "\n",
    "Iterating through a list."
   ]
  },
  {
   "cell_type": "code",
   "execution_count": null,
   "id": "ae4f54c5",
   "metadata": {},
   "outputs": [],
   "source": [
    "names = ['Alice', 'Bob', 'Carol', 'Dan']\n",
    "\n",
    "index = 0 # Other common names for an index: idx, ind, i\n",
    "\n",
    "while index < len(names):\n",
    "    print(str(index) + \": \" + names[index])\n",
    "    index = index + 1\n",
    "\n",
    "print('done')"
   ]
  },
  {
   "cell_type": "markdown",
   "id": "cbf37bee",
   "metadata": {},
   "source": [
    "Now, how will the output be different if we indent the line with `print(done)`?"
   ]
  },
  {
   "cell_type": "markdown",
   "id": "d5a1dc9c",
   "metadata": {
    "slideshow": {
     "slide_type": "slide"
    }
   },
   "source": [
    "### `while` Loop Example III\n",
    "\n",
    "Iterating through two lists, simultaneously!\n",
    "\n",
    "Use the same index to index into both lists."
   ]
  },
  {
   "cell_type": "code",
   "execution_count": null,
   "id": "983bf22e",
   "metadata": {},
   "outputs": [],
   "source": [
    "names = ['Alice', 'Bob', 'Carol', 'Dan']\n",
    "ages  = [20, 19, 22, 22]\n",
    "\n",
    "index = 0\n",
    "\n",
    "while index < len(names):\n",
    "    print(names[index] + \" is \" + str(ages[index]) + \" years old.\")\n",
    "    index = index + 1"
   ]
  },
  {
   "cell_type": "markdown",
   "id": "59eeee9d",
   "metadata": {
    "slideshow": {
     "slide_type": "slide"
    }
   },
   "source": [
    "![](img/shopping_cart.jpeg)"
   ]
  },
  {
   "cell_type": "markdown",
   "id": "91c3535e",
   "metadata": {
    "slideshow": {
     "slide_type": "-"
    }
   },
   "source": [
    "### `while` Loop Example IV\n",
    "\n",
    "Shop 'til you drop!\n",
    "\n",
    "Or, in this case, until we buy one too many items and go over budget."
   ]
  },
  {
   "cell_type": "code",
   "execution_count": null,
   "id": "18d3d7ca",
   "metadata": {
    "slideshow": {
     "slide_type": "-"
    }
   },
   "outputs": [],
   "source": [
    "shopping_budget = 20\n",
    "bill = 0\n",
    "index = 0\n",
    "prices = [3, 4, 10, 3, 2, 15, 7]\n",
    "\n",
    "while bill <= shopping_budget:\n",
    "  \n",
    "    # add cost of item (prices) to bill\n",
    "    bill = bill + prices[index]\n",
    "    \n",
    "    index = index + 1\n",
    "    \n",
    "    print(bill)"
   ]
  },
  {
   "cell_type": "markdown",
   "id": "7dc0bbc6",
   "metadata": {
    "collapsed": true,
    "slideshow": {
     "slide_type": "slide"
    }
   },
   "source": [
    "#### Class Question #1\n",
    "\n",
    "How many temperature values will be printed from this `while` loop before \"The tea is cool enough.\" is printed?<br>\n",
    "If you think the loop never stops, write \"infinite\".\n",
    "\n",
    "```python\n",
    "temperature = 115\n",
    "\n",
    "while temperature > 112:\n",
    "    print(temperature)\n",
    "    temperature = temperature - 1\n",
    "\n",
    "    \n",
    "print('The tea is cool enough.')\n",
    "```"
   ]
  },
  {
   "cell_type": "code",
   "execution_count": null,
   "id": "7cbb9c4c",
   "metadata": {
    "scrolled": true,
    "slideshow": {
     "slide_type": "fragment"
    },
    "tags": [
     "live"
    ]
   },
   "outputs": [],
   "source": []
  },
  {
   "cell_type": "markdown",
   "id": "a260c21d",
   "metadata": {
    "collapsed": true,
    "slideshow": {
     "slide_type": "slide"
    }
   },
   "source": [
    "#### Class Question #2\n",
    "\n",
    "What will be the value of `counter` after this loop is run?<br>\n",
    "If you think the loop never stops, write \"infinite\".\n",
    "\n",
    "```python\n",
    "keep_looping = True\n",
    "counter = 0\n",
    "\n",
    "while keep_looping:\n",
    "\n",
    "    counter = counter + 1\n",
    "    \n",
    "    if counter > 3:\n",
    "        keep_looping = False\n",
    "\n",
    "print(counter)\n",
    "```"
   ]
  },
  {
   "cell_type": "code",
   "execution_count": null,
   "id": "1b09b403",
   "metadata": {
    "slideshow": {
     "slide_type": "fragment"
    },
    "tags": [
     "live"
    ]
   },
   "outputs": [],
   "source": []
  },
  {
   "cell_type": "markdown",
   "id": "5796f027",
   "metadata": {
    "slideshow": {
     "slide_type": "slide"
    }
   },
   "source": [
    "## `for` Loops"
   ]
  },
  {
   "cell_type": "markdown",
   "id": "6f64f281",
   "metadata": {
    "slideshow": {
     "slide_type": "-"
    }
   },
   "source": [
    "<div class=\"alert alert-success\">\n",
    "A <b>for loop</b> is a procedure a to repeat code for every element in a sequence.\n",
    "</div>\n",
    "\n",
    "Saves us from having to write `index = index + 1`"
   ]
  },
  {
   "cell_type": "markdown",
   "id": "81e6b6f5",
   "metadata": {
    "slideshow": {
     "slide_type": "slide"
    }
   },
   "source": [
    "### For Loop Example I\n",
    "\n",
    "Looping through a list of items"
   ]
  },
  {
   "cell_type": "code",
   "execution_count": null,
   "id": "a3ec9ac4",
   "metadata": {
    "scrolled": true,
    "slideshow": {
     "slide_type": "fragment"
    }
   },
   "outputs": [],
   "source": [
    "# Define a list of items\n",
    "list_of_items = ['A', True, 12]\n",
    "\n",
    "\n",
    "for my_item in list_of_items: # Loop across each element\n",
    "     print(my_item)\n",
    "    \n",
    "# difference between printing within and outside loop\n",
    "# print(list_of_items)"
   ]
  },
  {
   "cell_type": "markdown",
   "id": "24adb5af",
   "metadata": {
    "slideshow": {
     "slide_type": "fragment"
    }
   },
   "source": [
    "![](img/shopping_list.jpeg)"
   ]
  },
  {
   "cell_type": "markdown",
   "id": "bef10ab6",
   "metadata": {
    "slideshow": {
     "slide_type": "slide"
    }
   },
   "source": [
    "### For Loop Example II\n",
    "\n",
    "Looping through a string"
   ]
  },
  {
   "cell_type": "code",
   "execution_count": null,
   "id": "a919fefe",
   "metadata": {
    "slideshow": {
     "slide_type": "fragment"
    }
   },
   "outputs": [],
   "source": [
    "# Loop across items in a string\n",
    "vowels = ['A', 'E', 'I', 'O', 'U', 'a', 'e', 'i', 'o', 'u']\n",
    "my_string = 'python'\n",
    "\n",
    "for char in my_string:\n",
    "    if char not in vowels:\n",
    "        print(char, end='')"
   ]
  },
  {
   "cell_type": "markdown",
   "id": "64dac876",
   "metadata": {
    "collapsed": true,
    "slideshow": {
     "slide_type": "slide"
    }
   },
   "source": [
    "#### Class Question #3\n",
    "\n",
    "How many values will be `print`ed from this `for` loop before it *first* prints \"The tea is too hot!\"?<br>\n",
    "If the loop never stops, write \"infinite\".\n",
    "\n",
    "```python\n",
    "temperatures = [114, 115, 116, 117, 118]\n",
    "\n",
    "for temp in temperatures: \n",
    "    print(temp)\n",
    "\n",
    "    if(temp > 115):\n",
    "        print('The tea is too hot!')\n",
    "```"
   ]
  },
  {
   "cell_type": "code",
   "execution_count": null,
   "id": "566c5d46",
   "metadata": {
    "scrolled": false,
    "slideshow": {
     "slide_type": "fragment"
    },
    "tags": [
     "live"
    ]
   },
   "outputs": [],
   "source": []
  },
  {
   "cell_type": "markdown",
   "id": "34e2092d",
   "metadata": {
    "collapsed": true,
    "slideshow": {
     "slide_type": "slide"
    }
   },
   "source": [
    "## `range`"
   ]
  },
  {
   "cell_type": "markdown",
   "id": "dfa5bc6b",
   "metadata": {
    "slideshow": {
     "slide_type": "fragment"
    }
   },
   "source": [
    "<div class=\"alert alert-success\">\n",
    "<code>range</code> is a function to create a range of numbers, that is often used with loops.\n",
    "</div>"
   ]
  },
  {
   "cell_type": "code",
   "execution_count": null,
   "id": "3d9cb1e3",
   "metadata": {},
   "outputs": [],
   "source": [
    "for ind in [0, 1, 2, 3, 4, 5, 6, 7, 8]:\n",
    "    print(ind)"
   ]
  },
  {
   "cell_type": "code",
   "execution_count": null,
   "id": "23dcebe2",
   "metadata": {},
   "outputs": [],
   "source": [
    "# the asterisk here unpacks the range\n",
    "# don't worry about this syntax now\n",
    "print(*range(0, 9))"
   ]
  },
  {
   "cell_type": "code",
   "execution_count": null,
   "id": "ad6808ae",
   "metadata": {
    "scrolled": true,
    "slideshow": {
     "slide_type": "fragment"
    }
   },
   "outputs": [],
   "source": [
    "# Loop across a sequence of numbers, using range\n",
    "for ind in range(0, 9):\n",
    "    print(ind)"
   ]
  },
  {
   "cell_type": "code",
   "execution_count": null,
   "id": "69be544d",
   "metadata": {
    "scrolled": true,
    "slideshow": {
     "slide_type": "fragment"
    }
   },
   "outputs": [],
   "source": [
    "# Range, like indexing, is defined by 'start', 'stop', 'step'\n",
    "for ind in range(2, 7, 2):\n",
    "    print(ind)"
   ]
  },
  {
   "cell_type": "code",
   "execution_count": null,
   "id": "9915b3a2",
   "metadata": {
    "scrolled": false,
    "slideshow": {
     "slide_type": "fragment"
    }
   },
   "outputs": [],
   "source": [
    "# using range in example above\n",
    "for temp in range(114, 119): \n",
    "    print(temp)\n",
    "    \n",
    "    if(temp > 115):\n",
    "        print('The tea is too hot!')"
   ]
  },
  {
   "cell_type": "code",
   "execution_count": null,
   "id": "c6ebfa5a",
   "metadata": {},
   "outputs": [],
   "source": [
    "# If only one number given to range, the start is assumed to be 0\n",
    "for ind in range(9):\n",
    "    print(ind)"
   ]
  },
  {
   "cell_type": "markdown",
   "id": "2ebca75e",
   "metadata": {
    "collapsed": true,
    "slideshow": {
     "slide_type": "slide"
    }
   },
   "source": [
    "#### Class Question #4\n",
    "\n",
    "What will this code print? \n",
    "\n",
    "```python\n",
    "for ind in range(1, 10, 3):\n",
    "    print(ind)\n",
    "```"
   ]
  },
  {
   "cell_type": "code",
   "execution_count": null,
   "id": "5bec89d6",
   "metadata": {
    "slideshow": {
     "slide_type": "fragment"
    },
    "tags": [
     "live"
    ]
   },
   "outputs": [],
   "source": []
  },
  {
   "cell_type": "markdown",
   "id": "ce16547e",
   "metadata": {
    "slideshow": {
     "slide_type": "slide"
    }
   },
   "source": [
    "## `continue`"
   ]
  },
  {
   "cell_type": "markdown",
   "id": "c67167cf",
   "metadata": {
    "slideshow": {
     "slide_type": "fragment"
    }
   },
   "source": [
    "<div class=\"alert alert-success\">\n",
    "<code>continue</code> is a special operator to jump ahead to the next iteration of a loop.\n",
    "</div>"
   ]
  },
  {
   "cell_type": "code",
   "execution_count": null,
   "id": "3fdbe8df",
   "metadata": {
    "slideshow": {
     "slide_type": "fragment"
    }
   },
   "outputs": [],
   "source": [
    "lst = [0, 1, 2, 3]\n",
    "\n",
    "for item in lst:\n",
    "    \n",
    "    if item == 2:\n",
    "        continue\n",
    "    \n",
    "    print(item)"
   ]
  },
  {
   "cell_type": "code",
   "execution_count": null,
   "id": "10bb459e",
   "metadata": {
    "slideshow": {
     "slide_type": "fragment"
    }
   },
   "outputs": [],
   "source": [
    "courses = ['cogs9', 'cogs18', 'cogs108']\n",
    "\n",
    "for course in courses:\n",
    "\n",
    "    if course == 'cogs18':\n",
    "        continue\n",
    "  \n",
    "    print(course + '!')"
   ]
  },
  {
   "cell_type": "code",
   "execution_count": null,
   "id": "bf5930f9",
   "metadata": {
    "slideshow": {
     "slide_type": "fragment"
    }
   },
   "outputs": [],
   "source": [
    "string = \"python\"\n",
    "\n",
    "for char in string: \n",
    "    \n",
    "    if char == \"p\" or char == \"y\":\n",
    "        continue\n",
    "        \n",
    "    print(char, end='') # default end is '\\n', the newline character"
   ]
  },
  {
   "cell_type": "markdown",
   "id": "5c05186e",
   "metadata": {
    "slideshow": {
     "slide_type": "slide"
    }
   },
   "source": [
    "**Counters within loops**\n",
    "\n",
    "You can use a counter in a `for` loop if you want."
   ]
  },
  {
   "cell_type": "code",
   "execution_count": null,
   "id": "1e9aa1b6",
   "metadata": {
    "slideshow": {
     "slide_type": "-"
    }
   },
   "outputs": [],
   "source": [
    "input_list = [0, 1, 2]\n",
    "\n",
    "# initialize a counter\n",
    "counter = 0\n",
    "\n",
    "for val in input_list:\n",
    "    # print value of counter\n",
    "    print(counter)\n",
    "    \n",
    "    # increment by 1\n",
    "    counter = counter + 1\n",
    "\n",
    "# print after loop terminates\n",
    "print(\"Final counter value:\", counter)"
   ]
  },
  {
   "cell_type": "markdown",
   "id": "cb6eeee9",
   "metadata": {
    "slideshow": {
     "slide_type": "slide"
    }
   },
   "source": [
    "#### Class Question #5\n",
    "\n",
    "What will be the final value of `counter`?\n",
    "\n",
    "```python\n",
    "counter = 0\n",
    "my_lst = [False, True, False, True, True, True]\n",
    "\n",
    "for item in my_lst:\n",
    "    if item in my_lst:\n",
    "        continue\n",
    "    else:\n",
    "        counter = counter + 1\n",
    "        \n",
    "print(counter)\n",
    "```"
   ]
  },
  {
   "cell_type": "code",
   "execution_count": null,
   "id": "2b40235d",
   "metadata": {
    "slideshow": {
     "slide_type": "fragment"
    },
    "tags": [
     "live"
    ]
   },
   "outputs": [],
   "source": []
  },
  {
   "cell_type": "markdown",
   "id": "289cd7bb",
   "metadata": {
    "slideshow": {
     "slide_type": "slide"
    }
   },
   "source": [
    "## `break`"
   ]
  },
  {
   "cell_type": "markdown",
   "id": "6d0d2c37",
   "metadata": {
    "slideshow": {
     "slide_type": "-"
    }
   },
   "source": [
    "<div class=\"alert alert-success\">\n",
    "<code>break</code> is a special operator to break out of a loop.\n",
    "</div>"
   ]
  },
  {
   "cell_type": "code",
   "execution_count": null,
   "id": "54d2a2a1",
   "metadata": {
    "slideshow": {
     "slide_type": "fragment"
    }
   },
   "outputs": [],
   "source": [
    "lst = [0, 1, 2, 3]\n",
    "\n",
    "for item in lst:\n",
    "    \n",
    "    if item == 2:\n",
    "        break\n",
    "    \n",
    "    print(item)"
   ]
  },
  {
   "cell_type": "code",
   "execution_count": null,
   "id": "48b1ff2e",
   "metadata": {
    "slideshow": {
     "slide_type": "fragment"
    }
   },
   "outputs": [],
   "source": [
    "courses = [\"cogs9\", \"cogs18\", \"cogs108\"]\n",
    "\n",
    "for course in courses:\n",
    "\n",
    "    if course == \"cogs18\":\n",
    "        break\n",
    "  \n",
    "    print(course)"
   ]
  },
  {
   "cell_type": "code",
   "execution_count": null,
   "id": "6753df21",
   "metadata": {
    "slideshow": {
     "slide_type": "fragment"
    }
   },
   "outputs": [],
   "source": [
    "string = \"love python\"\n",
    "\n",
    "for char in string: \n",
    "    if char == \"p\" or char == \"y\":\n",
    "        break\n",
    "        \n",
    "    print(char)"
   ]
  },
  {
   "cell_type": "code",
   "execution_count": null,
   "id": "475153cb",
   "metadata": {
    "scrolled": true,
    "slideshow": {
     "slide_type": "fragment"
    }
   },
   "outputs": [],
   "source": [
    "# using range\n",
    "for temp in range(114, 119): \n",
    "    print(temp)\n",
    "    \n",
    "    if(temp > 115):\n",
    "        print('The tea is too hot!')\n",
    "        break"
   ]
  },
  {
   "cell_type": "markdown",
   "id": "d39af50c",
   "metadata": {
    "collapsed": true,
    "slideshow": {
     "slide_type": "slide"
    }
   },
   "source": [
    "#### Class Question #6\n",
    "\n",
    "What will this code print?\n",
    "\n",
    "```python\n",
    "number = 1\n",
    "\n",
    "while True:\n",
    "    if number % 3 == 0:\n",
    "        break\n",
    "   \n",
    "    print(number)\n",
    "    \n",
    "    number = number + 1\n",
    "```"
   ]
  },
  {
   "cell_type": "code",
   "execution_count": null,
   "id": "56f66d06",
   "metadata": {
    "scrolled": true,
    "slideshow": {
     "slide_type": "fragment"
    },
    "tags": [
     "live"
    ]
   },
   "outputs": [],
   "source": []
  },
  {
   "cell_type": "markdown",
   "id": "3bc6a215",
   "metadata": {
    "slideshow": {
     "slide_type": "slide"
    }
   },
   "source": [
    "#### Class Question #7\n",
    "\n",
    "How many times will this `for` loop print something?\n",
    "\n",
    "```python\n",
    "for temp in range(114, 119): \n",
    "    \n",
    "    if(temp < 116):\n",
    "        continue\n",
    "    elif(temp == 116):\n",
    "        print('The tea is too hot!')\n",
    "    else:\n",
    "        break\n",
    "```"
   ]
  },
  {
   "cell_type": "code",
   "execution_count": null,
   "id": "5ec3af07",
   "metadata": {
    "scrolled": false,
    "slideshow": {
     "slide_type": "fragment"
    },
    "tags": [
     "live"
    ]
   },
   "outputs": [],
   "source": []
  },
  {
   "cell_type": "markdown",
   "id": "7d503fa6",
   "metadata": {
    "slideshow": {
     "slide_type": "slide"
    }
   },
   "source": [
    "#### Class Question #8\n",
    "\n",
    "What will be the final value of `counter`?\n",
    "\n",
    "```python\n",
    "counter = 0\n",
    "my_lst = [False, True, False, True]\n",
    "\n",
    "\n",
    "for item in my_lst:\n",
    "    if item:\n",
    "        continue\n",
    "    else:\n",
    "        counter = counter + 1\n",
    "        \n",
    "print(counter)\n",
    "```"
   ]
  },
  {
   "cell_type": "raw",
   "id": "6e1c94eb",
   "metadata": {
    "tags": [
     "live"
    ]
   },
   "source": []
  },
  {
   "cell_type": "markdown",
   "id": "b473aeec",
   "metadata": {},
   "source": [
    "_Bonus:_ How could you simplify this code by removing two lines?"
   ]
  },
  {
   "cell_type": "markdown",
   "id": "a5fb16ca",
   "metadata": {
    "collapsed": true,
    "slideshow": {
     "slide_type": "slide"
    }
   },
   "source": [
    "### Dictionaries: Indexing & Looping"
   ]
  },
  {
   "cell_type": "code",
   "execution_count": null,
   "id": "072b6aaa",
   "metadata": {},
   "outputs": [],
   "source": [
    "dictionary = {'key_1' : 'val_1', 'key_2' : 'val_2'}"
   ]
  },
  {
   "cell_type": "code",
   "execution_count": null,
   "id": "fa76105c",
   "metadata": {
    "slideshow": {
     "slide_type": "fragment"
    }
   },
   "outputs": [],
   "source": [
    "# Remember: dictionaries are indexed by their keys\n",
    "dictionary['key_1']"
   ]
  },
  {
   "cell_type": "code",
   "execution_count": null,
   "id": "f6ae1013",
   "metadata": {
    "scrolled": false,
    "slideshow": {
     "slide_type": "fragment"
    }
   },
   "outputs": [],
   "source": [
    "# Loop over a dictionary loops across the keys\n",
    "#   Inside the loop, you can use the key to access the associated value\n",
    "for key in dictionary:\n",
    "    print('Loop Iteration')\n",
    "    print('\\tKey:\\t', key) # '\\t' is a tab character\n",
    "    print('\\tValue:\\t', dictionary[key])"
   ]
  },
  {
   "cell_type": "code",
   "execution_count": null,
   "id": "abe1ad8b",
   "metadata": {
    "scrolled": false,
    "slideshow": {
     "slide_type": "fragment"
    }
   },
   "outputs": [],
   "source": [
    "# another approach that you will find if you Google\n",
    "for key, val in dictionary.items():\n",
    "    print('Loop Iteration')\n",
    "    print('\\tKey:\\t', key)\n",
    "    print('\\tValue:\\t', val)"
   ]
  },
  {
   "cell_type": "markdown",
   "id": "cfc5277b",
   "metadata": {
    "slideshow": {
     "slide_type": "slide"
    }
   },
   "source": [
    "## Code Style: Loops\n",
    "\n",
    "- `for`/`while` statement with a colon at the end on first line\n",
    "- all code within the loop inside a code block (indented)"
   ]
  },
  {
   "cell_type": "markdown",
   "id": "da0ff55b",
   "metadata": {
    "slideshow": {
     "slide_type": "fragment"
    }
   },
   "source": [
    "**Good Code Style**"
   ]
  },
  {
   "cell_type": "code",
   "execution_count": null,
   "id": "7620fe34",
   "metadata": {
    "slideshow": {
     "slide_type": "-"
    }
   },
   "outputs": [],
   "source": [
    "number = -5\n",
    "while number < 0:\n",
    "    print(number)\n",
    "    number = number + 1"
   ]
  },
  {
   "cell_type": "markdown",
   "id": "29d11752",
   "metadata": {
    "slideshow": {
     "slide_type": "fragment"
    }
   },
   "source": [
    "**Code Style to Avoid**"
   ]
  },
  {
   "cell_type": "code",
   "execution_count": null,
   "id": "618af746",
   "metadata": {
    "slideshow": {
     "slide_type": "-"
    }
   },
   "outputs": [],
   "source": [
    "a=-5\n",
    "while a<0:print(a);a=a+1 # avoid all on a single line"
   ]
  },
  {
   "cell_type": "markdown",
   "id": "474e54fc",
   "metadata": {
    "slideshow": {
     "slide_type": "slide"
    }
   },
   "source": [
    "### Loops Practice #1\n",
    "\n",
    "Write a `while` loop that add all the numbers 1 through 10 together.\n",
    "\n",
    "**Hints:**\n",
    "- Choose a name for your counter variable and set it to 1.\n",
    "- Choose a name for the sum variable and set it to 0.\n",
    "- Write the loop and the condition...or just leave a placeholder and come back to it.\n",
    "- In the loop, add the counter to the sum.\n",
    "- In the loop, increment the counter by 1.\n",
    "- After the loop, print the final sum."
   ]
  },
  {
   "cell_type": "code",
   "execution_count": null,
   "id": "290347a3",
   "metadata": {
    "slideshow": {
     "slide_type": "-"
    },
    "tags": [
     "live"
    ]
   },
   "outputs": [],
   "source": [
    "# your code here"
   ]
  },
  {
   "cell_type": "markdown",
   "id": "f3348b25",
   "metadata": {
    "slideshow": {
     "slide_type": "slide"
    }
   },
   "source": [
    "### Loops Practice #2\n",
    "\n",
    "Write a `for` loop using `range()` that add all the numbers 1 through 10 together."
   ]
  },
  {
   "cell_type": "code",
   "execution_count": null,
   "id": "d3404dac",
   "metadata": {
    "slideshow": {
     "slide_type": "-"
    },
    "tags": [
     "live"
    ]
   },
   "outputs": [],
   "source": [
    "# your code here"
   ]
  },
  {
   "cell_type": "markdown",
   "id": "5e1ba691",
   "metadata": {
    "slideshow": {
     "slide_type": "slide"
    }
   },
   "source": [
    "### Loops Practice #3\n",
    "\n",
    "Turn the above into a function `sum_to(n)` that adds all the numbers 1 through `n` together."
   ]
  },
  {
   "cell_type": "code",
   "execution_count": null,
   "id": "cd9a86f4",
   "metadata": {
    "slideshow": {
     "slide_type": "-"
    },
    "tags": [
     "live"
    ]
   },
   "outputs": [],
   "source": [
    "# your code"
   ]
  },
  {
   "cell_type": "markdown",
   "id": "d815f518",
   "metadata": {
    "slideshow": {
     "slide_type": "slide"
    }
   },
   "source": [
    "### Loops Practice #4\n",
    "\n",
    "Write a function `count_odd(start, end)` containing a loop that will add all the *odd* numbers for the input range together."
   ]
  },
  {
   "cell_type": "code",
   "execution_count": null,
   "id": "33460613",
   "metadata": {
    "slideshow": {
     "slide_type": "-"
    },
    "tags": [
     "live"
    ]
   },
   "outputs": [],
   "source": [
    "# your code here\n",
    "\n",
    "print(count_odd(5,11))"
   ]
  },
  {
   "cell_type": "markdown",
   "id": "8b837963",
   "metadata": {
    "slideshow": {
     "slide_type": "slide"
    }
   },
   "source": [
    "### Loops Practice #5\n",
    "\n",
    "Write a function `count_vowels(my_name)` containing a loop that will loop through all the letters in `my_name` (the input parameter) and count all the vowels in your name."
   ]
  },
  {
   "cell_type": "code",
   "execution_count": null,
   "id": "d1012157",
   "metadata": {
    "slideshow": {
     "slide_type": "-"
    },
    "tags": [
     "live"
    ]
   },
   "outputs": [],
   "source": [
    "# your code here\n",
    "\n",
    "print(count_vowels(\"Your Name Here\"))"
   ]
  },
  {
   "cell_type": "markdown",
   "id": "41485d4d",
   "metadata": {
    "slideshow": {
     "slide_type": "slide"
    }
   },
   "source": [
    "### Loops Practice #6\n",
    "\n",
    "Write a function `create_dictionary` that takes two input lists `lst1` and `lst2`. Inside the function, join the two lists to form a dictionary `joined_dict` where `lst_1`'s first item is the first key in `joined_dict` and `lst_2`'s first item is the first value in `joined_dict` and so on. Return `joined_dict` as the output. "
   ]
  },
  {
   "cell_type": "code",
   "execution_count": null,
   "id": "ce33d505",
   "metadata": {
    "slideshow": {
     "slide_type": "-"
    },
    "tags": [
     "live"
    ]
   },
   "outputs": [],
   "source": [
    "# your code here"
   ]
  },
  {
   "cell_type": "code",
   "execution_count": null,
   "id": "97b25c77",
   "metadata": {},
   "outputs": [],
   "source": [
    "# TEST YOUR FUNCTION HERE\n",
    "# Note that the two input lists are the \n",
    "# same length for the function to work properly\n",
    "my_lst1 = ['a', 'b', 'c']\n",
    "my_lst2 = [1, 2, 3]\n",
    "\n",
    "# Output should be: {'a': 1, 'b': 2, 'c': 3}\n",
    "create_dictionary(my_lst1, my_lst2)"
   ]
  },
  {
   "cell_type": "markdown",
   "id": "12da5b7c",
   "metadata": {
    "slideshow": {
     "slide_type": "slide"
    }
   },
   "source": [
    "## Revisiting the 2-Back test.\n",
    "\n",
    "The subject must react (e.g. press a button) whenever a stimuli is repeated from 2 steps earlier, the \\*starred\\* in the below:\n",
    "\n",
    "**N W G \\*W\\* M S I \\*S\\* N M \\*N\\* N I**\n",
    "\n",
    "Here it is in Python:"
   ]
  },
  {
   "cell_type": "code",
   "execution_count": null,
   "id": "74d1dcc2",
   "metadata": {},
   "outputs": [],
   "source": [
    "stimuli      = ['N', 'W', 'G', 'W', 'M', 'S', 'I', 'S', 'N', 'M', 'N', 'N', 'I']\n",
    "shifted_by_2 = [None, None, 'N', 'W', 'G', 'W', 'M', 'S', 'I', 'S', 'N', 'M', 'N', 'N', 'I']\n",
    "# Or, equivalently:\n",
    "shifted_by_2 = [None, None] + stimuli\n",
    "\n",
    "index = 0\n",
    "\n",
    "while index < len(stimuli):\n",
    "\n",
    "    letter = stimuli[index]\n",
    "    back2  = shifted_by_2[index]\n",
    "    \n",
    "    if letter == back2:\n",
    "        print('*' + letter + '*')\n",
    "    else:\n",
    "        print(letter)\n",
    "\n",
    "    index = index + 1"
   ]
  },
  {
   "cell_type": "markdown",
   "id": "273ecc48",
   "metadata": {},
   "source": [
    "[Visualize in Python Tutor](https://pythontutor.com/render.html#code=stimuli%20%20%20%20%20%20%3D%20%5B'N',%20'W',%20'G',%20'W',%20'M',%20'S',%20'I',%20'S',%20'N',%20'M',%20'N',%20'N',%20'I'%5D%0Ashifted_by_2%20%3D%20%5BNone,%20None%5D%20%2B%20stimuli%0A%0Aindex%20%3D%200%20%23%20Start%20at%20beginning%20of%20the%20stimuli%20list.%0A%0Awhile%20index%20%3C%20len%28stimuli%29%3A%20%23%20Repeat%20indented%20code%20below%20until%20we%20reach%20the%20list's%20end%0A%0A%20%20%20%20%23%20Here's%20what%20we%20do%20for%20each%20stimuli%0A%0A%20%20%20%20letter%20%3D%20stimuli%5Bindex%5D%0A%20%20%20%20back2%20%20%3D%20shifted_by_2%5Bindex%5D%0A%20%20%20%20%0A%20%20%20%20if%20letter%20%3D%3D%20back2%3A%0A%20%20%20%20%20%20%20%20print%28'*'%20%2B%20letter%20%2B%20'*'%29%0A%20%20%20%20else%3A%0A%20%20%20%20%20%20%20%20print%28letter%29%0A%0A%20%20%20%20%23%20Look%20at%20the%20next%20index%20on%20the%20next%20iteration%20through%20the%20loop%0A%20%20%20%20index%20%3D%20index%20%2B%201%0A%0A%20%20%20%20%23%20End%20of%20indented%20section,%20we%20repeat%20back%20to%20the%20%60while%60%20on%20line%2013%0A%0A%23%20The%20above%20prints%3A%20N%20W%20G%20*W*%20M%20S%20I%20*S*%20N%20M%20*N*%20N%20I&cumulative=false&curInstr=0&heapPrimitives=nevernest&mode=display&origin=opt-frontend.js&py=311&rawInputLstJSON=%5B%5D&textReferences=false)"
   ]
  },
  {
   "cell_type": "markdown",
   "id": "d1525e58",
   "metadata": {
    "slideshow": {
     "slide_type": "slide"
    }
   },
   "source": [
    "Extra response cell in case of impromptu question."
   ]
  },
  {
   "cell_type": "code",
   "execution_count": null,
   "id": "22fd0e6d",
   "metadata": {
    "tags": [
     "live"
    ]
   },
   "outputs": [],
   "source": []
  }
 ],
 "metadata": {
  "celltoolbar": "Tags",
  "kernelspec": {
   "display_name": "Python 3 (ipykernel)",
   "language": "python",
   "name": "python3"
  },
  "language_info": {
   "codemirror_mode": {
    "name": "ipython",
    "version": 3
   },
   "file_extension": ".py",
   "mimetype": "text/x-python",
   "name": "python",
   "nbconvert_exporter": "python",
   "pygments_lexer": "ipython3",
   "version": "3.11.6"
  },
  "rise": {
   "scroll": true
  }
 },
 "nbformat": 4,
 "nbformat_minor": 5
}
