{
 "cells": [
  {
   "cell_type": "markdown",
   "id": "adfb54b2",
   "metadata": {
    "slideshow": {
     "slide_type": "slide"
    }
   },
   "source": [
    "**Time Machine Voyage Today**\n",
    "\n",
    "The command line was born in an era before graphical interfaces. Displays were expensive, so the computer interface was an electric typewriter instead (\"teletype\"): [LCM+L PDP-7 booting and running UNIX Version 0](https://www.youtube.com/watch?v=pvaPaWyiuLA)\n",
    "\n",
    "The command line on MacOS and Linux (Datahub is running Linux) is descended from Unix, an operating system created around 1970. Unix gained popularity in large part because it was easy to adapt to new hardware. It had a simple concept of a file and also partially standardized how programs handle input and output, which made it somewhat less clumsy to use than its predecessors. Created in an era before cheap displays, it was text-centric, with graphics an afterthought. Here's how Unix's creators explained it in 1982: https://www.youtube.com/watch?v=XvDZLjaCJuw\n",
    "\n",
    "Graphical interfaces in the form we are used to, based on the \"desktop\" metaphor, were developed at Xerox Parc in the 1970s, and then popularized by the Macintosh in 1984 and then later Microsoft.\n",
    "\n",
    "**This lecture is a regression to the old stuff** before Windows, before the Mac, and before the innovations at Xerox Parc. Let us enter the time machine and learn Unix."
   ]
  },
  {
   "cell_type": "markdown",
   "id": "83f60c7f",
   "metadata": {
    "slideshow": {
     "slide_type": "slide"
    }
   },
   "source": [
    "# Command Line\n",
    "\n",
    "Today's agenda:\n",
    "\n",
    "- command line & shell commands\n",
    "- file paths (absolute and relative)\n",
    "- navigating the filesystem\n",
    "- running commands"
   ]
  },
  {
   "cell_type": "markdown",
   "id": "9495eabb",
   "metadata": {
    "slideshow": {
     "slide_type": "slide"
    }
   },
   "source": [
    "## File Systems"
   ]
  },
  {
   "cell_type": "markdown",
   "id": "e27cd096",
   "metadata": {
    "slideshow": {
     "slide_type": "-"
    }
   },
   "source": [
    "<div class=\"alert alert-success\">\n",
    "Computers use a hierarchical file systems that organizes files & folders.\n",
    "</div>"
   ]
  },
  {
   "cell_type": "markdown",
   "id": "773f62f1",
   "metadata": {
    "slideshow": {
     "slide_type": "fragment"
    }
   },
   "source": [
    "When you click through the folders (directories) on your computer, you're interacting with this hierarchical system."
   ]
  },
  {
   "cell_type": "markdown",
   "id": "93fffc51",
   "metadata": {
    "slideshow": {
     "slide_type": "slide"
    }
   },
   "source": [
    "## Command Line"
   ]
  },
  {
   "cell_type": "markdown",
   "id": "a7377b9a",
   "metadata": {
    "slideshow": {
     "slide_type": "-"
    }
   },
   "source": [
    "<div class=\"alert alert-success\">\n",
    "A <b>command line interface</b> is a way to interact with a computer through written commands.\n",
    "</div>"
   ]
  },
  {
   "cell_type": "markdown",
   "id": "1e7915a0",
   "metadata": {
    "slideshow": {
     "slide_type": "fragment"
    }
   },
   "source": [
    "The command line allows us to:\n",
    "\n",
    "- create files\n",
    "- edit files\n",
    "- run python scripts\n",
    "- etc.\n",
    "\n",
    "...without clicking on anything."
   ]
  },
  {
   "cell_type": "markdown",
   "id": "ce0c7d1e",
   "metadata": {},
   "source": [
    "The terms \"terminal\" and \"shell\" and \"command line\" are often used interchangably, although they are not quite the same thing.\n",
    "\n",
    "- The *terminal* long ago was a teletype or a keyboard+display connected to a (often shared) computer. Now it's a program on your computer that pretends to be a teletype.\n",
    "- The *shell* is the program that interprets the commands you type. It searches for and runs the programs you tell it to.\n",
    "- The *command line* is the line where you type commands, provided by the shell and rendered on your terminal."
   ]
  },
  {
   "cell_type": "markdown",
   "id": "09135efe",
   "metadata": {
    "slideshow": {
     "slide_type": "slide"
    }
   },
   "source": [
    "### The Terminal\n",
    "\n",
    "The **terminal** is where you can type these commands into the command line.\n",
    "\n",
    "Accessing the terminal...\n",
    "\n",
    "- possible on your computer\n",
    "- and on datahub (on the prior page with the file listing, there's a button in the upper right that says \"New\")"
   ]
  },
  {
   "cell_type": "markdown",
   "id": "f003318f",
   "metadata": {
    "slideshow": {
     "slide_type": "slide"
    }
   },
   "source": [
    "### Shell Commands\n",
    "\n",
    "...can be run in the terminal _and_ Jupyter notebooks\n",
    "\n",
    "Do this by starting with `!`"
   ]
  },
  {
   "cell_type": "markdown",
   "id": "a2352581",
   "metadata": {
    "slideshow": {
     "slide_type": "fragment"
    }
   },
   "source": [
    "#### Check current directory"
   ]
  },
  {
   "cell_type": "code",
   "execution_count": null,
   "id": "4076931e",
   "metadata": {
    "scrolled": true,
    "slideshow": {
     "slide_type": "-"
    }
   },
   "outputs": [],
   "source": [
    "# print working directory\n",
    "!pwd"
   ]
  },
  {
   "cell_type": "markdown",
   "id": "63749266",
   "metadata": {
    "slideshow": {
     "slide_type": "slide"
    }
   },
   "source": [
    "## File Paths\n",
    "\n",
    "This will be on the exam."
   ]
  },
  {
   "cell_type": "markdown",
   "id": "2bb2bf1b",
   "metadata": {
    "slideshow": {
     "slide_type": "-"
    }
   },
   "source": [
    "<div class=\"alert alert-success\">\n",
    "The specific location of a file or folder on your computer. </div>"
   ]
  },
  {
   "cell_type": "markdown",
   "id": "ca57d339",
   "metadata": {
    "slideshow": {
     "slide_type": "fragment"
    }
   },
   "source": [
    "When using a Graphical User Interface (GUI), you click on directories to access subdirectories and finally find the file you're interested in."
   ]
  },
  {
   "cell_type": "markdown",
   "id": "3ab60c76",
   "metadata": {
    "slideshow": {
     "slide_type": "fragment"
    }
   },
   "source": [
    "When using the command line, you specify a file's path explicitly with text. "
   ]
  },
  {
   "cell_type": "markdown",
   "id": "172bab39",
   "metadata": {
    "slideshow": {
     "slide_type": "slide"
    }
   },
   "source": [
    "### Absolute vs. Relative Paths\n",
    "\n",
    "The two ways to specify the path to your file of interest allow for flexibility in programming."
   ]
  },
  {
   "cell_type": "markdown",
   "id": "9b51ce3d",
   "metadata": {
    "slideshow": {
     "slide_type": "-"
    }
   },
   "source": [
    "#### Absolute Paths"
   ]
  },
  {
   "cell_type": "markdown",
   "id": "28bb5319",
   "metadata": {
    "slideshow": {
     "slide_type": "-"
    }
   },
   "source": [
    "<div class=\"alert alert-success\">\n",
    "<b>Absolute paths</b> specify the <b>full</b> path for a given file system (starting from the root directory). \n",
    "</div>"
   ]
  },
  {
   "cell_type": "markdown",
   "id": "201cce45",
   "metadata": {
    "slideshow": {
     "slide_type": "fragment"
    }
   },
   "source": [
    "**root** specifies the 'highest' directory in the file structure (the start).\n",
    "\n",
    "An absolute file path starts with a slash `/` specifying the root directory.\n"
   ]
  },
  {
   "cell_type": "code",
   "execution_count": null,
   "id": "9c183667",
   "metadata": {
    "slideshow": {
     "slide_type": "-"
    }
   },
   "outputs": [],
   "source": [
    "## absolute path\n",
    "## this is specific to my computer\n",
    "## look at the path output above for you computer\n",
    "!ls /Users/brian/Documents/ucsd/cogs_18_fa2023/LectureNotes-COGS18"
   ]
  },
  {
   "cell_type": "markdown",
   "id": "e556f346",
   "metadata": {
    "slideshow": {
     "slide_type": "slide"
    }
   },
   "source": [
    "#### Relative Paths"
   ]
  },
  {
   "cell_type": "markdown",
   "id": "ef254e35",
   "metadata": {
    "slideshow": {
     "slide_type": "-"
    }
   },
   "source": [
    "<div class=\"alert alert-success\">\n",
    "<b>Relative paths</b> specify the path to a file from your <b>current working directory</b> (where your computer is working right now). \n",
    "</div>"
   ]
  },
  {
   "cell_type": "code",
   "execution_count": null,
   "id": "a9a9afd5",
   "metadata": {
    "slideshow": {
     "slide_type": "fragment"
    }
   },
   "outputs": [],
   "source": [
    "# remind us of our current working directory\n",
    "!pwd"
   ]
  },
  {
   "cell_type": "code",
   "execution_count": null,
   "id": "2a05ef9d",
   "metadata": {
    "slideshow": {
     "slide_type": "fragment"
    }
   },
   "outputs": [],
   "source": [
    "# relative path\n",
    "# this is specific to my computer\n",
    "!ls ../../bimodal_empirical_evidence"
   ]
  },
  {
   "cell_type": "markdown",
   "id": "34e92967",
   "metadata": {
    "slideshow": {
     "slide_type": "fragment"
    }
   },
   "source": [
    "\n",
    "- `..` specify you want to move one directory up in your hierarchy\n",
    "- `bimodal_empirical_evidence/` specifies the path to the directory I want to list files in\n",
    "- each directory is separated with a slash (`/`)"
   ]
  },
  {
   "cell_type": "markdown",
   "id": "4340ecb9",
   "metadata": {
    "slideshow": {
     "slide_type": "fragment"
    }
   },
   "source": [
    "This **relative** path does _not_ start with a leading slash (b/c it's not an absolute path)."
   ]
  },
  {
   "cell_type": "markdown",
   "id": "68ebc83a",
   "metadata": {
    "slideshow": {
     "slide_type": "slide"
    }
   },
   "source": [
    "#### Class Question #1\n",
    "\n",
    "Given the following file structure: \n",
    "\n",
    "- `/`\n",
    "    - `scripts/`\n",
    "        - cool_thing.py\n",
    "        - super_cool_thing.py\n",
    "    - `images/`\n",
    "        - image1.png\n",
    "        - image2.png\n",
    "    - `notebooks/`\n",
    "        - 00_intro.ipynb\n",
    "        - 01_variables.ipynb\n",
    "    \n",
    "\n",
    "If your current working directory is `notebooks`, what is the **absolute path** to `cool_thing.py`?"
   ]
  },
  {
   "cell_type": "code",
   "execution_count": null,
   "id": "c34006e8",
   "metadata": {
    "tags": [
     "live"
    ]
   },
   "outputs": [],
   "source": []
  },
  {
   "cell_type": "markdown",
   "id": "348d16dc",
   "metadata": {
    "slideshow": {
     "slide_type": "slide"
    }
   },
   "source": [
    "#### Class Question #2\n",
    "\n",
    "Given the same file structure: \n",
    "\n",
    "- `/`\n",
    "    - `scripts/`\n",
    "        - cool_thing.py\n",
    "        - super_cool_thing.py\n",
    "    - `images/`\n",
    "        - image1.png\n",
    "        - image2.png\n",
    "    - `notebooks/`\n",
    "        - 00_intro.ipynb\n",
    "        - 01_variables.ipynb\n",
    "    \n",
    "\n",
    "If your current working directory is `notebooks`, what is the **relative path** to `cool_thing.py`?"
   ]
  },
  {
   "cell_type": "code",
   "execution_count": null,
   "id": "2ec8a345",
   "metadata": {
    "tags": [
     "live"
    ]
   },
   "outputs": [],
   "source": []
  },
  {
   "cell_type": "markdown",
   "id": "1d2f4355",
   "metadata": {
    "slideshow": {
     "slide_type": "slide"
    }
   },
   "source": [
    "### Shell Commands\n",
    "\n",
    "...can be run in the terminal _and_ Jupyter notebooks"
   ]
  },
  {
   "cell_type": "markdown",
   "id": "cda53cc4",
   "metadata": {
    "slideshow": {
     "slide_type": "fragment"
    }
   },
   "source": [
    "#### Check current directory"
   ]
  },
  {
   "cell_type": "code",
   "execution_count": null,
   "id": "68b8aa0a",
   "metadata": {
    "slideshow": {
     "slide_type": "fragment"
    }
   },
   "outputs": [],
   "source": [
    "# print working directory\n",
    "!ls"
   ]
  },
  {
   "cell_type": "markdown",
   "id": "07543dbf",
   "metadata": {
    "slideshow": {
     "slide_type": "fragment"
    }
   },
   "source": [
    "#### Change directory"
   ]
  },
  {
   "cell_type": "code",
   "execution_count": null,
   "id": "9d7aff6b",
   "metadata": {
    "slideshow": {
     "slide_type": "fragment"
    }
   },
   "outputs": [],
   "source": [
    "# change directory \n",
    "!cd ~/ "
   ]
  },
  {
   "cell_type": "markdown",
   "id": "435e7f81",
   "metadata": {
    "slideshow": {
     "slide_type": "-"
    }
   },
   "source": [
    "Here, we saw `~/`. \n",
    "\n",
    "- `~` specifies the user's home directory of your computer\n",
    "- each directory is separated with a slash (`/`)"
   ]
  },
  {
   "cell_type": "markdown",
   "id": "8db7f64d",
   "metadata": {
    "slideshow": {
     "slide_type": "slide"
    }
   },
   "source": [
    "#### List files in a directory"
   ]
  },
  {
   "cell_type": "code",
   "execution_count": null,
   "id": "6c1ee04b",
   "metadata": {
    "scrolled": true,
    "slideshow": {
     "slide_type": "fragment"
    }
   },
   "outputs": [],
   "source": [
    "# list files\n",
    "!ls"
   ]
  },
  {
   "cell_type": "code",
   "execution_count": null,
   "id": "32e6b489",
   "metadata": {},
   "outputs": [],
   "source": [
    "# list with more information (\"long\" format)\n",
    "!ls -l"
   ]
  },
  {
   "cell_type": "code",
   "execution_count": null,
   "id": "b568b556",
   "metadata": {},
   "outputs": [],
   "source": [
    "# list files in long format with \"human\" file sizes\n",
    "!ls -l -h"
   ]
  },
  {
   "cell_type": "markdown",
   "id": "beadedc0",
   "metadata": {
    "slideshow": {
     "slide_type": "slide"
    }
   },
   "source": [
    "### More Shell Commands"
   ]
  },
  {
   "cell_type": "markdown",
   "id": "08158f59",
   "metadata": {
    "slideshow": {
     "slide_type": "fragment"
    }
   },
   "source": [
    "#### Make a new directory"
   ]
  },
  {
   "cell_type": "code",
   "execution_count": null,
   "id": "77084bb9",
   "metadata": {
    "slideshow": {
     "slide_type": "fragment"
    }
   },
   "outputs": [],
   "source": [
    "# make directory \n",
    "!mkdir dir_name"
   ]
  },
  {
   "cell_type": "markdown",
   "id": "6d91f1ed",
   "metadata": {
    "slideshow": {
     "slide_type": "fragment"
    }
   },
   "source": [
    "#### Create a file"
   ]
  },
  {
   "cell_type": "code",
   "execution_count": null,
   "id": "e24934b4",
   "metadata": {
    "slideshow": {
     "slide_type": "fragment"
    }
   },
   "outputs": [],
   "source": [
    "# create an empty file\n",
    "!touch new_file.py "
   ]
  },
  {
   "cell_type": "markdown",
   "id": "05cd4a94",
   "metadata": {
    "slideshow": {
     "slide_type": "fragment"
    }
   },
   "source": [
    "#### Move a file"
   ]
  },
  {
   "cell_type": "code",
   "execution_count": null,
   "id": "62def8b0",
   "metadata": {
    "slideshow": {
     "slide_type": "fragment"
    }
   },
   "outputs": [],
   "source": [
    "# move file\n",
    "# notice the relative file path\n",
    "!mv new_file.py dir_name/"
   ]
  },
  {
   "cell_type": "markdown",
   "id": "54351a6d",
   "metadata": {
    "slideshow": {
     "slide_type": "slide"
    }
   },
   "source": [
    "### And Some More"
   ]
  },
  {
   "cell_type": "markdown",
   "id": "0bd5c774",
   "metadata": {
    "slideshow": {
     "slide_type": "fragment"
    }
   },
   "source": [
    "#### Print out a message"
   ]
  },
  {
   "cell_type": "code",
   "execution_count": 1,
   "id": "47b140c5",
   "metadata": {
    "slideshow": {
     "slide_type": "fragment"
    }
   },
   "outputs": [
    {
     "name": "stdout",
     "output_type": "stream",
     "text": [
      "Hello World!\r\n"
     ]
    }
   ],
   "source": [
    "!echo Hello World!"
   ]
  },
  {
   "cell_type": "markdown",
   "id": "19e56f4e",
   "metadata": {
    "slideshow": {
     "slide_type": "fragment"
    }
   },
   "source": [
    "#### Print the contents of a file"
   ]
  },
  {
   "cell_type": "code",
   "execution_count": null,
   "id": "f138e6e7",
   "metadata": {
    "slideshow": {
     "slide_type": "fragment"
    }
   },
   "outputs": [],
   "source": [
    "!cat dir_name/new_file.py"
   ]
  },
  {
   "cell_type": "markdown",
   "id": "676780c6",
   "metadata": {
    "slideshow": {
     "slide_type": "notes"
    }
   },
   "source": [
    "#### Open to see and edit contents of a file"
   ]
  },
  {
   "cell_type": "code",
   "execution_count": null,
   "id": "0c38b4de",
   "metadata": {
    "slideshow": {
     "slide_type": "notes"
    }
   },
   "outputs": [],
   "source": [
    "# will not work on datahub\n",
    "!open dir_name/new_file.py"
   ]
  },
  {
   "cell_type": "markdown",
   "id": "42b7d927",
   "metadata": {
    "slideshow": {
     "slide_type": "slide"
    }
   },
   "source": [
    "#### Class Question #3\n",
    "\n",
    "Which is the best description of the following command:\n",
    "    \n",
    "`ls -l`\n",
    "\n",
    "- A) `ls -l` is most analogous to a class in Python\n",
    "- B) The whole `ls -l` is like a function call\n",
    "- C) `-l` is analogous to a function call, and `ls` is like a parameter\n",
    "- D) `ls` is analogous to a function, and `-l` is like a parameter\n",
    "- E) There is no clear analogy here to Python"
   ]
  },
  {
   "cell_type": "code",
   "execution_count": null,
   "id": "80e70c19",
   "metadata": {
    "tags": [
     "live"
    ]
   },
   "outputs": [],
   "source": []
  },
  {
   "cell_type": "code",
   "execution_count": 5,
   "id": "83ec8313",
   "metadata": {
    "slideshow": {
     "slide_type": "-"
    }
   },
   "outputs": [
    {
     "name": "stdout",
     "output_type": "stream",
     "text": [
      "total 936\r\n",
      "-rw-r--r--@  1 brian  staff    23K Nov  9 08:37 12-CommandLine.ipynb\r\n",
      "-rw-r--r--@  1 brian  staff    19K Nov  8 20:53 13-Modules.ipynb\r\n",
      "drwxr-xr-x   3 brian  staff    96B Nov  8 19:02 \u001b[34m__pycache__\u001b[m\u001b[m\r\n",
      "-rw-r--r--@  1 brian  staff    38K Nov  7 08:46 11-Classes-v2.ipynb\r\n",
      "-rw-r--r--@  1 brian  staff    37K Nov  2 08:58 10-Methods.ipynb\r\n",
      "-rw-r--r--@  1 brian  staff    41K Oct 31 14:37 09-Loops.ipynb\r\n",
      "-rw-r--r--@  1 brian  staff    37K Oct 25 23:12 E1_Fa23-B_Practice copy.ipynb\r\n",
      "-rw-r--r--   1 brian  staff    33K Oct 25 14:42 05-Functions.ipynb\r\n",
      "-rw-r--r--@  1 brian  staff    45K Oct 24 13:11 08-Debugging.ipynb\r\n",
      "-rw-r--r--@  1 brian  staff    47K Oct 24 09:17 07-Collections.ipynb\r\n",
      "-rw-r--r--@  1 brian  staff    18K Oct 24 08:40 06-Conditionals.ipynb\r\n",
      "-rw-r--r--@  1 brian  staff   711B Oct 16 20:22 ignoreme_slideshow_script.js\r\n",
      "drwxr-xr-x  16 brian  staff   512B Oct 16 13:09 \u001b[34mimg\u001b[m\u001b[m\r\n",
      "-rw-r--r--   1 brian  staff   4.0K Oct 13 15:23 Untitled.ipynb\r\n",
      "-rw-r--r--@  1 brian  staff    31K Oct 10 08:19 04-Operators.ipynb\r\n",
      "-rw-r--r--@  1 brian  staff    32K Oct  5 08:35 03-Variables.ipynb\r\n",
      "-rw-r--r--   1 brian  staff    23K Oct  4 22:59 02-Tooling.ipynb\r\n",
      "-rw-r--r--@  1 brian  staff   5.7K Oct  2 12:18 01-Introduction.ipynb\r\n",
      "-rw-r--r--@  1 brian  staff   681B Sep 26 19:07 README.md\r\n"
     ]
    }
   ],
   "source": [
    "## test out here\n",
    "!ls -l"
   ]
  },
  {
   "cell_type": "markdown",
   "id": "9eec3225",
   "metadata": {
    "slideshow": {
     "slide_type": "slide"
    }
   },
   "source": [
    "#### Class Question #4\n",
    "\n",
    "Which creates a file?     \n",
    "   \n",
    "- A) `mkdir`\n",
    "- B) `pwd`\n",
    "- C) `cd`\n",
    "- D) `touch`\n",
    "- E) `cat`"
   ]
  },
  {
   "cell_type": "code",
   "execution_count": null,
   "id": "7981a635",
   "metadata": {
    "tags": [
     "live"
    ]
   },
   "outputs": [],
   "source": []
  },
  {
   "cell_type": "markdown",
   "id": "d22739e9",
   "metadata": {
    "slideshow": {
     "slide_type": "slide"
    }
   },
   "source": [
    "## Windows Command Prompt\n",
    "\n",
    "Some commands are slightly different if you are using windows command prompt:\n",
    "\n",
    "- `dir` : lists files in current directory\n",
    "- `move` : moves a file\n",
    "- `copy` : copies a file\n",
    "- `rename` : renames a file\n",
    "- `type` : can be used to print out a file\n",
    "    \n",
    "Note that `pwd`, `cd`, `mkdir`, `echo` are all the same in Windows command prompt.\n",
    "\n",
    "If you want to make a new empty file, you can do:\n",
    "\n",
    "`'' > my_file.py`\n",
    "\n",
    "^This construction puts an empty string into a file. If the filename is not found, it will create a new (empty) file."
   ]
  },
  {
   "cell_type": "markdown",
   "id": "13e2a0db",
   "metadata": {
    "slideshow": {
     "slide_type": "slide"
    }
   },
   "source": [
    "## Python Files"
   ]
  },
  {
   "cell_type": "markdown",
   "id": "08975ee6",
   "metadata": {
    "slideshow": {
     "slide_type": "fragment"
    }
   },
   "source": [
    "<div class=\"alert alert-success\">\n",
    "Python files are plain-text files, with Python code in them, that can be executed and/or imported from.\n",
    "</div>"
   ]
  },
  {
   "cell_type": "markdown",
   "id": "9706cec8",
   "metadata": {
    "slideshow": {
     "slide_type": "slide"
    }
   },
   "source": [
    "### Script vs. Module File"
   ]
  },
  {
   "cell_type": "markdown",
   "id": "f0a47377",
   "metadata": {
    "slideshow": {
     "slide_type": "fragment"
    }
   },
   "source": [
    "### Scripts"
   ]
  },
  {
   "cell_type": "markdown",
   "id": "25ff82ab",
   "metadata": {
    "slideshow": {
     "slide_type": "fragment"
    }
   },
   "source": [
    "<div class=\"alert alert-success\">\n",
    "A <b>script</b> is a Python file that can be run to execute a particular task. \n",
    "</div>"
   ]
  },
  {
   "cell_type": "markdown",
   "id": "a649ffe4",
   "metadata": {
    "slideshow": {
     "slide_type": "fragment"
    }
   },
   "source": [
    "### Module Files"
   ]
  },
  {
   "cell_type": "markdown",
   "id": "b826072c",
   "metadata": {
    "slideshow": {
     "slide_type": "fragment"
    }
   },
   "source": [
    "<div class=\"alert alert-success\">\n",
    "A <b>module</b> file is a file with Python code (typically functions & classes) that we can import and use.\n",
    "</div>"
   ]
  },
  {
   "cell_type": "markdown",
   "id": "c8ea1502",
   "metadata": {
    "slideshow": {
     "slide_type": "fragment"
    }
   },
   "source": [
    "Remember: if you're writing code, you cannot just click through to the file you want. You need to specify _using code_ where the file you want is. \n",
    "\n",
    "This is where understanding file paths is critically important."
   ]
  },
  {
   "cell_type": "markdown",
   "id": "010d2c72",
   "metadata": {
    "slideshow": {
     "slide_type": "slide"
    }
   },
   "source": [
    "## Text Editors"
   ]
  },
  {
   "cell_type": "markdown",
   "id": "9fa2435b",
   "metadata": {
    "slideshow": {
     "slide_type": "fragment"
    }
   },
   "source": [
    "<div class=\"alert alert-success\">\n",
    "Text-editors are programs made for editing text. Many text-editors are designed for writing code specifically. \n",
    "</div>"
   ]
  },
  {
   "cell_type": "markdown",
   "id": "6bc9c49c",
   "metadata": {
    "slideshow": {
     "slide_type": "notes"
    }
   },
   "source": [
    "### Terminal Based Text Editors\n",
    "\n",
    "There are text editors designed to be used within a terminal, such as `vim`, `emacs`, or `nano`. Nano is the easiest. Vim and Emacs are used professionally."
   ]
  },
  {
   "cell_type": "markdown",
   "id": "2bda0148",
   "metadata": {
    "slideshow": {
     "slide_type": "fragment"
    }
   },
   "source": [
    "### Non-Terminal Text Editors\n",
    "\n",
    "For writing code (outside of notebooks and the terminal), you probably want a code focused stand-alone text editor, like `VS Code`."
   ]
  },
  {
   "cell_type": "markdown",
   "id": "b91f6ac3",
   "metadata": {
    "slideshow": {
     "slide_type": "slide"
    }
   },
   "source": [
    "## Executing Python Files"
   ]
  },
  {
   "cell_type": "markdown",
   "id": "3d7c630a",
   "metadata": {
    "slideshow": {
     "slide_type": "fragment"
    }
   },
   "source": [
    "From the command line, you can execute a Python script using the `python` command:\n",
    "\n",
    "`python dir_name/new_file.py`"
   ]
  },
  {
   "cell_type": "markdown",
   "id": "faef9adb",
   "metadata": {
    "slideshow": {
     "slide_type": "slide"
    }
   },
   "source": [
    "#### Class Question #5\n",
    "\n",
    "To create a file and see its contents, which command line commands would you use (and in which order)?    \n",
    "   \n",
    "- A) `mkdir` then `cd`\n",
    "- B) `pwd` then `ls`\n",
    "- C) `cd` then `pwd`\n",
    "- D) `touch` then `cat`\n",
    "- E) `cat` then `touch`"
   ]
  },
  {
   "cell_type": "code",
   "execution_count": null,
   "id": "885f1042",
   "metadata": {
    "tags": [
     "live"
    ]
   },
   "outputs": [],
   "source": []
  },
  {
   "cell_type": "markdown",
   "id": "3670e003",
   "metadata": {
    "slideshow": {
     "slide_type": "slide"
    }
   },
   "source": [
    "#### Class Question #6\n",
    "\n",
    "Given the file structure from earlier: \n",
    "\n",
    "- `/`\n",
    "    - `scripts/`\n",
    "        - cool_thing.py\n",
    "        - super_cool_thing.py\n",
    "    - `images/`\n",
    "        - image1.png\n",
    "        - image2.png\n",
    "    - `notebooks/`\n",
    "        - 00_intro.ipynb\n",
    "        - 01_variables.ipynb\n",
    "\n",
    "Your currently working within `notebooks` and you want to execute the code in 'cool_thing.py' from the command line. How would you do that?"
   ]
  },
  {
   "cell_type": "code",
   "execution_count": null,
   "id": "ac89c057",
   "metadata": {
    "tags": [
     "live"
    ]
   },
   "outputs": [],
   "source": []
  }
 ],
 "metadata": {
  "kernelspec": {
   "display_name": "Python 3 (ipykernel)",
   "language": "python",
   "name": "python3"
  },
  "language_info": {
   "codemirror_mode": {
    "name": "ipython",
    "version": 3
   },
   "file_extension": ".py",
   "mimetype": "text/x-python",
   "name": "python",
   "nbconvert_exporter": "python",
   "pygments_lexer": "ipython3",
   "version": "3.11.6"
  },
  "rise": {
   "scroll": true
  }
 },
 "nbformat": 4,
 "nbformat_minor": 5
}
