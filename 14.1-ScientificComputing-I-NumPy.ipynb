{
 "cells": [
  {
   "cell_type": "markdown",
   "id": "7b30504c",
   "metadata": {},
   "source": [
    "What's the name(s) of the person(s) sitting next to you? And what is their favorite (or most used) emoji?"
   ]
  },
  {
   "cell_type": "code",
   "execution_count": null,
   "id": "66f9ff61",
   "metadata": {
    "tags": [
     "live"
    ]
   },
   "outputs": [],
   "source": []
  },
  {
   "cell_type": "markdown",
   "id": "896765d7",
   "metadata": {
    "slideshow": {
     "slide_type": "slide"
    }
   },
   "source": [
    "# Scientific Computing I: NumPy"
   ]
  },
  {
   "cell_type": "markdown",
   "id": "14386d09",
   "metadata": {
    "slideshow": {
     "slide_type": "-"
    }
   },
   "source": [
    "<div class=\"alert alert-success\">\n",
    "<b>Scientific Computing</b> is the application of computer programming to scientific applications: data analysis, simulation & modeling, plotting, etc. \n",
    "</div>"
   ]
  },
  {
   "cell_type": "markdown",
   "id": "c0e76d99",
   "metadata": {},
   "source": [
    "A key reason this course uses Python is because Python is popular in scientific computing. There are packages (functions and classes that you can use) for many, many, many use cases."
   ]
  },
  {
   "cell_type": "markdown",
   "id": "afc246ae",
   "metadata": {
    "slideshow": {
     "slide_type": "slide"
    }
   },
   "source": [
    "## Scientific Python: Scipy Stack\n",
    "\n",
    "Scipy = Scientific Python\n",
    "\n",
    "- `numpy` - for lists of numbers\n",
    "- `pandas` - for heterogenious data (i.e. not just numbers)\n",
    "- `scipy` - for statistical analysis\n",
    "- `sklearn` - for machine learning\n",
    "\n",
    "Goal of today and the next lecture is to look at these _briefly_, so you have a basic idea of _when_ to reach for them.\n",
    "\n",
    "To actually use them you will have to read docs and tutorials, although you will get some practice in the later coding labs and assignments."
   ]
  },
  {
   "cell_type": "markdown",
   "id": "bb172370",
   "metadata": {
    "slideshow": {
     "slide_type": "-"
    }
   },
   "source": [
    "<div class=\"alert alert-success\">\n",
    "<b><code>Scipy</code></b> is an <i>ecosystem</i>, including a collection of open-source packages for scientific computing in Python.\n",
    "</div>"
   ]
  },
  {
   "cell_type": "markdown",
   "id": "88766418",
   "metadata": {
    "slideshow": {
     "slide_type": "-"
    }
   },
   "source": [
    "A 'family' of packages that all work well together to do scientific computing.\n",
    "\n",
    "Not made by the same people who manage Python's standard library."
   ]
  },
  {
   "cell_type": "markdown",
   "id": "add5f7a9",
   "metadata": {
    "slideshow": {
     "slide_type": "fragment"
    }
   },
   "source": [
    "**Packages must be installed before you can use them.** Install once. Import as many times as you want.\n",
    "\n",
    "The packages we're using today have 1) already been installed for you on datahub and 2) are part of the Anaconda distribution.\n",
    "\n",
    "However, for your final project, you may want to install additional packages. To do so on the command line: `pip install --user package` (where you replace `package` with the package to be installed.)"
   ]
  },
  {
   "cell_type": "markdown",
   "id": "c4f76d51",
   "metadata": {
    "collapsed": true,
    "slideshow": {
     "slide_type": "slide"
    }
   },
   "source": [
    "## NumPy is for lists of numbers (or lists of lists of numbers)\n",
    "\n",
    "- recordings of values from experimental participants\n",
    "- heights or quantitative information from survey data\n",
    "\n",
    "NumPy stands for \"numerical python\".\n",
    "\n",
    "NumPy exists for at least two reasons:\n",
    "\n",
    "1. Python is slow for large calculations. Many NumPy operations are fast.\n",
    "2. Python does not let you write e.g. `[1, 2, 3] + 1` and other kinds of common operations on lists of numbers."
   ]
  },
  {
   "cell_type": "code",
   "execution_count": null,
   "id": "22cf2ce8",
   "metadata": {},
   "outputs": [],
   "source": [
    "# Without NumPy, this will error. (Which is reasonable, since lists do not always contain numbers.)\n",
    "\n",
    "[1, 2, 3] + 1"
   ]
  },
  {
   "cell_type": "code",
   "execution_count": null,
   "id": "6cdaad4a",
   "metadata": {},
   "outputs": [],
   "source": [
    "# Without NumPy, this will concatenate the lists. (Also reasonable.)\n",
    "\n",
    "[1, 2, 3] + [4, 5, 6]"
   ]
  },
  {
   "cell_type": "code",
   "execution_count": null,
   "id": "563a6e20",
   "metadata": {
    "slideshow": {
     "slide_type": "fragment"
    }
   },
   "outputs": [],
   "source": [
    "# Now let's look at how NumPy operates differently.\n",
    "# \n",
    "# Everyone imports NumPy as np so we can\n",
    "# write np.something instead of numpy.something\n",
    "\n",
    "import numpy as np"
   ]
  },
  {
   "cell_type": "markdown",
   "id": "8495ae0d",
   "metadata": {},
   "source": [
    "`np.array()` turns a list into a NumPy \"array\""
   ]
  },
  {
   "cell_type": "code",
   "execution_count": null,
   "id": "6dd63f10",
   "metadata": {},
   "outputs": [],
   "source": [
    "np.array([1, 2, 3])"
   ]
  },
  {
   "cell_type": "markdown",
   "id": "fc07d611",
   "metadata": {},
   "source": [
    "An \"array\" is basically a list, _but_ it is stored more efficiently than an ordinary list and many operations on it are faster.\n",
    "\n",
    "And, importantly, we can perform operations on lots of numbers more easily."
   ]
  },
  {
   "cell_type": "code",
   "execution_count": null,
   "id": "6dbfc067",
   "metadata": {},
   "outputs": [],
   "source": [
    "# If we add 1 to a NumPy \"array\", it adds 1 to each element.\n",
    "\n",
    "np.array([1, 2, 3]) + 1"
   ]
  },
  {
   "cell_type": "code",
   "execution_count": null,
   "id": "77d776c9",
   "metadata": {},
   "outputs": [],
   "source": [
    "# If we add NumPy arrays together, they are added element-wise, instead of concatenation.\n",
    "\n",
    "np.array([1, 2, 3]) + np.array([4, 5, 6])"
   ]
  },
  {
   "cell_type": "code",
   "execution_count": null,
   "id": "bb18e953",
   "metadata": {},
   "outputs": [],
   "source": [
    "# If we need a normal list back, use the .tolist() method\n",
    "\n",
    "my_np_arr = np.array([1, 2, 3]) + np.array([4, 5, 6])\n",
    "my_np_arr.tolist()"
   ]
  },
  {
   "cell_type": "code",
   "execution_count": null,
   "id": "f44b9e17",
   "metadata": {},
   "outputs": [],
   "source": [
    "# Define some random data\n",
    "\n",
    "data = np.random.default_rng().integers(low=0, high=10, size=8)\n",
    "data"
   ]
  },
  {
   "cell_type": "markdown",
   "id": "77d4bee1",
   "metadata": {},
   "source": [
    "Now that we have some data, let's see what else we can do."
   ]
  },
  {
   "cell_type": "code",
   "execution_count": null,
   "id": "3258329e",
   "metadata": {},
   "outputs": [],
   "source": [
    "# Hmmm, what will happen here?\n",
    "\n",
    "first_and_third = [True, False, True, False, False, False, False, False]\n",
    "\n",
    "data[first_and_third]"
   ]
  },
  {
   "cell_type": "markdown",
   "id": "c121cfbd",
   "metadata": {
    "slideshow": {
     "slide_type": "-"
    }
   },
   "source": [
    "⬆︎ we can index a NumPy array by _a list of booleans!_"
   ]
  },
  {
   "cell_type": "code",
   "execution_count": null,
   "id": "3cc2dddd",
   "metadata": {},
   "outputs": [],
   "source": [
    "# Hmmm, what will happen here?\n",
    "\n",
    "data > 3"
   ]
  },
  {
   "cell_type": "markdown",
   "id": "f2c7db62",
   "metadata": {
    "slideshow": {
     "slide_type": "-"
    }
   },
   "source": [
    "⬆︎ we can _compare all the items against a number!_ The result is a list of booleans."
   ]
  },
  {
   "cell_type": "code",
   "execution_count": null,
   "id": "de16abfa",
   "metadata": {},
   "outputs": [],
   "source": [
    "data"
   ]
  },
  {
   "cell_type": "code",
   "execution_count": null,
   "id": "5b599d92",
   "metadata": {},
   "outputs": [],
   "source": [
    "# Hmm, what will happen here?\n",
    "\n",
    "data[data > 3]"
   ]
  },
  {
   "cell_type": "code",
   "execution_count": null,
   "id": "38be4041",
   "metadata": {},
   "outputs": [],
   "source": [
    "data"
   ]
  },
  {
   "cell_type": "markdown",
   "id": "69fc732b",
   "metadata": {
    "slideshow": {
     "slide_type": "-"
    }
   },
   "source": [
    "⬆︎ we can _compare all the items against a number,_ resulting in a list of booleans, and then _index with those booleans_, thereby filtering down to _only those items that match!_"
   ]
  },
  {
   "cell_type": "code",
   "execution_count": null,
   "id": "265569ae",
   "metadata": {},
   "outputs": [],
   "source": [
    "# Get a list of indices that are true in a list of booleans.\n",
    "\n",
    "np.where([True, False, True, False, False])"
   ]
  },
  {
   "cell_type": "code",
   "execution_count": null,
   "id": "16126fc5",
   "metadata": {
    "scrolled": true
   },
   "outputs": [],
   "source": [
    "np.where(data > 3)"
   ]
  },
  {
   "cell_type": "markdown",
   "id": "1a50c422",
   "metadata": {
    "slideshow": {
     "slide_type": "-"
    }
   },
   "source": [
    "⬆︎ we can _see which indices match._\n",
    "\n",
    "(The weird looking output is a single element tuple, with the array as the first element. This has something to do with multidimensional arrays which we will discuss in a bit. Index into the tuple to get just the array: `np.where(data > 3)[0]`)"
   ]
  },
  {
   "cell_type": "code",
   "execution_count": null,
   "id": "df67851d",
   "metadata": {},
   "outputs": [],
   "source": [
    "np.where(data > 3)[0]"
   ]
  },
  {
   "cell_type": "code",
   "execution_count": null,
   "id": "4bf0346b",
   "metadata": {},
   "outputs": [],
   "source": [
    "data"
   ]
  },
  {
   "cell_type": "code",
   "execution_count": null,
   "id": "0d1393ba",
   "metadata": {},
   "outputs": [],
   "source": [
    "# Oh, here's a fun one. What might this do?\n",
    "\n",
    "indices = [0, 3, 3, 3, 2]\n",
    "\n",
    "data[indices]"
   ]
  },
  {
   "cell_type": "markdown",
   "id": "bcb2214f",
   "metadata": {},
   "source": [
    "⬆︎ we can _index by a list of indices!_"
   ]
  },
  {
   "cell_type": "code",
   "execution_count": null,
   "id": "32eb7dda",
   "metadata": {},
   "outputs": [],
   "source": [
    "data"
   ]
  },
  {
   "cell_type": "code",
   "execution_count": null,
   "id": "519137fb",
   "metadata": {
    "scrolled": true
   },
   "outputs": [],
   "source": [
    "# Other helpful methods.\n",
    "\n",
    "print(data.min())  # Minimum\n",
    "print(data.max())  # Maximum\n",
    "print(data.sum())  # Sum\n",
    "print(data.mean()) # Mean (average)"
   ]
  },
  {
   "cell_type": "markdown",
   "id": "fcaf3e6c",
   "metadata": {
    "slideshow": {
     "slide_type": "slide"
    }
   },
   "source": [
    "#### Class Question #1\n",
    "\n",
    "What is the output of the following?\n",
    "\n",
    "```python\n",
    "data = np.array([2, 4, 5, 9, 0, 1])\n",
    "data.max()\n",
    "```\n",
    "\n",
    "- **(a)** Error\n",
    "- **(b)** `False`\n",
    "- **(c)** `9`\n",
    "- **(d)** `(array([3]),)`\n",
    "- **(e)** `array([False, False, False,  True, False, False])`"
   ]
  },
  {
   "cell_type": "code",
   "execution_count": null,
   "id": "5bac0998",
   "metadata": {
    "tags": [
     "live"
    ]
   },
   "outputs": [],
   "source": []
  },
  {
   "cell_type": "markdown",
   "id": "338b7870",
   "metadata": {
    "slideshow": {
     "slide_type": "slide"
    }
   },
   "source": [
    "#### Class Question #2\n",
    "\n",
    "What is the output of the following?\n",
    "\n",
    "```python\n",
    "data = np.array([2, 4, 5, 9, 0, 1])\n",
    "data == data.max()\n",
    "```\n",
    "\n",
    "- **(a)** Error\n",
    "- **(b)** `False`\n",
    "- **(c)** `9`\n",
    "- **(d)** `(array([3]),)`\n",
    "- **(e)** `array([False, False, False,  True, False, False])`"
   ]
  },
  {
   "cell_type": "code",
   "execution_count": null,
   "id": "d1b1fc80",
   "metadata": {
    "tags": [
     "live"
    ]
   },
   "outputs": [],
   "source": []
  },
  {
   "cell_type": "markdown",
   "id": "40cb39a2",
   "metadata": {
    "slideshow": {
     "slide_type": "slide"
    }
   },
   "source": [
    "#### Class Question #3\n",
    "\n",
    "What is the output of the following?\n",
    "\n",
    "```python\n",
    "data = np.array([2, 4, 5, 9, 0, 1])\n",
    "data[[False, True, False, True, True, False]]\n",
    "```\n",
    "\n",
    "- **(a)** Error\n",
    "- **(b)** `array([4, 9, 0])`\n",
    "- **(c)** `(array([1, 3, 4]),)`\n",
    "- **(d)** `array([False, 4, False, 9, 0, False])`\n",
    "- **(e)** `array([False, True, False, True, True, False])`"
   ]
  },
  {
   "cell_type": "code",
   "execution_count": null,
   "id": "4c592cbc",
   "metadata": {
    "tags": [
     "live"
    ]
   },
   "outputs": [],
   "source": []
  },
  {
   "cell_type": "markdown",
   "id": "17ace2e7",
   "metadata": {
    "slideshow": {
     "slide_type": "slide"
    }
   },
   "source": [
    "#### Class Question #4\n",
    "\n",
    "What is the output of the following?\n",
    "\n",
    "```python\n",
    "data = np.array([2, 4, 5, 9, 0, 1])\n",
    "data[data >= 4]\n",
    "```\n",
    "\n",
    "- **(a)** Error\n",
    "- **(b)** `array([4, 5, 9])`\n",
    "- **(c)** `(array([1, 2, 3]),)`\n",
    "- **(d)** `array([0, 4, 5, 9, 0, 0])`\n",
    "- **(e)** `array([False, True, True, True, False, False])`"
   ]
  },
  {
   "cell_type": "code",
   "execution_count": null,
   "id": "057662f4",
   "metadata": {
    "tags": [
     "live"
    ]
   },
   "outputs": [],
   "source": []
  },
  {
   "cell_type": "markdown",
   "id": "38338116",
   "metadata": {
    "slideshow": {
     "slide_type": "slide"
    }
   },
   "source": [
    "#### Class Question #5\n",
    "\n",
    "What is the output of the following?\n",
    "\n",
    "```python\n",
    "data = np.array([2, 4, 5, 9, 0, 1])\n",
    "data[data == data.max()]\n",
    "```\n",
    "\n",
    "- **(a)** `9`\n",
    "- **(b)** `array([3])`\n",
    "- **(c)** `array([9])`\n",
    "- **(d)** `(array([3]),)`\n",
    "- **(e)** `array([False, False, False, True, False, False])`"
   ]
  },
  {
   "cell_type": "code",
   "execution_count": null,
   "id": "cbbc1457",
   "metadata": {
    "tags": [
     "live"
    ]
   },
   "outputs": [],
   "source": []
  },
  {
   "cell_type": "markdown",
   "id": "62a5573f",
   "metadata": {
    "slideshow": {
     "slide_type": "slide"
    }
   },
   "source": [
    "#### Class Question #6\n",
    "\n",
    "Which of the following could we put in the blank if we wanted the first three items? If there is more than one right answer, note them all.\n",
    "\n",
    "```python\n",
    "data = np.array([2, 4, 5, 9, 0, 1])\n",
    "\n",
    "data[____________]\n",
    "```\n",
    "\n",
    "- **(a)** `0, 1, 2`\n",
    "- **(b)** `[0, 1, 2]`\n",
    "- **(c)** `range(0,3)`\n",
    "- **(d)** `np.array(range(0,6)) < 3`\n",
    "- **(e)** `[True, True, True, False, False, False]`\n",
    "- **(f)** `np.array([True, True, True, False, False, False])`\n",
    "- **(g)** `np.arange(6) < 3`\n",
    "- **(h)** `:3`"
   ]
  },
  {
   "cell_type": "code",
   "execution_count": null,
   "id": "63ce3d64",
   "metadata": {},
   "outputs": [],
   "source": [
    "# use this cell to test\n"
   ]
  },
  {
   "cell_type": "code",
   "execution_count": null,
   "id": "d5802538",
   "metadata": {
    "tags": [
     "live"
    ]
   },
   "outputs": [],
   "source": []
  },
  {
   "cell_type": "markdown",
   "id": "57a48ae9",
   "metadata": {
    "slideshow": {
     "slide_type": "slide"
    }
   },
   "source": [
    "### NumPy arrays can be _multi-dimensional_\n",
    "\n",
    "Nice for linear algebra (i.e. matrix multiplication), if you need to do that sort of thing."
   ]
  },
  {
   "cell_type": "code",
   "execution_count": null,
   "id": "a76f5eeb",
   "metadata": {
    "slideshow": {
     "slide_type": "fragment"
    }
   },
   "outputs": [],
   "source": [
    "# Create some 2-dimensional arrays (i.e. matrices)\n",
    "arr1 = np.array([[1, 2, 3], [4, 5, 6]])\n",
    "arr2 = np.array([[1, 2], [3, 4], [5, 6]])"
   ]
  },
  {
   "cell_type": "code",
   "execution_count": null,
   "id": "9b43c56a",
   "metadata": {
    "slideshow": {
     "slide_type": "fragment"
    }
   },
   "outputs": [],
   "source": [
    "arr1"
   ]
  },
  {
   "cell_type": "code",
   "execution_count": null,
   "id": "e08a32ff",
   "metadata": {
    "slideshow": {
     "slide_type": "fragment"
    }
   },
   "outputs": [],
   "source": [
    "arr2"
   ]
  },
  {
   "cell_type": "code",
   "execution_count": null,
   "id": "724f4213",
   "metadata": {
    "scrolled": true,
    "slideshow": {
     "slide_type": "fragment"
    }
   },
   "outputs": [],
   "source": [
    "# index into multidimensional arrays with _two_ numbers, row then column\n",
    "arr1[0,2]"
   ]
  },
  {
   "cell_type": "code",
   "execution_count": null,
   "id": "b9bc88bb",
   "metadata": {},
   "outputs": [],
   "source": [
    "arr2[1,0]"
   ]
  },
  {
   "cell_type": "code",
   "execution_count": null,
   "id": "c299964b",
   "metadata": {},
   "outputs": [],
   "source": [
    "# You can slice too\n",
    "arr2[1, 0:2]"
   ]
  },
  {
   "cell_type": "code",
   "execution_count": null,
   "id": "a4872a8e",
   "metadata": {},
   "outputs": [],
   "source": [
    "arr2[:, 1]"
   ]
  },
  {
   "cell_type": "code",
   "execution_count": null,
   "id": "26756ab3",
   "metadata": {
    "slideshow": {
     "slide_type": "fragment"
    }
   },
   "outputs": [],
   "source": [
    "# Check the shape of the array\n",
    "arr1.shape"
   ]
  },
  {
   "cell_type": "code",
   "execution_count": null,
   "id": "63880dec",
   "metadata": {},
   "outputs": [],
   "source": [
    "# It's (rows, cols)\n",
    "arr2.shape"
   ]
  },
  {
   "cell_type": "markdown",
   "id": "6ca43d66",
   "metadata": {
    "slideshow": {
     "slide_type": "slide"
    }
   },
   "source": [
    "#### Class Question #7\n",
    "\n",
    "What's the output?\n",
    "\n",
    "```python\n",
    "arr1 = np.array([[1, 2, 3],\n",
    "                 [4, 5, 6]])\n",
    "arr1[1,0]\n",
    "```"
   ]
  },
  {
   "cell_type": "code",
   "execution_count": null,
   "id": "9ba0f3f6",
   "metadata": {
    "tags": [
     "live"
    ]
   },
   "outputs": [],
   "source": []
  },
  {
   "cell_type": "markdown",
   "id": "ab41177c",
   "metadata": {
    "slideshow": {
     "slide_type": "slide"
    }
   },
   "source": [
    "#### Class Question #8\n",
    "\n",
    "How should we index to pull out the number `6`?\n",
    "\n",
    "```python\n",
    "arr2 = np.array([[1, 2],\n",
    "                 [3, 4],\n",
    "                 [5, 6]])\n",
    "arr2[______]\n",
    "```"
   ]
  },
  {
   "cell_type": "code",
   "execution_count": null,
   "id": "9420d615",
   "metadata": {
    "tags": [
     "live"
    ]
   },
   "outputs": [],
   "source": []
  },
  {
   "cell_type": "markdown",
   "id": "d719e1ad",
   "metadata": {
    "slideshow": {
     "slide_type": "slide"
    }
   },
   "source": [
    "#### Class Question #9\n",
    "\n",
    "What's the output?\n",
    "\n",
    "```python\n",
    "arr1 = np.array([[1, 2, 3],\n",
    "                 [4, 5, 6]])\n",
    "arr1.shape\n",
    "```"
   ]
  },
  {
   "cell_type": "code",
   "execution_count": null,
   "id": "39751870",
   "metadata": {
    "tags": [
     "live"
    ]
   },
   "outputs": [],
   "source": []
  },
  {
   "cell_type": "markdown",
   "id": "f7883920",
   "metadata": {
    "slideshow": {
     "slide_type": "slide"
    }
   },
   "source": [
    "### Some Matrix Operations"
   ]
  },
  {
   "cell_type": "code",
   "execution_count": null,
   "id": "ffe726f4",
   "metadata": {},
   "outputs": [],
   "source": [
    "arr1 = np.array([[1, 2, 3],\n",
    "                 [4, 5, 6]])\n",
    "\n",
    "arr2 = np.array([[1, 2],\n",
    "                 [3, 4],\n",
    "                 [5, 6]])"
   ]
  },
  {
   "cell_type": "code",
   "execution_count": null,
   "id": "7d3ec339",
   "metadata": {},
   "outputs": [],
   "source": [
    "arr1 * arr2 # will try to multiply element-wise, but the arrays aren't the same shape"
   ]
  },
  {
   "cell_type": "code",
   "execution_count": null,
   "id": "e11b8a49",
   "metadata": {},
   "outputs": [],
   "source": [
    "# Matrix multiplication\n",
    "np.matmul(arr1, arr2)"
   ]
  },
  {
   "cell_type": "code",
   "execution_count": null,
   "id": "8b00f95a",
   "metadata": {},
   "outputs": [],
   "source": [
    "np.matmul(arr2, arr1)"
   ]
  },
  {
   "cell_type": "markdown",
   "id": "b5ad54d8",
   "metadata": {},
   "source": [
    "Sum and mean."
   ]
  },
  {
   "cell_type": "code",
   "execution_count": null,
   "id": "72d315a6",
   "metadata": {},
   "outputs": [],
   "source": [
    "arr1 = np.array([[1, 2, 3],\n",
    "                 [4, 5, 6]])\n",
    "arr1.sum()"
   ]
  },
  {
   "cell_type": "code",
   "execution_count": null,
   "id": "f7a53df8",
   "metadata": {},
   "outputs": [],
   "source": [
    "arr1.sum(axis=0)"
   ]
  },
  {
   "cell_type": "code",
   "execution_count": null,
   "id": "cb7a987c",
   "metadata": {},
   "outputs": [],
   "source": [
    "arr1.sum(axis=1)"
   ]
  },
  {
   "cell_type": "markdown",
   "id": "f3ecadc1",
   "metadata": {},
   "source": [
    "It's a little tricky to think about: the axis number you give is the _dimension that will disappear._\n",
    "\n",
    "`0` is the rows, so the rows will collapse and you be left with columns.<br>\n",
    "`1` is the columns, so the columns will collapse and you be left with rows.<br>"
   ]
  },
  {
   "cell_type": "code",
   "execution_count": null,
   "id": "6d2d6c18",
   "metadata": {
    "scrolled": true
   },
   "outputs": [],
   "source": [
    "# min, max, and mean work like this too\n",
    "arr1.mean(axis=0)"
   ]
  },
  {
   "cell_type": "markdown",
   "id": "7451dec7",
   "metadata": {
    "slideshow": {
     "slide_type": "slide"
    }
   },
   "source": [
    "#### Class Question #10\n",
    "\n",
    "What's the output?\n",
    "\n",
    "```python\n",
    "arr2 = np.array([[1, 2],\n",
    "                 [3, 4],\n",
    "                 [5, 6]])\n",
    "arr2.min(axis=1)\n",
    "```\n",
    "\n",
    "- **(a)** `1`\n",
    "- **(b)** `array([1, 2])`\n",
    "- **(c)** `array([9, 12])`\n",
    "- **(d)** `array([1, 3, 5])`\n",
    "- **(e)** `array([3, 6, 11])`"
   ]
  },
  {
   "cell_type": "code",
   "execution_count": null,
   "id": "683b11b0",
   "metadata": {
    "tags": [
     "live"
    ]
   },
   "outputs": [],
   "source": []
  },
  {
   "cell_type": "markdown",
   "id": "1199fecf",
   "metadata": {
    "slideshow": {
     "slide_type": "slide"
    }
   },
   "source": [
    "### Other Array Notes"
   ]
  },
  {
   "cell_type": "code",
   "execution_count": null,
   "id": "2c4d7746",
   "metadata": {
    "slideshow": {
     "slide_type": "fragment"
    }
   },
   "outputs": [],
   "source": [
    "# Need the same length in each list\n",
    "np.array([[1, 2, 3, 4], [2, 3, 4]])"
   ]
  },
  {
   "cell_type": "code",
   "execution_count": null,
   "id": "53e97935",
   "metadata": {
    "slideshow": {
     "slide_type": "fragment"
    }
   },
   "outputs": [],
   "source": [
    "# Arrays are for \"homogeneous\" data (usually numbers).\n",
    "#\n",
    "# Here, the numbers are converted to strings to make the collection homogeneous (one data type).\n",
    "np.array([1, 2, 'cogs18', 4])"
   ]
  },
  {
   "cell_type": "markdown",
   "id": "f9cce496",
   "metadata": {},
   "source": [
    "Okay, that's enough about NumPy!"
   ]
  },
  {
   "cell_type": "markdown",
   "id": "75a2e740",
   "metadata": {
    "slideshow": {
     "slide_type": "slide"
    }
   },
   "source": [
    "## A brief aside: `zip()`"
   ]
  },
  {
   "cell_type": "markdown",
   "id": "b768cdfb",
   "metadata": {},
   "source": [
    "`zip()` takes two or more iterables (things you can loop over) and loop over them together."
   ]
  },
  {
   "cell_type": "code",
   "execution_count": null,
   "id": "de28282d",
   "metadata": {
    "slideshow": {
     "slide_type": "fragment"
    }
   },
   "outputs": [],
   "source": [
    "for a, b, c in zip([1,2,True,1000], ['a','b','c','d'], range(0,10000)):\n",
    "    print(\"Values:\", a, b, c)"
   ]
  },
  {
   "cell_type": "markdown",
   "id": "00c2f31c",
   "metadata": {
    "collapsed": true,
    "slideshow": {
     "slide_type": "slide"
    }
   },
   "source": [
    "#### Class Question #11\n",
    "\n",
    "What will it print?\n",
    "\n",
    "```python\n",
    "data = np.array([[1, 2, 3, 4],\n",
    "                 [5, 6, 7, 8]])\n",
    " \n",
    "output = []\n",
    "for d1, d2 in zip(data[0, :], data[1, :]):\n",
    "    output.append(d1 + d2)\n",
    "\n",
    "print(output)\n",
    "```"
   ]
  },
  {
   "cell_type": "markdown",
   "id": "c4adea45",
   "metadata": {
    "collapsed": true,
    "slideshow": {
     "slide_type": "fragment"
    }
   },
   "source": [
    "- A) [1, 2, 3, 4]\n",
    "- B) [1, 2, 3, 4, 5, 6, 7, 8]\n",
    "- C) [6, 8, 10, 12]\n",
    "- D) [10, 26]\n",
    "- E) [36]"
   ]
  },
  {
   "cell_type": "code",
   "execution_count": null,
   "id": "15699393",
   "metadata": {
    "tags": [
     "live"
    ]
   },
   "outputs": [],
   "source": []
  },
  {
   "cell_type": "code",
   "execution_count": null,
   "id": "c1590ecd",
   "metadata": {},
   "outputs": [],
   "source": [
    "data = np.array([[1, 2, 3, 4],\n",
    "                 [5, 6, 7, 8]])\n",
    "\n",
    "data.sum(axis=0)"
   ]
  },
  {
   "cell_type": "markdown",
   "id": "51bfb4cc",
   "metadata": {
    "slideshow": {
     "slide_type": "slide"
    }
   },
   "source": [
    "(But if you find yourself looping over arrays...there is probably a better way with NumPy.)"
   ]
  },
  {
   "cell_type": "markdown",
   "id": "bc7b1431",
   "metadata": {},
   "source": [
    "Response cell below for impromptu question."
   ]
  },
  {
   "cell_type": "code",
   "execution_count": null,
   "id": "669eb6be",
   "metadata": {
    "tags": [
     "live"
    ]
   },
   "outputs": [],
   "source": []
  }
 ],
 "metadata": {
  "celltoolbar": "Tags",
  "kernelspec": {
   "display_name": "Python 3 (ipykernel)",
   "language": "python",
   "name": "python3"
  },
  "language_info": {
   "codemirror_mode": {
    "name": "ipython",
    "version": 3
   },
   "file_extension": ".py",
   "mimetype": "text/x-python",
   "name": "python",
   "nbconvert_exporter": "python",
   "pygments_lexer": "ipython3",
   "version": "3.11.6"
  },
  "rise": {
   "scroll": true
  }
 },
 "nbformat": 4,
 "nbformat_minor": 5
}
