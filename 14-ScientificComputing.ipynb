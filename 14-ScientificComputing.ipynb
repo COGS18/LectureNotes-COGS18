{
 "cells": [
  {
   "cell_type": "markdown",
   "metadata": {
    "slideshow": {
     "slide_type": "slide"
    }
   },
   "source": [
    "# Scientific Computing"
   ]
  },
  {
   "cell_type": "markdown",
   "metadata": {
    "slideshow": {
     "slide_type": "-"
    }
   },
   "source": [
    "<div class=\"alert alert-success\">\n",
    "<b>Scientific Computing</b> is the application of computer programming to scientific applications: data analysis, simulation & modeling, plotting, etc. \n",
    "</div>"
   ]
  },
  {
   "cell_type": "markdown",
   "metadata": {},
   "source": [
    "A key reason this course uses Python is because Python is popular in scientific computing. There are packages (functions and classes that you can use) for many, many, many use cases."
   ]
  },
  {
   "cell_type": "markdown",
   "metadata": {
    "slideshow": {
     "slide_type": "slide"
    }
   },
   "source": [
    "## Scientific Python: Scipy Stack\n",
    "\n",
    "Scipy = Scientific Python\n",
    "\n",
    "- `numpy` - for lists of numbers\n",
    "- `pandas` - for heterogenious data (i.e. not just numbers)\n",
    "- `scipy` - for statistical analysis\n",
    "- `sklearn` - for machine learning\n",
    "\n",
    "Goal of today is to look at these _briefly_, so you have a basic idea of _when_ to reach for them.\n",
    "\n",
    "To actually use them you will have to read docs and tutorials, although you will get some practice in Coding Lab 8 and Assignment 5."
   ]
  },
  {
   "cell_type": "markdown",
   "metadata": {
    "slideshow": {
     "slide_type": "-"
    }
   },
   "source": [
    "<div class=\"alert alert-success\">\n",
    "<b><code>Scipy</code></b> is an <i>ecosystem</i>, including a collection of open-source packages for scientific computing in Python.\n",
    "</div>"
   ]
  },
  {
   "cell_type": "markdown",
   "metadata": {
    "slideshow": {
     "slide_type": "-"
    }
   },
   "source": [
    "A 'family' of packages that all work well together to do scientific computing.\n",
    "\n",
    "Not made by the same people who manage the standard library."
   ]
  },
  {
   "cell_type": "markdown",
   "metadata": {
    "slideshow": {
     "slide_type": "fragment"
    }
   },
   "source": [
    "**Packages must be installed before you can use them.** Install once. Import as many times as you want.\n",
    "\n",
    "The packages we're using today have 1) already been installed for you on datahub and 2) are part of the Anaconda distribution.\n",
    "\n",
    "However, for your final project, you may want to install additional packages. To do so on the command line: `pip install --user package` (where you replace `package` with the package to be installed.)"
   ]
  },
  {
   "cell_type": "markdown",
   "metadata": {
    "collapsed": true,
    "slideshow": {
     "slide_type": "slide"
    }
   },
   "source": [
    "## NumPy is for lists of numbers (or lists of lists of numbers)\n",
    "\n",
    "- recordings of values from experimental participants\n",
    "- heights or quantitative information from survey data\n",
    "\n",
    "NumPy stands for \"numerical python\".\n",
    "\n",
    "NumPy exists for at least two reasons:\n",
    "\n",
    "1. Python is slow for large calculations. Many NumPy operations are fast.\n",
    "2. Python does not let you write e.g. `[1, 2, 3] + 1` and other kinds of common operations on lists of numbers."
   ]
  },
  {
   "cell_type": "code",
   "execution_count": null,
   "metadata": {},
   "outputs": [],
   "source": [
    "# Without NumPy, this will error. (Which is reasonable, since lists do not always contain numbers.)\n",
    "\n",
    "[1, 2, 3] + 1"
   ]
  },
  {
   "cell_type": "code",
   "execution_count": null,
   "metadata": {},
   "outputs": [],
   "source": [
    "# Without NumPy, this will concatenate the lists. (Also reasonable.)\n",
    "\n",
    "[1, 2, 3] + [4, 5, 6]"
   ]
  },
  {
   "cell_type": "code",
   "execution_count": null,
   "metadata": {
    "slideshow": {
     "slide_type": "fragment"
    }
   },
   "outputs": [],
   "source": [
    "# Now let's look at how NumPy operates differently.\n",
    "# \n",
    "# Everyone imports NumPy as np so we can\n",
    "# write np.something instead of numpy.something\n",
    "\n",
    "import numpy as np"
   ]
  },
  {
   "cell_type": "markdown",
   "metadata": {},
   "source": [
    "`np.array()` turns a list into a NumPy \"array\""
   ]
  },
  {
   "cell_type": "code",
   "execution_count": null,
   "metadata": {},
   "outputs": [],
   "source": [
    "np.array([1, 2, 3])"
   ]
  },
  {
   "cell_type": "markdown",
   "metadata": {},
   "source": [
    "An \"array\" is basically a list, _but_ it is stored more efficiently than an ordinary list and many operations on it are faster.\n",
    "\n",
    "And, importantly, we can perform operations on lots of numbers more easily."
   ]
  },
  {
   "cell_type": "code",
   "execution_count": null,
   "metadata": {},
   "outputs": [],
   "source": [
    "# If we add 1 to a NumPy \"array\", it adds 1 to each element.\n",
    "\n",
    "np.array([1, 2, 3]) + 1"
   ]
  },
  {
   "cell_type": "code",
   "execution_count": null,
   "metadata": {},
   "outputs": [],
   "source": [
    "# If we add NumPy arrays together, they are added element-wise, instead of concatenation.\n",
    "\n",
    "np.array([1, 2, 3]) + np.array([4, 5, 6])"
   ]
  },
  {
   "cell_type": "code",
   "execution_count": null,
   "metadata": {},
   "outputs": [],
   "source": [
    "# If we need a normal list back, use the .tolist() method\n",
    "\n",
    "my_np_arr = np.array([1, 2, 3]) + np.array([4, 5, 6])\n",
    "my_np_arr.tolist()"
   ]
  },
  {
   "cell_type": "code",
   "execution_count": null,
   "metadata": {},
   "outputs": [],
   "source": [
    "# Define some random data\n",
    "\n",
    "data = np.random.default_rng().integers(low=0, high=10, size=8)\n",
    "data"
   ]
  },
  {
   "cell_type": "markdown",
   "metadata": {},
   "source": [
    "Now that we have some data, let's see what else we can do."
   ]
  },
  {
   "cell_type": "code",
   "execution_count": null,
   "metadata": {},
   "outputs": [],
   "source": [
    "# Hmmm, what will happen here?\n",
    "\n",
    "first_and_third = [True, False, True, False, False, False, False, False]\n",
    "\n",
    "data[first_and_third]"
   ]
  },
  {
   "cell_type": "markdown",
   "metadata": {
    "slideshow": {
     "slide_type": "-"
    }
   },
   "source": [
    "⬆︎ we can index a NumPy array by _a list of booleans!_"
   ]
  },
  {
   "cell_type": "code",
   "execution_count": null,
   "metadata": {},
   "outputs": [],
   "source": [
    "# Hmmm, what will happen here?\n",
    "\n",
    "data > 3"
   ]
  },
  {
   "cell_type": "markdown",
   "metadata": {
    "slideshow": {
     "slide_type": "-"
    }
   },
   "source": [
    "⬆︎ we can _compare all the items against a number!_ The result is a list of booleans."
   ]
  },
  {
   "cell_type": "code",
   "execution_count": null,
   "metadata": {},
   "outputs": [],
   "source": [
    "# Hmm, what will happen here?\n",
    "\n",
    "data[data > 3]"
   ]
  },
  {
   "cell_type": "markdown",
   "metadata": {
    "slideshow": {
     "slide_type": "-"
    }
   },
   "source": [
    "⬆︎ we can _compare all the items against a number,_ resulting in a list of booleans, and then _index with those booleans_, thereby filtering down to _only those items that match!_"
   ]
  },
  {
   "cell_type": "code",
   "execution_count": null,
   "metadata": {},
   "outputs": [],
   "source": [
    "# Get a list of indices that are true in a list of booleans.\n",
    "\n",
    "np.where([True, False, True, False, False])"
   ]
  },
  {
   "cell_type": "code",
   "execution_count": null,
   "metadata": {
    "scrolled": true
   },
   "outputs": [],
   "source": [
    "np.where(data > 3)"
   ]
  },
  {
   "cell_type": "markdown",
   "metadata": {
    "slideshow": {
     "slide_type": "-"
    }
   },
   "source": [
    "⬆︎ we can _see which indices match._\n",
    "\n",
    "(The weird looking output is a single element tuple, with the array as the first element. This has something to do with multidimensional arrays which we will discuss in a bit. Index into the tuple to get just the array: `np.where(data > 3)[0]`)"
   ]
  },
  {
   "cell_type": "code",
   "execution_count": null,
   "metadata": {},
   "outputs": [],
   "source": [
    "# Oh, here's a fun one. What might this do?\n",
    "\n",
    "indices = [0, 3, 3, 3, 2]\n",
    "\n",
    "data[indices]"
   ]
  },
  {
   "cell_type": "markdown",
   "metadata": {},
   "source": [
    "⬆︎ we can _index by a list of indices!_"
   ]
  },
  {
   "cell_type": "code",
   "execution_count": null,
   "metadata": {},
   "outputs": [],
   "source": [
    "# Other helpful methods.\n",
    "\n",
    "print(data.min())  # Minimum\n",
    "print(data.max())  # Maximum\n",
    "print(data.sum())  # Sum\n",
    "print(data.mean()) # Mean (average)"
   ]
  },
  {
   "cell_type": "markdown",
   "metadata": {
    "slideshow": {
     "slide_type": "slide"
    }
   },
   "source": [
    "#### Class Question #1\n",
    "\n",
    "What is the output of the following?\n",
    "\n",
    "```python\n",
    "data = np.array([2, 4, 5, 9, 0, 1])\n",
    "data == data.max()\n",
    "```\n",
    "\n",
    "- **(a)** Error\n",
    "- **(b)** `False`\n",
    "- **(c)** `9`\n",
    "- **(d)** `(array([3]),)`\n",
    "- **(e)** `array([False, False, False,  True, False, False])`"
   ]
  },
  {
   "cell_type": "markdown",
   "metadata": {
    "slideshow": {
     "slide_type": "slide"
    }
   },
   "source": [
    "#### Class Question #2\n",
    "\n",
    "What is the output of the following?\n",
    "\n",
    "```python\n",
    "data = np.array([2, 4, 5, 9, 0, 1])\n",
    "data[[False, True, False, True, True, False]]\n",
    "```\n",
    "\n",
    "- **(a)** Error\n",
    "- **(b)** `array([4, 9, 0])`\n",
    "- **(c)** `(array([1, 3, 4]),)`\n",
    "- **(d)** `array([False, 4, False, 9, 0, False])`\n",
    "- **(e)** `array([False, True, False, True, True, False])`"
   ]
  },
  {
   "cell_type": "markdown",
   "metadata": {
    "slideshow": {
     "slide_type": "slide"
    }
   },
   "source": [
    "#### Class Question #3\n",
    "\n",
    "What is the output of the following?\n",
    "\n",
    "```python\n",
    "data = np.array([2, 4, 5, 9, 0, 1])\n",
    "data[data >= 4]\n",
    "```\n",
    "\n",
    "- **(a)** Error\n",
    "- **(b)** `array([4, 5, 9])`\n",
    "- **(c)** `(array([1, 2, 3]),)`\n",
    "- **(d)** `array([0, 4, 5, 9, 0, 0])`\n",
    "- **(e)** `array([False, True, True, True, False, False])`"
   ]
  },
  {
   "cell_type": "markdown",
   "metadata": {
    "slideshow": {
     "slide_type": "slide"
    }
   },
   "source": [
    "#### Class Question #4\n",
    "\n",
    "What is the output of the following?\n",
    "\n",
    "```python\n",
    "data = np.array([2, 4, 5, 9, 0, 1])\n",
    "data[data == data.max()]\n",
    "```\n",
    "\n",
    "- **(a)** `9`\n",
    "- **(b)** `array([3])`\n",
    "- **(c)** `array([9])`\n",
    "- **(d)** `(array([3]),)`\n",
    "- **(e)** `array([False, False, False, True, False, False])`"
   ]
  },
  {
   "cell_type": "markdown",
   "metadata": {
    "slideshow": {
     "slide_type": "slide"
    }
   },
   "source": [
    "#### Class Question #5\n",
    "\n",
    "What could we put in the blank if we wanted the first three items? (If there is more than one right answer, pick your favorite.)\n",
    "\n",
    "```python\n",
    "data = np.array([2, 4, 5, 9, 0, 1])\n",
    "\n",
    "data[____________]\n",
    "```\n",
    "\n",
    "- **(a)** `0, 1, 2`\n",
    "- **(b)** `[0, 1, 2]`\n",
    "- **(c)** `range(0,3)`\n",
    "- **(d)** `np.array(range(0,6)) < 3`\n",
    "- **(e)** `[True, True, True, False, False, False]`"
   ]
  },
  {
   "cell_type": "code",
   "execution_count": null,
   "metadata": {
    "slideshow": {
     "slide_type": "slide"
    }
   },
   "outputs": [],
   "source": [
    "# FYI, instead of np.array(range(0,6))\n",
    "\n",
    "np.arange(6)"
   ]
  },
  {
   "cell_type": "markdown",
   "metadata": {
    "slideshow": {
     "slide_type": "slide"
    }
   },
   "source": [
    "### NumPy arrays can be _multi-dimensional_\n",
    "\n",
    "Nice for linear algebra (i.e. matrix multiplication), if you need to do that sort of thing."
   ]
  },
  {
   "cell_type": "code",
   "execution_count": null,
   "metadata": {
    "slideshow": {
     "slide_type": "fragment"
    }
   },
   "outputs": [],
   "source": [
    "# Create some 2-dimensional arrays (i.e. matrices)\n",
    "arr1 = np.array([[1, 2, 3], [4, 5, 6]])\n",
    "arr2 = np.array([[1, 2], [3, 4], [5, 6]])"
   ]
  },
  {
   "cell_type": "code",
   "execution_count": null,
   "metadata": {
    "slideshow": {
     "slide_type": "fragment"
    }
   },
   "outputs": [],
   "source": [
    "arr1"
   ]
  },
  {
   "cell_type": "code",
   "execution_count": null,
   "metadata": {
    "slideshow": {
     "slide_type": "fragment"
    }
   },
   "outputs": [],
   "source": [
    "arr2"
   ]
  },
  {
   "cell_type": "code",
   "execution_count": null,
   "metadata": {
    "scrolled": true,
    "slideshow": {
     "slide_type": "fragment"
    }
   },
   "outputs": [],
   "source": [
    "# index into multidimensional arrays with _two_ numbers, row then column\n",
    "arr1[0,2]"
   ]
  },
  {
   "cell_type": "code",
   "execution_count": null,
   "metadata": {},
   "outputs": [],
   "source": [
    "arr2[1,0]"
   ]
  },
  {
   "cell_type": "code",
   "execution_count": null,
   "metadata": {},
   "outputs": [],
   "source": [
    "# You can slice too\n",
    "arr2[1, 0:2]"
   ]
  },
  {
   "cell_type": "code",
   "execution_count": null,
   "metadata": {},
   "outputs": [],
   "source": [
    "arr2[:, 1]"
   ]
  },
  {
   "cell_type": "code",
   "execution_count": null,
   "metadata": {
    "slideshow": {
     "slide_type": "fragment"
    }
   },
   "outputs": [],
   "source": [
    "# Check the shape of the array\n",
    "arr1.shape"
   ]
  },
  {
   "cell_type": "code",
   "execution_count": null,
   "metadata": {},
   "outputs": [],
   "source": [
    "# It's (rows, cols)\n",
    "arr2.shape"
   ]
  },
  {
   "cell_type": "markdown",
   "metadata": {
    "slideshow": {
     "slide_type": "slide"
    }
   },
   "source": [
    "#### Class Question #6\n",
    "\n",
    "What's the output?\n",
    "\n",
    "```python\n",
    "arr1 = np.array([[1, 2, 3],\n",
    "                 [4, 5, 6]])\n",
    "arr1[1,0]\n",
    "```\n",
    "\n",
    "- **(a)** 1\n",
    "- **(b)** 2\n",
    "- **(c)** 3\n",
    "- **(d)** 4\n",
    "- **(e)** 5"
   ]
  },
  {
   "cell_type": "markdown",
   "metadata": {
    "slideshow": {
     "slide_type": "slide"
    }
   },
   "source": [
    "#### Class Question #7\n",
    "\n",
    "What should go in the blank to get the number `6`?\n",
    "\n",
    "```python\n",
    "arr2 = np.array([[1, 2],\n",
    "                 [3, 4],\n",
    "                 [5, 6]])\n",
    "arr2[______]\n",
    "```\n",
    "\n",
    "- **(a)** `2,3`\n",
    "- **(b)** `3,2`\n",
    "- **(c)** `2,1`\n",
    "- **(d)** `1,2`\n",
    "- **(e)** `6`"
   ]
  },
  {
   "cell_type": "markdown",
   "metadata": {
    "slideshow": {
     "slide_type": "slide"
    }
   },
   "source": [
    "#### Class Question #8\n",
    "\n",
    "What's the output?\n",
    "\n",
    "```python\n",
    "arr1 = np.array([[1, 2, 3],\n",
    "                 [4, 5, 6]])\n",
    "arr1.shape\n",
    "```\n",
    "\n",
    "- **(a)** `(2, 3)`\n",
    "- **(b)** `(3, 2)`\n",
    "- **(c)** `(1, 2)`\n",
    "- **(d)** `(2, 1)`\n",
    "- **(e)** `6`"
   ]
  },
  {
   "cell_type": "markdown",
   "metadata": {
    "slideshow": {
     "slide_type": "slide"
    }
   },
   "source": [
    "### Some Matrix Operations"
   ]
  },
  {
   "cell_type": "code",
   "execution_count": null,
   "metadata": {},
   "outputs": [],
   "source": [
    "arr1 = np.array([[1, 2, 3],\n",
    "                 [4, 5, 6]])\n",
    "\n",
    "arr2 = np.array([[1, 2],\n",
    "                 [3, 4],\n",
    "                 [5, 6]])"
   ]
  },
  {
   "cell_type": "code",
   "execution_count": null,
   "metadata": {},
   "outputs": [],
   "source": [
    "arr1 * arr2 # will try to multiply element-wise, but the arrays aren't the same shape"
   ]
  },
  {
   "cell_type": "code",
   "execution_count": null,
   "metadata": {},
   "outputs": [],
   "source": [
    "# Matrix multiplication\n",
    "np.matmul(arr1, arr2)"
   ]
  },
  {
   "cell_type": "code",
   "execution_count": null,
   "metadata": {},
   "outputs": [],
   "source": [
    "np.matmul(arr2, arr1)"
   ]
  },
  {
   "cell_type": "code",
   "execution_count": null,
   "metadata": {},
   "outputs": [],
   "source": [
    "arr1 = np.array([[1, 2, 3],\n",
    "                 [4, 5, 6]])\n",
    "arr1.sum()"
   ]
  },
  {
   "cell_type": "code",
   "execution_count": null,
   "metadata": {},
   "outputs": [],
   "source": [
    "arr1.sum(axis=0)"
   ]
  },
  {
   "cell_type": "code",
   "execution_count": null,
   "metadata": {},
   "outputs": [],
   "source": [
    "arr1.sum(axis=1)"
   ]
  },
  {
   "cell_type": "code",
   "execution_count": null,
   "metadata": {
    "scrolled": true
   },
   "outputs": [],
   "source": [
    "# min, max, and mean work like this too\n",
    "arr1.mean(axis=0)"
   ]
  },
  {
   "cell_type": "markdown",
   "metadata": {
    "slideshow": {
     "slide_type": "slide"
    }
   },
   "source": [
    "#### Class Question #9\n",
    "\n",
    "What's the output?\n",
    "\n",
    "```python\n",
    "arr2 = np.array([[1, 2],\n",
    "                 [3, 4],\n",
    "                 [5, 6]])\n",
    "arr2.min(axis=1)\n",
    "```\n",
    "\n",
    "- **(a)** `1`\n",
    "- **(b)** `array([1, 2])`\n",
    "- **(c)** `array([9, 12])`\n",
    "- **(d)** `array([1, 3, 5])`\n",
    "- **(e)** `array([3, 6, 11])`"
   ]
  },
  {
   "cell_type": "markdown",
   "metadata": {
    "slideshow": {
     "slide_type": "slide"
    }
   },
   "source": [
    "### Other Array Notes"
   ]
  },
  {
   "cell_type": "code",
   "execution_count": null,
   "metadata": {
    "slideshow": {
     "slide_type": "fragment"
    }
   },
   "outputs": [],
   "source": [
    "# Need the same length in each list\n",
    "np.array([[1, 2, 3, 4], [2, 3, 4]])"
   ]
  },
  {
   "cell_type": "code",
   "execution_count": null,
   "metadata": {
    "slideshow": {
     "slide_type": "fragment"
    }
   },
   "outputs": [],
   "source": [
    "# Arrays are for \"homogeneous\" data (usually numbers).\n",
    "#\n",
    "# Here, the numbers are converted to strings to make the collection homogeneous (one data type).\n",
    "np.array([1, 2, 'cogs18', 4])"
   ]
  },
  {
   "cell_type": "markdown",
   "metadata": {},
   "source": [
    "Okay, that's enough about NumPy!"
   ]
  },
  {
   "cell_type": "markdown",
   "metadata": {
    "slideshow": {
     "slide_type": "slide"
    }
   },
   "source": [
    "## A brief aside: `zip()`"
   ]
  },
  {
   "cell_type": "markdown",
   "metadata": {},
   "source": [
    "`zip()` takes two iterables (things you can loop over) and loop over them together."
   ]
  },
  {
   "cell_type": "code",
   "execution_count": null,
   "metadata": {
    "slideshow": {
     "slide_type": "fragment"
    }
   },
   "outputs": [],
   "source": [
    "for a, b in zip([1,2], ['a','b']):\n",
    "    print(a, b)"
   ]
  },
  {
   "cell_type": "markdown",
   "metadata": {
    "collapsed": true,
    "slideshow": {
     "slide_type": "slide"
    }
   },
   "source": [
    "#### Class Question #10\n",
    "\n",
    "What will it print?\n",
    "\n",
    "```python\n",
    "data = np.array([[1, 2, 3, 4],\n",
    "                 [5, 6, 7, 8]])\n",
    " \n",
    "output = []\n",
    "for d1, d2 in zip(data[0, :], data[1, :]):\n",
    "    output.append(d1 + d2)\n",
    "\n",
    "print(output)\n",
    "```"
   ]
  },
  {
   "cell_type": "markdown",
   "metadata": {
    "collapsed": true,
    "slideshow": {
     "slide_type": "fragment"
    }
   },
   "source": [
    "- A) [1, 2, 3, 4]\n",
    "- B) [1, 2, 3, 4, 5, 6, 7, 8]\n",
    "- C) [6, 8, 10, 12]\n",
    "- D) [10, 26]\n",
    "- E) [36]"
   ]
  },
  {
   "cell_type": "markdown",
   "metadata": {
    "slideshow": {
     "slide_type": "slide"
    }
   },
   "source": [
    "(But if you find yourself looping over arrays...there is probably a better way with NumPy.)"
   ]
  },
  {
   "cell_type": "markdown",
   "metadata": {
    "slideshow": {
     "slide_type": "slide"
    }
   },
   "source": [
    "## Pandas is the Python library for spreadsheet-like data\n",
    "\n",
    "NumPy is for lots of numbers (1-D, 2-D, 3-D, or N-D arrays of numbers...or booleans).\n",
    "\n",
    "Pandas is for _tables_ of data. Stuff like this:\n",
    "\n",
    "| subject_id | score   | group | condition    |\n",
    "|------------|---------|-------|--------------|\n",
    "| '001'      | 16.5    | 1     | 'cognition'  |\n",
    "| '002'      | 21.0    | 2     | 'perception' |\n",
    "| '003'      | 18.1    | 1     | 'perception' |\n",
    "\n",
    "Unlike homogeneous arrays of numbers, table data...\n",
    "\n",
    "- may be both continuous (numeric) and categorical (discrete) in the same dataset\n",
    "- has labeled columns (and sometimes labeled rows)\n",
    "- may need different data types need to be stored (_heterogenous_ data)\n",
    "\n",
    "A table in pandas is called a \"dataframe\"."
   ]
  },
  {
   "cell_type": "code",
   "execution_count": null,
   "metadata": {
    "slideshow": {
     "slide_type": "slide"
    }
   },
   "outputs": [],
   "source": [
    "# Everyone imports Pandas as pd\n",
    "import pandas as pd"
   ]
  },
  {
   "cell_type": "code",
   "execution_count": null,
   "metadata": {
    "slideshow": {
     "slide_type": "fragment"
    }
   },
   "outputs": [],
   "source": [
    "# Create some example heterogenous data\n",
    "row1 = {'Subj_ID': '001', 'score': 16.5, 'group' : 2, 'condition': 'cognition'}\n",
    "row2 = {'Subj_ID': '002', 'score': 22.0, 'group' : 1, 'condition': 'perception'}\n",
    "row3 = {'Subj_ID': '003', 'score': 18.1, 'group' : 1, 'condition': 'perception'}"
   ]
  },
  {
   "cell_type": "code",
   "execution_count": null,
   "metadata": {
    "slideshow": {
     "slide_type": "fragment"
    }
   },
   "outputs": [],
   "source": [
    "# Create a dataframe\n",
    "df = pd.DataFrame([row1, row2, row3], [0, 1, 2]) # [0, 1, 2] are the row labels and can be omitted"
   ]
  },
  {
   "cell_type": "code",
   "execution_count": null,
   "metadata": {
    "scrolled": false,
    "slideshow": {
     "slide_type": "slide"
    }
   },
   "outputs": [],
   "source": [
    "# Check out the dataframe\n",
    "df"
   ]
  },
  {
   "cell_type": "code",
   "execution_count": null,
   "metadata": {
    "scrolled": true,
    "slideshow": {
     "slide_type": "fragment"
    }
   },
   "outputs": [],
   "source": [
    "# You can index in pandas\n",
    "# columns store information in \"series\"\n",
    "df['condition']"
   ]
  },
  {
   "cell_type": "code",
   "execution_count": null,
   "metadata": {},
   "outputs": [],
   "source": [
    "# Like NumPy, you can index using a list, here we grab two columns\n",
    "df[['score','group']]"
   ]
  },
  {
   "cell_type": "code",
   "execution_count": null,
   "metadata": {
    "scrolled": false,
    "slideshow": {
     "slide_type": "fragment"
    }
   },
   "outputs": [],
   "source": [
    "# loc specifies row, column position\n",
    "df.loc[0, :]"
   ]
  },
  {
   "cell_type": "code",
   "execution_count": null,
   "metadata": {},
   "outputs": [],
   "source": [
    "# Or\n",
    "df.loc[0]"
   ]
  },
  {
   "cell_type": "code",
   "execution_count": null,
   "metadata": {},
   "outputs": [],
   "source": [
    "# To grab multiple rows, df[[0,0,1]] does not work.\n",
    "# Need to use loc\n",
    "df.loc[[0,0,1], :]"
   ]
  },
  {
   "cell_type": "code",
   "execution_count": null,
   "metadata": {},
   "outputs": [],
   "source": [
    "# Same\n",
    "df.loc[[0,0,1]]"
   ]
  },
  {
   "cell_type": "code",
   "execution_count": null,
   "metadata": {
    "slideshow": {
     "slide_type": "fragment"
    }
   },
   "outputs": [],
   "source": [
    "# Shape, in (rows, columns) like NumPy\n",
    "df.shape"
   ]
  },
  {
   "cell_type": "code",
   "execution_count": null,
   "metadata": {
    "slideshow": {
     "slide_type": "fragment"
    }
   },
   "outputs": [],
   "source": [
    "# how many rows there are in a series/df\n",
    "df.shape[0] # len(df) would also work"
   ]
  },
  {
   "cell_type": "markdown",
   "metadata": {
    "slideshow": {
     "slide_type": "slide"
    }
   },
   "source": [
    "As we are seeing, **dataframes**:\n",
    "\n",
    "- are a data structure for labeled rows and columns of data\n",
    "- have associated methods for working with data.\n",
    "- are arranged by columns, each of which is a Pandas **Series**\n",
    "\n",
    "There are *a lot* of functions and methods within pandas. The general syntax is `df.method()` where the `method()` operates directly on the dataframe `df`."
   ]
  },
  {
   "cell_type": "code",
   "execution_count": null,
   "metadata": {
    "slideshow": {
     "slide_type": "fragment"
    }
   },
   "outputs": [],
   "source": [
    "# calculate summary statistics\n",
    "df.describe()"
   ]
  },
  {
   "cell_type": "code",
   "execution_count": null,
   "metadata": {
    "slideshow": {
     "slide_type": "fragment"
    }
   },
   "outputs": [],
   "source": [
    "# Get the max of a column\n",
    "df['score'].max()"
   ]
  },
  {
   "cell_type": "code",
   "execution_count": null,
   "metadata": {
    "slideshow": {
     "slide_type": "fragment"
    }
   },
   "outputs": [],
   "source": [
    "# Take the average of the two numeric columns\n",
    "df[['score','group']].mean()"
   ]
  },
  {
   "cell_type": "code",
   "execution_count": null,
   "metadata": {
    "scrolled": true,
    "slideshow": {
     "slide_type": "fragment"
    }
   },
   "outputs": [],
   "source": [
    "# Edit values within a column and replace original values.\n",
    "#\n",
    "# The general form is:\n",
    "#\n",
    "# df[column] = some list or array of the same length\n",
    "\n",
    "df['Subj_ID'] = df['Subj_ID'].replace('00', '000', regex=True)\n",
    "df['Subj_ID']"
   ]
  },
  {
   "cell_type": "code",
   "execution_count": null,
   "metadata": {
    "slideshow": {
     "slide_type": "fragment"
    }
   },
   "outputs": [],
   "source": [
    "# specify the type of a variable in a column\n",
    "df['group'] = df['group'].astype(float)\n",
    "df['group']"
   ]
  },
  {
   "cell_type": "code",
   "execution_count": null,
   "metadata": {},
   "outputs": [],
   "source": [
    "# To add a new column, just assign to a new name.\n",
    "# The new column can be whatever, as long as it's the right length.\n",
    "# Here we add the subject id as an integer:\n",
    "\n",
    "df['my_new_column'] = df['Subj_ID'].astype(int)\n",
    "df"
   ]
  },
  {
   "cell_type": "code",
   "execution_count": null,
   "metadata": {
    "slideshow": {
     "slide_type": "fragment"
    }
   },
   "outputs": [],
   "source": [
    "# breakdown of how many of each category there are\n",
    "val_counts = df['condition'].value_counts()\n",
    "val_counts"
   ]
  },
  {
   "cell_type": "code",
   "execution_count": null,
   "metadata": {
    "slideshow": {
     "slide_type": "fragment"
    }
   },
   "outputs": [],
   "source": [
    "# which unique values are there in condition? \n",
    "df['condition'].unique()"
   ]
  },
  {
   "cell_type": "code",
   "execution_count": null,
   "metadata": {
    "slideshow": {
     "slide_type": "fragment"
    }
   },
   "outputs": [],
   "source": [
    "# how many unique values are there\n",
    "df['condition'].nunique()"
   ]
  },
  {
   "cell_type": "code",
   "execution_count": null,
   "metadata": {
    "slideshow": {
     "slide_type": "fragment"
    }
   },
   "outputs": [],
   "source": [
    "# what's the category that shows up the most \n",
    "val_counts = df['condition'].value_counts()\n",
    "val_counts.idxmax()"
   ]
  },
  {
   "cell_type": "code",
   "execution_count": null,
   "metadata": {
    "slideshow": {
     "slide_type": "fragment"
    }
   },
   "outputs": [],
   "source": [
    "# what's the count of the value that shows up the most\n",
    "val_counts.max()"
   ]
  },
  {
   "cell_type": "markdown",
   "metadata": {
    "slideshow": {
     "slide_type": "slide"
    }
   },
   "source": [
    "#### Class Question #11\n",
    "\n",
    "Comparing them to standard library Python types, which is the best mapping for these new data types?\n",
    "\n",
    "- A) DataFrames are like lists, arrays are like tuples\n",
    "- B) DataFrames and arrays are like lists\n",
    "- C) DataFrames are like tuples, arrays are like lists\n",
    "- D) DataFrames and arrays are like dictionaries\n",
    "- E) Dataframes are like dictionaries, arrays are like lists"
   ]
  },
  {
   "cell_type": "markdown",
   "metadata": {
    "slideshow": {
     "slide_type": "slide"
    }
   },
   "source": [
    "## Matplotlib is for scientific plotting\n",
    "\n",
    "It's almost universally regarded as clumsy to use.\n",
    "\n",
    "Nevertheless, it's really flexible, which is why I use it anyway.\n",
    "\n",
    "It's also built in to pandas with `df.plot()`\n",
    "\n",
    "**You may, and in fact are encouraged to, use ChatGPT to generate your matplotlib code. The matplotlib API is so unlearnable there is no pedagogical value in trying to teach it.**\n",
    "\n",
    "Here's the briefest teaser of matplotlib:"
   ]
  },
  {
   "cell_type": "code",
   "execution_count": null,
   "metadata": {
    "slideshow": {
     "slide_type": "fragment"
    }
   },
   "outputs": [],
   "source": [
    "# The standard import incantation:\n",
    "\n",
    "import matplotlib.pyplot as plt\n",
    "import matplotlib as mpl"
   ]
  },
  {
   "cell_type": "code",
   "execution_count": null,
   "metadata": {
    "slideshow": {
     "slide_type": "fragment"
    }
   },
   "outputs": [],
   "source": [
    "# Create some data\n",
    "import numpy as np\n",
    "dat = np.array([1, 2, 4, 8, 16, 32])"
   ]
  },
  {
   "cell_type": "code",
   "execution_count": null,
   "metadata": {
    "slideshow": {
     "slide_type": "-"
    }
   },
   "outputs": [],
   "source": [
    "# Plot the data\n",
    "plt.plot(dat)"
   ]
  },
  {
   "cell_type": "code",
   "execution_count": null,
   "metadata": {},
   "outputs": [],
   "source": [
    "# Or, as a bar chart.\n",
    "#\n",
    "# The bar function wants X-Positions, Heights\n",
    "\n",
    "x_positions = np.arange(len(dat)) # [0, 1, 2, 3, 4, 5]\n",
    "\n",
    "plt.bar(x_positions, dat)"
   ]
  },
  {
   "cell_type": "markdown",
   "metadata": {
    "slideshow": {
     "slide_type": "fragment"
    }
   },
   "source": [
    "_Many_ plot types are available.\n",
    "\n",
    "_Lots_ of customizations is possible. Otherwise, matplotlib would have been forgotten long ago.\n",
    "\n",
    "Again, try using ChatGPT for generating matplotlib plots. (Show it some of your code and ask it to plot.)"
   ]
  },
  {
   "cell_type": "markdown",
   "metadata": {
    "slideshow": {
     "slide_type": "slide"
    }
   },
   "source": [
    "## SciPy is for statistical analysis\n",
    "\n",
    "For normal distributions, hypothesis testing, etc.\n",
    "\n",
    "Use SciPy if you need probability distributions or need to calculate statistical significance.\n",
    "\n",
    "A _brief_ demo:"
   ]
  },
  {
   "cell_type": "code",
   "execution_count": null,
   "metadata": {
    "slideshow": {
     "slide_type": "fragment"
    }
   },
   "outputs": [],
   "source": [
    "import scipy as sp\n",
    "from scipy import stats"
   ]
  },
  {
   "cell_type": "code",
   "execution_count": null,
   "metadata": {
    "slideshow": {
     "slide_type": "-"
    }
   },
   "outputs": [],
   "source": [
    "# Simulate some data\n",
    "d1 = stats.norm.rvs(loc=0, size=1000)\n",
    "d2 = stats.norm.rvs(loc=0.5, size=1000)"
   ]
  },
  {
   "cell_type": "code",
   "execution_count": null,
   "metadata": {
    "slideshow": {
     "slide_type": "fragment"
    }
   },
   "outputs": [],
   "source": [
    "# Plot the data\n",
    "plt.hist(d1, 25, alpha=0.6);\n",
    "plt.hist(d2, 25, alpha=0.6);"
   ]
  },
  {
   "cell_type": "code",
   "execution_count": null,
   "metadata": {
    "scrolled": false,
    "slideshow": {
     "slide_type": "fragment"
    }
   },
   "outputs": [],
   "source": [
    "# Statistically compare the two distributions with a t-test\n",
    "stats.ttest_ind(d1, d2)"
   ]
  },
  {
   "cell_type": "code",
   "execution_count": null,
   "metadata": {},
   "outputs": [],
   "source": [
    "# Wow, that's a reeeaaaally low p-value! Must not be the same distribution.\n",
    "stats.ttest_ind(d1, d2).pvalue"
   ]
  },
  {
   "cell_type": "markdown",
   "metadata": {
    "slideshow": {
     "slide_type": "slide"
    }
   },
   "source": [
    "## Scikit-Learn is for machine learning\n",
    "\n",
    "Machine learning (ML) is trying to predict some target property from other input properties.\n",
    "\n",
    "ML does not have to be fancy deep neural networks.\n",
    "\n",
    "Again, just a brief demo. Let's try a quick linear regression."
   ]
  },
  {
   "cell_type": "markdown",
   "metadata": {},
   "source": [
    "Our data from before:"
   ]
  },
  {
   "cell_type": "code",
   "execution_count": null,
   "metadata": {},
   "outputs": [],
   "source": [
    "import pandas as pd\n",
    "\n",
    "row1 = {'Subj_ID': '001', 'score': 16.5, 'group' : 2, 'condition': 'cognition'}\n",
    "row2 = {'Subj_ID': '002', 'score': 22.0, 'group' : 1, 'condition': 'perception'}\n",
    "row3 = {'Subj_ID': '003', 'score': 18.1, 'group' : 1, 'condition': 'perception'}\n",
    "\n",
    "df = pd.DataFrame([row1, row2, row3])\n",
    "df"
   ]
  },
  {
   "cell_type": "markdown",
   "metadata": {},
   "source": [
    "Let's try to predict `score`, based on `group` and `condition`.\n",
    "\n",
    "The inputs and outputs need to be numeric, so for `condition` we will code `'cognition'` as `0` and `'perception'` as `1`."
   ]
  },
  {
   "cell_type": "code",
   "execution_count": null,
   "metadata": {},
   "outputs": [],
   "source": [
    "# Remember this sort of thing?\n",
    "df['condition'] == 'perception'"
   ]
  },
  {
   "cell_type": "code",
   "execution_count": null,
   "metadata": {},
   "outputs": [],
   "source": [
    "(df['condition'] == 'perception').astype(int)"
   ]
  },
  {
   "cell_type": "code",
   "execution_count": null,
   "metadata": {},
   "outputs": [],
   "source": [
    "# Remember we add a new column by assigning a list/array to a new column name.\n",
    "\n",
    "df['condition_as_indicator'] = (df['condition'] == 'perception').astype(int)\n",
    "df"
   ]
  },
  {
   "cell_type": "code",
   "execution_count": null,
   "metadata": {},
   "outputs": [],
   "source": [
    "# Traditionally, the input for ML is called X\n",
    "\n",
    "X = df[['group', 'condition_as_indicator']]\n",
    "X"
   ]
  },
  {
   "cell_type": "code",
   "execution_count": null,
   "metadata": {},
   "outputs": [],
   "source": [
    "# And the target is called y\n",
    "\n",
    "y = df['score']\n",
    "y"
   ]
  },
  {
   "cell_type": "code",
   "execution_count": null,
   "metadata": {},
   "outputs": [],
   "source": [
    "# Train a simple linear model to predict y from X\n",
    "\n",
    "from sklearn import linear_model\n",
    "\n",
    "reg = linear_model.LinearRegression()\n",
    "\n",
    "reg.fit(X, y) # this does the training\n",
    "\n",
    "# The trained model is stored in reg\n",
    "\n",
    "print('The regression coefficients: ', reg.coef_)\n",
    "print('The regression intercept: ', reg.intercept_)\n",
    "print()\n",
    "print('That is, we predict:')\n",
    "print('score = ', reg.coef_[0], '* group + ', reg.coef_[1], '* condition_as_indicator + ', reg.intercept_)"
   ]
  },
  {
   "cell_type": "code",
   "execution_count": null,
   "metadata": {},
   "outputs": [],
   "source": [
    "# Put the predictions back in the dataframe as \"predicted_score\" so we can see it all together.\n",
    "#\n",
    "# The predict() method predicts using the trained model\n",
    "\n",
    "X = df[['group', 'condition_as_indicator']]\n",
    "\n",
    "df['predicted_score'] = reg.predict(X)\n",
    "df"
   ]
  },
  {
   "cell_type": "markdown",
   "metadata": {
    "collapsed": true,
    "slideshow": {
     "slide_type": "fragment"
    }
   },
   "source": [
    "### COGS 108: Data Science in Practice\n",
    "\n",
    "<div class=\"alert alert-info\">\n",
    "If you are interested in data science and scientific computing in Python, consider taking <b>COGS 108</b> : <a>https://github.com/COGS108/</a>.\n",
    "</div>"
   ]
  },
  {
   "cell_type": "markdown",
   "metadata": {
    "slideshow": {
     "slide_type": "slide"
    }
   },
   "source": [
    "## Scientific Computing Recap\n",
    "\n",
    "Today's goal was to look at these _briefly_, so you have an idea of _when_ to reach for them.\n",
    "\n",
    "- `numpy` - for lists of numbers\n",
    "- `pandas` - for tables of heterogenious data (i.e. not just numbers)\n",
    "- `scipy` - for probability distributions and statistical analysis\n",
    "- `sklearn` - for machine learning\n",
    "\n",
    "To actually use these you will have to Google your questions and/or read the docs. Honestly, that's what real-world programming is. You cannot memorize everything."
   ]
  }
 ],
 "metadata": {
  "kernelspec": {
   "display_name": "Python 3 (ipykernel)",
   "language": "python",
   "name": "python3"
  },
  "language_info": {
   "codemirror_mode": {
    "name": "ipython",
    "version": 3
   },
   "file_extension": ".py",
   "mimetype": "text/x-python",
   "name": "python",
   "nbconvert_exporter": "python",
   "pygments_lexer": "ipython3",
   "version": "3.11.6"
  },
  "rise": {
   "scroll": true
  }
 },
 "nbformat": 4,
 "nbformat_minor": 2
}
