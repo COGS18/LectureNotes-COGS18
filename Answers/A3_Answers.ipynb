{
 "cells": [
  {
   "cell_type": "markdown",
   "metadata": {
    "nbgrader": {
     "grade": false,
     "grade_id": "cell-08eae0a733656950",
     "locked": true,
     "schema_version": 3,
     "solution": false
    }
   },
   "source": [
    "# Assignment 3: Chatbots\n",
    "\n",
    "This assignment is out of 8 points, worth 7% of your grade.\n",
    "\n",
    "This assignment focuses on loops and functions and builds up to the application of Chatbots. \n",
    "\n",
    "**PLEASE DO NOT CHANGE THE NAME OF THIS FILE.**\n",
    "\n",
    "**PLEASE DO NOT COPY & PASTE OR DELETE CELLS INLCUDED IN THE ASSIGNMENT.**"
   ]
  },
  {
   "cell_type": "markdown",
   "metadata": {
    "nbgrader": {
     "grade": false,
     "grade_id": "cell-a58f937c696fa18d",
     "locked": true,
     "schema_version": 3,
     "solution": false
    }
   },
   "source": [
    "## Overview\n",
    "\n",
    "Make sure you delete `raise NotImplementedError()` whenever you see it in the assignment, replacing it with your code for the question. To have the best chance at receiving full credit, be sure your completed assignment passes all the asserts. This assignment also has hidden tests - which means that passing all the asserts you see does not guarantee that you have the correct answer! Make sure to double check and re-run your code to make sure it does what you expect."
   ]
  },
  {
   "cell_type": "markdown",
   "metadata": {
    "nbgrader": {
     "grade": false,
     "grade_id": "cell-ed15de2db2bbc5c0",
     "locked": true,
     "schema_version": 3,
     "solution": false
    }
   },
   "source": [
    "### Quick Tips\n",
    "\n",
    "Make sure you execute your code to define the functions you write, and then add a new cell to apply your function to different inputs, and check that you get the outputs you expect. \n",
    "\n",
    "If you're not sure where to start, look at the code in the test cases (in the asserts) for examples of what kind of inputs and outputs the function you are writing should take, and what kind of behavior it should have.\n",
    "\n",
    "Keep in mind that each question is mostly independent from every other - so if you get stuck on something, you can always move on to the next one, and come back to any that you have trouble with later."
   ]
  },
  {
   "cell_type": "markdown",
   "metadata": {
    "nbgrader": {
     "grade": false,
     "grade_id": "cell-564134b0a1d0a91a",
     "locked": true,
     "schema_version": 3,
     "solution": false
    }
   },
   "source": [
    "## Setup"
   ]
  },
  {
   "cell_type": "markdown",
   "metadata": {
    "nbgrader": {
     "grade": false,
     "grade_id": "cell-07c8f958ea9f47b5",
     "locked": true,
     "schema_version": 3,
     "solution": false
    }
   },
   "source": [
    "#### Code Imports\n",
    "\n",
    "<span style=\"color:red\">You must run the following cell before proceeding with the assignment.</span>"
   ]
  },
  {
   "cell_type": "code",
   "execution_count": null,
   "metadata": {
    "nbgrader": {
     "grade": false,
     "grade_id": "cell-d79eb9b76b42d8ac",
     "locked": true,
     "schema_version": 3,
     "solution": false
    }
   },
   "outputs": [],
   "source": [
    "# Setup - run this cell before doing the next part of the assignment\n",
    "#   This imports some extra code, making it available for us to use later\n",
    "import string\n",
    "import random\n",
    "import nltk"
   ]
  },
  {
   "cell_type": "markdown",
   "metadata": {
    "nbgrader": {
     "grade": false,
     "grade_id": "cell-467c5c2c4995c775",
     "locked": true,
     "schema_version": 3,
     "solution": false
    }
   },
   "source": [
    "### Zen Chatbot\n",
    "\n",
    "In this assignment, we will be working our way up to building a chatbot.\n",
    "\n",
    "To start with, we can have a quick chat with a zen chatbot to see what these kinds of chatbots look like. \n",
    "\n",
    "Also, if you get stuck on anything, come back here and talk to the Zen chatbot to relax :)\n",
    "\n",
    "Note: in this, and other chatbot lines, running this code will start an open-ended while loop, that will interrupt your code flow until you explicitly quit out of the conversation. If you want to be able to run all your code (from kernel `restart & run all`), then comment these lines back out when you are finished exploring them. "
   ]
  },
  {
   "cell_type": "code",
   "execution_count": null,
   "metadata": {},
   "outputs": [],
   "source": [
    "# Uncomment and run the line of code in this cell to talk to a Zan Chatbot\n",
    "# when you're done with your chat, type 'quit'\n",
    "# nltk.chat.zen.demo()"
   ]
  },
  {
   "cell_type": "markdown",
   "metadata": {
    "nbgrader": {
     "grade": false,
     "grade_id": "cell-67c76df06249fd85",
     "locked": true,
     "schema_version": 3,
     "solution": false
    }
   },
   "source": [
    "## Part 1: Loops\n",
    "\n",
    "This part covers using loops. \n",
    "\n",
    "Note that you should NOT define functions for the questions in this section."
   ]
  },
  {
   "cell_type": "markdown",
   "metadata": {
    "nbgrader": {
     "grade": false,
     "grade_id": "cell-6787a1cddd91c8e2",
     "locked": true,
     "schema_version": 3,
     "solution": false
    }
   },
   "source": [
    "### Q1 - `for` Loop (0.5 points)\n",
    "\n",
    "What is the sum of all even numbers between 20 and 50 (inclusive)?\n",
    "\n",
    "Answer this question using a for loop, and using `range`. \n",
    "\n",
    "Save the result out to a variable called `sum_result`. "
   ]
  },
  {
   "cell_type": "code",
   "execution_count": null,
   "metadata": {
    "nbgrader": {
     "grade": false,
     "grade_id": "cell-749ae260cbdc082d",
     "locked": false,
     "schema_version": 3,
     "solution": true
    }
   },
   "outputs": [],
   "source": [
    "sum_result = 0\n",
    "for number in range(20, 51, 2):\n",
    "    sum_result = sum_result + number\n"
   ]
  },
  {
   "cell_type": "code",
   "execution_count": null,
   "metadata": {
    "nbgrader": {
     "grade": true,
     "grade_id": "cell-6b415de65a9332be",
     "locked": true,
     "points": 0.5,
     "schema_version": 3,
     "solution": false
    }
   },
   "outputs": [],
   "source": [
    "assert type(sum_result) == int\n",
    "\n"
   ]
  },
  {
   "cell_type": "markdown",
   "metadata": {
    "nbgrader": {
     "grade": false,
     "grade_id": "cell-c300db24a54d4a1c",
     "locked": true,
     "schema_version": 3,
     "solution": false
    }
   },
   "source": [
    "### Q2 - `while` Loop (0.5 points)\n",
    "\n",
    "Write a while loop that adds the first 50 numbers (from 1 to 50, inclusive) together.\n",
    "\n",
    "To do so, use a `while` loop that continues while the condition of `cur_num` being less than or equal to `stop_num` is `True`. \n",
    "\n",
    "Inside the loop, it should add `cur_num` to the running `total` variable, and then add 1 to `cur_num`. \n",
    "\n",
    "Make sure to check at the end that the value of `total` reflects the total summation. "
   ]
  },
  {
   "cell_type": "code",
   "execution_count": null,
   "metadata": {
    "nbgrader": {
     "grade": false,
     "grade_id": "cell-fdabc8d0323473dd",
     "locked": false,
     "schema_version": 3,
     "solution": true
    }
   },
   "outputs": [],
   "source": [
    "# These variables provided for you - use them in your solution\n",
    "total = 0\n",
    "cur_num = 1\n",
    "stop_num = 50\n",
    "\n",
    "while cur_num <= stop_num:\n",
    "    total = total + cur_num\n",
    "    cur_num = cur_num + 1\n"
   ]
  },
  {
   "cell_type": "code",
   "execution_count": null,
   "metadata": {
    "nbgrader": {
     "grade": true,
     "grade_id": "cell-f6513546d3afb423",
     "locked": true,
     "points": 0.25,
     "schema_version": 3,
     "solution": false
    }
   },
   "outputs": [],
   "source": [
    "assert type(cur_num) == int\n",
    "assert type(total) == int\n",
    "\n",
    "# This will check that the `cur_num` increment variable ended at the right value\n",
    "assert cur_num == 51"
   ]
  },
  {
   "cell_type": "code",
   "execution_count": null,
   "metadata": {
    "nbgrader": {
     "grade": true,
     "grade_id": "cell-16673b5754d8321e",
     "locked": true,
     "points": 0.25,
     "schema_version": 3,
     "solution": false,
     "task": false
    }
   },
   "outputs": [],
   "source": [
    "# hidden test to check the corret value is stored  in total\n"
   ]
  },
  {
   "cell_type": "markdown",
   "metadata": {
    "nbgrader": {
     "grade": false,
     "grade_id": "cell-725bfa3cd3b18281",
     "locked": true,
     "schema_version": 3,
     "solution": false
    }
   },
   "source": [
    "### Example: `append`\n",
    "\n",
    "The following cell gives an example of the `append` method for lists that we discussed in lecture as a reminder:\n",
    "\n",
    "To add an item, `my_item`, to the end of an existing list, `my_list`, you can use `my_list.append(my_item)`"
   ]
  },
  {
   "cell_type": "code",
   "execution_count": null,
   "metadata": {
    "nbgrader": {
     "grade": false,
     "grade_id": "cell-ed0ba20eb0e3b5a2",
     "locked": true,
     "schema_version": 3,
     "solution": false
    }
   },
   "outputs": [],
   "source": [
    "# Example of appending to a list\n",
    "my_list = ['a', 12, None]\n",
    "\n",
    "print('Before Append: ', my_list)\n",
    "\n",
    "# append True to my_list\n",
    "my_list.append(True)\n",
    "\n",
    "print('After  Append: ', my_list)"
   ]
  },
  {
   "cell_type": "code",
   "execution_count": null,
   "metadata": {
    "nbgrader": {
     "grade": false,
     "grade_id": "cell-7f4539e95e27279e",
     "locked": true,
     "schema_version": 3,
     "solution": false
    }
   },
   "outputs": [],
   "source": [
    "# Example of using append with loops\n",
    "list_of_values = [0, 1, 2, 3]\n",
    "\n",
    "# Initialize an empty list that will be used to store outputs\n",
    "outputs = []\n",
    "\n",
    "# Loop through all items in `list_of_items`\n",
    "for item in list_of_values:\n",
    "    \n",
    "    # Add incremented item to the list of outputs\n",
    "    outputs.append(item + 1)\n",
    "\n",
    "# Check what outputs ends up as\n",
    "print(outputs)"
   ]
  },
  {
   "cell_type": "markdown",
   "metadata": {
    "nbgrader": {
     "grade": false,
     "grade_id": "cell-2cc1336ae40f8b46",
     "locked": true,
     "schema_version": 3,
     "solution": false
    }
   },
   "source": [
    "### Q3 - Loops: Multiplication (0.5 points)\n",
    "\n",
    "Using the provided variable `num_list`, write a for loop to loop across each value, multiplying it by -1. \n",
    "\n",
    "Store the result for each value in a list called `eval_1` by defining `eval_1` before the loop and using `append` inside the loop. "
   ]
  },
  {
   "cell_type": "code",
   "execution_count": null,
   "metadata": {
    "nbgrader": {
     "grade": false,
     "grade_id": "cell-641140b560032dba",
     "locked": true,
     "schema_version": 3,
     "solution": false
    }
   },
   "outputs": [],
   "source": [
    "# This creates a list of all numbers from 1-12, inclusive\n",
    "num_list = list(range(1, 13))"
   ]
  },
  {
   "cell_type": "code",
   "execution_count": null,
   "metadata": {
    "nbgrader": {
     "grade": false,
     "grade_id": "cell-c3c8595879347f24",
     "locked": false,
     "schema_version": 3,
     "solution": true
    }
   },
   "outputs": [],
   "source": [
    "eval_1 = []\n",
    "for item in num_list:\n",
    "    eval_1.append(item * -1)\n"
   ]
  },
  {
   "cell_type": "code",
   "execution_count": null,
   "metadata": {
    "nbgrader": {
     "grade": true,
     "grade_id": "cell-09e1d8d99d175d45",
     "locked": true,
     "points": 0.5,
     "schema_version": 3,
     "solution": false
    }
   },
   "outputs": [],
   "source": [
    "assert type(eval_1) == list\n",
    "assert type(eval_1[0]) == int\n",
    "\n"
   ]
  },
  {
   "cell_type": "markdown",
   "metadata": {
    "nbgrader": {
     "grade": false,
     "grade_id": "cell-a3a7547d21a6280e",
     "locked": true,
     "schema_version": 3,
     "solution": false
    }
   },
   "source": [
    "### Example: Looping through Dictionaries"
   ]
  },
  {
   "cell_type": "code",
   "execution_count": null,
   "metadata": {
    "nbgrader": {
     "grade": false,
     "grade_id": "cell-bd6757d215cb7de1",
     "locked": true,
     "schema_version": 3,
     "solution": false
    }
   },
   "outputs": [],
   "source": [
    "# This example of looping through dictionaries provided\n",
    "dictionary = {\n",
    "    'key1' : 'value1', \n",
    "    'key2' : 'value2'\n",
    "}\n",
    "\n",
    "for item in dictionary:\n",
    "    \n",
    "    # When you loop through a dictionary like this, `item` is the key \n",
    "    key = item\n",
    "    \n",
    "    # Using the key, you can access the associated value of the dictionary from within the loop\n",
    "    value = dictionary[item]\n",
    "    \n",
    "    # Print out data for each loop iteration\n",
    "    print('New Loop Iteration')\n",
    "    print('\\tKey is:\\t', item)\n",
    "    print('\\tVal is:\\t', value)"
   ]
  },
  {
   "cell_type": "markdown",
   "metadata": {
    "nbgrader": {
     "grade": false,
     "grade_id": "cell-1694dc598d6bbca5",
     "locked": true,
     "schema_version": 3,
     "solution": false
    }
   },
   "source": [
    "### Q4 - Loops: Dictionaries (0.5 points)\n",
    "\n",
    "Using the `subjects` dictionary, write a for loop that loops across the dictionary and collects all subject numbers (ex. 'S1') where the dictionary value is True. \n",
    "\n",
    "Imagine, for example, the dictionary indicates whether processing is complete, and we wanted to get a list of the subjects where processing is complete. \n",
    "\n",
    "To answer this question, use a for loop across the `subjects` dictionary. You then need to get the associated value in each iteration and check if it is `True`. If it is `False`, you can use `continue` to skip ahead to the next iteration. Otherwise, append the subject number (ex 'S2') to a list called `finished`. "
   ]
  },
  {
   "cell_type": "code",
   "execution_count": null,
   "metadata": {
    "nbgrader": {
     "grade": false,
     "grade_id": "cell-5bf21a3d8e202cdd",
     "locked": true,
     "schema_version": 3,
     "solution": false
    }
   },
   "outputs": [],
   "source": [
    "# This dictionary provided for you\n",
    "subjects = {\n",
    "    'S1' : True,\n",
    "    'S2' : False,\n",
    "    'S3' : True,\n",
    "    'S4' : False,\n",
    "}"
   ]
  },
  {
   "cell_type": "code",
   "execution_count": null,
   "metadata": {
    "nbgrader": {
     "grade": false,
     "grade_id": "cell-1118d6a4ac43e87d",
     "locked": false,
     "schema_version": 3,
     "solution": true
    }
   },
   "outputs": [],
   "source": [
    "finished = []\n",
    "for subject in subjects:\n",
    "    \n",
    "    if subjects[subject] == False:\n",
    "        continue\n",
    "    else:\n",
    "        finished.append(subject)\n"
   ]
  },
  {
   "cell_type": "code",
   "execution_count": null,
   "metadata": {
    "nbgrader": {
     "grade": true,
     "grade_id": "cell-36d719f579df1fe3",
     "locked": true,
     "points": 0.25,
     "schema_version": 3,
     "solution": false
    }
   },
   "outputs": [],
   "source": [
    "assert type(finished) == list\n",
    "assert len(finished) == 2"
   ]
  },
  {
   "cell_type": "code",
   "execution_count": null,
   "metadata": {
    "nbgrader": {
     "grade": true,
     "grade_id": "cell-808d35d9c1be0997",
     "locked": true,
     "points": 0.25,
     "schema_version": 3,
     "solution": false,
     "task": false
    }
   },
   "outputs": [],
   "source": [
    "# hidden test to check that the correct list is returned\n"
   ]
  },
  {
   "cell_type": "markdown",
   "metadata": {},
   "source": [
    "## Part 2: Functions\n",
    "\n",
    "Here, we'll define and execute a number of functions, a number of which will be used in Part 3"
   ]
  },
  {
   "cell_type": "markdown",
   "metadata": {
    "nbgrader": {
     "grade": false,
     "grade_id": "cell-eb367ec505b710ab",
     "locked": true,
     "schema_version": 3,
     "solution": false
    }
   },
   "source": [
    "### Q5 - Functions & Loops: Division (0.5 points)\n",
    "\n",
    "Write a function `div_3()` that will find all the values from the input parameter `data_list` that are perfectly divisible by 3. \n",
    "\n",
    "Use a for loop with a conditional to do this inside your function, and save any values from `data_list` that meet this condition into a new list `output`, which is `return`ed from the function.  "
   ]
  },
  {
   "cell_type": "code",
   "execution_count": null,
   "metadata": {
    "nbgrader": {
     "grade": false,
     "grade_id": "cell-b3adf3ba9e29eb9f",
     "locked": false,
     "schema_version": 3,
     "solution": true
    }
   },
   "outputs": [],
   "source": [
    "def div_3(data_list):\n",
    "    output = []\n",
    "    \n",
    "    for number in data_list:\n",
    "        if number % 3 == 0:\n",
    "            output.append(number)\n",
    "            \n",
    "    return output\n",
    "\n"
   ]
  },
  {
   "cell_type": "code",
   "execution_count": null,
   "metadata": {},
   "outputs": [],
   "source": [
    "# you can use this cell to test/execute/check your thinking (optional)"
   ]
  },
  {
   "cell_type": "code",
   "execution_count": null,
   "metadata": {
    "nbgrader": {
     "grade": true,
     "grade_id": "cell-bb9b4796b7db8253",
     "locked": true,
     "points": 0.5,
     "schema_version": 3,
     "solution": false
    }
   },
   "outputs": [],
   "source": [
    "# define list to use in testing\n",
    "test_list = [-1, 20, -100, -44, 33, 97, -101, 45, -79, 96]\n",
    "\n",
    "assert callable(div_3)\n",
    "assert type(div_3(test_list)) == list\n",
    "assert len(div_3(test_list)) == 3\n",
    "\n"
   ]
  },
  {
   "cell_type": "markdown",
   "metadata": {
    "nbgrader": {
     "grade": false,
     "grade_id": "cell-73a2d63f3ccd671f",
     "locked": true,
     "schema_version": 3,
     "solution": false
    }
   },
   "source": [
    "### Q6 - Functions & Loops: Odd or Even (0.5 points)\n",
    "\n",
    "Write a function `is_even()` which will check whether the values in your input parameter (`data_list`) are even or odd. \n",
    "\n",
    "Specifically, for each value, it should add `True` to a new list `output_list` if the value is even, and `False` to `output_list` if the value is odd. \n",
    "\n",
    "Be sure to `return` `output_list` from the function."
   ]
  },
  {
   "cell_type": "code",
   "execution_count": null,
   "metadata": {
    "nbgrader": {
     "grade": false,
     "grade_id": "cell-af4c9eabb79396f1",
     "locked": false,
     "schema_version": 3,
     "solution": true
    }
   },
   "outputs": [],
   "source": [
    "def is_even(data_list):\n",
    "    output_list = []\n",
    "    for item in data_list:\n",
    "        if item % 2 == 0:\n",
    "            output_list.append(True)\n",
    "        else:\n",
    "            output_list.append(False)\n",
    "    \n",
    "    return output_list\n"
   ]
  },
  {
   "cell_type": "code",
   "execution_count": null,
   "metadata": {},
   "outputs": [],
   "source": [
    "# you can use this cell to test/execute/check your thinking (optional)"
   ]
  },
  {
   "cell_type": "code",
   "execution_count": null,
   "metadata": {
    "nbgrader": {
     "grade": true,
     "grade_id": "cell-3b8896dd294ccc5a",
     "locked": true,
     "points": 0.5,
     "schema_version": 3,
     "solution": false
    }
   },
   "outputs": [],
   "source": [
    "# define list to use in testing\n",
    "test_list = [-1, 20, -100, -44, 33, 97, -101, 45, -79, 96]\n",
    "\n",
    "assert callable(is_even)\n",
    "assert len(is_even(test_list)) == len(test_list)\n",
    "\n"
   ]
  },
  {
   "cell_type": "markdown",
   "metadata": {
    "nbgrader": {
     "grade": false,
     "grade_id": "cell-e7a7c39a4716fdf2",
     "locked": true,
     "schema_version": 3,
     "solution": false
    }
   },
   "source": [
    "### Q7 - Find Max Value  (0.5 points)\n",
    "\n",
    "Write a function called `find_max` that takes in a single parameter called `random_list`, which should be a list. \n",
    "\n",
    "This function will find the maximum (max) value of the input list, and `return` it. \n",
    "\n",
    "This function will assume the list is composed of only positive numbers.\n",
    "\n",
    "To find the max, within the function, use a variable called `list_max` that you initialize to value 0. \n",
    "\n",
    "Then use a `for` loop to loop through `random_list`. \n",
    "\n",
    "Inside the loop, use a conditional to check if the current value is larger than `list_max`, and if so, re-assign `list_max` to store this new value.\n",
    "\n",
    "After the loop, return `list_max`, which should now store the maximum value from within the input list. "
   ]
  },
  {
   "cell_type": "code",
   "execution_count": null,
   "metadata": {
    "nbgrader": {
     "grade": false,
     "grade_id": "cell-23d051fdc803f0bd",
     "locked": false,
     "schema_version": 3,
     "solution": true
    }
   },
   "outputs": [],
   "source": [
    "def find_max(random_list):\n",
    "    \n",
    "    list_max = 0\n",
    "\n",
    "    for number in random_list:\n",
    "        \n",
    "        if number > list_max:\n",
    "            list_max = number\n",
    "            \n",
    "    return list_max\n"
   ]
  },
  {
   "cell_type": "code",
   "execution_count": null,
   "metadata": {},
   "outputs": [],
   "source": [
    "# you can use this cell to test/execute/check your thinking (optional)"
   ]
  },
  {
   "cell_type": "code",
   "execution_count": null,
   "metadata": {
    "nbgrader": {
     "grade": true,
     "grade_id": "cell-404d30e1e65b6b83",
     "locked": true,
     "points": 0.25,
     "schema_version": 3,
     "solution": false
    }
   },
   "outputs": [],
   "source": [
    "assert callable(find_max)\n",
    "assert type(find_max([1, 7, 5])) == int\n",
    "assert find_max([1, 7, 5]) == 7"
   ]
  },
  {
   "cell_type": "code",
   "execution_count": null,
   "metadata": {
    "nbgrader": {
     "grade": true,
     "grade_id": "cell-f39da4732d3c6281",
     "locked": true,
     "points": 0.25,
     "schema_version": 3,
     "solution": false
    }
   },
   "outputs": [],
   "source": [
    "assert callable(find_max)\n",
    "\n"
   ]
  },
  {
   "cell_type": "markdown",
   "metadata": {
    "nbgrader": {
     "grade": false,
     "grade_id": "cell-38a3d14601b680c5",
     "locked": true,
     "schema_version": 3,
     "solution": false
    }
   },
   "source": [
    "### Q8 - Square Everything  (0.5 points)\n",
    "\n",
    "Write a function called `square_all` that takes an input called `collection` that you assume to be a list or tuple of numbers. \n",
    "\n",
    "This function should return a new list, which contains the square of each value in `collection`. \n",
    "\n",
    "To do so, inside the function, you will define a new list, use a loop to loop through the input list, use an operator to square the current value, and use the `append` method to add this to your output list. After the loop, return the output list."
   ]
  },
  {
   "cell_type": "code",
   "execution_count": null,
   "metadata": {
    "nbgrader": {
     "grade": false,
     "grade_id": "cell-5993fedb7f503a6f",
     "locked": false,
     "schema_version": 3,
     "solution": true
    }
   },
   "outputs": [],
   "source": [
    "def square_all(collection):\n",
    "    \n",
    "    square_list = []\n",
    "    for val in collection:\n",
    "        square_list.append(val**2)\n",
    "    \n",
    "    return square_list\n"
   ]
  },
  {
   "cell_type": "code",
   "execution_count": null,
   "metadata": {},
   "outputs": [],
   "source": [
    "# you can use this cell to test/execute/check your thinking (optional)"
   ]
  },
  {
   "cell_type": "code",
   "execution_count": null,
   "metadata": {
    "nbgrader": {
     "grade": true,
     "grade_id": "cell-8a86a6f3ec803f9c",
     "locked": true,
     "points": 0.25,
     "schema_version": 3,
     "solution": false
    }
   },
   "outputs": [],
   "source": [
    "assert callable(square_all)\n",
    "assert type(square_all([1, 2])) == list\n",
    "assert square_all((2, 4)) == [4, 16]"
   ]
  },
  {
   "cell_type": "code",
   "execution_count": null,
   "metadata": {
    "nbgrader": {
     "grade": true,
     "grade_id": "cell-09d44aca37e9d05f",
     "locked": true,
     "points": 0.25,
     "schema_version": 3,
     "solution": false
    }
   },
   "outputs": [],
   "source": [
    "assert callable(square_all)\n",
    "\n"
   ]
  },
  {
   "cell_type": "markdown",
   "metadata": {
    "nbgrader": {
     "grade": false,
     "grade_id": "cell-ad7046936e9e00e4",
     "locked": true,
     "schema_version": 3,
     "solution": false
    }
   },
   "source": [
    "## Part 3:  Chatbots\n",
    "\n",
    "This part is an application of all the tools we have covered so far, to the problem of creating a chatbot.\n",
    "\n",
    "A chatbot is a piece of software that tries to have a conversation with a human.\n",
    "\n",
    "While today's chatbots are powerful learners, traditional chatbots are much simpler. \n",
    "\n",
    "Traditional chatbots follow a \"rule-based\" approach that is defined for them (by you, the programmer), usually without any learning. \n",
    "\n",
    "These rules can be very simple or sometimes quite complex - but everything is pre-defined. \n",
    "\n",
    "These types of chatbots can handle simple conversations but do tend to fail at more complex ones.\n",
    "\n",
    "#### Chatbot functions \n",
    "\n",
    "In order to make our chatbot, we will create a series of functions that our eventual chatbot will use together to try and chat with a user. \n",
    "\n",
    "At the end, we will test that these functions do indeed allow us to have simple conversations with our chatbot.\n",
    "\n",
    "Below are some more example chatbots to talk to. Remember to comment these lines back out if you want to be able to `Restart and Run All`."
   ]
  },
  {
   "cell_type": "markdown",
   "metadata": {
    "collapsed": true,
    "nbgrader": {
     "grade": false,
     "grade_id": "cell-5b615192a59468e3",
     "locked": true,
     "schema_version": 3,
     "solution": false
    }
   },
   "source": [
    "### Example Chatbot - Eliza\n",
    "\n",
    "The following demo is from the Natural Language ToolKit (nltk), a Python package available through Anaconda. \n",
    "\n",
    "Uncomment the line below, and run the code to be able to have a chat with Eliza.\n",
    "\n",
    "More information on Eliza: https://en.wikipedia.org/wiki/ELIZA"
   ]
  },
  {
   "cell_type": "code",
   "execution_count": null,
   "metadata": {},
   "outputs": [],
   "source": [
    "# Run a demo of a chatbot, with Eliza\n",
    "# nltk.chat.eliza.demo()"
   ]
  },
  {
   "cell_type": "markdown",
   "metadata": {
    "nbgrader": {
     "grade": false,
     "grade_id": "cell-fb303a097252988d",
     "locked": true,
     "schema_version": 3,
     "solution": false
    }
   },
   "source": [
    "### Example Chatbot - Iesha\n",
    "\n",
    "The following is another demo chatbot from nltk, this one called Iesha. "
   ]
  },
  {
   "cell_type": "code",
   "execution_count": null,
   "metadata": {},
   "outputs": [],
   "source": [
    "# Run a demo of a chatbot, with Iesha\n",
    "# nltk.chat.iesha.demo()"
   ]
  },
  {
   "cell_type": "markdown",
   "metadata": {
    "nbgrader": {
     "grade": false,
     "grade_id": "cell-d270d0d8c6fb5619",
     "locked": true,
     "schema_version": 3,
     "solution": false
    }
   },
   "source": [
    "As you try the chatbot demos with Eliza and Iesha, see if you can notice any patterns that might help you figure out how they work. \n",
    "\n",
    "That is, can you guess at what kind of programming structures these programs might use?"
   ]
  },
  {
   "cell_type": "markdown",
   "metadata": {
    "nbgrader": {
     "grade": false,
     "grade_id": "cell-fabfa964b619c327",
     "locked": true,
     "schema_version": 3,
     "solution": false
    }
   },
   "source": [
    "### Chatbots: Words & Rules\n",
    "\n",
    "So, how do these kinds of chatbots work? Most broadly, they combine two simple but powerful approaches:\n",
    "- Rule Based Artificial Intelligence (GOFAI)\n",
    "- Bag-Of-Word Language Models\n",
    "\n",
    "**Rule based AI**, sometimes called 'Good Old-Fashioned Artificial Intelligence', or 'GOFAI', is an approach to making artificial agents that tries to write down a set of rules to follow to perform some task. In practice, this often looks like using a lot of conditionals: if `X` happens, do `Y`. If we can write down enough logical procedures (call them algorithms) to follow to complete some task, then we can create an artificially intelligent agent (for that task).\n",
    "\n",
    "**Bag-Of-Word language models** are an approach to language that takes the simple approach of saying 'let's try and figure out what someone is saying simply by checking and counting which words they use'. If someone says the word 'dog' three times in conversation, they are probably talking about dogs. This ignores many, many things about language and how it works, but is a good 'first guess' for what is being said. \n",
    "\n",
    "From our perspective, this means two things:\n",
    "- We can broadly try to figure out the topic simply by checking which words are used\n",
    "- We can choose a response based on a rule that defines what to do if and when we identify particular topics\n",
    "\n",
    "In code then, this looks like:\n",
    "- taking input as strings of continuous text, and splitting this up into lists that contain all the words we see\n",
    "- use conditionals (`if`/`elif`/`else`) that choose an output based on what words appear in those lists\n",
    "\n",
    "As we work through and create all the functions in the next section to create our chatbot, try to think through how these functions relate to this approach."
   ]
  },
  {
   "cell_type": "markdown",
   "metadata": {
    "nbgrader": {
     "grade": false,
     "grade_id": "cell-fc01d901d8794162",
     "locked": true,
     "schema_version": 3,
     "solution": false
    }
   },
   "source": [
    "### Q9 - Is It a Question (0.5 points)\n",
    "\n",
    "One thing we might want to know, given an input to a chatbot, is if the input is a question. \n",
    "\n",
    "We are going to use a very simple heuristic to check this: we will consider any input that has a question mark ('?') in it to be a question. \n",
    "\n",
    "To do so, write a function called `is_question`. \n",
    "\n",
    "This function should have the following inputs, outputs, and internal procedures:\n",
    "\n",
    "Input(s):\n",
    "* `input_string` - string\n",
    "\n",
    "Output(s):\n",
    "* `output` - boolean\n",
    "\n",
    "Procedure(s):\n",
    "- if there is a '?' in `input_string`, set `output` to `True`\n",
    "- otherwise, set `output` to `False`. \n",
    "- `return` `output`"
   ]
  },
  {
   "cell_type": "code",
   "execution_count": null,
   "metadata": {
    "nbgrader": {
     "grade": false,
     "grade_id": "cell-06800778424be5ba",
     "locked": false,
     "schema_version": 3,
     "solution": true
    }
   },
   "outputs": [],
   "source": [
    "def is_question(input_string):\n",
    "    \n",
    "    if ('?' in input_string) == True:\n",
    "        output = True\n",
    "    else:\n",
    "        output = False\n",
    "    \n",
    "    return output\n"
   ]
  },
  {
   "cell_type": "code",
   "execution_count": null,
   "metadata": {},
   "outputs": [],
   "source": [
    "# you can use this cell to test/execute/check your thinking (optional)"
   ]
  },
  {
   "cell_type": "code",
   "execution_count": null,
   "metadata": {
    "nbgrader": {
     "grade": true,
     "grade_id": "cell-73224d2951e9985c",
     "locked": true,
     "points": 0.25,
     "schema_version": 3,
     "solution": false
    }
   },
   "outputs": [],
   "source": [
    "assert callable(is_question)\n",
    "assert type(is_question('abc')) == bool\n",
    "assert is_question('what?') == True"
   ]
  },
  {
   "cell_type": "code",
   "execution_count": null,
   "metadata": {
    "nbgrader": {
     "grade": true,
     "grade_id": "cell-5b61947f11cc79af",
     "locked": true,
     "points": 0.25,
     "schema_version": 3,
     "solution": false
    }
   },
   "outputs": [],
   "source": [
    "assert callable(is_question)\n",
    "\n"
   ]
  },
  {
   "cell_type": "markdown",
   "metadata": {
    "nbgrader": {
     "grade": false,
     "grade_id": "cell-1342b82039ac580f",
     "locked": true,
     "schema_version": 3,
     "solution": false
    }
   },
   "source": [
    "### Example: string.punctuation\n",
    "\n",
    "When working with strings, it can be useful to check what kind of things particular characters are. \n",
    "\n",
    "To do things like this, Python offers some collections of items that we can check against.\n",
    "\n",
    "For example, we can ask if a particular character is a punctuation mark by asking if it is in the collection of punctuation characters. \n",
    "\n",
    "<span style=\"color:red\">**Note**: If you get an error when trying to run the cell below, return to the top of the assignment and run the setup cell with the `import` statements.</span>\n"
   ]
  },
  {
   "cell_type": "code",
   "execution_count": null,
   "metadata": {
    "nbgrader": {
     "grade": false,
     "grade_id": "cell-57606f29c78e9c59",
     "locked": true,
     "schema_version": 3,
     "solution": false
    }
   },
   "outputs": [],
   "source": [
    "# Print out list of punctuation\n",
    "print(string.punctuation)\n",
    "\n",
    "print() # Print blank line\n",
    "\n",
    "# Check if a particular symbol is a punctuation mark\n",
    "print('@' in string.punctuation)"
   ]
  },
  {
   "cell_type": "markdown",
   "metadata": {
    "nbgrader": {
     "grade": false,
     "grade_id": "cell-649bbccda08b6552",
     "locked": true,
     "schema_version": 3,
     "solution": false
    }
   },
   "source": [
    "### Q10 - Removing punctuation (0.5 points)\n",
    "\n",
    "Once we know if an input is a question, we are going to get rid of all punctuation. \n",
    "\n",
    "To do so, write a function called `remove_punctuation`. \n",
    "\n",
    "This function should have the following inputs, outputs, and internal procedures:\n",
    "\n",
    "Input(s):\n",
    "* `input_string` - string\n",
    "\n",
    "Output(s):\n",
    "* `out_string` - string\n",
    "\n",
    "Procedure(s):\n",
    "- define a new variable `out_string` as an empty string\n",
    "- loop through each character in `input_string`\n",
    "    - if this character is not in `string.punctuation`\n",
    "        - then concatenate the current character to `out_string`\n",
    "- return `out_string`"
   ]
  },
  {
   "cell_type": "code",
   "execution_count": null,
   "metadata": {
    "nbgrader": {
     "grade": false,
     "grade_id": "cell-e89fcaa0b5c38b5b",
     "locked": false,
     "schema_version": 3,
     "solution": true
    }
   },
   "outputs": [],
   "source": [
    "def remove_punctuation(input_string):\n",
    "    \n",
    "    out_string = ''\n",
    "    for char in input_string:\n",
    "        if char not in string.punctuation:\n",
    "            out_string += char\n",
    "            \n",
    "    return out_string\n"
   ]
  },
  {
   "cell_type": "code",
   "execution_count": null,
   "metadata": {},
   "outputs": [],
   "source": [
    "# you can use this cell to test/execute/check your thinking (optional)"
   ]
  },
  {
   "cell_type": "code",
   "execution_count": null,
   "metadata": {
    "nbgrader": {
     "grade": true,
     "grade_id": "cell-7653654ef6ba58e1",
     "locked": true,
     "points": 0.25,
     "schema_version": 3,
     "solution": false
    }
   },
   "outputs": [],
   "source": [
    "assert callable(remove_punctuation)\n",
    "assert type(remove_punctuation('a')) == str\n",
    "assert remove_punctuation(\"Hey! It's Professor Morgan!\") == \"Hey Its Professor Morgan\""
   ]
  },
  {
   "cell_type": "code",
   "execution_count": null,
   "metadata": {
    "nbgrader": {
     "grade": true,
     "grade_id": "cell-711049dd0e72709a",
     "locked": true,
     "points": 0.25,
     "schema_version": 3,
     "solution": false
    }
   },
   "outputs": [],
   "source": [
    "assert callable(remove_punctuation)\n",
    "\n"
   ]
  },
  {
   "cell_type": "markdown",
   "metadata": {
    "nbgrader": {
     "grade": false,
     "grade_id": "cell-eb983e643c4882d6",
     "locked": true,
     "schema_version": 3,
     "solution": false
    }
   },
   "source": [
    "### Q11 - Preparing Text (0.5 points)\n",
    "\n",
    "Now we want a more general function to prepare the text inputs for processing. \n",
    "\n",
    "Inside this function, we will use some string methods as well as our new `remove_punctuation` function.\n",
    "\n",
    "Write a function called `prepare_text`.\n",
    "\n",
    "This function should have the following inputs, outputs, and internal procedures:\n",
    "\n",
    "Input(s):\n",
    "* `input_string` - string\n",
    "\n",
    "Output(s):\n",
    "* `out_list` - list of strings\n",
    "\n",
    "Procedure(s):\n",
    "- make the string all lower case (use a string method called `lower`)\n",
    "    - note that you will have to assign the output to a variable. You can use a variable name like `temp_string`\n",
    "- remove all punctuation from the string (use your new function `remove_punctuation`)\n",
    "    - this can also assign out to `temp_string`\n",
    "- split the string into words (look for and use a string method called `split`)\n",
    "    - note that split will return a list of strings. Assign this as `out_list`\n",
    "- return `out_list`"
   ]
  },
  {
   "cell_type": "code",
   "execution_count": null,
   "metadata": {
    "nbgrader": {
     "grade": false,
     "grade_id": "cell-c1c23cc422a6e514",
     "locked": false,
     "schema_version": 3,
     "solution": true
    }
   },
   "outputs": [],
   "source": [
    "def prepare_text(input_string):\n",
    "    \n",
    "    temp_string = input_string.lower()\n",
    "    temp_string = remove_punctuation(temp_string)\n",
    "    out_list = temp_string.split()\n",
    "    \n",
    "    return out_list\n"
   ]
  },
  {
   "cell_type": "code",
   "execution_count": null,
   "metadata": {},
   "outputs": [],
   "source": [
    "# you can use this cell to test/execute/check your thinking (optional)"
   ]
  },
  {
   "cell_type": "code",
   "execution_count": null,
   "metadata": {
    "nbgrader": {
     "grade": true,
     "grade_id": "cell-617b5f8e65de0792",
     "locked": true,
     "points": 0.25,
     "schema_version": 3,
     "solution": false
    }
   },
   "outputs": [],
   "source": [
    "assert callable(prepare_text)\n",
    "assert type(prepare_text('One two three.')) == list\n",
    "assert prepare_text('Hi! Also, howdy.') == ['hi', 'also', 'howdy']"
   ]
  },
  {
   "cell_type": "code",
   "execution_count": null,
   "metadata": {
    "nbgrader": {
     "grade": true,
     "grade_id": "cell-9fb3a5fb59109d2c",
     "locked": true,
     "points": 0.25,
     "schema_version": 3,
     "solution": false
    }
   },
   "outputs": [],
   "source": [
    "assert callable(prepare_text)\n",
    "\n"
   ]
  },
  {
   "cell_type": "markdown",
   "metadata": {
    "nbgrader": {
     "grade": false,
     "grade_id": "cell-ab7b89763863cab9",
     "locked": true,
     "schema_version": 3,
     "solution": false
    }
   },
   "source": [
    "### Q12 - Echo a Response (0.5 points)\n",
    "\n",
    "We will define a function that will return a string that has been repeated a specified number of times, with a given separator. \n",
    "\n",
    "We will also want to deal with the case where the input to this function may be `None`. \n",
    "\n",
    "Write a function called `respond_echo`. \n",
    "\n",
    "This function should have the following inputs, outputs, and internal procedures:\n",
    "\n",
    "Input(s):\n",
    "* `input_string` - string, or None\n",
    "* `number_of_echoes` - integer\n",
    "* `spacer` - string\n",
    "\n",
    "Output(s):\n",
    "* `echo_output` - string, or None\n",
    "\n",
    "Procedure(s):\n",
    "- if `input_string` is not `None`:\n",
    "    - set a variable `echo_output` to be  `input_string`, repeated the number of times specified by `number_of_echoes`, joined by the  `spacer`.\n",
    "        - Hint: to do so, recall what \"*\" does to strings\n",
    "- otherwise (if `input_string` is None):\n",
    "    - set `echo_output` to `None`\n",
    "- return `echo_output`\n",
    "\n",
    "Note that a simple version of this function will end up adding the spacer to the end of the string as well. For our purposes here, implement that simple version.\n",
    "\n",
    "So, for example, `respond_echo('bark', 2, '-')` should return: 'bark-bark-'"
   ]
  },
  {
   "cell_type": "code",
   "execution_count": null,
   "metadata": {
    "nbgrader": {
     "grade": false,
     "grade_id": "cell-d77bc7ed64441ebc",
     "locked": false,
     "schema_version": 3,
     "solution": true
    }
   },
   "outputs": [],
   "source": [
    "def respond_echo(input_string, number_of_echoes, spacer):\n",
    "    \n",
    "    if input_string is not None:\n",
    "        echo_output = (input_string+spacer)*(number_of_echoes)\n",
    "    else:\n",
    "        echo_output = None\n",
    "    \n",
    "    return echo_output    \n"
   ]
  },
  {
   "cell_type": "code",
   "execution_count": null,
   "metadata": {},
   "outputs": [],
   "source": [
    "# you can use this cell to test/execute/check your thinking (optional)"
   ]
  },
  {
   "cell_type": "code",
   "execution_count": null,
   "metadata": {
    "nbgrader": {
     "grade": true,
     "grade_id": "cell-3280829d10a28901",
     "locked": true,
     "points": 0.25,
     "schema_version": 3,
     "solution": false
    }
   },
   "outputs": [],
   "source": [
    "assert callable(respond_echo)\n",
    "assert type(respond_echo('ha', 2, ' ')) == str\n",
    "assert respond_echo('meow', 3, '~') == 'meow~meow~meow~'\n",
    "assert respond_echo(None, 2, '') == None"
   ]
  },
  {
   "cell_type": "code",
   "execution_count": null,
   "metadata": {
    "nbgrader": {
     "grade": true,
     "grade_id": "cell-e828c225b1081368",
     "locked": true,
     "points": 0.25,
     "schema_version": 3,
     "solution": false
    }
   },
   "outputs": [],
   "source": [
    "assert callable(respond_echo)\n",
    "\n"
   ]
  },
  {
   "cell_type": "markdown",
   "metadata": {
    "nbgrader": {
     "grade": false,
     "grade_id": "cell-7d9cfdf4ac341f83",
     "locked": true,
     "schema_version": 3,
     "solution": false
    }
   },
   "source": [
    "### Example: random.choice\n",
    "\n",
    "We want our chatbot to have some variation in its responses - not always answering the same thing.\n",
    "\n",
    "So, we want to be able to choose an output from a list of options. \n",
    "\n",
    "We can use the `random.choice` function to so.\n",
    "\n",
    "An example of using `random.choice` is offered below."
   ]
  },
  {
   "cell_type": "code",
   "execution_count": null,
   "metadata": {
    "nbgrader": {
     "grade": false,
     "grade_id": "cell-0a566497c3fedd42",
     "locked": true,
     "schema_version": 3,
     "solution": false
    }
   },
   "outputs": [],
   "source": [
    "# Given a list of inputs, randomly choose and return one of them (re-run this to see different outputs)\n",
    "random.choice(['first option', 'second option', 'third option'])"
   ]
  },
  {
   "cell_type": "markdown",
   "metadata": {
    "nbgrader": {
     "grade": false,
     "grade_id": "cell-dc5e0416db994eb0",
     "locked": true,
     "schema_version": 3,
     "solution": false
    }
   },
   "source": [
    "### Q13 - Selector (0.5 points)\n",
    "\n",
    "Next we will write a function that will help us select an output for the chatbot, based on the input it got.\n",
    "\n",
    "The overall goal of this function is to take a list of words that we got as input, a list of words to check for whether they appear in the input, and a list of possible outputs to return if something from the list to check is in the input list. \n",
    "\n",
    "Define a function called `selector`.\n",
    "\n",
    "This function should have the following inputs, outputs, and internal procedures:\n",
    "\n",
    "Input(s):\n",
    "* `input_list` - list of strings\n",
    "* `check_list` - list of strings\n",
    "* `return_list` - list of strings\n",
    "\n",
    "Output(s):\n",
    "* `output` - string, or None\n",
    "\n",
    "Procedure(s):\n",
    "- Initialize `output` to `None`\n",
    "- Loop through each element in `input_list`\n",
    "- Use a conditional to check if the current element is in `check_list`\n",
    "    - If it is, assign `output` as the returned value of calling the `random.choice` function on `return_list`\n",
    "    - Also, break out of the loop\n",
    "- At the end of the function, return `output`\n",
    "\n",
    "Note that if we don't find any words from `input_list` that are in `check_list`, `output` will be returned as `None`."
   ]
  },
  {
   "cell_type": "code",
   "execution_count": null,
   "metadata": {
    "nbgrader": {
     "grade": false,
     "grade_id": "cell-a85973a26e490194",
     "locked": false,
     "schema_version": 3,
     "solution": true
    }
   },
   "outputs": [],
   "source": [
    "def selector(input_list, check_list, return_list):\n",
    "\n",
    "    output = None\n",
    "    for word in input_list:\n",
    "        if word in check_list:\n",
    "            output = random.choice(return_list)\n",
    "            break\n",
    "\n",
    "    return output\n"
   ]
  },
  {
   "cell_type": "code",
   "execution_count": null,
   "metadata": {},
   "outputs": [],
   "source": [
    "# you can use this cell to test/execute/check your thinking (optional)"
   ]
  },
  {
   "cell_type": "code",
   "execution_count": null,
   "metadata": {
    "nbgrader": {
     "grade": true,
     "grade_id": "cell-88e6e54e20d32647",
     "locked": true,
     "points": 0.25,
     "schema_version": 3,
     "solution": false
    }
   },
   "outputs": [],
   "source": [
    "assert callable(selector)\n",
    "\n",
    "assert selector(['in', 'words'], ['words'], ['yes']) == 'yes'\n",
    "assert selector(['in', 'words'], ['out'], ['yes']) == None"
   ]
  },
  {
   "cell_type": "code",
   "execution_count": null,
   "metadata": {
    "nbgrader": {
     "grade": true,
     "grade_id": "cell-f38dab4bc4b62a22",
     "locked": true,
     "points": 0.25,
     "schema_version": 3,
     "solution": false
    }
   },
   "outputs": [],
   "source": [
    "assert callable(selector)\n",
    "\n"
   ]
  },
  {
   "cell_type": "markdown",
   "metadata": {
    "nbgrader": {
     "grade": false,
     "grade_id": "cell-fc29bd1bdbb6cb34",
     "locked": true,
     "schema_version": 3,
     "solution": false
    }
   },
   "source": [
    "### Q14 - String Concatenator Function (0.5 points)\n",
    "\n",
    "Create a function that will concatenate two strings, combining them with a specified separator. \n",
    "\n",
    "To do so, write a function called `string_concatenator`. \n",
    "\n",
    "This function should have the following inputs, outputs, and internal procedures:\n",
    "\n",
    "Input(s)\n",
    "* `string1` - string\n",
    "* `string2` - string\n",
    "* `separator` - string\n",
    "\n",
    "Output(s)\n",
    "* `output` - string\n",
    "\n",
    "Procedure(s):\n",
    "- concatenate `string1` to `string2` with `separator` in between them. \n",
    "- return the result"
   ]
  },
  {
   "cell_type": "code",
   "execution_count": null,
   "metadata": {
    "nbgrader": {
     "grade": false,
     "grade_id": "cell-f24e8fdca335a582",
     "locked": false,
     "schema_version": 3,
     "solution": true
    }
   },
   "outputs": [],
   "source": [
    "def string_concatenator(string1, string2, separator):\n",
    "    \n",
    "    result = string1 + separator + string2\n",
    "    \n",
    "    return result\n"
   ]
  },
  {
   "cell_type": "code",
   "execution_count": null,
   "metadata": {},
   "outputs": [],
   "source": [
    "# you can use this cell to test/execute/check your thinking (optional)"
   ]
  },
  {
   "cell_type": "code",
   "execution_count": null,
   "metadata": {
    "nbgrader": {
     "grade": true,
     "grade_id": "cell-baa25e0ddd0ad3ac",
     "locked": true,
     "points": 0.25,
     "schema_version": 3,
     "solution": false
    }
   },
   "outputs": [],
   "source": [
    "assert callable(string_concatenator)\n",
    "assert type(string_concatenator('hello', 'world', ' ')) == str\n",
    "assert string_concatenator('hello', 'world', ' ') == 'hello world'"
   ]
  },
  {
   "cell_type": "code",
   "execution_count": null,
   "metadata": {
    "nbgrader": {
     "grade": true,
     "grade_id": "cell-67395721ec848259",
     "locked": true,
     "points": 0.25,
     "schema_version": 3,
     "solution": false
    }
   },
   "outputs": [],
   "source": [
    "assert callable(string_concatenator)\n",
    "\n",
    "assert string_concatenator('yay', 'python', ' ') == 'yay python'\n",
    "assert string_concatenator('other', 'test', '-') == 'other-test'\n"
   ]
  },
  {
   "cell_type": "markdown",
   "metadata": {
    "nbgrader": {
     "grade": false,
     "grade_id": "cell-251b63522836d89e",
     "locked": true,
     "schema_version": 3,
     "solution": false
    }
   },
   "source": [
    "### Q15 - List to String (0.5 points)\n",
    "\n",
    "Since we are often dealing with a list of strings, it would be useful to have a function to turn a list of strings back into one single concatenated string. \n",
    "\n",
    "This function will return a string that is each element of `input_list` concatenated together with each separated by the string `separator`. \n",
    "\n",
    "For example, the following function call:\n",
    "\n",
    "`list_to_string(['This', 'is', 'fun'], ' ')`\n",
    "\n",
    "should return: \n",
    "    \n",
    "    'This is fun'\n",
    "    \n",
    "To do this, write a function called `list_to_string`. \n",
    "\n",
    "This function should have the following inputs, outputs, and internal procedures:\n",
    "\n",
    "Input(s):\n",
    "* `input_list` - list of strings\n",
    "* `separator` - string\n",
    "\n",
    "Output(s):\n",
    "* `output` - string\n",
    "\n",
    "Procedure(s):\n",
    "- assign a variable called `output` to be the first (index 0) element from `input_list`\n",
    "- loop through the rest of `input_list`, looping from the 2nd element (index 1) through to the end of the list\n",
    "    - Within the loop, use `string_concatenator` to combine `output` with the current element, separated by `separator`\n",
    "        - Assign the output of this to be the new value of `output`\n",
    "- return `output`, which should now be a list of the elements of `input_list` joined together into a single string"
   ]
  },
  {
   "cell_type": "code",
   "execution_count": null,
   "metadata": {
    "nbgrader": {
     "grade": false,
     "grade_id": "cell-cfabdfe3966db8c6",
     "locked": false,
     "schema_version": 3,
     "solution": true
    }
   },
   "outputs": [],
   "source": [
    "def list_to_string(input_list, separator):\n",
    "    \n",
    "    output = input_list[0]\n",
    "    for item in input_list[1:]:\n",
    "        output = string_concatenator(output, item, separator)\n",
    "        \n",
    "    return output\n"
   ]
  },
  {
   "cell_type": "code",
   "execution_count": null,
   "metadata": {},
   "outputs": [],
   "source": [
    "# you can use this cell to test/execute/check your thinking (optional)"
   ]
  },
  {
   "cell_type": "code",
   "execution_count": null,
   "metadata": {
    "nbgrader": {
     "grade": true,
     "grade_id": "cell-b8d8c7506f53317e",
     "locked": true,
     "points": 0.25,
     "schema_version": 3,
     "solution": false
    }
   },
   "outputs": [],
   "source": [
    "assert callable(list_to_string)\n",
    "assert type(list_to_string(['a', 'b'], '|')) == str\n",
    "assert list_to_string(['a', 'b'], '|') == 'a|b'"
   ]
  },
  {
   "cell_type": "code",
   "execution_count": null,
   "metadata": {
    "nbgrader": {
     "grade": true,
     "grade_id": "cell-e482a53f1553dc55",
     "locked": true,
     "points": 0.25,
     "schema_version": 3,
     "solution": false
    }
   },
   "outputs": [],
   "source": [
    "assert callable(list_to_string)\n",
    "\n"
   ]
  },
  {
   "cell_type": "markdown",
   "metadata": {
    "nbgrader": {
     "grade": false,
     "grade_id": "cell-c1813cc24e5aa3fa",
     "locked": true,
     "schema_version": 3,
     "solution": false
    }
   },
   "source": [
    "### Q16 - End Chat (0.5 points)\n",
    "\n",
    "The last thing we need is a way to end the chat with our chatbot. \n",
    "\n",
    "We will use the same convention that `nltk` uses - namely, that we will end the conversation if the word `quit` appears.\n",
    "\n",
    "To be able to do so, write a function called `end_chat`\n",
    "\n",
    "This function should have the following inputs, outputs, and internal procedures:\n",
    "\n",
    "Input(s):\n",
    "* `input_list` - list\n",
    "\n",
    "Output(s):\n",
    "* `output` - boolean\n",
    "\n",
    "Procedure(s):\n",
    "- This function should return `True` if the string 'quit' is in `input_list`, and return `False` otherwise. "
   ]
  },
  {
   "cell_type": "code",
   "execution_count": null,
   "metadata": {
    "nbgrader": {
     "grade": false,
     "grade_id": "cell-1ab514a0dcaee24e",
     "locked": false,
     "schema_version": 3,
     "solution": true
    }
   },
   "outputs": [],
   "source": [
    "def end_chat(input_list):\n",
    "    \n",
    "    if 'quit' in input_list:\n",
    "        output = True\n",
    "    else:\n",
    "        output = False\n",
    "        \n",
    "    return output\n"
   ]
  },
  {
   "cell_type": "code",
   "execution_count": null,
   "metadata": {},
   "outputs": [],
   "source": [
    "# you can use this cell to test/execute/check your thinking (optional)"
   ]
  },
  {
   "cell_type": "code",
   "execution_count": null,
   "metadata": {
    "nbgrader": {
     "grade": true,
     "grade_id": "cell-7937207e3e365a07",
     "locked": true,
     "points": 0.25,
     "schema_version": 3,
     "solution": false
    }
   },
   "outputs": [],
   "source": [
    "assert callable(end_chat)\n",
    "assert type(end_chat(['a', 'b'])) == bool\n",
    "assert end_chat(['quit']) == True"
   ]
  },
  {
   "cell_type": "code",
   "execution_count": null,
   "metadata": {
    "nbgrader": {
     "grade": true,
     "grade_id": "cell-d6260ce7e8bb5e3c",
     "locked": true,
     "points": 0.25,
     "schema_version": 3,
     "solution": false
    }
   },
   "outputs": [],
   "source": [
    "assert callable(end_chat)\n",
    "\n"
   ]
  },
  {
   "cell_type": "markdown",
   "metadata": {
    "nbgrader": {
     "grade": false,
     "grade_id": "cell-6bc9e897386effc8",
     "locked": true,
     "schema_version": 3,
     "solution": false
    }
   },
   "source": [
    "## Pulling it all Together\n",
    "\n",
    "If everything has gone well with writing everything above, then we are ready to pull all these functions together to create our chatbot.\n",
    "\n",
    "The next few cells define a bunch of code, all provided for you. This code adds a couple more functions we can use, and then defines some lists of inputs and outputs that our chatbot will know about. After that, there is a big function that pulls everything together and creates the procedure to use all of this code together as a chatbot. \n",
    "\n",
    "You don't have to write anything in the cells below (or in the rest of the assignment). \n",
    "\n",
    "Do have a quick read through the code though, to see how our chatbot works, and to see how all the functions you just wrote are used to create the chatbot. \n",
    "\n",
    "If you need to, revisit the information at the beginning of this section about the logic our chatbot uses. \n",
    "\n",
    "You don't have to understand everything about what happens here, but try to have a first-pass look through it.\n",
    "\n",
    "We will build up to understanding and writing this kind of code that brings a lot of things together as we continue through the course. \n",
    "\n",
    "If the code seems intimidating, just scroll down to the bottom and test out talking to our chatbot. "
   ]
  },
  {
   "cell_type": "code",
   "execution_count": null,
   "metadata": {
    "nbgrader": {
     "grade": false,
     "grade_id": "cell-78cf6a8e70df6008",
     "locked": true,
     "schema_version": 3,
     "solution": false
    }
   },
   "outputs": [],
   "source": [
    "# These are a couple more functions, provided to you, to be used by our chatbot.\n",
    "\n",
    "def is_in_list(list_one, list_two):\n",
    "    \"\"\"Check if any element of list_one is in list_two.\"\"\"\n",
    "    \n",
    "    for element in list_one:\n",
    "        if element in list_two:\n",
    "            return True\n",
    "    return False\n",
    "\n",
    "def find_in_list(list_one, list_two):\n",
    "    \"\"\"Find and return an element from list_one that is in list_two, or None otherwise.\"\"\"\n",
    "    \n",
    "    for element in list_one:\n",
    "        if element in list_two:\n",
    "            return element\n",
    "    return None"
   ]
  },
  {
   "cell_type": "code",
   "execution_count": null,
   "metadata": {
    "nbgrader": {
     "grade": false,
     "grade_id": "cell-9a477c9657272b28",
     "locked": true,
     "schema_version": 3,
     "solution": false
    }
   },
   "outputs": [],
   "source": [
    "# This cell defines a collection of input and output things our chatbot can say and respond to\n",
    "\n",
    "GREETINGS_IN = ['hello', 'hi', 'hey', 'hola', 'welcome', 'bonjour', 'greetings']\n",
    "GREETINGS_OUT = [\"Hello, it's nice to talk to you!\", 'Nice to meet you!',  \"Hey - Let's chat!\"]\n",
    "\n",
    "COMP_IN = ['python', 'code', 'computer', 'algorithm', ]\n",
    "COMP_OUT = [\"Python is what I'm made of.\", \\\n",
    "            \"Did you know I'm made of code!?\", \\\n",
    "            \"Computers are so magical\", \\\n",
    "            \"Do you think I'll pass the Turing test?\"]\n",
    "\n",
    "PEOPLE_IN = ['turing', 'hopper', 'neumann', 'lovelace']\n",
    "PEOPLE_OUT = ['was awesome!', 'did so many important things!', 'is someone you should look up :).']\n",
    "PEOPLE_NAMES = {'turing': 'Alan', 'hopper': 'Grace', 'neumann': 'John von', 'lovelace': 'Ada'}\n",
    "\n",
    "JOKES_IN = ['funny', 'hilarious', 'ha', 'haha', 'hahaha', 'lol']\n",
    "JOKES_OUT = ['ha', 'haha', 'lol'] \n",
    "\n",
    "NONO_IN = ['matlab', 'java', 'C++']\n",
    "NONO_OUT = [\"I'm sorry, I don't want to talk about\"]\n",
    "\n",
    "UNKNOWN = ['Good.', 'Okay', 'Huh?', 'Yeah!', 'Thanks!']\n",
    "\n",
    "QUESTION = \"I'm too shy to answer questions. What do you want to talk about?\""
   ]
  },
  {
   "cell_type": "code",
   "execution_count": null,
   "metadata": {
    "nbgrader": {
     "grade": false,
     "grade_id": "cell-8f46287ffc69873d",
     "locked": true,
     "schema_version": 3,
     "solution": false
    }
   },
   "outputs": [],
   "source": [
    "def have_a_chat():\n",
    "    \"\"\"Main function to run our chatbot.\"\"\"\n",
    "    \n",
    "    chat = True\n",
    "    while chat:\n",
    "\n",
    "        # Get a message from the user\n",
    "        msg = input('INPUT :\\t')\n",
    "        out_msg = None\n",
    "\n",
    "        # Check if the input is a question\n",
    "        question = is_question(msg)\n",
    "\n",
    "        # Prepare the input message\n",
    "        msg = prepare_text(msg)\n",
    "\n",
    "        # Check for an end msg \n",
    "        if end_chat(msg):\n",
    "            out_msg = 'Bye!'\n",
    "            chat = False\n",
    "\n",
    "        # Check for a selection of topics that we have defined to respond to\n",
    "        #   Here, we will check for a series of topics that we have designed to answer to\n",
    "        if not out_msg:\n",
    "\n",
    "            # Initialize to collect a list of possible outputs\n",
    "            outs = []\n",
    "\n",
    "            # Check if the input looks like a greeting, add a greeting output if so\n",
    "            outs.append(selector(msg, GREETINGS_IN, GREETINGS_OUT))\n",
    "\n",
    "            # Check if the input looks like a computer thing, add a computer output if so\n",
    "            outs.append(selector(msg, COMP_IN, COMP_OUT))\n",
    "\n",
    "            # Check if the input mentions a person that is specified, add a person output if so\n",
    "            if is_in_list(msg, PEOPLE_IN):\n",
    "                name = find_in_list(msg, PEOPLE_IN)\n",
    "                outs.append(list_to_string([PEOPLE_NAMES[name], name.capitalize(),\n",
    "                                            selector(msg, PEOPLE_IN, PEOPLE_OUT)], ' '))\n",
    "\n",
    "            # Check if the input looks like a joke, add a repeat joke output if so\n",
    "            outs.append(respond_echo(selector(msg, JOKES_IN, JOKES_OUT), 3, ''))\n",
    "\n",
    "            # Check if the input has some words we don't want to talk about, say that, if so\n",
    "            if is_in_list(msg, NONO_IN):\n",
    "                outs.append(list_to_string([selector(msg, NONO_IN, NONO_OUT), find_in_list(msg, NONO_IN)], ' '))\n",
    "\n",
    "            # IF YOU WANTED TO ADD MORE TOPICS TO RESPOND TO, YOU COULD ADD THEM IN HERE\n",
    "\n",
    "            # We could have selected multiple outputs from the topic search above (if multiple return possible outputs)\n",
    "            #   We also might have appended None in some cases, meaning we don't have a reply\n",
    "            #   To deal with this, we are going to randomly select an output from the set of outputs that are not None\n",
    "            options = list(filter(None, outs))\n",
    "            if options:\n",
    "                out_msg = random.choice(options)\n",
    "\n",
    "        # If we don't have an output yet, but the input was a question, return msg related to it being a question\n",
    "        if not out_msg and question:\n",
    "            out_msg = QUESTION\n",
    "\n",
    "        # Catch-all to say something if msg not caught & processed so far\n",
    "        if not out_msg:\n",
    "            out_msg = random.choice(UNKNOWN)\n",
    "\n",
    "        print('OUTPUT:', out_msg)"
   ]
  },
  {
   "cell_type": "markdown",
   "metadata": {
    "nbgrader": {
     "grade": false,
     "grade_id": "cell-b772d97666f86487",
     "locked": true,
     "schema_version": 3,
     "solution": false
    }
   },
   "source": [
    "## Talking to our Chatbot\n",
    "\n",
    "To talk to our chatbot, uncomment and run the cell below. \n",
    "\n",
    "If anything seems to go weird, note that you can always interrupt the code from running the chat with kernel - interrupt from the menu. \n",
    "\n",
    "If this happens, it probably means there is some issue with one of the functions you wrote for the chatbot. "
   ]
  },
  {
   "cell_type": "code",
   "execution_count": null,
   "metadata": {
    "scrolled": false
   },
   "outputs": [],
   "source": [
    "# Talk to our chatbot\n",
    "# have_a_chat()"
   ]
  },
  {
   "cell_type": "markdown",
   "metadata": {
    "nbgrader": {
     "grade": false,
     "grade_id": "cell-40ef8e3f877362e7",
     "locked": true,
     "schema_version": 3,
     "solution": false
    }
   },
   "source": [
    "### Extending Our Chatbot\n",
    "\n",
    "You might notice that our chatbot, right now, is pretty limited in how many things it can respond to.\n",
    "\n",
    "To respond to more topics, we could re-use these same functions, adding more input & output options for our chatbot to respond to, using the basic approaches and functionality we have defined here. \n",
    "\n",
    "If you are interested in this topic, extending this chatbot (or ones like it) will be one of your project options. "
   ]
  },
  {
   "cell_type": "markdown",
   "metadata": {
    "nbgrader": {
     "grade": false,
     "grade_id": "cell-40d37bfa22765f04",
     "locked": true,
     "schema_version": 3,
     "solution": false
    }
   },
   "source": [
    "## The End!\n",
    "\n",
    "After you've explored chatting with the chatbot, you are done!\n",
    "\n",
    "Have a look back over your answers, and also make sure to Restart & Run All from the kernel menu to double check that everything is working properly and all of your asserts pass silently. \n",
    "\n",
    "When you are ready, submit on datahub."
   ]
  }
 ],
 "metadata": {
  "celltoolbar": "Create Assignment",
  "kernelspec": {
   "display_name": "Python 3",
   "language": "python",
   "name": "python3"
  },
  "language_info": {
   "codemirror_mode": {
    "name": "ipython",
    "version": 3
   },
   "file_extension": ".py",
   "mimetype": "text/x-python",
   "name": "python",
   "nbconvert_exporter": "python",
   "pygments_lexer": "ipython3",
   "version": "3.8.3"
  }
 },
 "nbformat": 4,
 "nbformat_minor": 2
}
