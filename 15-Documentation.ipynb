{
 "cells": [
  {
   "cell_type": "markdown",
   "id": "ccb3241a",
   "metadata": {
    "slideshow": {
     "slide_type": "-"
    }
   },
   "source": [
    "# Code Style & Documentation\n",
    "\n",
    "- readability\n",
    "- PEP8 code style\n",
    "- comments\n",
    "- documentation\n",
    "- linters\n",
    "- versioning"
   ]
  },
  {
   "cell_type": "markdown",
   "id": "329382b6",
   "metadata": {
    "slideshow": {
     "slide_type": "slide"
    }
   },
   "source": [
    "## Code Readability"
   ]
  },
  {
   "cell_type": "markdown",
   "id": "dfa8f512",
   "metadata": {
    "slideshow": {
     "slide_type": "fragment"
    }
   },
   "source": [
    "\"Code is more often read than written\" - Guido van Rossum, Python's creator"
   ]
  },
  {
   "cell_type": "markdown",
   "id": "58914619",
   "metadata": {
    "slideshow": {
     "slide_type": "fragment"
    }
   },
   "source": [
    "So: code should be written to be readable by humans."
   ]
  },
  {
   "cell_type": "markdown",
   "id": "fdb56d60",
   "metadata": {
    "slideshow": {
     "slide_type": "fragment"
    }
   },
   "source": [
    "Note: one of those humans is future you."
   ]
  },
  {
   "cell_type": "markdown",
   "id": "a26a9458",
   "metadata": {
    "slideshow": {
     "slide_type": "slide"
    }
   },
   "source": [
    "## The Zen of Python\n",
    "\n",
    "(or, at least, its aspiration)"
   ]
  },
  {
   "cell_type": "code",
   "execution_count": 1,
   "id": "572f9dc0",
   "metadata": {
    "slideshow": {
     "slide_type": "-"
    }
   },
   "outputs": [
    {
     "name": "stdout",
     "output_type": "stream",
     "text": [
      "The Zen of Python, by Tim Peters\n",
      "\n",
      "Beautiful is better than ugly.\n",
      "Explicit is better than implicit.\n",
      "Simple is better than complex.\n",
      "Complex is better than complicated.\n",
      "Flat is better than nested.\n",
      "Sparse is better than dense.\n",
      "Readability counts.\n",
      "Special cases aren't special enough to break the rules.\n",
      "Although practicality beats purity.\n",
      "Errors should never pass silently.\n",
      "Unless explicitly silenced.\n",
      "In the face of ambiguity, refuse the temptation to guess.\n",
      "There should be one-- and preferably only one --obvious way to do it.\n",
      "Although that way may not be obvious at first unless you're Dutch.\n",
      "Now is better than never.\n",
      "Although never is often better than *right* now.\n",
      "If the implementation is hard to explain, it's a bad idea.\n",
      "If the implementation is easy to explain, it may be a good idea.\n",
      "Namespaces are one honking great idea -- let's do more of those!\n"
     ]
    }
   ],
   "source": [
    "import this"
   ]
  },
  {
   "cell_type": "markdown",
   "id": "9597886f",
   "metadata": {
    "slideshow": {
     "slide_type": "-"
    }
   },
   "source": [
    "### Writing Readable Code"
   ]
  },
  {
   "cell_type": "markdown",
   "id": "ad83184e",
   "metadata": {
    "slideshow": {
     "slide_type": "fragment"
    }
   },
   "source": [
    "So how do we write good code for humans?\n",
    "\n",
    "- Use good naming\n",
    "- Use good structure\n",
    "- Use code comments and include documentation"
   ]
  },
  {
   "cell_type": "markdown",
   "id": "f2e01126",
   "metadata": {
    "slideshow": {
     "slide_type": "fragment"
    }
   },
   "source": [
    "### Good Naming\n",
    "\n",
    "Clear names are for humans. The computer doesn't care, but you and others reading your code do."
   ]
  },
  {
   "cell_type": "markdown",
   "id": "da1515cd",
   "metadata": {
    "slideshow": {
     "slide_type": "fragment"
    }
   },
   "source": [
    "### Good Structure\n",
    "\n",
    "If you design your program using separate functions for each task, avoid copying + pasting (functions and loops instead), and consider structure beforehand, you'll be set up for success"
   ]
  },
  {
   "cell_type": "markdown",
   "id": "8b1a1570",
   "metadata": {
    "slideshow": {
     "slide_type": "fragment"
    }
   },
   "source": [
    "### Code Comments & Documentation\n",
    "\n",
    "Helpful comments and documentation take your code to the next level. The final piece in the trifecta of readable code! "
   ]
  },
  {
   "cell_type": "markdown",
   "id": "91dea7fb",
   "metadata": {
    "slideshow": {
     "slide_type": "fragment"
    }
   },
   "source": [
    "Good code has good documentation - but code documentation should _not_ be used to try and fix unclear names, or bad structure. \n",
    "\n",
    "Rather, comments should add any additional context and information that helps explain what the code is, how it works, and why it works that way. "
   ]
  },
  {
   "cell_type": "markdown",
   "id": "9ad7a7c0",
   "metadata": {
    "slideshow": {
     "slide_type": "fragment"
    }
   },
   "source": [
    "These will all be components of your final project grade."
   ]
  },
  {
   "cell_type": "markdown",
   "id": "c71e7338",
   "metadata": {
    "slideshow": {
     "slide_type": "slide"
    }
   },
   "source": [
    "#### Class Question #1\n",
    "\n",
    "What does the following code do?\n",
    "\n",
    "```python\n",
    "def ff(jj):\n",
    "    oo = list(); jj = list(jj) \n",
    "    for ii in jj: oo.append(str(ord(ii)))\n",
    "    return '+'.join(oo)\n",
    "```\n",
    "\n",
    "- A) Returns unicode code points, as a list\n",
    "- B) Encodes a string as a cypher, returning a string of alphabetical characters\n",
    "- C) Returns unicode code points, as a string\n",
    "- D) Encodes inputs alphabetical characters, returned as a list\n",
    "- E) This code will fail"
   ]
  },
  {
   "cell_type": "code",
   "execution_count": null,
   "id": "0a4ff4dd",
   "metadata": {
    "scrolled": true,
    "slideshow": {
     "slide_type": "fragment"
    },
    "tags": [
     "live"
    ]
   },
   "outputs": [],
   "source": []
  },
  {
   "cell_type": "markdown",
   "id": "05a9eb59",
   "metadata": {
    "slideshow": {
     "slide_type": "fragment"
    }
   },
   "source": [
    "Improvement Considerations:\n",
    "- Structural considerations: indentations & spacing\n",
    "- Improved naming: functions & variables\n",
    "- Add Comments within code"
   ]
  },
  {
   "cell_type": "markdown",
   "id": "42301f87",
   "metadata": {
    "slideshow": {
     "slide_type": "slide"
    }
   },
   "source": [
    "#### Class Question #2\n",
    "\n",
    "What does the following code do?\n",
    "\n",
    "\n",
    "```python\n",
    "def return_unicode(input_list):\n",
    "    string = list()\n",
    "    input_list = list(input_list)\n",
    "\n",
    "    for character in input_list: \n",
    "        string.append(str(ord(character)))\n",
    "\n",
    "    output_string = '+'.join(string)\n",
    "    return output_string\n",
    "```\n",
    "\n",
    "- A) Returns unicode code points, as a list\n",
    "- B) Encodes a string as a cypher, returning a string of alphabetical characters\n",
    "- C) Returns unicode code points, as a string\n",
    "- D) Encodes inputs alphabetical characters, returned as a list\n",
    "- E) This code will fail"
   ]
  },
  {
   "cell_type": "code",
   "execution_count": null,
   "id": "9ef2428b",
   "metadata": {
    "slideshow": {
     "slide_type": "fragment"
    },
    "tags": [
     "live"
    ]
   },
   "outputs": [],
   "source": []
  },
  {
   "cell_type": "markdown",
   "id": "889a334d",
   "metadata": {
    "slideshow": {
     "slide_type": "-"
    }
   },
   "source": [
    "Improvement Considerations:\n",
    "\n",
    "- Structural considerations: indentations & spacing\n",
    "- Improved naming: functions & variables\n",
    "- Add Comments within code\n",
    "- **Proper Documentation!**\n",
    "\n",
    "We'll make this even better near the end of the lecture."
   ]
  },
  {
   "cell_type": "markdown",
   "id": "67b2e8e5",
   "metadata": {
    "slideshow": {
     "slide_type": "slide"
    }
   },
   "source": [
    "## Code Style: The PEP 8 Style Guide"
   ]
  },
  {
   "cell_type": "markdown",
   "id": "b2e978cb",
   "metadata": {
    "slideshow": {
     "slide_type": "-"
    }
   },
   "source": [
    "<div class=\"alert alert-success\">\n",
    "Coding style refers to a set of conventions for how to write code for readability and consistency.\n",
    "</div>"
   ]
  },
  {
   "cell_type": "markdown",
   "id": "c67737a2",
   "metadata": {
    "slideshow": {
     "slide_type": "fragment"
    }
   },
   "source": [
    "<div class=\"alert alert-success\">\n",
    "Python Enhancement Proposals (PEPs) are proposals for how something should be / work in the Python programming language. \n",
    "</div>\n",
    "\n",
    "These are written by the people responsible for the Python programming language. PEPs are voted on before incorporation."
   ]
  },
  {
   "cell_type": "markdown",
   "id": "1c1a7eff",
   "metadata": {
    "collapsed": true,
    "slideshow": {
     "slide_type": "-"
    }
   },
   "source": [
    "<a href=\"https://www.python.org/dev/peps/pep-0008/\">PEP8</a> is an accepted proposal that outlines the style guide for Python. Read it if you write Python other people, they may expect that you follow its conventions.\n",
    "\n",
    "Here are the select rules we care about:"
   ]
  },
  {
   "cell_type": "markdown",
   "id": "6192cf75",
   "metadata": {},
   "source": [
    "### Naming Style\n",
    "\n",
    "- CapWords (leading capitals, no separation) for Classes\n",
    "- snake_case (all lowercase, underscore separator) for variables, functions, and modules"
   ]
  },
  {
   "cell_type": "markdown",
   "id": "34d4832c",
   "metadata": {
    "slideshow": {
     "slide_type": "-"
    }
   },
   "source": [
    "### Use Blank Lines\n",
    "\n",
    "- Use 2 blank lines between functions & classes, and 1 between methods\n",
    "- Use 1 blank line between segments to indicate logical structure"
   ]
  },
  {
   "cell_type": "markdown",
   "id": "e18f91ae",
   "metadata": {
    "slideshow": {
     "slide_type": "-"
    }
   },
   "source": [
    "### Avoid Long Lines\n",
    "\n",
    "- PEP8 recommends that each line be at most 79 characters long\n",
    "\n",
    "Computers used to require this because of the width of the display (or teletype). They don't anymore. But even today, super long lines are hard to read at a glance."
   ]
  },
  {
   "cell_type": "markdown",
   "id": "bdacdf2b",
   "metadata": {
    "slideshow": {
     "slide_type": "fragment"
    }
   },
   "source": [
    "If your lines are too long, you can make them multi-line:"
   ]
  },
  {
   "cell_type": "code",
   "execution_count": null,
   "id": "3a422221",
   "metadata": {
    "slideshow": {
     "slide_type": "fragment"
    }
   },
   "outputs": [],
   "source": [
    "my_long_list = [1, 2, 3, 4, 5,\n",
    "                6, 7, 8, 9, 10]"
   ]
  },
  {
   "cell_type": "code",
   "execution_count": null,
   "id": "9505f0d7",
   "metadata": {
    "slideshow": {
     "slide_type": "fragment"
    }
   },
   "outputs": [],
   "source": [
    "# Note: you can explicitly indicate a new line with '\\'\n",
    "my_string = 'Python is ' + \\\n",
    "            'an alright language.'"
   ]
  },
  {
   "cell_type": "markdown",
   "id": "a5e8bdc3",
   "metadata": {
    "slideshow": {
     "slide_type": "slide"
    }
   },
   "source": [
    "## Comments"
   ]
  },
  {
   "cell_type": "markdown",
   "id": "cd429417",
   "metadata": {
    "slideshow": {
     "slide_type": "fragment"
    }
   },
   "source": [
    "#### Unhelpful Comments"
   ]
  },
  {
   "cell_type": "code",
   "execution_count": null,
   "id": "cc4b4a2a",
   "metadata": {
    "scrolled": true,
    "slideshow": {
     "slide_type": "fragment"
    }
   },
   "outputs": [],
   "source": [
    "# This is a loop that iterates over elements in a list and calls each one\n",
    "for element in list_of_elements:\n",
    "    element()"
   ]
  },
  {
   "cell_type": "markdown",
   "id": "a80b3121",
   "metadata": {},
   "source": [
    "The comment adds no information over what the code says.\n",
    "\n",
    "What are the elements? Why do we care?"
   ]
  },
  {
   "cell_type": "markdown",
   "id": "529e13e2",
   "metadata": {
    "collapsed": true,
    "slideshow": {
     "slide_type": "fragment"
    }
   },
   "source": [
    "#### Better Comments"
   ]
  },
  {
   "cell_type": "code",
   "execution_count": null,
   "id": "d7daae94",
   "metadata": {
    "slideshow": {
     "slide_type": "fragment"
    }
   },
   "outputs": [],
   "source": [
    "# We already filtered the list down to the things\n",
    "# that are due today, so now we do each one.\n",
    "for element in list_of_elements:\n",
    "    # Each element is a function, so we run it\n",
    "    element()"
   ]
  },
  {
   "cell_type": "markdown",
   "id": "42e43f7e",
   "metadata": {},
   "source": [
    "Better, now the comments give some explanation.\n",
    "\n",
    "But, with more descriptive names we could comment even less."
   ]
  },
  {
   "cell_type": "markdown",
   "id": "3e9c351c",
   "metadata": {
    "collapsed": true,
    "slideshow": {
     "slide_type": "fragment"
    }
   },
   "source": [
    "#### The Best\n",
    "\n",
    "Although it's not always possible to forego all comments, **careful naming is better than commenting!**\n",
    "\n",
    "With better names, we can use shorter and fewer comments."
   ]
  },
  {
   "cell_type": "code",
   "execution_count": null,
   "id": "67e9bf15",
   "metadata": {
    "slideshow": {
     "slide_type": "fragment"
    }
   },
   "outputs": [],
   "source": [
    "# Run all tasks due today.\n",
    "for task_func in tasks_due_today:\n",
    "    task_func()"
   ]
  },
  {
   "cell_type": "markdown",
   "id": "4be67b60",
   "metadata": {},
   "source": [
    "The names describe what the things are:\n",
    "    \n",
    "- `tasks_due_today` sounds like a list of tasks that are due today.\n",
    "- `task_func` sounds like a function that does the task\n",
    "\n",
    "Because what we do here in the for-loop is a little unusual – it's uncommon to loop through a list of _functions_ – we still include the short comment \"Run all tasks due today\" just so the reader can know our goal and understand why we call `task_func()`.\n",
    "\n",
    "(The short comment also lets the reader know what the loop does at a glance so they can then decide whether to even bother reading the code for the loop.)"
   ]
  },
  {
   "cell_type": "markdown",
   "id": "901ac5d5",
   "metadata": {
    "slideshow": {
     "slide_type": "slide"
    }
   },
   "source": [
    "How to use comments:\n",
    "- Generally:\n",
    "    - focus on the *how* and *why*, over literal 'what is the code'\n",
    "    - explain any context needed to understand the task at hand\n",
    "    - give a broad overview of what approach you are taking to perform the task\n",
    "    - if you're using any unusual approaches, explain what they are, and why you're using them\n",
    "- Comments need to be maintained as the code changes\n",
    "\n",
    "**Out-of-date comments are worse than no comments at all!** Keep your comments up-to-date."
   ]
  },
  {
   "cell_type": "markdown",
   "id": "1f8c0c2a",
   "metadata": {
    "slideshow": {
     "slide_type": "slide"
    }
   },
   "source": [
    "## Code Style: Comments\n",
    "\n",
    "- **Block comments** are comments that occur on their own line(s) of code\n",
    "```python\n",
    "# This is a block comment\n",
    "# about some code here\n",
    "some\n",
    "code\n",
    "here\n",
    "```\n",
    "\n",
    "\n",
    "- **Inline comments** are comments that occur at the end of a line of code\n",
    "\n",
    "```python\n",
    "some_line_of_code  # This is an inline comment about some_line_of_code\n",
    "```\n"
   ]
  },
  {
   "cell_type": "markdown",
   "id": "0f7f3383",
   "metadata": {
    "slideshow": {
     "slide_type": "fragment"
    }
   },
   "source": [
    "#### Block comments\n",
    "- apply to some (or all) code that follows them\n",
    "- are indented to the same level as that code. \n",
    "- Each line of a block comment starts with a # and a single space"
   ]
  },
  {
   "cell_type": "markdown",
   "id": "2364c9dd",
   "metadata": {},
   "source": [
    "Ugly block comment:"
   ]
  },
  {
   "cell_type": "code",
   "execution_count": null,
   "id": "3c3dfb68",
   "metadata": {
    "slideshow": {
     "slide_type": "fragment"
    }
   },
   "outputs": [],
   "source": [
    "import random\n",
    "\n",
    "def week_9():\n",
    "#help try to destress students by picking one thing from the following list using random\n",
    "    statements = [\"You've totally got this!\",\"You're so close!\",\"You're going to do great!\",\"Remember to take breaks!\",\"Sleep, water, and food are really important!\"]\n",
    "    out = random.choice(statements)\n",
    "    return out\n",
    "\n",
    "week_9()"
   ]
  },
  {
   "cell_type": "markdown",
   "id": "d82fd6cb",
   "metadata": {},
   "source": [
    "Nicely formatted block comment:"
   ]
  },
  {
   "cell_type": "code",
   "execution_count": null,
   "id": "c68f08e9",
   "metadata": {
    "slideshow": {
     "slide_type": "fragment"
    }
   },
   "outputs": [],
   "source": [
    "def week_9():\n",
    "    \n",
    "    # Randomly pick from list of de-stressing statements\n",
    "    # to help students as they finish the quarter.\n",
    "    statements = [\"You've totally got this!\", \n",
    "                  \"You're so close!\", \n",
    "                  \"You're going to do great!\",\n",
    "                  \"Remember to take breaks!\",\n",
    "                  \"Sleep, water, and food are really important!\"]\n",
    "    \n",
    "    out = random.choice(statements)\n",
    "    \n",
    "    return out\n",
    "\n",
    "week_9()"
   ]
  },
  {
   "cell_type": "markdown",
   "id": "ffa1d21b",
   "metadata": {
    "slideshow": {
     "slide_type": "fragment"
    }
   },
   "source": [
    "#### Inline comments\n",
    "- occur on the line of code they are talking about\n",
    "- should be separated by at least two spaces from the statement\n",
    "- start with a # and a single space"
   ]
  },
  {
   "cell_type": "code",
   "execution_count": null,
   "id": "1588c251",
   "metadata": {
    "slideshow": {
     "slide_type": "fragment"
    }
   },
   "outputs": [],
   "source": [
    "# Ugly\n",
    "week_9()#words of encouragement"
   ]
  },
  {
   "cell_type": "code",
   "execution_count": null,
   "id": "a0310c07",
   "metadata": {
    "slideshow": {
     "slide_type": "fragment"
    }
   },
   "outputs": [],
   "source": [
    "# Idiomatic\n",
    "week_9()  # words of encouragement"
   ]
  },
  {
   "cell_type": "markdown",
   "id": "ea482c82",
   "metadata": {
    "slideshow": {
     "slide_type": "slide"
    }
   },
   "source": [
    "## Code Documentation\n",
    "\n",
    "**Comments** are text written directly in the code, typically directed at developers - people reading and potentially writing the code.\n",
    "\n",
    "**Documentation** is descriptions and guides written for code users. "
   ]
  },
  {
   "cell_type": "markdown",
   "id": "b28ce141",
   "metadata": {
    "slideshow": {
     "slide_type": "slide"
    }
   },
   "source": [
    "## Docstrings\n",
    "\n",
    "Docstrings are a primary form of documentation (info for code users)."
   ]
  },
  {
   "cell_type": "markdown",
   "id": "382288fe",
   "metadata": {
    "slideshow": {
     "slide_type": "-"
    }
   },
   "source": [
    "<div class=\"alert alert-success\">\n",
    "<b>Docstrings</b> are in-code text that describe modules, classes and functions. They describe the operation of the code.\n",
    "</div>"
   ]
  },
  {
   "cell_type": "markdown",
   "id": "2e5e2830",
   "metadata": {
    "collapsed": true,
    "slideshow": {
     "slide_type": "fragment"
    }
   },
   "source": [
    "### Example Docstring\n",
    "\n",
    "(In NumPy style.)"
   ]
  },
  {
   "cell_type": "code",
   "execution_count": null,
   "id": "5c870097",
   "metadata": {
    "slideshow": {
     "slide_type": "fragment"
    }
   },
   "outputs": [],
   "source": [
    "def add(num1, num2):\n",
    "    \"\"\"Add two numbers together. \n",
    "    \n",
    "    Parameters\n",
    "    ----------\n",
    "    num1 : int or float\n",
    "        The first number, to be added. \n",
    "    num2 : int or float\n",
    "        The second number, to be added.\n",
    "    \n",
    "    Returns\n",
    "    -------\n",
    "    answer : float\n",
    "        The result of the addition. \n",
    "    \"\"\"\n",
    "    \n",
    "    answer = num1 + num2\n",
    "    \n",
    "    return answer"
   ]
  },
  {
   "cell_type": "markdown",
   "id": "96ce805b",
   "metadata": {
    "slideshow": {
     "slide_type": "fragment"
    }
   },
   "source": [
    "Docstrings\n",
    "\n",
    "- multi-line string that describes what's going on\n",
    "- starts and ends with triple quotes `\"\"\"`"
   ]
  },
  {
   "cell_type": "markdown",
   "id": "0626f457",
   "metadata": {},
   "source": [
    "**[NumPy style](https://numpydoc.readthedocs.io/en/latest/format.html)** is a particular convention for docstrings. It's the format we will ask you to use for your final project. [Here is a longer example.](https://numpydoc.readthedocs.io/en/latest/example.html#source)\n",
    "\n",
    "- one sentence overview at the top - the task/goal of function\n",
    "- **Parameters** : description of function arguments, keywords & respective types\n",
    "- **Returns** : explanation of returned values and their types\n",
    "\n",
    "It's a lot to write, but you write all this when you are writing code that you expect _others_ to use.\n",
    "\n",
    "The term **API (Application Programming Interface)** refers to the code you tell other people to use.\n",
    "\n",
    "NumPy style docstrings are a way to describe your API for others."
   ]
  },
  {
   "cell_type": "markdown",
   "id": "2d00d72e",
   "metadata": {
    "slideshow": {
     "slide_type": "slide"
    }
   },
   "source": [
    "### Docstrings are available through the code"
   ]
  },
  {
   "cell_type": "code",
   "execution_count": null,
   "id": "86a91831",
   "metadata": {
    "slideshow": {
     "slide_type": "-"
    }
   },
   "outputs": [],
   "source": [
    "add?"
   ]
  },
  {
   "cell_type": "code",
   "execution_count": null,
   "id": "8321fdb6",
   "metadata": {
    "slideshow": {
     "slide_type": "fragment"
    }
   },
   "outputs": [],
   "source": [
    "# The `help` function prints out the `docstring` \n",
    "# of an object (module, function, class)\n",
    "help(add)"
   ]
  },
  {
   "cell_type": "code",
   "execution_count": null,
   "id": "cfd46c41",
   "metadata": {
    "scrolled": true,
    "slideshow": {
     "slide_type": "-"
    }
   },
   "outputs": [],
   "source": [
    "# Docstrings get stored as the `__doc__` attribute\n",
    "# can also be accessed from there\n",
    "print(add.__doc__)"
   ]
  },
  {
   "cell_type": "markdown",
   "id": "a14d16b8",
   "metadata": {
    "slideshow": {
     "slide_type": "fragment"
    }
   },
   "source": [
    "#### Docstrings can also be available *outside* of the source code.\n",
    "\n",
    "For example, the [online pandas documentation](https://pandas.pydata.org/docs/reference/api/pandas.DataFrame.html#pandas-dataframe) is rendered from the [docstrings in the code](https://github.com/pandas-dev/pandas/blob/v2.1.3/pandas/core/frame.py#L491-L12281)."
   ]
  },
  {
   "cell_type": "markdown",
   "id": "6b8c8364",
   "metadata": {
    "slideshow": {
     "slide_type": "slide"
    }
   },
   "source": [
    "#### Class Question #3\n",
    "\n",
    "What should be included in a docstring?\n",
    "\n",
    "1) Input arguments and their types  \n",
    "2) A brief overview sentence about the code  \n",
    "3) A copy of the `def` line  \n",
    "4) Returned variables and their types  \n",
    "5) A step by step description of the procedure used in the code  \n",
    "\n",
    "- A) 1, 4 \n",
    "- B) 2, 3, 5\n",
    "- C) 3, 5 \n",
    "- D) 1, 2, 4 \n",
    "- E) 1, 2, 3, 4, 5"
   ]
  },
  {
   "cell_type": "code",
   "execution_count": null,
   "id": "244f1700",
   "metadata": {
    "tags": [
     "live"
    ]
   },
   "outputs": [],
   "source": []
  },
  {
   "cell_type": "markdown",
   "id": "3e08debc",
   "metadata": {
    "slideshow": {
     "slide_type": "slide"
    }
   },
   "source": [
    "### Projects & Documentation\n",
    "\n",
    "**Do *all* of my functions need NumPy-style documentation?**\n",
    "\n",
    "- Your original code definitely needs NumPy-style docstrings (required)\n",
    "    - Exception: if you write a teeny tiny function to accomplish a super small task _and_ you don't intend for users of your code to call that function directly _and_ how the function works is obvious with a quick glance at the code, then you do not need docstring.\n",
    "- If you include functions from an assignment, you do not have to document them.\n",
    "    - But if they are main functions in the code (would be used by others) it is better to add documentation them"
   ]
  },
  {
   "cell_type": "markdown",
   "id": "a297fb7e",
   "metadata": {
    "slideshow": {
     "slide_type": "slide"
    }
   },
   "source": [
    "### Practice\n",
    "\n",
    "Together, let's try to:\n",
    "\n",
    "1. improve the names\n",
    "2. Document this code"
   ]
  },
  {
   "cell_type": "code",
   "execution_count": null,
   "id": "dae3f10a",
   "metadata": {
    "tags": [
     "live"
    ]
   },
   "outputs": [],
   "source": [
    "def f(input):\n",
    "    a = []\n",
    "    b = list(input)\n",
    "    for x in b: \n",
    "        a.append(str(ord(x)))    \n",
    "    c = '+'.join(a)\n",
    "    return c\n",
    "\n",
    "\n",
    "f(['m', 'y', 'c', 'o'])"
   ]
  },
  {
   "cell_type": "markdown",
   "id": "a9813f9b",
   "metadata": {
    "slideshow": {
     "slide_type": "slide"
    }
   },
   "source": [
    "### A Note About the Real-World: Documentation"
   ]
  },
  {
   "cell_type": "markdown",
   "id": "8871160b",
   "metadata": {
    "slideshow": {
     "slide_type": "fragment"
    }
   },
   "source": [
    "**Documentation in a large software project** may include many things, docstrings included:\n",
    "\n",
    "- A `README` is a file that provides an overview of the project to potential users and developers\n",
    "- A `LICENSE` file specifies the license under which the code is available (the terms of use)\n",
    "- An `API Reference` is a collection of the docstrings, listing public interfaces, parameters and return values\n",
    "- Tutorials and/or Examples show examples and tutorials for using the codebase"
   ]
  },
  {
   "cell_type": "markdown",
   "id": "1c9a5bdb",
   "metadata": {
    "collapsed": true,
    "slideshow": {
     "slide_type": "fragment"
    }
   },
   "source": [
    "Projects may have **online documentation sites** so you can access the docs on the web.\n",
    "\n",
    "#### Function Documentation Example\n",
    "`numpy.array` :\n",
    "https://docs.scipy.org/doc/numpy/reference/generated/numpy.array.html\n",
    "\n",
    "#### Package Documentation Example\n",
    "**scikit learn** (`sklearn`) : https://scikit-learn.org/stable/index.html"
   ]
  },
  {
   "cell_type": "markdown",
   "id": "17677b5d",
   "metadata": {
    "slideshow": {
     "slide_type": "slide"
    }
   },
   "source": [
    "## A Note About the Real-World: Linters"
   ]
  },
  {
   "cell_type": "markdown",
   "id": "ea516008",
   "metadata": {
    "slideshow": {
     "slide_type": "fragment"
    }
   },
   "source": [
    "<div class=\"alert alert-success\">\n",
    "A linter is a tool that analyzes code for both programmatic errors and stylistic issues. \n",
    "</div>"
   ]
  },
  {
   "cell_type": "markdown",
   "id": "d10ef54f",
   "metadata": {
    "slideshow": {
     "slide_type": "fragment"
    }
   },
   "source": [
    "`pylint` is available from Anaconda to check this for you. (Not available on datahub.)\n",
    "\n",
    "\n",
    "```python\n",
    "# to install on datahub\n",
    "!pip install --user pylint\n",
    "```"
   ]
  },
  {
   "cell_type": "code",
   "execution_count": null,
   "id": "3559e679",
   "metadata": {},
   "outputs": [],
   "source": [
    "!pip install --user pylint"
   ]
  },
  {
   "cell_type": "markdown",
   "id": "68a918ff",
   "metadata": {
    "collapsed": true,
    "slideshow": {
     "slide_type": "fragment"
    }
   },
   "source": [
    "Let's lint this code:\n",
    "\n",
    "```python\n",
    "def MyFunction(input_num):\n",
    "    \n",
    "    my_list = [0,1,2,3]\n",
    "    if 1 in my_list: ind = 1\n",
    "    else:\n",
    "      ind = 0\n",
    "    qq = []\n",
    "    for i in my_list [ind:]:\n",
    "        qq.append(input_num/i)\n",
    "    return qq\n",
    "```\n",
    "\n",
    "It should already be saved as `linter_example.py`."
   ]
  },
  {
   "cell_type": "code",
   "execution_count": null,
   "id": "17e4c1b7",
   "metadata": {
    "scrolled": true
   },
   "outputs": [],
   "source": [
    "# Check using pylint\n",
    "!pylint linter_example.py"
   ]
  },
  {
   "cell_type": "markdown",
   "id": "5d42253d",
   "metadata": {
    "slideshow": {
     "slide_type": "slide"
    }
   },
   "source": [
    "## A Note About the Real-World: Software Versioning\n",
    "\n",
    "When you make changes to the software you've released into the world, you change the version of that software to let people know changes have occurred.\n",
    "\n",
    "You've probably seen version numbers like `3.11.6`, there is some meaning to those numbers. The rules can be [dizzying](https://www.python.org/dev/peps/pep-0440/#version-scheme), so we'll simplify for now:\n",
    "\n",
    "- `<MAJOR>.<MINOR>`\n",
    "    - i.e. 1.3\n",
    "    \n",
    "- `<MAJOR>.<MINOR>.<MAINTENANCE>`\n",
    "    - i.e. 1.3.1"
   ]
  },
  {
   "cell_type": "markdown",
   "id": "93de16ba",
   "metadata": {
    "slideshow": {
     "slide_type": "fragment"
    }
   },
   "source": [
    "- `<MAJOR>` - increase by 1 w/ incompatible API (Application Programming Interface) changes\n",
    "- `<MINOR>` - increase by 1 w/ added functionality in a backwards-compatible manner\n",
    "- `<MAINTENANCE>` - (aka patch) increase by 1 w/  backwards-compatible bug fixes.\n",
    "\n",
    "When `<MAJOR>` is `0`, that indicates the package is still in development. Usually `1.0.0` is the first version you expect the broader public to use."
   ]
  },
  {
   "cell_type": "code",
   "execution_count": null,
   "id": "7e12525c",
   "metadata": {
    "slideshow": {
     "slide_type": "-"
    }
   },
   "outputs": [],
   "source": [
    "# see version information\n",
    "import pandas as pd\n",
    "pd.__version__"
   ]
  },
  {
   "cell_type": "markdown",
   "id": "7cd04d04",
   "metadata": {
    "slideshow": {
     "slide_type": "fragment"
    }
   },
   "source": [
    "In Python package development... when `<MAJOR>` == 0, suggests a package in development"
   ]
  },
  {
   "cell_type": "code",
   "execution_count": null,
   "id": "3e382bca",
   "metadata": {
    "scrolled": true,
    "slideshow": {
     "slide_type": "-"
    }
   },
   "outputs": [],
   "source": [
    "# see version information on command line\n",
    "!pip show numpy"
   ]
  }
 ],
 "metadata": {
  "celltoolbar": "Slideshow",
  "kernelspec": {
   "display_name": "Python 3 (ipykernel)",
   "language": "python",
   "name": "python3"
  },
  "language_info": {
   "codemirror_mode": {
    "name": "ipython",
    "version": 3
   },
   "file_extension": ".py",
   "mimetype": "text/x-python",
   "name": "python",
   "nbconvert_exporter": "python",
   "pygments_lexer": "ipython3",
   "version": "3.11.6"
  },
  "rise": {
   "scroll": true
  }
 },
 "nbformat": 4,
 "nbformat_minor": 5
}
