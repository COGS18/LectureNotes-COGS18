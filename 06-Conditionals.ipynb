{
 "cells": [
  {
   "cell_type": "markdown",
   "id": "48bfbbb7",
   "metadata": {
    "tags": [
     "live"
    ]
   },
   "source": [
    "It may take a few seconds, but if this cell does _not_ have a red border, you haven't set up your notebook so you can respond to questions in class. Run the following cell..."
   ]
  },
  {
   "cell_type": "code",
   "execution_count": null,
   "id": "8a5195a3",
   "metadata": {},
   "outputs": [],
   "source": [
    "!mkdir live_coding_nbextension\n",
    "!curl https://cogs18-live.brianhempel.com/ext.js > live_coding_nbextension/ext.js\n",
    "!jupyter nbextension install --user --overwrite live_coding_nbextension\n",
    "!jupyter nbextension enable --user live_coding_nbextension/ext\n",
    "!rm -r live_coding_nbextension"
   ]
  },
  {
   "cell_type": "markdown",
   "id": "6b12d36d",
   "metadata": {},
   "source": [
    "...and then reload this webpage once it says \"Validating: OK\" ."
   ]
  },
  {
   "cell_type": "markdown",
   "id": "f11c77c1",
   "metadata": {
    "slideshow": {
     "slide_type": "slide"
    }
   },
   "source": [
    "# Conditionals\n",
    "\n",
    "In English, we can make statements like, \"**If** _something_ **then** _do something_ **otherwise** _do something else_\".\n",
    "\n",
    "For example \"**If** _the store is open_ **then** _buy milk_ **otherwise** _milk a cow_\".\n",
    "\n",
    "We are now going to learn how to express this in Python, for example:\n",
    "\n",
    "```python\n",
    "if store_is_open():\n",
    "    buy_milk()\n",
    "else:\n",
    "    go_to_farm()\n",
    "    milk_cow()\n",
    "```\n",
    "\n",
    "The keywords we will learn for this are:\n",
    "\n",
    "- `if`\n",
    "- `elif`\n",
    "- `else`"
   ]
  },
  {
   "cell_type": "markdown",
   "id": "335ca3cd",
   "metadata": {
    "slideshow": {
     "slide_type": "slide"
    }
   },
   "source": [
    "## Conditionals: `if`"
   ]
  },
  {
   "cell_type": "markdown",
   "id": "39d69932",
   "metadata": {
    "slideshow": {
     "slide_type": "fragment"
    }
   },
   "source": [
    "<div class=\"alert alert-success\">\n",
    "Conditionals are statements that check for a condition, using the <code>if</code> statement, and then only execute a set of code if the condition evaluates as <code>True</code>.\n",
    "</div>"
   ]
  },
  {
   "cell_type": "code",
   "execution_count": null,
   "id": "aaf9be26",
   "metadata": {
    "slideshow": {
     "slide_type": "slide"
    }
   },
   "outputs": [],
   "source": [
    "condition = True\n",
    "\n",
    "if condition:\n",
    "    print('This code executes if the condition evaluates as True.')"
   ]
  },
  {
   "cell_type": "code",
   "execution_count": null,
   "id": "d3063a39",
   "metadata": {
    "slideshow": {
     "slide_type": "fragment"
    }
   },
   "outputs": [],
   "source": [
    "# equivalent to above\n",
    "if condition == True:\n",
    "    print('This code executes if the condition evaluates as True.')"
   ]
  },
  {
   "cell_type": "markdown",
   "id": "8eaac5e5",
   "metadata": {
    "slideshow": {
     "slide_type": "slide"
    }
   },
   "source": [
    "#### Class Question #1\n",
    "\n",
    "Replace `---` below with something that will cause the code to print 'Hi'"
   ]
  },
  {
   "cell_type": "code",
   "execution_count": null,
   "id": "ba461f74",
   "metadata": {
    "slideshow": {
     "slide_type": "fragment"
    },
    "tags": [
     "live"
    ]
   },
   "outputs": [],
   "source": [
    "stuff = ---\n",
    "\n",
    "if stuff:\n",
    "    print('Hi')"
   ]
  },
  {
   "cell_type": "markdown",
   "id": "e881145d",
   "metadata": {
    "slideshow": {
     "slide_type": "slide"
    }
   },
   "source": [
    "## Conditional: `else`"
   ]
  },
  {
   "cell_type": "markdown",
   "id": "c08de821",
   "metadata": {
    "slideshow": {
     "slide_type": "fragment"
    }
   },
   "source": [
    "<div class=\"alert alert-success\">\n",
    "After an <code>if</code>, you can use an <code>else</code> that will run if the condition(s) above were <code>False</code> and did not run.\n",
    "</div>"
   ]
  },
  {
   "cell_type": "code",
   "execution_count": null,
   "id": "8f5b9fb6",
   "metadata": {
    "slideshow": {
     "slide_type": "fragment"
    }
   },
   "outputs": [],
   "source": [
    "condition = True\n",
    "\n",
    "if condition:\n",
    "    print('This code executes if the condition evaluates as True.')\n",
    "else: \n",
    "    print('This code executes if the condition evaluates as False')"
   ]
  },
  {
   "cell_type": "markdown",
   "id": "9013adaa",
   "metadata": {
    "slideshow": {
     "slide_type": "slide"
    }
   },
   "source": [
    "#### Class Question #2\n",
    "\n",
    "Replace `---` below with something that will print 'Bye'."
   ]
  },
  {
   "cell_type": "code",
   "execution_count": null,
   "id": "811d4c39",
   "metadata": {
    "slideshow": {
     "slide_type": "fragment"
    },
    "tags": [
     "live"
    ]
   },
   "outputs": [],
   "source": [
    "my_value = ---\n",
    "\n",
    "if my_value:\n",
    "    print('Hi')\n",
    "else: \n",
    "    print('Bye')"
   ]
  },
  {
   "cell_type": "markdown",
   "id": "55835bba",
   "metadata": {},
   "source": [
    "There are infinitely many ways to set `my_value` so that the code prints 'Bye'. After you get it to work once, try again a different way."
   ]
  },
  {
   "cell_type": "markdown",
   "id": "b16533c9",
   "metadata": {
    "slideshow": {
     "slide_type": "slide"
    }
   },
   "source": [
    "## Conditional: `elif`"
   ]
  },
  {
   "cell_type": "markdown",
   "id": "daf31678",
   "metadata": {
    "slideshow": {
     "slide_type": "fragment"
    }
   },
   "source": [
    "<div class=\"alert alert-success\">\n",
    "After an <code>if</code> statement, you can have any number of <code>elif</code>`s (meaning 'else if') to check other conditions.\n",
    "</div>"
   ]
  },
  {
   "cell_type": "code",
   "execution_count": null,
   "id": "c425ba2d",
   "metadata": {
    "scrolled": true,
    "slideshow": {
     "slide_type": "slide"
    }
   },
   "outputs": [],
   "source": [
    "condition_1 = False\n",
    "condition_2 = True\n",
    "\n",
    "if condition_1:\n",
    "    print('This code executes if condition_1 evaluates as True.')\n",
    "elif condition_2:\n",
    "    print('This code executes if condition_1 did not evaluate as True, but condition_2 does.')\n",
    "else: \n",
    "    print('This code executes if both condition_1 and condition_2 evaluate as False')"
   ]
  },
  {
   "cell_type": "markdown",
   "id": "7386e541",
   "metadata": {
    "slideshow": {
     "slide_type": "slide"
    }
   },
   "source": [
    "### `elif` without an `else`\n",
    "\n",
    "An else statement is not required, but if both the `if` and the `elif` condtions are not met (both evaluate as `False`), then none of the branches run."
   ]
  },
  {
   "cell_type": "code",
   "execution_count": null,
   "id": "cd2943e8",
   "metadata": {
    "slideshow": {
     "slide_type": "fragment"
    }
   },
   "outputs": [],
   "source": [
    "condition_1 = False\n",
    "condition_2 = False\n",
    "\n",
    "if condition_1:\n",
    "    print('This code executes if condition_1 evaluates as True.')\n",
    "elif condition_2:\n",
    "    print('This code executes if condition_1 did not evaluate as True, but condition_2 does.')"
   ]
  },
  {
   "cell_type": "markdown",
   "id": "f1f89409",
   "metadata": {
    "slideshow": {
     "slide_type": "slide"
    }
   },
   "source": [
    "### `elif` *after* an `else` does not make sense\n",
    "\n",
    "The order will always be `if`-`elif`-`else`...with only the `if` being required. If the `elif` is at the end...it will never be tested, as the `else` will have already returned a value once reached (and thus Python will throw an error)."
   ]
  },
  {
   "cell_type": "code",
   "execution_count": null,
   "id": "fd2a0e9f",
   "metadata": {
    "scrolled": true,
    "slideshow": {
     "slide_type": "fragment"
    }
   },
   "outputs": [],
   "source": [
    "## THIS CODE WILL PRODUCE AN ERROR\n",
    "condition_1 = False\n",
    "condition_2 = False\n",
    "\n",
    "if condition_1:\n",
    "    print('This code executes if condition_1 evaluates as True.')\n",
    "else: \n",
    "    print('This code executes if both condition_1 and condition_2 evaluate as False')\n",
    "elif condition_2:\n",
    "    print('This code executes if condition_1 did not evaluate as True, but condition_2 does.')"
   ]
  },
  {
   "cell_type": "markdown",
   "id": "4280aeb1",
   "metadata": {
    "slideshow": {
     "slide_type": "slide"
    }
   },
   "source": [
    "#### Class Question #3\n",
    "\n",
    "Replace each `---` below so that the code prints 'Is San Diego sunny today?'."
   ]
  },
  {
   "cell_type": "code",
   "execution_count": null,
   "id": "fc3113df",
   "metadata": {
    "tags": [
     "live"
    ]
   },
   "outputs": [],
   "source": [
    "bool_1 = ---\n",
    "bool_2 = ---\n",
    "bool_3 = ---\n",
    "\n",
    "if bool_1:\n",
    "    print('Hi')\n",
    "elif bool_2: \n",
    "    print('How are you?')\n",
    "elif bool_3:\n",
    "    print('Is San Diego sunny today?')\n",
    "else:\n",
    "    print('Bye')"
   ]
  },
  {
   "cell_type": "markdown",
   "id": "4449d2d5",
   "metadata": {
    "slideshow": {
     "slide_type": "slide"
    }
   },
   "source": [
    "#### Class Question #4\n",
    "\n",
    "Now it's your turn to write a conditional. Replace each `---` so that the code prints _only_ 'Branch 2'.\n",
    "\n",
    "(Do not touch any code that is not `---`)"
   ]
  },
  {
   "cell_type": "code",
   "execution_count": null,
   "id": "370e9016",
   "metadata": {},
   "outputs": [],
   "source": [
    "var_true = True\n",
    "var_false = False\n",
    "\n",
    "if ---:\n",
    "    print('Branch 1')\n",
    "---\n",
    "    print('Branch 2')\n",
    "---\n",
    "    print('Branch 3')"
   ]
  },
  {
   "cell_type": "markdown",
   "id": "7ce0d005",
   "metadata": {
    "collapsed": true,
    "slideshow": {
     "slide_type": "slide"
    }
   },
   "source": [
    "## General Form of a Conditional\n",
    "\n",
    "```python\n",
    "if condition_1:\n",
    "    # code here\n",
    "elif condition_2:\n",
    "    # code here\n",
    "...\n",
    "elif condition_n:\n",
    "    # code here\n",
    "else:\n",
    "    # code here\n",
    "```\n",
    "\n",
    "- All conditionals start with an `if`, can have an optional and variable number of `elif`'s and an optional `else` statement\n",
    "- Conditionals can be any expression that can be evaluated as `True` or `False`. \n",
    "- Each `if`/`elif`/`else` component is called a \"branch\"\n",
    "- The order of branches is always `if` then `elif`(s) then `else`\n",
    "- Code in a branch is only executed if the condition is met\n",
    "    - At most one branch will run\n",
    "- The code to run inside each branch is indented\n",
    "    - you can have multiple lines of code in a branch (the examples so far only had one line of code in a branch for simplicity)"
   ]
  },
  {
   "cell_type": "markdown",
   "id": "42cd6a98",
   "metadata": {
    "slideshow": {
     "slide_type": "slide"
    }
   },
   "source": [
    "### Vocab Practice\n",
    "\n",
    "For this code (with line numbers on the right)...\n",
    "\n",
    "```python\n",
    "if store_is_open():  # 1\n",
    "    buy_milk()       # 2\n",
    "elif farm_is_open(): # 3\n",
    "    go_to_farm()     # 4\n",
    "    milk_cow()       # 5\n",
    "else:                # 6\n",
    "    drink_water()    # 7\n",
    "```\n",
    "\n",
    "...discuss these questions with your neighbor:\n",
    "\n",
    "1. Where is the _conditional_? (There is one.)\n",
    "2. Where are the _branches_? (There are three.)\n",
    "3. Where are the branch _conditions_? (There are two.)\n",
    "4. If `store_is_open()` returns `True` and `farm_is_open()` returns `False`, which lines of code does Python run?\n",
    "5. If `store_is_open()` returns `False` and `farm_is_open()` returns `False`, which lines of code does Python run?\n",
    "\n",
    "Write \"done\" in the cell below when you have discuss all five questions."
   ]
  },
  {
   "cell_type": "code",
   "execution_count": null,
   "id": "229adbff",
   "metadata": {
    "tags": [
     "live"
    ]
   },
   "outputs": [],
   "source": []
  },
  {
   "cell_type": "markdown",
   "id": "4a72f7cc",
   "metadata": {
    "slideshow": {
     "slide_type": "slide"
    }
   },
   "source": [
    "## Conditionals With Value Comparisons"
   ]
  },
  {
   "cell_type": "markdown",
   "id": "646e218b",
   "metadata": {
    "slideshow": {
     "slide_type": "-"
    }
   },
   "source": [
    "<div class=\"alert alert-success\">\n",
    "Any expression that evaluates as a boolean can be used as a condition. Comparison operators are common in conditions.\n",
    "</div>"
   ]
  },
  {
   "cell_type": "code",
   "execution_count": null,
   "id": "580b2210",
   "metadata": {
    "slideshow": {
     "slide_type": "fragment"
    }
   },
   "outputs": [],
   "source": [
    "speed_limit = 65\n",
    "speed = 66\n",
    "\n",
    "if speed > speed_limit:\n",
    "    print('You got a ticket.')\n",
    "else:\n",
    "    print('The cops ignored you.')"
   ]
  },
  {
   "cell_type": "code",
   "execution_count": null,
   "id": "3b0fddea",
   "metadata": {
    "slideshow": {
     "slide_type": "fragment"
    }
   },
   "outputs": [],
   "source": [
    "# string value comparisons also possible\n",
    "a4 = 'not started'\n",
    "\n",
    "if a4 == 'completed':\n",
    "    # Also, the branches do not need to be print statements.\n",
    "    # You can write any code here.\n",
    "    # Here, we set the `action` variable\n",
    "    action = 'grade'\n",
    "elif a4 == 'in progress':\n",
    "    action = 'wait'\n",
    "elif a4 == 'not started':\n",
    "    action = 'incomplete'\n",
    "else:\n",
    "    action = 'uncertain'\n",
    "\n",
    "action"
   ]
  },
  {
   "cell_type": "markdown",
   "id": "f9a14134",
   "metadata": {
    "slideshow": {
     "slide_type": "slide"
    }
   },
   "source": [
    "#### Class Question #5\n",
    "\n",
    "What will the following code snippet print out:\n",
    "\n",
    "```python\n",
    "condition = False\n",
    "\n",
    "if condition:\n",
    "    print(\"John\")\n",
    "elif not condition:\n",
    "    print(\"Paul\")\n",
    "elif not condition:\n",
    "    print(\"George\")\n",
    "else:\n",
    "    print(\"Ringo\")\n",
    "```\n",
    "\n",
    "Think about it without running it, and answer below."
   ]
  },
  {
   "cell_type": "code",
   "execution_count": null,
   "id": "698abe25",
   "metadata": {
    "slideshow": {
     "slide_type": "fragment"
    },
    "tags": [
     "live"
    ]
   },
   "outputs": [],
   "source": []
  },
  {
   "cell_type": "markdown",
   "id": "696cc679",
   "metadata": {
    "slideshow": {
     "slide_type": "slide"
    }
   },
   "source": [
    "#### Class Question #6: Nested if-statements\n",
    "\n",
    "You can have more than one line of code in a branch. You can even have another if-statement in a branch (nesting an if-statement inside an if-statement).\n",
    "\n",
    "What will the following code snippet print out:\n",
    "\n",
    "```python\n",
    "conditional = True\n",
    "python = \"not bad\"\n",
    "\n",
    "if conditional:\n",
    "    if python == \"great\":\n",
    "        print(\"Yay Python!\")\n",
    "    else:\n",
    "        print(\"Oh no.\")\n",
    "else:\n",
    "    print(\"I'm here.\")\n",
    "```\n",
    "\n",
    "Think about it without running it, and answer below."
   ]
  },
  {
   "cell_type": "code",
   "execution_count": null,
   "id": "13175f15",
   "metadata": {
    "slideshow": {
     "slide_type": "fragment"
    },
    "tags": [
     "live"
    ]
   },
   "outputs": [],
   "source": []
  },
  {
   "cell_type": "markdown",
   "id": "bd6d9a52",
   "metadata": {
    "slideshow": {
     "slide_type": "slide"
    }
   },
   "source": [
    "## Code Style: Conditionals\n",
    "\n",
    "- avoid single line statements\n",
    "- a single conditional (if + elif + else) has no additional line spaces between statements"
   ]
  },
  {
   "cell_type": "markdown",
   "id": "1354b53a",
   "metadata": {
    "slideshow": {
     "slide_type": "fragment"
    }
   },
   "source": [
    "### Conditionals: Code Style to Avoid"
   ]
  },
  {
   "cell_type": "code",
   "execution_count": null,
   "id": "648c01cb",
   "metadata": {
    "slideshow": {
     "slide_type": "-"
    }
   },
   "outputs": [],
   "source": [
    "value = 0\n",
    "\n",
    "if value%2==0: out=\"even\" # avoid statement on same line as conditional\n",
    "else:\n",
    "    out=\"odd\"             # don't forget about spacing around operators!                     "
   ]
  },
  {
   "cell_type": "markdown",
   "id": "75fc5094",
   "metadata": {
    "slideshow": {
     "slide_type": "fragment"
    }
   },
   "source": [
    "### Conditionals: Good Code Style"
   ]
  },
  {
   "cell_type": "code",
   "execution_count": null,
   "id": "04d617f7",
   "metadata": {
    "slideshow": {
     "slide_type": "-"
    }
   },
   "outputs": [],
   "source": [
    "value = 16\n",
    "\n",
    "if value % 2 == 0:\n",
    "    out = \"even\"\n",
    "else:\n",
    "    out = \"odd\""
   ]
  },
  {
   "cell_type": "markdown",
   "id": "50a01d44",
   "metadata": {
    "slideshow": {
     "slide_type": "slide"
    }
   },
   "source": [
    "## Functions + Conditionals\n",
    "\n",
    "Let's define a more interesting function than what we did in the functions lecture. Here we are using conditionals within our function."
   ]
  },
  {
   "cell_type": "code",
   "execution_count": null,
   "id": "e59ad6d5",
   "metadata": {
    "slideshow": {
     "slide_type": "fragment"
    }
   },
   "outputs": [],
   "source": [
    "# Determine if a value is even or odd\n",
    "def even_odd(value): \n",
    "\n",
    "    if value % 2 == 0: \n",
    "        out = \"even\"\n",
    "    else: \n",
    "        out = \"odd\"\n",
    "        \n",
    "    return out"
   ]
  },
  {
   "cell_type": "code",
   "execution_count": null,
   "id": "b1ceb632",
   "metadata": {
    "scrolled": true,
    "slideshow": {
     "slide_type": "fragment"
    }
   },
   "outputs": [],
   "source": [
    "# Execute our function to check that\n",
    "# it is working according to our expectations\n",
    "even_odd(3)"
   ]
  },
  {
   "cell_type": "markdown",
   "id": "54632216",
   "metadata": {
    "slideshow": {
     "slide_type": "slide"
    }
   },
   "source": [
    "#### Class Question #7\n",
    "\n",
    "The homework is going to ask you to write conditionals inside functions. Let's work up to this by first writing an entire conditional.\n",
    "\n",
    "Write a conditional that inspects the variable `method`:\n",
    "- If the method is `'inductive'`, set the the variable `out` to the string `'bottom-up'`\n",
    "- But if the method is `'deductive'`, set the variable `out` to the string `'top-down'`\n",
    "- Otherwise, set the variable `out` to the string `\"expected 'deductive' or 'inductive'!\"`\n"
   ]
  },
  {
   "cell_type": "code",
   "execution_count": null,
   "id": "845263cb",
   "metadata": {
    "tags": [
     "live"
    ]
   },
   "outputs": [],
   "source": [
    "method = 'induction'\n",
    "\n",
    "# write your conditional here\n",
    "\n",
    "\n",
    "print(out) # for testing"
   ]
  },
  {
   "cell_type": "markdown",
   "id": "0b3500d2",
   "metadata": {
    "slideshow": {
     "slide_type": "-"
    }
   },
   "source": [
    "#### Class Question #8\n",
    "\n",
    "Now, write a function named `methodology` that takes a single input parameter. Name the input parameter `method` (so you can copy-paste the conditional into the body of the function without any renaming).\n",
    "\n",
    "Write the body of the function so it performs the conditional you wrote above (I think you can just copy-paste the conditional above and indent it).\n",
    "\n",
    "Have the function return the variable `out`."
   ]
  },
  {
   "cell_type": "code",
   "execution_count": null,
   "id": "22ec56cc",
   "metadata": {
    "tags": [
     "live"
    ]
   },
   "outputs": [],
   "source": []
  },
  {
   "cell_type": "code",
   "execution_count": null,
   "id": "78348080",
   "metadata": {},
   "outputs": [],
   "source": [
    "# Some asserts to test your work\n",
    "\n",
    "assert methodology('inductive') == 'bottom-up'\n",
    "assert methodology('deductive') == 'top-down'\n",
    "assert methodology('abductive') == \"expected 'deductive' or 'inductive'!\""
   ]
  },
  {
   "cell_type": "markdown",
   "id": "c58e4c3d",
   "metadata": {
    "slideshow": {
     "slide_type": "slide"
    }
   },
   "source": [
    "#### Bonus Class Question #9\n",
    "\n",
    "Nesting means putting something inside something else. Here are nested `if`s.\n",
    "\n",
    "```python\n",
    "# We are trying to guess the weather based on measurements\n",
    "\n",
    "temp = 100\n",
    "humidity = 0.1\n",
    "\n",
    "if temp > 90:\n",
    "    if humidity > 0.7:\n",
    "        print(\"i'm sweating like crazy. it's hoooot and sticky\")\n",
    "    elif humidity < 0.2:\n",
    "        print(\"need to drink water, but I can do this\")\n",
    "    else:\n",
    "        print(\"need shade\")\n",
    "else:\n",
    "    print(\"not so bad\")\n",
    "```\n",
    "\n",
    "Convert the above nested `if`s above to a \"flat\" `if-elif-elif-else` structure. That is, you can write the above as one `if-elif-elif-else` conditional without the nested `if` statement.\n",
    "\n",
    "**Hint:** You will need to use the `and` operator in your conditions. I've provided the first branch condition."
   ]
  },
  {
   "cell_type": "code",
   "execution_count": null,
   "id": "2559322b",
   "metadata": {
    "tags": [
     "live"
    ]
   },
   "outputs": [],
   "source": [
    "temp = 100\n",
    "humidity = 0.1\n",
    "\n",
    "if temp > 90 and humidity > 0.7:"
   ]
  }
 ],
 "metadata": {
  "celltoolbar": "Tags",
  "kernelspec": {
   "display_name": "Python 3 (ipykernel)",
   "language": "python",
   "name": "python3"
  },
  "language_info": {
   "codemirror_mode": {
    "name": "ipython",
    "version": 3
   },
   "file_extension": ".py",
   "mimetype": "text/x-python",
   "name": "python",
   "nbconvert_exporter": "python",
   "pygments_lexer": "ipython3",
   "version": "3.11.6"
  },
  "rise": {
   "scroll": true
  }
 },
 "nbformat": 4,
 "nbformat_minor": 5
}
