{
 "cells": [
  {
   "cell_type": "markdown",
   "id": "7b30504c",
   "metadata": {},
   "source": [
    "What's the name(s) of the person(s) sitting next to you? And if they woke up tomorrow magically knowing all programming, what would they do with their new powers?"
   ]
  },
  {
   "cell_type": "code",
   "execution_count": null,
   "id": "66f9ff61",
   "metadata": {
    "tags": [
     "live"
    ]
   },
   "outputs": [],
   "source": []
  },
  {
   "cell_type": "markdown",
   "id": "896765d7",
   "metadata": {
    "slideshow": {
     "slide_type": "slide"
    }
   },
   "source": [
    "# Scientific Computing II: Pandas, Matplotlib, SciPy, Scikit Learn"
   ]
  },
  {
   "cell_type": "markdown",
   "id": "afc246ae",
   "metadata": {
    "slideshow": {
     "slide_type": "-"
    }
   },
   "source": [
    "_Last Lecture:_\n",
    "- `numpy` - for lists of numbers\n",
    "\n",
    "_This lecture:_\n",
    "- `pandas` - for heterogenious data (i.e. not just numbers)\n",
    "- `matplotlib` - for drawing plots\n",
    "- `scipy` - for statistical analysis\n",
    "- `sklearn` - for machine learning\n",
    "\n",
    "Most of this lecture will focus on `pandas`, which is what you are most likely to use in real life. We will also look at the others _briefly_, so you have a basic idea of _when_ to reach for them."
   ]
  },
  {
   "cell_type": "markdown",
   "id": "6ce4a9a5",
   "metadata": {
    "slideshow": {
     "slide_type": "slide"
    }
   },
   "source": [
    "## Pandas is a Python library for spreadsheet-like data\n",
    "\n",
    "Last lecture we learned that NumPy is for lots of _numbers_ (1-D, 2-D, 3-D, or N-D arrays of numbers...or booleans).\n",
    "\n",
    "Today we learn Pandas. **Pandas is for _tables_ of data.** Stuff like this:\n",
    "\n",
    "| subject_id | score   | group | condition    |\n",
    "|------------|---------|-------|--------------|\n",
    "| '001'      | 16.5    | 2     | 'cognition'  |\n",
    "| '002'      | 21.0    | 1     | 'perception' |\n",
    "| '003'      | 18.1    | 1     | 'perception' |\n",
    "\n",
    "Unlike homogeneous arrays of numbers, table data...\n",
    "\n",
    "- may be both continuous (numeric) and categorical (discrete) in the same dataset\n",
    "- has labeled columns (and sometimes labeled rows)\n",
    "- may need different data types need to be stored (_heterogenous_ data)\n",
    "\n",
    "A table in pandas is called a \"dataframe\"."
   ]
  },
  {
   "cell_type": "code",
   "execution_count": null,
   "id": "c018d49d",
   "metadata": {
    "slideshow": {
     "slide_type": "slide"
    }
   },
   "outputs": [],
   "source": [
    "# Everyone imports Pandas as pd\n",
    "import pandas as pd"
   ]
  },
  {
   "cell_type": "code",
   "execution_count": null,
   "id": "228640eb",
   "metadata": {
    "slideshow": {
     "slide_type": "fragment"
    }
   },
   "outputs": [],
   "source": [
    "# Create some example heterogenous data\n",
    "row1 = {'Subj_ID': '001', 'score': 16.5, 'group' : 2, 'condition': 'cognition'}\n",
    "row2 = {'Subj_ID': '002', 'score': 22.0, 'group' : 1, 'condition': 'perception'}\n",
    "row3 = {'Subj_ID': '003', 'score': 18.1, 'group' : 1, 'condition': 'perception'}"
   ]
  },
  {
   "cell_type": "code",
   "execution_count": null,
   "id": "e09a62bb",
   "metadata": {
    "slideshow": {
     "slide_type": "fragment"
    }
   },
   "outputs": [],
   "source": [
    "# Create a dataframe\n",
    "df = pd.DataFrame([row1, row2, row3], [0, 1, 2]) # [0, 1, 2] are the row labels and can be omitted"
   ]
  },
  {
   "cell_type": "code",
   "execution_count": null,
   "id": "ff7ace93",
   "metadata": {
    "scrolled": false,
    "slideshow": {
     "slide_type": "-"
    }
   },
   "outputs": [],
   "source": [
    "# Check out the dataframe\n",
    "# Notice the column names\n",
    "# And the row labels 0 1 2\n",
    "df"
   ]
  },
  {
   "cell_type": "code",
   "execution_count": null,
   "id": "6f22c8c2",
   "metadata": {
    "scrolled": true,
    "slideshow": {
     "slide_type": "fragment"
    }
   },
   "outputs": [],
   "source": [
    "# You can index in pandas, by column\n",
    "df['condition']"
   ]
  },
  {
   "cell_type": "markdown",
   "id": "300f3873",
   "metadata": {},
   "source": [
    "(This new kind of object here is a _series_, which is like a list but with index labels on every item. Here, the labels are `0` `1` `2` just like a list or array. But the labels could be anything.)"
   ]
  },
  {
   "cell_type": "code",
   "execution_count": null,
   "id": "ccef4568",
   "metadata": {},
   "outputs": [],
   "source": [
    "# Like NumPy, you can index using a list, here we grab two columns\n",
    "# This gives us a new dataframe\n",
    "df[['score','group']]"
   ]
  },
  {
   "cell_type": "code",
   "execution_count": null,
   "id": "ee62549a",
   "metadata": {},
   "outputs": [],
   "source": [
    "df # original df unchanged"
   ]
  },
  {
   "cell_type": "markdown",
   "id": "68631921",
   "metadata": {},
   "source": [
    "Indexing a dataframe grabs columns. To get rows, we have to use `.loc` or `.iloc`"
   ]
  },
  {
   "cell_type": "code",
   "execution_count": null,
   "id": "9e1a95f0",
   "metadata": {
    "scrolled": true
   },
   "outputs": [],
   "source": [
    "df[0] # does not work"
   ]
  },
  {
   "cell_type": "code",
   "execution_count": null,
   "id": "84b457f7",
   "metadata": {
    "scrolled": false,
    "slideshow": {
     "slide_type": "fragment"
    }
   },
   "outputs": [],
   "source": [
    "# .loc specifies row, column position\n",
    "df.loc[0, :]"
   ]
  },
  {
   "cell_type": "code",
   "execution_count": null,
   "id": "6e76a49e",
   "metadata": {},
   "outputs": [],
   "source": [
    "# Or\n",
    "df.loc[0]"
   ]
  },
  {
   "cell_type": "code",
   "execution_count": null,
   "id": "829d38d3",
   "metadata": {},
   "outputs": [],
   "source": [
    "# To grab multiple rows, use array of row labels\n",
    "df.loc[[0,0,1]]"
   ]
  },
  {
   "cell_type": "code",
   "execution_count": null,
   "id": "88660d05",
   "metadata": {},
   "outputs": [],
   "source": [
    "# Same\n",
    "df.loc[[0,0,1], :]"
   ]
  },
  {
   "cell_type": "code",
   "execution_count": null,
   "id": "cb1b3ac3",
   "metadata": {
    "slideshow": {
     "slide_type": "fragment"
    }
   },
   "outputs": [],
   "source": [
    "# Shape, in (rows, columns) like NumPy\n",
    "df.shape"
   ]
  },
  {
   "cell_type": "code",
   "execution_count": null,
   "id": "0b874e64",
   "metadata": {
    "slideshow": {
     "slide_type": "fragment"
    }
   },
   "outputs": [],
   "source": [
    "# how many rows there are in a series/df\n",
    "len(df) # df.shape[1] would also work"
   ]
  },
  {
   "cell_type": "markdown",
   "id": "7f5cf494",
   "metadata": {
    "slideshow": {
     "slide_type": "-"
    }
   },
   "source": [
    "As we are seeing, **dataframes**:\n",
    "\n",
    "- are a data structure for labeled rows and columns of data\n",
    "- have associated methods for working with data.\n",
    "- are arranged by columns, each of which is a Pandas **Series**"
   ]
  },
  {
   "cell_type": "markdown",
   "id": "dd5b28ca",
   "metadata": {
    "slideshow": {
     "slide_type": "slide"
    }
   },
   "source": [
    "#### Class Question #1\n",
    "\n",
    "```python\n",
    "row1 = {'Subj_ID': '001', 'score': 16.5, 'group' : 2, 'condition': 'cognition'}\n",
    "row2 = {'Subj_ID': '002', 'score': 22.0, 'group' : 1, 'condition': 'perception'}\n",
    "row3 = {'Subj_ID': '003', 'score': 18.1, 'group' : 1, 'condition': 'perception'}\n",
    "\n",
    "df = pd.DataFrame([row1, row2, row3])\n",
    "df\n",
    "```\n",
    "<table border=\"1\" class=\"dataframe\">\n",
    "  <thead>\n",
    "    <tr style=\"text-align: right;\">\n",
    "      <th></th>\n",
    "      <th>Subj_ID</th>\n",
    "      <th>score</th>\n",
    "      <th>group</th>\n",
    "      <th>condition</th>\n",
    "    </tr>\n",
    "  </thead>\n",
    "  <tbody>\n",
    "    <tr>\n",
    "      <th>0</th>\n",
    "      <td>001</td>\n",
    "      <td>16.5</td>\n",
    "      <td>2</td>\n",
    "      <td>cognition</td>\n",
    "    </tr>\n",
    "    <tr>\n",
    "      <th>1</th>\n",
    "      <td>002</td>\n",
    "      <td>22.0</td>\n",
    "      <td>1</td>\n",
    "      <td>perception</td>\n",
    "    </tr>\n",
    "    <tr>\n",
    "      <th>2</th>\n",
    "      <td>003</td>\n",
    "      <td>18.1</td>\n",
    "      <td>1</td>\n",
    "      <td>perception</td>\n",
    "    </tr>\n",
    "  </tbody>\n",
    "</table>\n",
    "\n",
    "How do we extract just the `score` column?"
   ]
  },
  {
   "cell_type": "code",
   "execution_count": null,
   "id": "25f8c91f",
   "metadata": {
    "tags": [
     "live"
    ]
   },
   "outputs": [],
   "source": []
  },
  {
   "cell_type": "markdown",
   "id": "0feafa4f",
   "metadata": {},
   "source": [
    "#### Class Question #2\n",
    "\n",
    "How do we extract both the `Subj_ID` and `score` columns together (all rows)?"
   ]
  },
  {
   "cell_type": "code",
   "execution_count": null,
   "id": "cbfc307f",
   "metadata": {
    "tags": [
     "live"
    ]
   },
   "outputs": [],
   "source": []
  },
  {
   "cell_type": "markdown",
   "id": "b16aab51",
   "metadata": {},
   "source": [
    "#### Class Question #3\n",
    "\n",
    "How do we extract the first row (all columns)?"
   ]
  },
  {
   "cell_type": "code",
   "execution_count": null,
   "id": "f9f5b354",
   "metadata": {
    "tags": [
     "live"
    ]
   },
   "outputs": [],
   "source": []
  },
  {
   "cell_type": "markdown",
   "id": "5a64df89",
   "metadata": {},
   "source": [
    "#### Class Question #4\n",
    "\n",
    "How do we extract the first row as a 1-row _dataframe_ (all columns)?"
   ]
  },
  {
   "cell_type": "code",
   "execution_count": null,
   "id": "6dcc2685",
   "metadata": {
    "scrolled": true,
    "tags": [
     "live"
    ]
   },
   "outputs": [],
   "source": []
  },
  {
   "cell_type": "markdown",
   "id": "b82b100f",
   "metadata": {},
   "source": [
    "#### Class Question #5\n",
    "\n",
    "How do we extract the second and third row together (all colums)?"
   ]
  },
  {
   "cell_type": "code",
   "execution_count": null,
   "id": "ba58b45b",
   "metadata": {
    "tags": [
     "live"
    ]
   },
   "outputs": [],
   "source": []
  },
  {
   "cell_type": "markdown",
   "id": "5ac463a5",
   "metadata": {},
   "source": [
    "#### Class Question #6\n",
    "\n",
    "How do we extract the second and third row, but only the `Subj_ID` and `score` columns?"
   ]
  },
  {
   "cell_type": "code",
   "execution_count": null,
   "id": "c3b5bf32",
   "metadata": {
    "tags": [
     "live"
    ]
   },
   "outputs": [],
   "source": []
  },
  {
   "cell_type": "markdown",
   "id": "d8fe78a0",
   "metadata": {},
   "source": [
    "#### Class Question #7\n",
    "\n",
    "How do we get the third row's `score` value?"
   ]
  },
  {
   "cell_type": "code",
   "execution_count": null,
   "id": "add4f3c0",
   "metadata": {
    "tags": [
     "live"
    ]
   },
   "outputs": [],
   "source": []
  },
  {
   "cell_type": "markdown",
   "id": "55214c35",
   "metadata": {
    "slideshow": {
     "slide_type": "slide"
    }
   },
   "source": [
    "### Descriptive statistics"
   ]
  },
  {
   "cell_type": "markdown",
   "id": "29b1b874",
   "metadata": {
    "slideshow": {
     "slide_type": "-"
    }
   },
   "source": [
    "There are *a lot* of functions and methods within pandas. The general syntax is `df.method()` where the `method()` computes something about the dataframe `df`. These methods are usually _not_ in-place (they do not modify the original dataframe)."
   ]
  },
  {
   "cell_type": "code",
   "execution_count": null,
   "id": "f9dffe76",
   "metadata": {},
   "outputs": [],
   "source": [
    "df"
   ]
  },
  {
   "cell_type": "code",
   "execution_count": null,
   "id": "72757811",
   "metadata": {
    "slideshow": {
     "slide_type": "fragment"
    }
   },
   "outputs": [],
   "source": [
    "# calculate summary statistics\n",
    "df.describe()"
   ]
  },
  {
   "cell_type": "code",
   "execution_count": null,
   "id": "4fcf25ec",
   "metadata": {
    "slideshow": {
     "slide_type": "fragment"
    }
   },
   "outputs": [],
   "source": [
    "# Get the max of a column\n",
    "df['score'].max()"
   ]
  },
  {
   "cell_type": "code",
   "execution_count": null,
   "id": "d01ef4c3",
   "metadata": {
    "slideshow": {
     "slide_type": "fragment"
    }
   },
   "outputs": [],
   "source": [
    "# Take the average of the two numeric columns\n",
    "df[['score','group']].mean()"
   ]
  },
  {
   "cell_type": "markdown",
   "id": "f44982ba",
   "metadata": {},
   "source": [
    "Breakdown how many of each category there are by using `.value_counts()`"
   ]
  },
  {
   "cell_type": "code",
   "execution_count": null,
   "id": "81caad56",
   "metadata": {
    "scrolled": false,
    "slideshow": {
     "slide_type": "fragment"
    }
   },
   "outputs": [],
   "source": [
    "val_counts = df['condition'].value_counts()\n",
    "val_counts"
   ]
  },
  {
   "cell_type": "markdown",
   "id": "6ff25b50",
   "metadata": {},
   "source": [
    "This is a series so we can index by the labels:"
   ]
  },
  {
   "cell_type": "code",
   "execution_count": null,
   "id": "bdbfad03",
   "metadata": {},
   "outputs": [],
   "source": [
    "val_counts['perception']"
   ]
  },
  {
   "cell_type": "code",
   "execution_count": null,
   "id": "ff2b0eaf",
   "metadata": {
    "scrolled": false
   },
   "outputs": [],
   "source": [
    "val_counts['cognition']"
   ]
  },
  {
   "cell_type": "code",
   "execution_count": null,
   "id": "086750b1",
   "metadata": {
    "scrolled": false,
    "slideshow": {
     "slide_type": "fragment"
    }
   },
   "outputs": [],
   "source": [
    "# .unique() says which unique values are there\n",
    "df['condition'].unique()"
   ]
  },
  {
   "cell_type": "code",
   "execution_count": null,
   "id": "98af4948",
   "metadata": {
    "slideshow": {
     "slide_type": "fragment"
    }
   },
   "outputs": [],
   "source": [
    "# .nunique() says how many unique values are there\n",
    "df['condition'].nunique()"
   ]
  },
  {
   "cell_type": "code",
   "execution_count": null,
   "id": "3fc95e7b",
   "metadata": {
    "slideshow": {
     "slide_type": "fragment"
    }
   },
   "outputs": [],
   "source": [
    "# What's the category that shows up the most?\n",
    "val_counts = df['condition'].value_counts()\n",
    "val_counts.idxmax()"
   ]
  },
  {
   "cell_type": "code",
   "execution_count": null,
   "id": "a27dc313",
   "metadata": {
    "slideshow": {
     "slide_type": "fragment"
    }
   },
   "outputs": [],
   "source": [
    "# What's the count of the value that shows up the most?\n",
    "val_counts.max()"
   ]
  },
  {
   "cell_type": "markdown",
   "id": "5702c331",
   "metadata": {
    "slideshow": {
     "slide_type": "slide"
    }
   },
   "source": [
    "#### Class Question #8\n",
    "\n",
    "Compute the _mean_ age of the following five people."
   ]
  },
  {
   "cell_type": "code",
   "execution_count": null,
   "id": "3b1faf1c",
   "metadata": {},
   "outputs": [],
   "source": [
    "df = pd.DataFrame({\n",
    "    'name': ['Alice', 'Bob', 'Charlie', 'David', 'Emily'],\n",
    "    'age':  [25, 20, 22, 25, 18],\n",
    "    'city': ['San Diego', 'San Francisco', 'Los Angeles', 'Chicago', 'Boston']\n",
    "})\n",
    "df"
   ]
  },
  {
   "cell_type": "code",
   "execution_count": null,
   "id": "a3189e3e",
   "metadata": {
    "tags": [
     "live"
    ]
   },
   "outputs": [],
   "source": [
    "# answer here"
   ]
  },
  {
   "cell_type": "markdown",
   "id": "dbea78e9",
   "metadata": {
    "slideshow": {
     "slide_type": "slide"
    }
   },
   "source": [
    "#### Class Question #9\n",
    "\n",
    "Compute the _most common_ age of the five people."
   ]
  },
  {
   "cell_type": "code",
   "execution_count": null,
   "id": "7c3a5ab1",
   "metadata": {},
   "outputs": [],
   "source": [
    "df # remind ourselves of the data"
   ]
  },
  {
   "cell_type": "code",
   "execution_count": null,
   "id": "886647a0",
   "metadata": {
    "tags": [
     "live"
    ]
   },
   "outputs": [],
   "source": [
    "# answer here"
   ]
  },
  {
   "cell_type": "markdown",
   "id": "68253fca",
   "metadata": {
    "slideshow": {
     "slide_type": "slide"
    }
   },
   "source": [
    "#### Class Question #10\n",
    "\n",
    "What ordinary Python type is the best analogy for a dataframe?\n",
    "\n",
    "- A) A dataframe is like a list\n",
    "- B) A dataframe is like a dictionary\n",
    "- C) A dataframe is like a tuple\n",
    "- D) A dataframe is like a list of tuples\n",
    "- E) A dataframe is like a list of dictionaries\n",
    "- G) A dataframe is like a dictionary of lists"
   ]
  },
  {
   "cell_type": "code",
   "execution_count": null,
   "id": "190e0606",
   "metadata": {
    "tags": [
     "live"
    ]
   },
   "outputs": [],
   "source": []
  },
  {
   "cell_type": "markdown",
   "id": "8161555e",
   "metadata": {
    "slideshow": {
     "slide_type": "slide"
    }
   },
   "source": [
    "### Three ways to initialize a dataframe"
   ]
  },
  {
   "cell_type": "markdown",
   "id": "c0e26dd4",
   "metadata": {},
   "source": [
    "List of dictionaries:"
   ]
  },
  {
   "cell_type": "code",
   "execution_count": null,
   "id": "16462cbf",
   "metadata": {},
   "outputs": [],
   "source": [
    "# Each dictionary is a row.\n",
    "row1 = {'Subj_ID': '001', 'score': 16.5, 'group': 2, 'condition': 'cognition'}\n",
    "row2 = {'Subj_ID': '002', 'score': 22.0, 'group': 1, 'condition': 'perception'}\n",
    "row3 = {'Subj_ID': '003', 'score': 18.1, 'group': 1, 'condition': 'perception'}\n",
    "\n",
    "df = pd.DataFrame([row1, row2, row3])\n",
    "df"
   ]
  },
  {
   "cell_type": "markdown",
   "id": "4acb7ab2",
   "metadata": {},
   "source": [
    "Dictionary of lists:"
   ]
  },
  {
   "cell_type": "code",
   "execution_count": null,
   "id": "43e557ed",
   "metadata": {},
   "outputs": [],
   "source": [
    "# Each list is a column.\n",
    "col1 = ['001', '002', '003']\n",
    "col2 = [16.5, 22.0, 18.1]\n",
    "col3 = [2, 1, 1]\n",
    "col4 = ['cognition', 'perception', 'perception']\n",
    "\n",
    "df = pd.DataFrame({\n",
    "    'Subj_ID':   col1,\n",
    "    'score':     col2,\n",
    "    'group':     col3,\n",
    "    'condition': col4\n",
    "})\n",
    "df"
   ]
  },
  {
   "cell_type": "markdown",
   "id": "9fe2660a",
   "metadata": {},
   "source": [
    "From a comma-separated value (CSV) file:"
   ]
  },
  {
   "cell_type": "code",
   "execution_count": null,
   "id": "ed5b4904",
   "metadata": {},
   "outputs": [],
   "source": [
    "# There is a '14.2-data.csv' file in the LectureNotes folder.\n",
    "!cat '14.2-data.csv'"
   ]
  },
  {
   "cell_type": "code",
   "execution_count": null,
   "id": "386b1096",
   "metadata": {},
   "outputs": [],
   "source": [
    "df = pd.read_csv('14.2-data.csv')\n",
    "df"
   ]
  },
  {
   "cell_type": "code",
   "execution_count": null,
   "id": "8c44a306",
   "metadata": {},
   "outputs": [],
   "source": [
    "# But note it inferred that our subject IDs were integers and we lost the leading zeros.\n",
    "#\n",
    "# Let's force Subj_ID to be strings:\n",
    "\n",
    "df = pd.read_csv('14.2-data.csv', dtype={'Subj_ID': str})\n",
    "df"
   ]
  },
  {
   "cell_type": "markdown",
   "id": "602a6476",
   "metadata": {
    "slideshow": {
     "slide_type": "slide"
    }
   },
   "source": [
    "### Modifying columns"
   ]
  },
  {
   "cell_type": "code",
   "execution_count": null,
   "id": "2073623a",
   "metadata": {},
   "outputs": [],
   "source": [
    "# Remind ourself what df is\n",
    "df"
   ]
  },
  {
   "cell_type": "markdown",
   "id": "7b1228f1",
   "metadata": {},
   "source": [
    "To edit values within a column and replace original values, the general form is:\n",
    "\n",
    "```python\n",
    "df[column] = some_list_or_array_of_the_same_length\n",
    "```"
   ]
  },
  {
   "cell_type": "markdown",
   "id": "4db5c15e",
   "metadata": {},
   "source": [
    "String replacement..."
   ]
  },
  {
   "cell_type": "code",
   "execution_count": null,
   "id": "4dfc8328",
   "metadata": {
    "scrolled": true,
    "slideshow": {
     "slide_type": "fragment"
    }
   },
   "outputs": [],
   "source": [
    "df['Subj_ID'] = df['Subj_ID'].replace('00', '000', regex=True)\n",
    "df['Subj_ID']"
   ]
  },
  {
   "cell_type": "markdown",
   "id": "6ee7f1d6",
   "metadata": {},
   "source": [
    "Changing the type of a variable in a column..."
   ]
  },
  {
   "cell_type": "code",
   "execution_count": null,
   "id": "6f1e54bb",
   "metadata": {},
   "outputs": [],
   "source": [
    "df['group']"
   ]
  },
  {
   "cell_type": "code",
   "execution_count": null,
   "id": "46e2f689",
   "metadata": {},
   "outputs": [],
   "source": [
    "df['group'].astype(float)"
   ]
  },
  {
   "cell_type": "code",
   "execution_count": null,
   "id": "5779b2d9",
   "metadata": {},
   "outputs": [],
   "source": [
    "df['group'] # original unchanged"
   ]
  },
  {
   "cell_type": "code",
   "execution_count": null,
   "id": "e8af61fb",
   "metadata": {
    "slideshow": {
     "slide_type": "fragment"
    }
   },
   "outputs": [],
   "source": [
    "# To change the original, assign to that column\n",
    "df['group'] = df['group'].astype(float)\n",
    "df['group']"
   ]
  },
  {
   "cell_type": "code",
   "execution_count": null,
   "id": "4de24fb3",
   "metadata": {},
   "outputs": [],
   "source": [
    "df # yep it changed now."
   ]
  },
  {
   "cell_type": "markdown",
   "id": "6d32c5eb",
   "metadata": {},
   "source": [
    "To add a new column, just assign to a new name. The new column can be whatever, as long as it's the right length."
   ]
  },
  {
   "cell_type": "code",
   "execution_count": null,
   "id": "6eb78187",
   "metadata": {},
   "outputs": [],
   "source": [
    "# Here we add the subject id as an integer:\n",
    "\n",
    "df['my_new_column'] = df['Subj_ID'].astype(int)\n",
    "df"
   ]
  },
  {
   "cell_type": "markdown",
   "id": "d1e787a4",
   "metadata": {
    "slideshow": {
     "slide_type": "slide"
    }
   },
   "source": [
    "#### Class Question #11\n",
    "\n",
    "To the dataframe, add a new column named `age` with the values 22, 19, and 21 for rows 0, 1, and 2 respectively."
   ]
  },
  {
   "cell_type": "code",
   "execution_count": null,
   "id": "485cbd7c",
   "metadata": {
    "tags": [
     "live"
    ]
   },
   "outputs": [],
   "source": []
  },
  {
   "cell_type": "markdown",
   "id": "2a89e1b5",
   "metadata": {
    "slideshow": {
     "slide_type": "slide"
    }
   },
   "source": [
    "### Computing new columns from existing columns"
   ]
  },
  {
   "cell_type": "markdown",
   "id": "9cb8d7e3",
   "metadata": {},
   "source": [
    "Let's mix it up and use some different data now."
   ]
  },
  {
   "cell_type": "code",
   "execution_count": null,
   "id": "494f3d58",
   "metadata": {},
   "outputs": [],
   "source": [
    "df = pd.DataFrame({\n",
    "    'name': ['Alice', 'Bob', 'Charlie', 'David', 'Emily'],\n",
    "    'age': [25, 20, 22, 25, 18],\n",
    "    'city': ['San Diego', 'San Francisco', 'Los Angeles', 'Chicago', 'Boston']\n",
    "})\n",
    "\n",
    "df"
   ]
  },
  {
   "cell_type": "markdown",
   "id": "9575eccc",
   "metadata": {},
   "source": [
    "The columns behave somewhat like NumPy arrays, which makes it convenient to operate on them."
   ]
  },
  {
   "cell_type": "code",
   "execution_count": null,
   "id": "35dd550b",
   "metadata": {},
   "outputs": [],
   "source": [
    "df['age']"
   ]
  },
  {
   "cell_type": "code",
   "execution_count": null,
   "id": "90047690",
   "metadata": {},
   "outputs": [],
   "source": [
    "df['age'] + 20"
   ]
  },
  {
   "cell_type": "code",
   "execution_count": null,
   "id": "1b6fce05",
   "metadata": {},
   "outputs": [],
   "source": [
    "df['age'] + df['age']"
   ]
  },
  {
   "cell_type": "code",
   "execution_count": null,
   "id": "db60d681",
   "metadata": {},
   "outputs": [],
   "source": [
    "df"
   ]
  },
  {
   "cell_type": "code",
   "execution_count": null,
   "id": "8b724ebd",
   "metadata": {},
   "outputs": [],
   "source": [
    "df['double_age'] = df['age'] + df['age']"
   ]
  },
  {
   "cell_type": "code",
   "execution_count": null,
   "id": "3bd9800f",
   "metadata": {},
   "outputs": [],
   "source": [
    "df['years_until_40'] = 40 - df['age']"
   ]
  },
  {
   "cell_type": "code",
   "execution_count": null,
   "id": "0c3e8553",
   "metadata": {},
   "outputs": [],
   "source": [
    "df"
   ]
  },
  {
   "cell_type": "markdown",
   "id": "bd11713d",
   "metadata": {
    "slideshow": {
     "slide_type": "slide"
    }
   },
   "source": [
    "#### Class Question #12\n",
    "\n",
    "To the dataframe, add a column called `estimated_birth_year` that is the estimated year of the person's birth (based on simple subtraction from the current year)."
   ]
  },
  {
   "cell_type": "code",
   "execution_count": null,
   "id": "4984b687",
   "metadata": {
    "tags": [
     "live"
    ]
   },
   "outputs": [],
   "source": []
  },
  {
   "cell_type": "markdown",
   "id": "acb1efc0",
   "metadata": {
    "slideshow": {
     "slide_type": "slide"
    }
   },
   "source": [
    "### Filtering rows\n",
    "\n",
    "Sometimes you want to select only some of the rows, based on some criteria. Let's filter down to only the people over 20 years old."
   ]
  },
  {
   "cell_type": "code",
   "execution_count": null,
   "id": "f450a279",
   "metadata": {},
   "outputs": [],
   "source": [
    "df"
   ]
  },
  {
   "cell_type": "code",
   "execution_count": null,
   "id": "55ccd715",
   "metadata": {},
   "outputs": [],
   "source": [
    "df['age'] > 20"
   ]
  },
  {
   "cell_type": "markdown",
   "id": "af68342d",
   "metadata": {},
   "source": [
    "Like NumPy arrays, we can index with a list of booleans.\n",
    "\n",
    "This lets us filter down the data."
   ]
  },
  {
   "cell_type": "code",
   "execution_count": null,
   "id": "c431a0f9",
   "metadata": {},
   "outputs": [],
   "source": [
    "df.loc[df['age'] > 20]"
   ]
  },
  {
   "cell_type": "code",
   "execution_count": null,
   "id": "af25784e",
   "metadata": {},
   "outputs": [],
   "source": [
    "df.loc[df['age'] > 20,  'name']"
   ]
  },
  {
   "cell_type": "markdown",
   "id": "9a8e86da",
   "metadata": {
    "slideshow": {
     "slide_type": "slide"
    }
   },
   "source": [
    "#### Class Question #13\n",
    "\n",
    "Let's put it all together...\n",
    "\n",
    "**Get the mean age of all the people whose name begins with 'C' or later in the alphabet.**\n",
    "\n",
    "- Hint: you can compare against a string e.g. `something >= 'C'`"
   ]
  },
  {
   "cell_type": "code",
   "execution_count": null,
   "id": "322c48e3",
   "metadata": {
    "tags": [
     "live"
    ]
   },
   "outputs": [],
   "source": []
  },
  {
   "cell_type": "markdown",
   "id": "7c59e10e",
   "metadata": {
    "slideshow": {
     "slide_type": "slide"
    }
   },
   "source": [
    "**If you want to learn more about Pandas** or want to see a different presentation of all of the above, check out the Pandas chapter of the _Learning Data Science_ online textbook by UCSD's very own Sam Lau (and coauthors): [https://learningds.org/ch/06/pandas_intro.html](https://learningds.org/ch/06/pandas_intro.html)"
   ]
  },
  {
   "cell_type": "markdown",
   "id": "c2ddc845",
   "metadata": {
    "slideshow": {
     "slide_type": "slide"
    }
   },
   "source": [
    "## Matplotlib is for scientific plotting\n",
    "\n",
    "Matplotlib is almost universally regarded as clumsy to use.\n",
    "\n",
    "Nevertheless, it's really flexible, which is why I use it anyway.\n",
    "\n",
    "It's also built in to pandas with `df.plot()`\n",
    "\n",
    "**You may, and in fact are encouraged to, use ChatGPT to generate your matplotlib code. The matplotlib API is so unlearnable there is no pedagogical value in trying to teach it.**\n",
    "\n",
    "Here's the briefest teaser of matplotlib:"
   ]
  },
  {
   "cell_type": "code",
   "execution_count": null,
   "id": "291628ca",
   "metadata": {
    "slideshow": {
     "slide_type": "fragment"
    }
   },
   "outputs": [],
   "source": [
    "# The standard import incantation:\n",
    "\n",
    "import matplotlib.pyplot as plt\n",
    "import matplotlib as mpl"
   ]
  },
  {
   "cell_type": "code",
   "execution_count": null,
   "id": "75fa5ea4",
   "metadata": {
    "slideshow": {
     "slide_type": "fragment"
    }
   },
   "outputs": [],
   "source": [
    "# Create some data\n",
    "import numpy as np\n",
    "dat = np.array([1, 2, 4, 8, 16, 32])"
   ]
  },
  {
   "cell_type": "code",
   "execution_count": null,
   "id": "de6cfd12",
   "metadata": {
    "slideshow": {
     "slide_type": "-"
    }
   },
   "outputs": [],
   "source": [
    "# Plot the data\n",
    "plt.plot(dat)"
   ]
  },
  {
   "cell_type": "code",
   "execution_count": null,
   "id": "27930b80",
   "metadata": {},
   "outputs": [],
   "source": [
    "# Or, as a bar chart.\n",
    "#\n",
    "# The bar function wants X-Positions, Heights\n",
    "\n",
    "# x_positions = np.arange(len(dat)) # [0, 1, 2, 3, 4, 5]\n",
    "\n",
    "plt.bar(np.arange(len(dat)), dat)"
   ]
  },
  {
   "cell_type": "markdown",
   "id": "503d8d2a",
   "metadata": {
    "slideshow": {
     "slide_type": "fragment"
    }
   },
   "source": [
    "_Many_ plot types are available.\n",
    "\n",
    "_Lots_ of customizations is possible. Otherwise, matplotlib would have been forgotten long ago.\n",
    "\n",
    "Again, try using ChatGPT for generating matplotlib plots. (Show it some of your code and ask it to plot.)"
   ]
  },
  {
   "cell_type": "markdown",
   "id": "b60df943",
   "metadata": {
    "slideshow": {
     "slide_type": "slide"
    }
   },
   "source": [
    "## SciPy is for statistical analysis\n",
    "\n",
    "For normal distributions, hypothesis testing, etc.\n",
    "\n",
    "Use SciPy if you need probability distributions or need to calculate statistical significance.\n",
    "\n",
    "A _brief_ demo:"
   ]
  },
  {
   "cell_type": "code",
   "execution_count": null,
   "id": "3a679796",
   "metadata": {
    "slideshow": {
     "slide_type": "fragment"
    }
   },
   "outputs": [],
   "source": [
    "import scipy as sp\n",
    "from scipy import stats"
   ]
  },
  {
   "cell_type": "code",
   "execution_count": null,
   "id": "720b3299",
   "metadata": {
    "slideshow": {
     "slide_type": "-"
    }
   },
   "outputs": [],
   "source": [
    "# Simulate some data\n",
    "d1 = stats.norm.rvs(loc=0, size=1000)\n",
    "d2 = stats.norm.rvs(loc=0.5, size=1000)"
   ]
  },
  {
   "cell_type": "code",
   "execution_count": null,
   "id": "bdeb6590",
   "metadata": {
    "slideshow": {
     "slide_type": "fragment"
    }
   },
   "outputs": [],
   "source": [
    "# Plot the data\n",
    "plt.hist(d1, 25, alpha=0.6);\n",
    "plt.hist(d2, 25, alpha=0.6);"
   ]
  },
  {
   "cell_type": "code",
   "execution_count": null,
   "id": "1ca15980",
   "metadata": {
    "scrolled": false,
    "slideshow": {
     "slide_type": "fragment"
    }
   },
   "outputs": [],
   "source": [
    "# Statistically compare the two distributions with a t-test\n",
    "stats.ttest_ind(d1, d2)"
   ]
  },
  {
   "cell_type": "code",
   "execution_count": null,
   "id": "a58873d9",
   "metadata": {},
   "outputs": [],
   "source": [
    "# Wow, that's a reeeaaaally low p-value! Must not be the same distribution.\n",
    "stats.ttest_ind(d1, d2).pvalue"
   ]
  },
  {
   "cell_type": "markdown",
   "id": "944fb1fd",
   "metadata": {
    "slideshow": {
     "slide_type": "slide"
    }
   },
   "source": [
    "## Scikit-Learn is for machine learning\n",
    "\n",
    "Machine learning (ML) is trying to predict some target property from other input properties.\n",
    "\n",
    "ML does not have to be fancy deep neural networks.\n",
    "\n",
    "Again, just a brief demo. Let's try a quick linear regression."
   ]
  },
  {
   "cell_type": "markdown",
   "id": "0f6309ca",
   "metadata": {},
   "source": [
    "Our data from before:"
   ]
  },
  {
   "cell_type": "code",
   "execution_count": null,
   "id": "e0336990",
   "metadata": {},
   "outputs": [],
   "source": [
    "import pandas as pd\n",
    "\n",
    "row1 = {'Subj_ID': '001', 'score': 16.5, 'group' : 2, 'condition': 'cognition'}\n",
    "row2 = {'Subj_ID': '002', 'score': 22.0, 'group' : 1, 'condition': 'perception'}\n",
    "row3 = {'Subj_ID': '003', 'score': 18.1, 'group' : 1, 'condition': 'perception'}\n",
    "\n",
    "df = pd.DataFrame([row1, row2, row3])\n",
    "df"
   ]
  },
  {
   "cell_type": "markdown",
   "id": "e8b11f9d",
   "metadata": {},
   "source": [
    "Let's try to predict `score`, based on `group` and `condition`.\n",
    "\n",
    "The inputs and outputs need to be numeric, so for `condition` we will code `'cognition'` as `0` and `'perception'` as `1`."
   ]
  },
  {
   "cell_type": "code",
   "execution_count": null,
   "id": "21265bf8",
   "metadata": {},
   "outputs": [],
   "source": [
    "# Remember this sort of thing?\n",
    "df['condition'] == 'perception'"
   ]
  },
  {
   "cell_type": "code",
   "execution_count": null,
   "id": "044eff06",
   "metadata": {},
   "outputs": [],
   "source": [
    "(df['condition'] == 'perception').astype(int)"
   ]
  },
  {
   "cell_type": "code",
   "execution_count": null,
   "id": "04fbf993",
   "metadata": {},
   "outputs": [],
   "source": [
    "# Remember we add a new column by assigning a list/array to a new column name.\n",
    "\n",
    "df['condition_as_indicator'] = (df['condition'] == 'perception').astype(int)\n",
    "df"
   ]
  },
  {
   "cell_type": "code",
   "execution_count": null,
   "id": "d37443c1",
   "metadata": {},
   "outputs": [],
   "source": [
    "# Traditionally, the input for ML is called X\n",
    "\n",
    "X = df[['group', 'condition_as_indicator']]\n",
    "X"
   ]
  },
  {
   "cell_type": "code",
   "execution_count": null,
   "id": "f97453e3",
   "metadata": {},
   "outputs": [],
   "source": [
    "# And the target is called y\n",
    "\n",
    "y = df['score']\n",
    "y"
   ]
  },
  {
   "cell_type": "code",
   "execution_count": null,
   "id": "6a37bc54",
   "metadata": {},
   "outputs": [],
   "source": [
    "df"
   ]
  },
  {
   "cell_type": "code",
   "execution_count": null,
   "id": "b2139f5f",
   "metadata": {},
   "outputs": [],
   "source": [
    "# Train a simple linear model to predict y from X\n",
    "\n",
    "from sklearn import linear_model\n",
    "\n",
    "reg = linear_model.LinearRegression()\n",
    "\n",
    "reg.fit(X, y) # this does the training\n",
    "\n",
    "# The trained model is stored in reg\n",
    "\n",
    "print('The regression coefficients: ', reg.coef_)\n",
    "print('The regression intercept: ', reg.intercept_)\n",
    "print()\n",
    "print('That is, we predict:')\n",
    "print('score = ', reg.coef_[0], '* group + ', reg.coef_[1], '* condition_as_indicator + ', reg.intercept_)"
   ]
  },
  {
   "cell_type": "code",
   "execution_count": null,
   "id": "f42b60bb",
   "metadata": {},
   "outputs": [],
   "source": [
    "# Put the predictions back in the dataframe as \"predicted_score\" so we can see it all together.\n",
    "#\n",
    "# The predict() method predicts using the trained model\n",
    "\n",
    "X = df[['group', 'condition_as_indicator']]\n",
    "\n",
    "df['predicted_score'] = reg.predict(X)\n",
    "df"
   ]
  },
  {
   "cell_type": "markdown",
   "id": "9ed38905",
   "metadata": {
    "collapsed": true,
    "slideshow": {
     "slide_type": "slide"
    }
   },
   "source": [
    "### COGS 108: Data Science in Practice\n",
    "\n",
    "<div class=\"alert alert-info\">\n",
    "If you are interested in data science and scientific computing in Python, consider taking <b>COGS 108</b> : <a>https://github.com/COGS108/</a>.\n",
    "</div>"
   ]
  },
  {
   "cell_type": "markdown",
   "id": "c0dfcc19",
   "metadata": {
    "slideshow": {
     "slide_type": "slide"
    }
   },
   "source": [
    "## Scientific Computing Recap\n",
    "\n",
    "We looked at these _briefly_, so you have an idea of _when_ to reach for them.\n",
    "\n",
    "- `numpy` - for lists of numbers\n",
    "- `pandas` - for tables of heterogenious data (i.e. not just numbers)\n",
    "- `matplotlib` - for drawing plots\n",
    "- `scipy` - for probability distributions and statistical analysis\n",
    "- `sklearn` - for machine learning\n",
    "\n",
    "To actually use these you will have to Google your questions and/or read the docs. Honestly, that's what real-world programming is. You cannot memorize everything."
   ]
  }
 ],
 "metadata": {
  "celltoolbar": "Slideshow",
  "kernelspec": {
   "display_name": "Python 3 (ipykernel)",
   "language": "python",
   "name": "python3"
  },
  "language_info": {
   "codemirror_mode": {
    "name": "ipython",
    "version": 3
   },
   "file_extension": ".py",
   "mimetype": "text/x-python",
   "name": "python",
   "nbconvert_exporter": "python",
   "pygments_lexer": "ipython3",
   "version": "3.11.6"
  },
  "rise": {
   "scroll": true
  }
 },
 "nbformat": 4,
 "nbformat_minor": 5
}
