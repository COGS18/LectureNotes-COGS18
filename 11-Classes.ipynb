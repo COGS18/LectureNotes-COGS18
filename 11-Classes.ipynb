{
 "cells": [
  {
   "cell_type": "code",
   "execution_count": null,
   "id": "e99b7c3f",
   "metadata": {
    "tags": [
     "live"
    ]
   },
   "outputs": [],
   "source": [
    "# this cell should have a red border, indicating the code is installed for in-class responses\n",
    "# if not, go back to, like, lecture 4 and run the code cell to install"
   ]
  },
  {
   "cell_type": "markdown",
   "id": "011a4235",
   "metadata": {
    "collapsed": true,
    "slideshow": {
     "slide_type": "slide"
    }
   },
   "source": [
    "# Classes\n",
    "\n",
    "- objects\n",
    "- `class`\n",
    "    - attributes\n",
    "    - methods\n",
    "- instances\n",
    "    - `__init__`"
   ]
  },
  {
   "cell_type": "markdown",
   "id": "41577982",
   "metadata": {
    "slideshow": {
     "slide_type": "slide"
    }
   },
   "source": [
    "## Objects\n",
    "\n",
    "<div class=\"alert alert-success\">\n",
    "Objects are an organization of data (called <b>attributes</b>), with associated code to operate on that data (functions defined on the objects, called <b>methods</b>).\n",
    "</div>"
   ]
  },
  {
   "cell_type": "markdown",
   "id": "325275df",
   "metadata": {
    "slideshow": {
     "slide_type": "slide"
    }
   },
   "source": [
    "#### Class Question #1\n",
    "\n",
    "Given what we've discussed in this course so far, if you wanted to store information about a date, how would you do so?\n",
    "\n",
    "- A) string\n",
    "- B) dictionary\n",
    "- C) list\n",
    "- D) integers stored in separate variables"
   ]
  },
  {
   "cell_type": "code",
   "execution_count": null,
   "id": "e11a2bb5",
   "metadata": {
    "tags": [
     "live"
    ]
   },
   "outputs": [],
   "source": []
  },
  {
   "cell_type": "markdown",
   "id": "f1b8f90d",
   "metadata": {
    "slideshow": {
     "slide_type": "slide"
    }
   },
   "source": [
    "### Storing Dates (Motivation)"
   ]
  },
  {
   "cell_type": "code",
   "execution_count": null,
   "id": "74a39474",
   "metadata": {
    "slideshow": {
     "slide_type": "fragment"
    }
   },
   "outputs": [],
   "source": [
    "# A date, stored as a string\n",
    "date_string = '29/09/1988'\n",
    "print(date_string)"
   ]
  },
  {
   "cell_type": "code",
   "execution_count": null,
   "id": "aaa1915f",
   "metadata": {
    "slideshow": {
     "slide_type": "fragment"
    }
   },
   "outputs": [],
   "source": [
    "# A date, stored as a list of numbers\n",
    "date_list = ['29', '09', '1988']\n",
    "date_list"
   ]
  },
  {
   "cell_type": "code",
   "execution_count": null,
   "id": "710f2b4f",
   "metadata": {
    "slideshow": {
     "slide_type": "fragment"
    }
   },
   "outputs": [],
   "source": [
    "# A date, stored as a series of numbers\n",
    "day = 29\n",
    "month = 9\n",
    "year = 1988\n",
    "\n",
    "print(day)"
   ]
  },
  {
   "cell_type": "code",
   "execution_count": null,
   "id": "dc523b54",
   "metadata": {
    "slideshow": {
     "slide_type": "fragment"
    }
   },
   "outputs": [],
   "source": [
    "# A date, stored as a dictionary\n",
    "date_dictionary = {'day': 29, 'month': 9, 'year': 1988}\n",
    "date_dictionary"
   ]
  },
  {
   "cell_type": "markdown",
   "id": "080b5b2c",
   "metadata": {
    "slideshow": {
     "slide_type": "fragment"
    }
   },
   "source": [
    "_Objects_ are ways to organize data (variables) and functions together. "
   ]
  },
  {
   "cell_type": "markdown",
   "id": "1ce605f5",
   "metadata": {
    "slideshow": {
     "slide_type": "slide"
    }
   },
   "source": [
    "### Example Object: Date"
   ]
  },
  {
   "cell_type": "code",
   "execution_count": null,
   "id": "fb34f0f2",
   "metadata": {
    "slideshow": {
     "slide_type": "fragment"
    }
   },
   "outputs": [],
   "source": [
    "# Import a date object\n",
    "from datetime import date"
   ]
  },
  {
   "cell_type": "code",
   "execution_count": null,
   "id": "91e3cba6",
   "metadata": {
    "slideshow": {
     "slide_type": "fragment"
    }
   },
   "outputs": [],
   "source": [
    "date?"
   ]
  },
  {
   "cell_type": "code",
   "execution_count": null,
   "id": "5e76c45a",
   "metadata": {
    "scrolled": true,
    "slideshow": {
     "slide_type": "fragment"
    }
   },
   "outputs": [],
   "source": [
    "# Set the data we want to store in our date object\n",
    "day = 29\n",
    "month = 9\n",
    "year = 1988\n",
    "\n",
    "# Create a date object\n",
    "my_date = date(year, month, day)\n",
    "print(my_date)"
   ]
  },
  {
   "cell_type": "code",
   "execution_count": null,
   "id": "57162b92",
   "metadata": {
    "slideshow": {
     "slide_type": "fragment"
    }
   },
   "outputs": [],
   "source": [
    "# Check what type of thing `my_date` is\n",
    "type(my_date) "
   ]
  },
  {
   "cell_type": "markdown",
   "id": "c21c8e60",
   "metadata": {
    "slideshow": {
     "slide_type": "slide"
    }
   },
   "source": [
    "## Accessing Attributes & Methods"
   ]
  },
  {
   "cell_type": "markdown",
   "id": "a5cffb9f",
   "metadata": {
    "slideshow": {
     "slide_type": "fragment"
    }
   },
   "source": [
    "<div class=\"alert alert-success\">\n",
    "Attributes and methods are accessed with a <code>.</code>, followed by the attribute/method name on the object. \n",
    "</div>"
   ]
  },
  {
   "cell_type": "markdown",
   "id": "896f704e",
   "metadata": {
    "slideshow": {
     "slide_type": "slide"
    }
   },
   "source": [
    "### Date - Attributes\n",
    "\n",
    "Attributes look up & return information about the object."
   ]
  },
  {
   "cell_type": "markdown",
   "id": "240a5511",
   "metadata": {
    "slideshow": {
     "slide_type": "fragment"
    }
   },
   "source": [
    "**attributes** maintain the object's state, simply returning information about the object to you"
   ]
  },
  {
   "cell_type": "code",
   "execution_count": null,
   "id": "82740f05",
   "metadata": {},
   "outputs": [],
   "source": [
    "my_date"
   ]
  },
  {
   "cell_type": "code",
   "execution_count": null,
   "id": "832fa214",
   "metadata": {
    "slideshow": {
     "slide_type": "fragment"
    }
   },
   "outputs": [],
   "source": [
    "# Get the day attribute\n",
    "my_date.day"
   ]
  },
  {
   "cell_type": "code",
   "execution_count": null,
   "id": "2cb1d335",
   "metadata": {
    "slideshow": {
     "slide_type": "fragment"
    }
   },
   "outputs": [],
   "source": [
    "# Get the month attribute\n",
    "my_date.month"
   ]
  },
  {
   "cell_type": "code",
   "execution_count": null,
   "id": "e460c00e",
   "metadata": {
    "slideshow": {
     "slide_type": "fragment"
    }
   },
   "outputs": [],
   "source": [
    "# Get the year attribute\n",
    "my_date.year"
   ]
  },
  {
   "cell_type": "markdown",
   "id": "d6308a91",
   "metadata": {
    "slideshow": {
     "slide_type": "slide"
    }
   },
   "source": [
    "### Date - Methods\n",
    "\n",
    "These are _functions_ that *belong* to and operate on the object directly."
   ]
  },
  {
   "cell_type": "markdown",
   "id": "61f3eb19",
   "metadata": {
    "slideshow": {
     "slide_type": "fragment"
    }
   },
   "source": [
    "**methods** modify the object's state"
   ]
  },
  {
   "cell_type": "code",
   "execution_count": null,
   "id": "9a92078f",
   "metadata": {
    "slideshow": {
     "slide_type": "fragment"
    }
   },
   "outputs": [],
   "source": [
    "# Method to return what day of the week the date is\n",
    "my_date.weekday()"
   ]
  },
  {
   "cell_type": "code",
   "execution_count": null,
   "id": "b4172305",
   "metadata": {
    "slideshow": {
     "slide_type": "fragment"
    }
   },
   "outputs": [],
   "source": [
    "# Reminder: check documentation with '?'\n",
    "date.weekday?"
   ]
  },
  {
   "cell_type": "markdown",
   "id": "a68072b9",
   "metadata": {
    "slideshow": {
     "slide_type": "fragment"
    }
   },
   "source": [
    "It's also possible to carry out operations on multiple date objects."
   ]
  },
  {
   "cell_type": "code",
   "execution_count": null,
   "id": "96c9a4cc",
   "metadata": {
    "slideshow": {
     "slide_type": "fragment"
    }
   },
   "outputs": [],
   "source": [
    "# define a second date\n",
    "my_date2 = date(1980, 7, 29)\n",
    "print(my_date, my_date2)"
   ]
  },
  {
   "cell_type": "code",
   "execution_count": null,
   "id": "9524785d",
   "metadata": {
    "scrolled": true,
    "slideshow": {
     "slide_type": "fragment"
    }
   },
   "outputs": [],
   "source": [
    "# calculate the difference between times\n",
    "time_diff = my_date - my_date2\n",
    "print(time_diff)\n",
    "print(time_diff.days, \"days\") # in days\n",
    "print(time_diff.days/365, \"years\") # in years"
   ]
  },
  {
   "cell_type": "code",
   "execution_count": null,
   "id": "d754c2a3",
   "metadata": {},
   "outputs": [],
   "source": [
    "type(time_diff)"
   ]
  },
  {
   "cell_type": "markdown",
   "id": "1262eb9c",
   "metadata": {
    "slideshow": {
     "slide_type": "slide"
    }
   },
   "source": [
    "### Listing Attributes & Methods : `dir`"
   ]
  },
  {
   "cell_type": "code",
   "execution_count": null,
   "id": "c2044e73",
   "metadata": {
    "slideshow": {
     "slide_type": "fragment"
    }
   },
   "outputs": [],
   "source": [
    "# tab complete to access\n",
    "# methods and attributes\n",
    "my_date.\n",
    "\n",
    "# works to find attributes and methods\n",
    "# for date type objects generally\n",
    "date."
   ]
  },
  {
   "cell_type": "code",
   "execution_count": null,
   "id": "aec83e99",
   "metadata": {
    "slideshow": {
     "slide_type": "fragment"
    }
   },
   "outputs": [],
   "source": [
    "## dir ouputs all methods and attributes\n",
    "## we'll talk about the double underscores next lecture\n",
    "dir(my_date)"
   ]
  },
  {
   "cell_type": "markdown",
   "id": "66d95cf0",
   "metadata": {
    "slideshow": {
     "slide_type": "fragment"
    }
   },
   "source": [
    "#### Class Question #2\n",
    "\n",
    "Given the code below:\n",
    "\n",
    "```python\n",
    "my_date = date(year = 1050, month = 12, day = 12)\n",
    "```\n",
    "\n",
    "Which is the best description:\n",
    "- A) `my_date` is an object, with methods that store data, and attributes that store procedures\n",
    "- B) `my_date` is variable, and can be used with functions\n",
    "- C) `my_date` is an attribute, with methods attached to it\n",
    "- D) `my_date` is a method, and also has attributes\n",
    "- E) `my_date` is an object, with attributes that store data, and methods that store procedures"
   ]
  },
  {
   "cell_type": "code",
   "execution_count": null,
   "id": "82c0f36b",
   "metadata": {
    "slideshow": {
     "slide_type": "-"
    },
    "tags": [
     "live"
    ]
   },
   "outputs": [],
   "source": []
  },
  {
   "cell_type": "markdown",
   "id": "57cd73a4",
   "metadata": {
    "slideshow": {
     "slide_type": "slide"
    }
   },
   "source": [
    "#### Class Question #3\n",
    "\n",
    "For an object `lets` with a method `do_something`, how would you execute that method?"
   ]
  },
  {
   "cell_type": "code",
   "execution_count": null,
   "id": "cb188ccf",
   "metadata": {
    "tags": [
     "live"
    ]
   },
   "outputs": [],
   "source": []
  },
  {
   "cell_type": "markdown",
   "id": "fae4200c",
   "metadata": {
    "slideshow": {
     "slide_type": "slide"
    }
   },
   "source": [
    "#### Class Question #4\n",
    "\n",
    "For an object `lets` with an attribute `name`, how would you return the information stored in `name` for the object `lets`?"
   ]
  },
  {
   "cell_type": "code",
   "execution_count": null,
   "id": "f7287fdf",
   "metadata": {
    "tags": [
     "live"
    ]
   },
   "outputs": [],
   "source": []
  },
  {
   "cell_type": "markdown",
   "id": "51f3e9fb",
   "metadata": {
    "slideshow": {
     "slide_type": "slide"
    }
   },
   "source": [
    "### Objects Summary\n",
    "\n",
    "- Objects allow for data (attributes) and functions (methods) to be organized together\n",
    "    - methods operate on the object type (modify state)\n",
    "    - attributes store and return information (data) about the object (maintain state)\n",
    "- `dir()` returns methods & attributes for an object\n",
    "- Syntax:\n",
    "    - `obj.method()`\n",
    "    - `obj.attribute`\n",
    "- `date` and `datetime` are two types of objects in Python"
   ]
  },
  {
   "cell_type": "markdown",
   "id": "48858d80",
   "metadata": {
    "slideshow": {
     "slide_type": "slide"
    }
   },
   "source": [
    "## Classes"
   ]
  },
  {
   "cell_type": "markdown",
   "id": "dfd44b09",
   "metadata": {
    "slideshow": {
     "slide_type": "fragment"
    }
   },
   "source": [
    "<div class=\"alert alert-success\">\n",
    "    <b>Classes</b> define <em>new kinds of objects</em>. The <code>class</code> keyword opens a code block for instructions on how to create objects of a particular type.\n",
    "</div>"
   ]
  },
  {
   "cell_type": "markdown",
   "id": "847372f8",
   "metadata": {
    "slideshow": {
     "slide_type": "fragment"
    }
   },
   "source": [
    "Think of classes as the _blueprint_ for creating and defining objects and their properties (methods, attributes, etc.). They keep related things together and organized."
   ]
  },
  {
   "cell_type": "markdown",
   "id": "67bf97ac",
   "metadata": {
    "collapsed": true,
    "slideshow": {
     "slide_type": "subslide"
    }
   },
   "source": [
    "## Example Class: Dog\n",
    "\n",
    "Let's say we want to make Dog objects, so we have to tell Python what a Dog is."
   ]
  },
  {
   "cell_type": "code",
   "execution_count": null,
   "id": "8a54043f",
   "metadata": {
    "slideshow": {
     "slide_type": "fragment"
    }
   },
   "outputs": [],
   "source": [
    "class Dog:\n",
    "    \n",
    "    sound = 'Woof'\n",
    "    \n",
    "    def speak(self, n_times=2):\n",
    "        return self.sound * n_times\n"
   ]
  },
  {
   "cell_type": "markdown",
   "id": "9965a7b4",
   "metadata": {},
   "source": [
    "Annotated with what all these parts are:"
   ]
  },
  {
   "cell_type": "code",
   "execution_count": null,
   "id": "db35d526",
   "metadata": {},
   "outputs": [],
   "source": [
    "# Define a class with `class`.\n",
    "# By convention, class definitions use CapWords (not camel_case)\n",
    "class Dog:\n",
    "    \n",
    "    # Class attribute for objects of type Dog\n",
    "    # All dogs make the 'Woof' sound\n",
    "    sound = 'Woof'\n",
    "    \n",
    "    # A method for objects of type Dog\n",
    "    # First input of all methods is self, the \"instance\" of the dog object (explained later)\n",
    "    def speak(self, n_times=2):\n",
    "        return self.sound * n_times"
   ]
  },
  {
   "cell_type": "code",
   "execution_count": null,
   "id": "be7ccf2b",
   "metadata": {},
   "outputs": [],
   "source": [
    "fido = Dog() # make a dog!"
   ]
  },
  {
   "cell_type": "code",
   "execution_count": null,
   "id": "25f1edd9",
   "metadata": {},
   "outputs": [],
   "source": [
    "print(fido.sound)"
   ]
  },
  {
   "cell_type": "code",
   "execution_count": null,
   "id": "1595f739",
   "metadata": {},
   "outputs": [],
   "source": [
    "print(fido.speak(3)) # roughly, speak(fido, 3)"
   ]
  },
  {
   "cell_type": "code",
   "execution_count": null,
   "id": "92b65773",
   "metadata": {},
   "outputs": [],
   "source": [
    "print(fido) # hmm, not so helpful"
   ]
  },
  {
   "cell_type": "code",
   "execution_count": null,
   "id": "95016018",
   "metadata": {},
   "outputs": [],
   "source": [
    "type(fido) # also interesting, but not obviously useful"
   ]
  },
  {
   "cell_type": "markdown",
   "id": "ebd06c11",
   "metadata": {
    "slideshow": {
     "slide_type": "fragment"
    }
   },
   "source": [
    "A reminder:\n",
    "- **attributes** maintain the object's state; they lookup information about an object\n",
    "- **methods** often alter the object's state; they run a function on an object"
   ]
  },
  {
   "cell_type": "markdown",
   "id": "bd2f5567",
   "metadata": {
    "slideshow": {
     "slide_type": "fragment"
    }
   },
   "source": [
    "**`class`** notes:\n",
    "\n",
    "- class names tend to use **CapWords** convention\n",
    "    - instead of snake_case (functions and variable names)\n",
    "- can define **attributes** & **methods** within `class`\n",
    "- `self` is a special parameter for use by an object\n",
    "    - refers to the thing (object) itself\n",
    "- like functions, a new namespace is created within a Class\n"
   ]
  },
  {
   "cell_type": "markdown",
   "id": "744c8eb4",
   "metadata": {
    "collapsed": true,
    "slideshow": {
     "slide_type": "slide"
    }
   },
   "source": [
    "#### Class Question #5\n",
    "\n",
    "Which of the following statements is true about the example we've been using?\n",
    "\n",
    "```python\n",
    "class Dog:\n",
    "    \n",
    "    sound = 'Woof'\n",
    "    \n",
    "    def speak(self, n_times=2):\n",
    "        return self.sound * n_times\n",
    "\n",
    "\n",
    "```\n",
    "\n",
    "- A) `Dog` is a Class, `sound` is an attribute, and `speak` is a method. \n",
    "- B) `Dog` is a function, `sound` is an attribute, and `speak` is a method. \n",
    "- C) `Dog` is a Class, `sound` is a method, and `speak` is an attribute. \n",
    "- D) `Dog` is a function, `sound` is an method, and `speak` is an attribute. "
   ]
  },
  {
   "cell_type": "code",
   "execution_count": null,
   "id": "d216f707",
   "metadata": {
    "slideshow": {
     "slide_type": "fragment"
    },
    "tags": [
     "live"
    ]
   },
   "outputs": [],
   "source": []
  },
  {
   "cell_type": "markdown",
   "id": "dd98409f",
   "metadata": {
    "slideshow": {
     "slide_type": "slide"
    }
   },
   "source": [
    "### Using our Dog Objects\n",
    "\n",
    "The Dog class is a _blueprint_ for making Dog objects. So we can make many dogs!"
   ]
  },
  {
   "cell_type": "code",
   "execution_count": null,
   "id": "6291d150",
   "metadata": {
    "slideshow": {
     "slide_type": "fragment"
    }
   },
   "outputs": [],
   "source": [
    "# Initialize a group of dogs\n",
    "pack_of_dogs = [Dog(), Dog(), Dog(), Dog()]"
   ]
  },
  {
   "cell_type": "code",
   "execution_count": null,
   "id": "c64dade0",
   "metadata": {
    "scrolled": true,
    "slideshow": {
     "slide_type": "fragment"
    }
   },
   "outputs": [],
   "source": [
    "# take a look at this\n",
    "pack_of_dogs"
   ]
  },
  {
   "cell_type": "code",
   "execution_count": null,
   "id": "4faaa360",
   "metadata": {
    "scrolled": true,
    "slideshow": {
     "slide_type": "fragment"
    }
   },
   "outputs": [],
   "source": [
    "for dog in pack_of_dogs:\n",
    "    print(dog.speak())"
   ]
  },
  {
   "cell_type": "markdown",
   "id": "432ccc44",
   "metadata": {},
   "source": [
    "But all dogs are the same right now. That's not very useful.\n",
    "\n",
    "Let's change the Dog class so that each Dog object (each dog **instance**) can have a different name."
   ]
  },
  {
   "cell_type": "code",
   "execution_count": null,
   "id": "f4afe762",
   "metadata": {
    "slideshow": {
     "slide_type": "fragment"
    }
   },
   "outputs": [],
   "source": [
    "class Dog:\n",
    "    \n",
    "    ear_style = \"floppy\"\n",
    "    sound = 'Woof' # \"class attribute\", shared by all Dog instances\n",
    "    \n",
    "    # Initializer, allows us to specify instance-specific attributes\n",
    "    # self is the current instance\n",
    "    # name can differ dog to dog, it is an \"instance attribute\"\n",
    "    def __init__(self, name):\n",
    "        self.name = name\n",
    "    \n",
    "    def speak(self, n_times=2):\n",
    "        return self.sound * n_times"
   ]
  },
  {
   "cell_type": "markdown",
   "id": "59c496ad",
   "metadata": {
    "collapsed": true,
    "slideshow": {
     "slide_type": "-"
    }
   },
   "source": [
    "- Two underscores (a `dunder`, or double underscore) is used to indicate something Python recognizes and knows what to do every time it sees it.\n",
    "- `__init__` is run every time you initialize an object, so we can set up the Dog\n",
    "- `self` is the Dog _instance_, the particular Dog in question"
   ]
  },
  {
   "cell_type": "code",
   "execution_count": null,
   "id": "29c21abb",
   "metadata": {},
   "outputs": [],
   "source": [
    "# Now, when we make each Dog object (each Dog instance) we must supply a name\n",
    "fido = Dog(\"Fido\", \"Green\")\n",
    "coco = Dog(\"Coco\", \"Blue\")"
   ]
  },
  {
   "cell_type": "code",
   "execution_count": null,
   "id": "4400fde3",
   "metadata": {},
   "outputs": [],
   "source": [
    "fido.name"
   ]
  },
  {
   "cell_type": "code",
   "execution_count": null,
   "id": "dba5eff7",
   "metadata": {},
   "outputs": [],
   "source": [
    "coco.name"
   ]
  },
  {
   "cell_type": "code",
   "execution_count": null,
   "id": "21d0ae8f",
   "metadata": {},
   "outputs": [],
   "source": [
    "fido.sound"
   ]
  },
  {
   "cell_type": "code",
   "execution_count": null,
   "id": "9536dbc9",
   "metadata": {},
   "outputs": [],
   "source": [
    "coco.sound"
   ]
  },
  {
   "cell_type": "code",
   "execution_count": null,
   "id": "63c49077",
   "metadata": {},
   "outputs": [],
   "source": [
    "coco.color"
   ]
  },
  {
   "cell_type": "markdown",
   "id": "11642e3b",
   "metadata": {
    "slideshow": {
     "slide_type": "-"
    }
   },
   "source": [
    "## Instances & self"
   ]
  },
  {
   "cell_type": "markdown",
   "id": "5b28d1f5",
   "metadata": {
    "slideshow": {
     "slide_type": "fragment"
    }
   },
   "source": [
    "<div class=\"alert alert-success\">\n",
    "An <b>instance</b> is particular instantiation of a class object. <code>self</code> refers to the current instance. \n",
    "</div>"
   ]
  },
  {
   "cell_type": "code",
   "execution_count": null,
   "id": "3ca120ac",
   "metadata": {
    "slideshow": {
     "slide_type": "fragment"
    }
   },
   "outputs": [],
   "source": [
    "# Initialize a dog instance\n",
    "george = Dog(\"georgy\")"
   ]
  },
  {
   "cell_type": "markdown",
   "id": "83e1e280",
   "metadata": {
    "slideshow": {
     "slide_type": "fragment"
    }
   },
   "source": [
    "- Dog is the Class we created\n",
    "- `george` is an _instance_ of that class\n",
    "- self just refers to whatever the _current_ instance is"
   ]
  },
  {
   "cell_type": "markdown",
   "id": "61727202",
   "metadata": {
    "slideshow": {
     "slide_type": "-"
    }
   },
   "source": [
    "## Instance Attributes\n",
    "\n",
    "An instance attribute is specific to the instance we're on. This allows different instances of the same class to be unique (have different values stored in attributes and use those in methods)."
   ]
  },
  {
   "cell_type": "markdown",
   "id": "7546b82b",
   "metadata": {
    "slideshow": {
     "slide_type": "fragment"
    }
   },
   "source": [
    "<div class=\"alert alert-success\">\n",
    "Instance attributes are attributes that we can make be different for each instance of a class. <code>__init__</code> is a special method used to define instance attributes. \n",
    "</div>"
   ]
  },
  {
   "cell_type": "code",
   "execution_count": null,
   "id": "861b5e0d",
   "metadata": {
    "slideshow": {
     "slide_type": "fragment"
    }
   },
   "outputs": [],
   "source": [
    "# Initialize another dog\n",
    "# what goes in the parentheses is defined in the __init__\n",
    "gary = Dog('Gary', 'Red') "
   ]
  },
  {
   "cell_type": "code",
   "execution_count": null,
   "id": "e5b17d60",
   "metadata": {
    "slideshow": {
     "slide_type": "fragment"
    }
   },
   "outputs": [],
   "source": [
    "# Check gary's attributes\n",
    "print(gary.sound)    # This is an class attribute\n",
    "print(gary.name)     # This is a instance attribute"
   ]
  },
  {
   "cell_type": "code",
   "execution_count": null,
   "id": "59393d49",
   "metadata": {},
   "outputs": [],
   "source": [
    "print(george.sound)    # This is an class attribute\n",
    "print(george.name)     # This is a instance attribute"
   ]
  },
  {
   "cell_type": "code",
   "execution_count": null,
   "id": "3a3a8df1",
   "metadata": {},
   "outputs": [],
   "source": [
    "print(fido.sound)    # This is an class attribute\n",
    "print(fido.name)     # This is a instance attribute"
   ]
  },
  {
   "cell_type": "markdown",
   "id": "a901bc4c",
   "metadata": {
    "collapsed": true,
    "slideshow": {
     "slide_type": "slide"
    }
   },
   "source": [
    "#### Class Question #7\n",
    "\n",
    "Edit the code we've been using for the Class `Dog` to include information about the breed of the dog in `DogWithBreed`."
   ]
  },
  {
   "cell_type": "code",
   "execution_count": null,
   "id": "a9e9c167",
   "metadata": {
    "slideshow": {
     "slide_type": "fragment"
    },
    "tags": [
     "live"
    ]
   },
   "outputs": [],
   "source": [
    "# EDIT CODE HERE\n",
    "class DogWithBreed:\n",
    "    \n",
    "    sound = 'Woof' # \"class attribute\", shared by all Dog instances\n",
    "    \n",
    "    # Initializer, allows us to specify instance-specific attributes\n",
    "    # self is the current instance\n",
    "    # name can differ dog to dog, it is an \"instance attribute\"\n",
    "    def __init__(self, name):\n",
    "        self.name = name\n",
    "    \n",
    "    def speak(self, n_times=2):\n",
    "        return self.sound * n_times"
   ]
  },
  {
   "cell_type": "code",
   "execution_count": null,
   "id": "5b2d8550",
   "metadata": {
    "scrolled": true,
    "slideshow": {
     "slide_type": "fragment"
    }
   },
   "outputs": [],
   "source": [
    "## Test here\n",
    "daisy  = DogWithBreed(\"Daisy\", \"Poodle\")\n",
    "daisy  = DogWithBreed(name=\"Daisy\",  breed=\"Poodle\")\n",
    "cooper = DogWithBreed(name=\"Cooper\", breed=\"Beagle\")\n",
    "\n",
    "print(daisy.name, daisy.breed)\n",
    "print(cooper.name, cooper.breed)"
   ]
  },
  {
   "cell_type": "markdown",
   "id": "c6bd294f",
   "metadata": {
    "slideshow": {
     "slide_type": "slide"
    }
   },
   "source": [
    "## Class example: Cat"
   ]
  },
  {
   "cell_type": "code",
   "execution_count": null,
   "id": "f198de39",
   "metadata": {
    "slideshow": {
     "slide_type": "fragment"
    }
   },
   "outputs": [],
   "source": [
    "class Cat:\n",
    "    \n",
    "    sound = \"Meow\"\n",
    "    \n",
    "    def __init__(self, name):\n",
    "        self.name = name\n",
    "    \n",
    "    def speak(self, n_times=2):\n",
    "        return self.sound * n_times"
   ]
  },
  {
   "cell_type": "markdown",
   "id": "60c261ca",
   "metadata": {
    "slideshow": {
     "slide_type": "slide"
    }
   },
   "source": [
    "## Cats and Dogs!\n",
    "\n",
    "The point of objects is that they carry their own data and functions. Each pet object knows its own name and how to speak.\n",
    "\n",
    "So when we say `pet.speak()`, the cats will \"MeowMeow\" and the dogs will \"WoofWoof\"."
   ]
  },
  {
   "cell_type": "code",
   "execution_count": null,
   "id": "a3da8701",
   "metadata": {
    "slideshow": {
     "slide_type": "fragment"
    }
   },
   "outputs": [],
   "source": [
    "# Define some instances of our objects\n",
    "pets = [Cat('Jaspurr'), Dog('Barkley'), \n",
    "        Cat('Picatso'), Dog('Ruffius')]"
   ]
  },
  {
   "cell_type": "code",
   "execution_count": null,
   "id": "f7adce60",
   "metadata": {
    "scrolled": true,
    "slideshow": {
     "slide_type": "fragment"
    }
   },
   "outputs": [],
   "source": [
    "for pet in pets:\n",
    "    print(pet.name, 'says:', pet.speak())"
   ]
  },
  {
   "cell_type": "markdown",
   "id": "325d1aaa",
   "metadata": {
    "collapsed": true,
    "slideshow": {
     "slide_type": "slide"
    }
   },
   "source": [
    "#### Class Question #8\n",
    "\n",
    "What will the following code snippet print out?\n",
    "\n",
    "```python\n",
    "class Person:\n",
    "    \n",
    "    def __init__(self, name, email, score):\n",
    "        self.name = name\n",
    "        self.email = email\n",
    "        self.score = score\n",
    "    \n",
    "    def check_score(self):        \n",
    "        if self.score <= 65:\n",
    "            return self.email\n",
    "        else:\n",
    "            return None\n",
    "\n",
    "\n",
    "student = Person('Alice', 'alice@example.com', 62)\n",
    "student.check_score()\n",
    "```"
   ]
  },
  {
   "cell_type": "code",
   "execution_count": null,
   "id": "2a2c2509",
   "metadata": {
    "slideshow": {
     "slide_type": "fragment"
    },
    "tags": [
     "live"
    ]
   },
   "outputs": [],
   "source": []
  },
  {
   "cell_type": "markdown",
   "id": "b89c8ab2",
   "metadata": {
    "slideshow": {
     "slide_type": "slide"
    }
   },
   "source": [
    "### Objects and Classes Review\n",
    "\n",
    "- objects store data (**attributes**) and functions (**methods**) together\n",
    "    - `obj.attribute` accesses data stored in attribute\n",
    "    - `obj.method()` carries out code defined within method \n",
    "\n",
    "- individual objects are called **instances**\n",
    "- the kind (type) of an object is called its **class**\n",
    "\n",
    "- the `class` keyword creates a _blueprint_ for a new kind of object\n",
    "    - class names tend to use CapWords case\n",
    "    - can have **attributes** and **methods**\n",
    "    - **class attributes** are shared among all instances (e.g. Dog sound)\n",
    "    - **instance attributes** are specific to each instance (e.g. Dog name)\n",
    "        - defined within `__init__`\n",
    "        - `__init__` is a reserved method in Python\n",
    "        - `self` refers to current instance\n",
    "\n",
    "\n",
    "_Defining_ a class:\n",
    "```python\n",
    "class MyClass:\n",
    "    class_attribute = 123\n",
    "    \n",
    "    def __init__(self, in1, in2):\n",
    "        self.instance_attribute_a = in1\n",
    "        self.instance_attribute_b = in2\n",
    "    \n",
    "    def method1(self):\n",
    "        print(self.class_attribute)\n",
    "        print(self.instance_attribute_a)\n",
    "        print(self.instance_attribute_b)\n",
    "\n",
    "    def method2(self, in1):\n",
    "        self.method1()\n",
    "        print(in1)\n",
    "```\n",
    "\n",
    "Making _instances_ of the class (do not provide `self`):\n",
    "```python\n",
    "my_obj1 = MyClass('lemon', 'cake')\n",
    "my_obj2 = MyClass(True, False)\n",
    "```\n",
    "\n",
    "Accessing attributes:\n",
    "```python\n",
    "my_obj1.class_attribute      # 123\n",
    "my_obj1.instance_attribute_a # 'lemon'\n",
    "my_obj1.instance_attribute_b # 'cake'\n",
    "```\n",
    "\n",
    "Calling methods:\n",
    "```\n",
    "my_obj1.method1()\n",
    "my_obj1.method2('hi')\n",
    "```"
   ]
  },
  {
   "cell_type": "markdown",
   "id": "8781c701",
   "metadata": {
    "collapsed": true,
    "slideshow": {
     "slide_type": "slide"
    }
   },
   "source": [
    "## Everything in Python is an Object!"
   ]
  },
  {
   "cell_type": "markdown",
   "id": "fb3187d2",
   "metadata": {
    "slideshow": {
     "slide_type": "slide"
    }
   },
   "source": [
    "### Data variables are objects"
   ]
  },
  {
   "cell_type": "code",
   "execution_count": null,
   "id": "7d36442a",
   "metadata": {
    "slideshow": {
     "slide_type": "fragment"
    }
   },
   "outputs": [],
   "source": [
    "print(isinstance(True, object))\n",
    "print(isinstance(1, object))\n",
    "print(isinstance('word', object))\n",
    "print(isinstance(None, object))\n",
    "\n",
    "a = 3\n",
    "print(isinstance(a, object))"
   ]
  },
  {
   "cell_type": "markdown",
   "id": "a085bd4c",
   "metadata": {
    "slideshow": {
     "slide_type": "slide"
    }
   },
   "source": [
    "### Functions are objects"
   ]
  },
  {
   "cell_type": "code",
   "execution_count": null,
   "id": "884eb8bb",
   "metadata": {
    "slideshow": {
     "slide_type": "fragment"
    }
   },
   "outputs": [],
   "source": [
    "print(isinstance(len, object))\n",
    "print(isinstance(print, object))"
   ]
  },
  {
   "cell_type": "code",
   "execution_count": null,
   "id": "51044321",
   "metadata": {
    "slideshow": {
     "slide_type": "fragment"
    }
   },
   "outputs": [],
   "source": [
    "# Custom function are also objects\n",
    "def my_function():\n",
    "    print('yay Python!')\n",
    "    \n",
    "isinstance(my_function, object)"
   ]
  },
  {
   "cell_type": "markdown",
   "id": "d8d677c3",
   "metadata": {
    "slideshow": {
     "slide_type": "slide"
    }
   },
   "source": [
    "### Class definitions & instances are objects"
   ]
  },
  {
   "cell_type": "code",
   "execution_count": null,
   "id": "7edcc129",
   "metadata": {
    "scrolled": true,
    "slideshow": {
     "slide_type": "fragment"
    }
   },
   "outputs": [],
   "source": [
    "class MyClass():\n",
    "    def __init__(self):\n",
    "        self.data = 13\n",
    "\n",
    "my_instance = MyClass()\n",
    "\n",
    "print(isinstance(MyClass, object))\n",
    "print(isinstance(my_instance, object))"
   ]
  },
  {
   "cell_type": "markdown",
   "id": "e6b0b340",
   "metadata": {
    "slideshow": {
     "slide_type": "slide"
    }
   },
   "source": [
    "## Object-Oriented Programming"
   ]
  },
  {
   "cell_type": "markdown",
   "id": "e5d22eaf",
   "metadata": {
    "slideshow": {
     "slide_type": "fragment"
    }
   },
   "source": [
    "<div class=\"alert alert-success\">\n",
    "<b>Object-oriented programming (OOP)</b> is a programming paradigm in which code is organized around objects. Python is an OOP programming langauge. \n",
    "</div>"
   ]
  }
 ],
 "metadata": {
  "celltoolbar": "Tags",
  "kernelspec": {
   "display_name": "Python 3 (ipykernel)",
   "language": "python",
   "name": "python3"
  },
  "language_info": {
   "codemirror_mode": {
    "name": "ipython",
    "version": 3
   },
   "file_extension": ".py",
   "mimetype": "text/x-python",
   "name": "python",
   "nbconvert_exporter": "python",
   "pygments_lexer": "ipython3",
   "version": "3.11.6"
  },
  "rise": {
   "scroll": true
  }
 },
 "nbformat": 4,
 "nbformat_minor": 5
}
