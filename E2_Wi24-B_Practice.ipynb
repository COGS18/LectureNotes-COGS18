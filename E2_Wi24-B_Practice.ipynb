{
 "cells": [
  {
   "cell_type": "markdown",
   "metadata": {
    "deletable": false,
    "editable": false,
    "nbgrader": {
     "cell_type": "markdown",
     "checksum": "75dad83657c0b5809ee17108d45221ac",
     "grade": false,
     "grade_id": "cell-0a562aaf14d95458",
     "locked": true,
     "schema_version": 3,
     "solution": false,
     "task": false
    }
   },
   "source": [
    "Exam 2 is cumulative, although the focus is on Loops, Methods, Classes, and File Paths.\n",
    "\n",
    "The format is the same as Exam 1. There are two parts, worth 16.5% of your course grade:\n",
    "\n",
    "- 13.5% in class\n",
    "- 3% take-home\n",
    "\n",
    "\n",
    "## In-Class Portion\n",
    "\n",
    "2/27 Tues (come early).\n",
    "Bring:<br>\n",
    "- Pencils/Pen\n",
    "- Student ID\n",
    "\n",
    "Closed notes. No computers.<br>\n",
    "Somewhat more code writing than Exam 1.<br>\n",
    "75 minutes.\n",
    "\n",
    "One version of last term's exam [is here](COGS18_Sec_B_Exam_2_Fa23.pdf) if you want to use it to study.\n",
    "\n",
    "\n",
    "## Take-Home Portion\n",
    "\n",
    "Distributed on Datahub.<br>\n",
    "~3 Coding exercises, similar to assignment questions.<br>\n",
    "Open notes. Open Google.<br>\n",
    "Work alone. No other humans. No ChatGPT or other AIs.<br>\n",
    "Submit on Datahub before class 2/29 10:59am. (Just like an assignment, but you cannot talk to others or ChatGPT.)\n",
    "\n",
    "## Preparation\n",
    "\n",
    "Thursday in class will be a review session (Feb 22).\n",
    "\n",
    "This practice exam imitates the take-home portion, but is much longer."
   ]
  },
  {
   "cell_type": "markdown",
   "metadata": {
    "deletable": false,
    "editable": false,
    "nbgrader": {
     "cell_type": "markdown",
     "checksum": "d8b8540d3bf6254870c78efae87e5e3c",
     "grade": false,
     "grade_id": "intro",
     "locked": true,
     "schema_version": 3,
     "solution": false
    }
   },
   "source": [
    "# COGS 18 - Practice Exam 2\n",
    "\n",
    "This is the second practice exam for Fall 2023. It covers topics through File Paths in the Command Line lecture.\n",
    "\n",
    "This is worth 0 points and worth 0% of your grade, but the real total exam is out of 16.5 points, worth 16.5% of your grade. \n",
    "\n",
    "**PLEASE DO NOT CHANGE THE NAME OF THIS FILE.**\n",
    "\n",
    "**PLEASE DO NOT COPY & PASTE OR DELETE CELLS INLCUDED IN THE ASSIGNMENT.** (Note that you can add additional cells, if you want to test things out.\n",
    "\n",
    "<span style=\"color:red\">Note: There are WAYYYYYY more questions on this practice exam than on the real exam. This is because a number of students have asked for additional practice problems. So, do not be intimidated by the length here, but feel free to use it for extra practice!</span>"
   ]
  },
  {
   "cell_type": "markdown",
   "metadata": {
    "deletable": false,
    "editable": false,
    "nbgrader": {
     "cell_type": "markdown",
     "checksum": "40d26e8954fe95b40fd533d701135184",
     "grade": false,
     "grade_id": "instructions",
     "locked": true,
     "schema_version": 3,
     "solution": false
    }
   },
   "source": [
    "## The Rules (for the real exam)\n",
    "\n",
    "**These rules do _not_ apply to this practice exam, but are a copy of what is expected for the real take-home exam.** Therefore, please do ask people for help with this practice!\n",
    "\n",
    "- Complete this exam _on your own_.\n",
    "- This is open-notes & open-Internet.\n",
    "- You may _not_ talk to any humans about this exam. \n",
    "- You may _not_ talk to any AIs about this exam.\n",
    "- **The following are all *prohibited*:**\n",
    "    - text/phone/online chat communication\n",
    "    - posting questions to a message board where a human could respond (Campuswire, Discord, Chegg, any similar site)\n",
    "    - viewing exam questions from a message board (as described above)\n",
    "    - asking anyone via any form about a question on this test\n",
    "    - asking any AI in any form about a question on this test\n",
    "    - searching for answers using text from these questions directly \n",
    "- **Instructional staff will *not* help you.**\n",
    "    - Do _not_ ask about about the exam during office hours, not even clarification questions. We will not respond.\n",
    "    - If an exam question needs clarification, instead ask in a _private_ post on Piazza. At our discrection, we may clarify _publicly_ for all to benefit. You may not get a quick response. If you ask on the last day, you may not get a response. You probably have the correct interpretation.\n",
    "    - We will _not_ help you towards an answer. You can consult your notes, the lectures, and Google search on topics, but we will not response to questions to get you unstuck.\n",
    "    - If you have a technical issue completing the exam, message (Piazza or email) Dr. Hempel ASAP."
   ]
  },
  {
   "cell_type": "markdown",
   "metadata": {
    "deletable": false,
    "editable": false,
    "nbgrader": {
     "cell_type": "markdown",
     "checksum": "8ea0adf070f4bb930ca49a3f14550337",
     "grade": false,
     "grade_id": "cell-26b08bd4b5ba54ab",
     "locked": true,
     "schema_version": 3,
     "solution": false
    }
   },
   "source": [
    " <span style=\"color: red;\">Note: </span> There _is_ a chance for partial credit on some questions, so _some_ code is better than _no_ code. Even if it throws an error, having some code that partially answers the question will benefit you/your grade."
   ]
  },
  {
   "cell_type": "markdown",
   "metadata": {
    "deletable": false,
    "editable": false,
    "nbgrader": {
     "cell_type": "markdown",
     "checksum": "e58c3f5ee450cbb5bcdc95ae795e5f8c",
     "grade": false,
     "grade_id": "part2",
     "locked": true,
     "schema_version": 3,
     "solution": false
    }
   },
   "source": [
    "## Part 1: Methods, Debugging, and Code Style"
   ]
  },
  {
   "cell_type": "markdown",
   "metadata": {
    "deletable": false,
    "editable": false,
    "nbgrader": {
     "cell_type": "markdown",
     "checksum": "649fbb9525e55b89f24f323ab8ecc7d4",
     "grade": false,
     "grade_id": "q1",
     "locked": true,
     "schema_version": 3,
     "solution": false,
     "task": false
    }
   },
   "source": [
    "### Q1 - Method I\n",
    "\n",
    "`isalpha()` is a built-in string method that determines if all the characters in a string are in the alphabet (meaning letters or numbers: A-Z, a-z).\n",
    "\n",
    "Use the `isalpha()` method on two strings (of your choosing) below to create two variables:\n",
    "- `true_var` | should store the value `True`\n",
    "- `false_var` | should store the value `False`"
   ]
  },
  {
   "cell_type": "code",
   "execution_count": null,
   "metadata": {
    "deletable": false,
    "nbgrader": {
     "cell_type": "code",
     "checksum": "8ad4165aea4de8b50b41ade86eba27c4",
     "grade": false,
     "grade_id": "cell-09260f9c394a5905",
     "locked": false,
     "schema_version": 3,
     "solution": true,
     "task": false
    }
   },
   "outputs": [],
   "source": [
    "# your code here"
   ]
  },
  {
   "cell_type": "code",
   "execution_count": null,
   "metadata": {
    "deletable": false,
    "editable": false,
    "nbgrader": {
     "cell_type": "code",
     "checksum": "6de0f07f1a691e91fe4d6b1db1b96862",
     "grade": true,
     "grade_id": "cell-e9a5e70357e98aef",
     "locked": true,
     "points": 0.2,
     "schema_version": 3,
     "solution": false,
     "task": false
    }
   },
   "outputs": [],
   "source": [
    "assert true_var is not None\n",
    "# below this would normally be hidden tests,\n",
    "# but because this is a practice exam \n",
    "# we are going to show it to you\n",
    "assert true_var"
   ]
  },
  {
   "cell_type": "code",
   "execution_count": null,
   "metadata": {
    "deletable": false,
    "editable": false,
    "nbgrader": {
     "cell_type": "code",
     "checksum": "3fa58280df9cbfc8c3fc736ab6ae196d",
     "grade": true,
     "grade_id": "cell-12001d8195362930",
     "locked": true,
     "points": 0.2,
     "schema_version": 3,
     "solution": false,
     "task": false
    }
   },
   "outputs": [],
   "source": [
    "assert false_var is not None\n",
    "# below this would normally be hidden tests,\n",
    "# but because this is a practice exam \n",
    "# we are going to show it to you\n",
    "assert not false_var"
   ]
  },
  {
   "cell_type": "markdown",
   "metadata": {
    "deletable": false,
    "editable": false,
    "nbgrader": {
     "cell_type": "markdown",
     "checksum": "f898fa3192cd89505c6b6a8fab5b9851",
     "grade": false,
     "grade_id": "cell-ec6253bef69e19d0",
     "locked": true,
     "schema_version": 3,
     "solution": false,
     "task": false
    }
   },
   "source": [
    "### Q2 - Method II\n",
    "\n",
    "We've provided a variable called `prof_day` below. Generate a dictionary `prof_events`, whose keys are each of the unique elements in `prof_day` and whose corresponding values are the number of times each value shows up in `prof_day`.\n",
    " \n",
    "Notes:\n",
    "- `prof_day` has been defined for you below\n",
    "- `.count()` is a list method that counts the number of appearances of a specified element in a list.\n",
    "- **Do not hard-code**. Use your code to process the list so that we could change the list and you'd still generate the correct answer automatically. That is DON'T write something like:\n",
    "```python\n",
    "prof_events = {'write one exam':2}\n",
    "```\n",
    "because if we changed the list this answer would be wrong.\n"
   ]
  },
  {
   "cell_type": "code",
   "execution_count": null,
   "metadata": {
    "deletable": false,
    "editable": false,
    "nbgrader": {
     "cell_type": "code",
     "checksum": "8251e42287ad1cdbeb27dffa962c87c0",
     "grade": false,
     "grade_id": "cell-baf97130cf05f18a",
     "locked": true,
     "schema_version": 3,
     "solution": false,
     "task": false
    }
   },
   "outputs": [],
   "source": [
    "# these variables provided for you\n",
    "# you will not be able to edit this cell\n",
    "prof_day = ['write one exam', 'write one exam', 'grade exam', 'answer email', 'office hours', 'staff meeting', 'answer email']\n"
   ]
  },
  {
   "cell_type": "code",
   "execution_count": null,
   "metadata": {
    "deletable": false,
    "editable": false,
    "nbgrader": {
     "cell_type": "code",
     "checksum": "88c83a27a0b6fde96b6061e34ea2923d",
     "grade": true,
     "grade_id": "cell-6992bbe86b5d62a3",
     "locked": true,
     "points": 0,
     "schema_version": 3,
     "solution": false,
     "task": false
    }
   },
   "outputs": [],
   "source": [
    "# hidden test being used in grading\n",
    "# below this would normally be hidden tests,\n",
    "# but because this is a practice exam \n",
    "# we are going to show it to you\n",
    "\n",
    "# this is the kind of thing we do to check you didn't hard code\n",
    "# we change one value in list you were originally shown \n",
    "# then the tests go on to execute below\n",
    "\n",
    "prof_day = ['write one exam', 'write one exam', 'answer email', 'answer email', 'office hours', 'staff meeting', 'answer email']"
   ]
  },
  {
   "cell_type": "code",
   "execution_count": null,
   "metadata": {
    "deletable": false,
    "nbgrader": {
     "cell_type": "code",
     "checksum": "cb074202fca863e5d33046971ffb85d5",
     "grade": false,
     "grade_id": "cell-43c896bbf4a8a127",
     "locked": false,
     "schema_version": 3,
     "solution": true,
     "task": false
    }
   },
   "outputs": [],
   "source": [
    "# your code here"
   ]
  },
  {
   "cell_type": "code",
   "execution_count": null,
   "metadata": {
    "deletable": false,
    "editable": false,
    "nbgrader": {
     "cell_type": "code",
     "checksum": "67a46849da36af88852f17808a3662ec",
     "grade": true,
     "grade_id": "cell-7cc63f7c144c54af",
     "locked": true,
     "points": 0.2,
     "schema_version": 3,
     "solution": false,
     "task": false
    }
   },
   "outputs": [],
   "source": [
    "assert prof_events is not None\n",
    "\n",
    "# below this would normally be hidden tests,\n",
    "# but because this is a practice exam \n",
    "# we are going to show it to you\n",
    "\n",
    "# check that keys are all what they should be\n",
    "assert all(elem in prof_events.keys() for elem in ['write one exam', 'answer email', 'office hours', 'staff meeting'])"
   ]
  },
  {
   "cell_type": "code",
   "execution_count": null,
   "metadata": {
    "deletable": false,
    "editable": false,
    "nbgrader": {
     "cell_type": "code",
     "checksum": "17a3c83f802d44c330013ff41c67ef20",
     "grade": true,
     "grade_id": "cell-1de53862761ee0f0",
     "locked": true,
     "points": 0.2,
     "schema_version": 3,
     "solution": false,
     "task": false
    }
   },
   "outputs": [],
   "source": [
    "# below this would normally be hidden tests,\n",
    "# but because this is a practice exam \n",
    "# we are going to show it to you\n",
    "\n",
    "# check that values are what they should be\n",
    "assert sum(prof_events.values()) == 7\n",
    "assert prof_events == {\n",
    "    'write one exam': 2,\n",
    "    'answer email': 3,\n",
    "    'office hours': 1,\n",
    "    'staff meeting': 1,\n",
    "}"
   ]
  },
  {
   "cell_type": "markdown",
   "metadata": {
    "deletable": false,
    "editable": false,
    "nbgrader": {
     "cell_type": "markdown",
     "checksum": "4afb3694351409a55a569639687bc217",
     "grade": false,
     "grade_id": "cell-bb8e34b344f32197",
     "locked": true,
     "points": 0.6,
     "schema_version": 3,
     "solution": false,
     "task": true
    }
   },
   "source": [
    "**This \"blank\" cell included intentionally.** Do not do anything here. (It's being used in grading.)\n"
   ]
  },
  {
   "cell_type": "markdown",
   "metadata": {
    "deletable": false,
    "editable": false,
    "nbgrader": {
     "cell_type": "markdown",
     "checksum": "452bd6a484cfd0cda2163ea37b21b23a",
     "grade": false,
     "grade_id": "q6",
     "locked": true,
     "schema_version": 3,
     "solution": false,
     "task": false
    }
   },
   "source": [
    "### Q3 - Debugging Loops\n",
    "\n",
    "In the cell below, there is a function that is not operating as anticipated.\n",
    "\n",
    "`count_consonants` is _supposed_ to take a string as input and count the number of each consonant in the `input_string` (input parameter), storing the output in a dictionary where the key is the consonant and the value is the number of times it appears in the input. \n",
    "\n",
    "Note that we want capitalization to be considered such that the capital and lower case letters are counted together, and the upper case letter is used as the key (i.e. 'A' and 'a' would both be counted under the key 'A')\n",
    "\n",
    "Specifically, if the `input_string` were \"Mohammed\", the function ould return: `{'M': 3, 'H': 1, 'D': 1}`\n",
    "\n",
    "Debug, edit, and test the function provided below so that it accomplishes the intended goal."
   ]
  },
  {
   "cell_type": "code",
   "execution_count": null,
   "metadata": {
    "deletable": false,
    "editable": false,
    "nbgrader": {
     "cell_type": "code",
     "checksum": "06cde4cc8c66356b2594992093f112c0",
     "grade": false,
     "grade_id": "cell-926669216d811292",
     "locked": true,
     "schema_version": 3,
     "solution": false,
     "task": false
    }
   },
   "outputs": [],
   "source": [
    "# This is the function that is not operating as anticipated and that has bad code style.\n",
    "# Debug, edit, and test the function provided below so that it accomplishes the intended goal.\n",
    "def count_consonants():\n",
    "    out = {}\n",
    "    vowels = ['A','E','I','O','U']\n",
    "\n",
    "    for char in input_string:\n",
    "        if char not in vowels:\n",
    "            if char not in out:\n",
    "                out[char] = 1\n",
    "\n",
    "# You can copy and paste this code (not the cell) to start your coding"
   ]
  },
  {
   "cell_type": "code",
   "execution_count": null,
   "metadata": {
    "deletable": false,
    "nbgrader": {
     "cell_type": "code",
     "checksum": "596e1ff2e042e139bfcd7598f0aaf1a5",
     "grade": false,
     "grade_id": "cell-bf67b586499664bc",
     "locked": false,
     "schema_version": 3,
     "solution": true
    }
   },
   "outputs": [],
   "source": [
    "# your code here"
   ]
  },
  {
   "cell_type": "code",
   "execution_count": null,
   "metadata": {},
   "outputs": [],
   "source": [
    "# BE SURE YOUR ANSWER IS IN THE CELL ABOVE\n",
    "# but you can use this cell to test/execute/check your function (optional)"
   ]
  },
  {
   "cell_type": "code",
   "execution_count": null,
   "metadata": {
    "deletable": false,
    "editable": false,
    "nbgrader": {
     "cell_type": "code",
     "checksum": "728b00616e7918c305e40bef2b45903b",
     "grade": true,
     "grade_id": "q6-test1",
     "locked": true,
     "points": 0.35,
     "schema_version": 3,
     "solution": false,
     "task": false
    }
   },
   "outputs": [],
   "source": [
    "assert count_consonants is not None"
   ]
  },
  {
   "cell_type": "code",
   "execution_count": null,
   "metadata": {
    "deletable": false,
    "editable": false,
    "nbgrader": {
     "cell_type": "code",
     "checksum": "746c78304acd52ae7cf16fc9c487093b",
     "grade": true,
     "grade_id": "q6-test2",
     "locked": true,
     "points": 0.35,
     "schema_version": 3,
     "solution": false,
     "task": false
    }
   },
   "outputs": [],
   "source": [
    "assert callable(count_consonants)\n",
    "\n",
    "# below this would normally be hidden tests,\n",
    "# but because this is a practice exam \n",
    "# we are going to show it to you\n",
    "assert count_consonants('AaBbCc') == {'B': 2, 'C': 2}\n",
    "assert count_consonants('Taylor') == {'T': 1, 'Y': 1, 'L': 1, 'R': 1}"
   ]
  },
  {
   "cell_type": "markdown",
   "metadata": {
    "deletable": false,
    "editable": false,
    "nbgrader": {
     "cell_type": "markdown",
     "checksum": "9d6b6ed9cdd0b63decf5817510fa4690",
     "grade": false,
     "grade_id": "q6-test3",
     "locked": true,
     "points": 0.8,
     "schema_version": 3,
     "solution": false,
     "task": true
    }
   },
   "source": [
    "**This \"blank\" cell included intentionally.** Do not do anything here. (It's being used in grading.)\n"
   ]
  },
  {
   "cell_type": "markdown",
   "metadata": {
    "deletable": false,
    "editable": false,
    "nbgrader": {
     "cell_type": "markdown",
     "checksum": "6129d52bda5a48b4b0b1b805277e4333",
     "grade": false,
     "grade_id": "q7",
     "locked": true,
     "schema_version": 3,
     "solution": false
    }
   },
   "source": [
    "### Q4 - Debugging Loops\n",
    "\n",
    "In the cell below, there is a function that is not operating as anticipated.\n",
    "\n",
    "`new_encrypt` is _supposed_ to take a string as input and return the reverse alphabetical string as output, meaning, given a character, return the __lowercase__ character in the reverse position within the alphabet. \n",
    "\n",
    "For example, if the input character is 'B' or 'b', the function would store 'y' in the output string. If the character is 'A' or 'a', the function would store 'z'. (and vice versa: the input 'Z' or 'z' would store 'a').\n",
    "\n",
    "Specifically, if the `input_string` were \"AbZ\", the function would `return`: 'zya'\n",
    "\n",
    "Debug, edit, and test the function provided below so that it accomplishes the intended goal."
   ]
  },
  {
   "cell_type": "code",
   "execution_count": null,
   "metadata": {
    "deletable": false,
    "editable": false,
    "nbgrader": {
     "cell_type": "code",
     "checksum": "c99d761fe3480d49cb7cba5761dda5f8",
     "grade": false,
     "grade_id": "cell-26f79ac76d80e4d9",
     "locked": true,
     "schema_version": 3,
     "solution": false,
     "task": false
    }
   },
   "outputs": [],
   "source": [
    "# This is the function that is not operating as anticipated and has bad code style.\n",
    "# Debug, edit, and test the function provided below so that it accomplishes the intended goal.\n",
    "def new_encrypt():\n",
    "    alpha = 'abcdefghijklmnopqrstuvwxyz'\n",
    "    reverse_alpha = 'zyxwvutsrqponmlkjihgfedcba'\n",
    "\n",
    "    for char in input_string:\n",
    "\n",
    "        if char in alpha:\n",
    "            position = alpha.find(char)\n",
    "            output_string += reverse_alpha[position]\n",
    "        else:\n",
    "            output_string = None\n",
    "            break\n",
    "            \n",
    "# You can copy and paste the code (not the cell) to start your debugging"
   ]
  },
  {
   "cell_type": "code",
   "execution_count": null,
   "metadata": {
    "deletable": false,
    "nbgrader": {
     "cell_type": "code",
     "checksum": "c5e877d2ccf8a80ad5ee92610dc0eb79",
     "grade": false,
     "grade_id": "q7-solution",
     "locked": false,
     "schema_version": 3,
     "solution": true
    }
   },
   "outputs": [],
   "source": [
    "# your code here"
   ]
  },
  {
   "cell_type": "code",
   "execution_count": null,
   "metadata": {},
   "outputs": [],
   "source": [
    "# BE SURE YOUR ANSWER IS IN THE CELL ABOVE\n",
    "# but you can use this cell to test/execute/check your function (optional)"
   ]
  },
  {
   "cell_type": "code",
   "execution_count": null,
   "metadata": {
    "deletable": false,
    "editable": false,
    "nbgrader": {
     "cell_type": "code",
     "checksum": "5a645cd871e2d8283f2bef2d13cfa546",
     "grade": true,
     "grade_id": "q7-test1",
     "locked": true,
     "points": 0.25,
     "schema_version": 3,
     "solution": false,
     "task": false
    }
   },
   "outputs": [],
   "source": [
    "assert new_encrypt"
   ]
  },
  {
   "cell_type": "code",
   "execution_count": null,
   "metadata": {
    "deletable": false,
    "editable": false,
    "nbgrader": {
     "cell_type": "code",
     "checksum": "d4a2a6c3632be71bec4feadf91806388",
     "grade": true,
     "grade_id": "q7-test2",
     "locked": true,
     "points": 0.25,
     "schema_version": 3,
     "solution": false,
     "task": false
    }
   },
   "outputs": [],
   "source": [
    "assert callable(new_encrypt)\n",
    "\n",
    "# below this would normally be hidden tests,\n",
    "# but because this is a practice exam \n",
    "# we are going to show it to you\n",
    "assert new_encrypt(input_string='abc') == 'zyx'\n",
    "assert new_encrypt('MOHAMMED') == 'nlsznnvw'\n"
   ]
  },
  {
   "cell_type": "markdown",
   "metadata": {
    "deletable": false,
    "editable": false,
    "nbgrader": {
     "cell_type": "markdown",
     "checksum": "3abbeea7290a4131b106f69e861e76c3",
     "grade": false,
     "grade_id": "q7-test3",
     "locked": true,
     "points": 0.75,
     "schema_version": 3,
     "solution": false,
     "task": true
    }
   },
   "source": [
    "**This \"blank\" cell included intentionally.** Do not do anything here. (It's being used in grading.)\n"
   ]
  },
  {
   "cell_type": "markdown",
   "metadata": {
    "deletable": false,
    "editable": false,
    "nbgrader": {
     "cell_type": "markdown",
     "checksum": "adf105dcde0a93799db4a6e904390032",
     "grade": false,
     "grade_id": "cell-6dcb551ee590c420",
     "locked": true,
     "schema_version": 3,
     "solution": false,
     "task": false
    }
   },
   "source": [
    "### Q5 - Debugging (1.5 points)\n",
    "\n",
    "The following not-totally-functioning `give_ticket()` function has been provided for you. The *goal* of this function, is given two inputs (`speed` and `zone`), the function should return the boolean True if the person should receive a ticket and the boolean False otherwise.\n",
    "\n",
    "The rules for giving a ticket depend on the `zone` which can take the following values/rules:\n",
    "- `private`&nbsp;| ticket if  `speed` is above 5\n",
    "- `local`&nbsp;&nbsp;&nbsp;&nbsp;&nbsp;|   ticket if `speed` is above 25\n",
    "- `highway` |  ticket if `speed` is above 65\n",
    "\n",
    "\n",
    "For example, if the driver's `speed` was 25 and their zone was 'local', the function would return `False`. However, if in the same zone, and their speed were 26, the function would return `True`. \n",
    "\n",
    "Consider the function provided below and then debug (you can copy and paste the code below) to accomplish the task specified above. \n",
    "\n",
    "Note: Do not change the name of the function (`give_ticket`), and the parameter names provided in the instructions (`speed`, `zone`) must be used."
   ]
  },
  {
   "cell_type": "code",
   "execution_count": null,
   "metadata": {
    "deletable": false,
    "editable": false,
    "nbgrader": {
     "cell_type": "code",
     "checksum": "82e1a7224c65fabf51b9d65e4c6f9a3b",
     "grade": false,
     "grade_id": "cell-e0df52cdb34e2567",
     "locked": true,
     "schema_version": 3,
     "solution": false,
     "task": false
    }
   },
   "outputs": [],
   "source": [
    "# This is the no-functioning function\n",
    "# Debug and edit it to accomplish the task specified above.\n",
    "def give_ticket(self, speed, zone):\n",
    "\n",
    "    if zone = 'private' or speed > 5:\n",
    "        print(True)\n",
    "    elif zone = 'local' or speed > 25:\n",
    "        print(True)\n",
    "    elif zone = 'highway' or speed > 65:\n",
    "        print(True)\n",
    "    else:\n",
    "        print(False)\n",
    "    \n",
    "# You can copy and paste the code (not the cell) to start your debugging"
   ]
  },
  {
   "cell_type": "code",
   "execution_count": null,
   "metadata": {
    "deletable": false,
    "nbgrader": {
     "cell_type": "code",
     "checksum": "2944f35010ec846eafa63f9031196b35",
     "grade": false,
     "grade_id": "cell-ee5cbe431e55aeb8",
     "locked": false,
     "schema_version": 3,
     "solution": true,
     "task": false
    }
   },
   "outputs": [],
   "source": [
    "# your code here"
   ]
  },
  {
   "cell_type": "code",
   "execution_count": null,
   "metadata": {},
   "outputs": [],
   "source": [
    "# BE SURE YOUR ANSWER IS IN THE CELL ABOVE\n",
    "# but you can use this cell to test/execute/check your thinking (optional)"
   ]
  },
  {
   "cell_type": "code",
   "execution_count": null,
   "metadata": {
    "deletable": false,
    "editable": false,
    "nbgrader": {
     "cell_type": "code",
     "checksum": "05a94ff2373fbee63bd82c1d8c0146a6",
     "grade": true,
     "grade_id": "cell-d3ecf602a2d3eee9",
     "locked": true,
     "points": 0.25,
     "schema_version": 3,
     "solution": false,
     "task": false
    }
   },
   "outputs": [],
   "source": [
    "assert give_ticket\n",
    "\n",
    "# below this would normally be hidden tests,\n",
    "# but because this is a practice exam \n",
    "# we are going to show it to you\n",
    "assert give_ticket(speed=6, zone='private') \n",
    "assert give_ticket(speed=26, zone='local') \n",
    "assert give_ticket(speed=66, zone='highway') "
   ]
  },
  {
   "cell_type": "code",
   "execution_count": null,
   "metadata": {
    "deletable": false,
    "editable": false,
    "nbgrader": {
     "cell_type": "code",
     "checksum": "436ced4e06fa311bd22c79c3f7f050f9",
     "grade": true,
     "grade_id": "cell-f70941db79b59474",
     "locked": true,
     "points": 0.25,
     "schema_version": 3,
     "solution": false,
     "task": false
    }
   },
   "outputs": [],
   "source": [
    "assert callable(give_ticket)\n",
    "\n",
    "# below this would normally be hidden tests,\n",
    "# but because this is a practice exam \n",
    "# we are going to show it to you\n",
    "assert not give_ticket(speed=5, zone='private') \n",
    "assert not give_ticket(speed=10, zone='local') \n",
    "assert not give_ticket(speed=45, zone='highway') "
   ]
  },
  {
   "cell_type": "markdown",
   "metadata": {
    "deletable": false,
    "editable": false,
    "nbgrader": {
     "cell_type": "markdown",
     "checksum": "ffe4fd3afe28bdcaddda0a81c2a76a3d",
     "grade": false,
     "grade_id": "cell-c0f97983945fb210",
     "locked": true,
     "points": 1,
     "schema_version": 3,
     "solution": false,
     "task": true
    }
   },
   "source": [
    "**This \"blank\" cell included intentionally.** Do not do anything here. (It's being used in grading.)\n"
   ]
  },
  {
   "cell_type": "markdown",
   "metadata": {
    "deletable": false,
    "editable": false,
    "nbgrader": {
     "cell_type": "markdown",
     "checksum": "4a8a14e8b07d6dc801dea42c74adf318",
     "grade": false,
     "grade_id": "part1",
     "locked": true,
     "schema_version": 3,
     "solution": false
    }
   },
   "source": [
    "## Part 2: Loops & Functions\n",
    "\n",
    "Note this section has *more* questions than your real exam will have. This is just to get you additional practice."
   ]
  },
  {
   "cell_type": "markdown",
   "metadata": {
    "deletable": false,
    "editable": false,
    "nbgrader": {
     "cell_type": "markdown",
     "checksum": "cb0f6a77e696e1313cd1d46938fe5440",
     "grade": false,
     "grade_id": "q4",
     "locked": true,
     "schema_version": 3,
     "solution": false,
     "task": false
    }
   },
   "source": [
    "### Q6 - Function execution\n",
    "\n",
    "The cell below includes a function that has been provided for you. After running the cell below (to define this function), execute (use) this function to create the following variables under the specified conditions:\n",
    "\n",
    "- `mulitply_default` | execute the `multiply_all` function using the default parameter such that the output will carry out the function on a list of input values containing the integers 2, 3, and 4. \n",
    "- `multiplication_5` | Use the same input values as above to obtain an answer from `multiply_all` function, but this time using multiplication_factor as 5.\n",
    "- `my_output` &nbsp;&nbsp;&nbsp;&nbsp;&nbsp;&nbsp;&nbsp;&nbsp;&nbsp;&nbsp;| Execute the `multiply_all` function such that `my_output` will store a list with 4 values `[10,10,10,10]` , such that the multiplication_factor = -5.  "
   ]
  },
  {
   "cell_type": "code",
   "execution_count": null,
   "metadata": {
    "deletable": false,
    "editable": false,
    "nbgrader": {
     "cell_type": "code",
     "checksum": "b3eb748c9b6040e05cca19b0110cc3a6",
     "grade": false,
     "grade_id": "q4-funct",
     "locked": true,
     "schema_version": 3,
     "solution": false,
     "task": false
    }
   },
   "outputs": [],
   "source": [
    "def multiply_all(my_list, multiplication_factor=2):\n",
    "    \n",
    "    output_list = []\n",
    "    for val in my_list:\n",
    "        new_val = val * multiplication_factor\n",
    "        output_list.append(new_val)\n",
    "    \n",
    "    return output_list"
   ]
  },
  {
   "cell_type": "code",
   "execution_count": null,
   "metadata": {
    "deletable": false,
    "nbgrader": {
     "cell_type": "code",
     "checksum": "7a5a136dc2e3a839bfc720fd9974eaca",
     "grade": false,
     "grade_id": "q4-solution",
     "locked": false,
     "schema_version": 3,
     "solution": true,
     "task": false
    }
   },
   "outputs": [],
   "source": [
    "# your code here"
   ]
  },
  {
   "cell_type": "code",
   "execution_count": null,
   "metadata": {},
   "outputs": [],
   "source": [
    "# BE SURE YOUR ANSWER IS IN THE CELL BELOW\n",
    "# but you can use this cell to test/execute/check your thinking (optional)"
   ]
  },
  {
   "cell_type": "code",
   "execution_count": null,
   "metadata": {
    "deletable": false,
    "editable": false,
    "nbgrader": {
     "cell_type": "code",
     "checksum": "9832ae545a7b92751091afa37b360769",
     "grade": true,
     "grade_id": "q4-test1",
     "locked": true,
     "points": 0.25,
     "schema_version": 3,
     "solution": false,
     "task": false
    }
   },
   "outputs": [],
   "source": [
    "assert mulitply_default is not None\n",
    "\n",
    "# below this would normally be hidden tests,\n",
    "# but because this is a practice exam \n",
    "# we are going to show it to you\n",
    "assert  mulitply_default == [4,6,8]"
   ]
  },
  {
   "cell_type": "code",
   "execution_count": null,
   "metadata": {
    "deletable": false,
    "editable": false,
    "nbgrader": {
     "cell_type": "code",
     "checksum": "59fe389c4f598c0cdf95767591fe2f84",
     "grade": true,
     "grade_id": "q4-test2",
     "locked": true,
     "points": 0.25,
     "schema_version": 3,
     "solution": false,
     "task": false
    }
   },
   "outputs": [],
   "source": [
    "assert multiplication_5 is not None\n",
    "\n",
    "# below this would normally be hidden tests,\n",
    "# but because this is a practice exam \n",
    "# we are going to show it to you\n",
    "assert multiplication_5  == [10, 15, 20]"
   ]
  },
  {
   "cell_type": "code",
   "execution_count": null,
   "metadata": {
    "deletable": false,
    "editable": false,
    "nbgrader": {
     "cell_type": "code",
     "checksum": "e4b140bc0d622d0aad833223dff99b68",
     "grade": true,
     "grade_id": "q4-test3",
     "locked": true,
     "points": 0.25,
     "schema_version": 3,
     "solution": false,
     "task": false
    }
   },
   "outputs": [],
   "source": [
    "assert my_output is not None\n",
    "\n",
    "# below this would normally be hidden tests,\n",
    "# but because this is a practice exam \n",
    "# we are going to show it to you\n",
    "assert my_output  == [10,10,10,10]"
   ]
  },
  {
   "cell_type": "markdown",
   "metadata": {
    "deletable": false,
    "editable": false,
    "nbgrader": {
     "cell_type": "markdown",
     "checksum": "fb34d85c1147437ab137c966dff40825",
     "grade": false,
     "grade_id": "q4-test4",
     "locked": true,
     "points": 0.25,
     "schema_version": 3,
     "solution": false,
     "task": true
    }
   },
   "source": [
    "**This \"blank\" cell included intentionally.** Do not do anything here. (It's being used in grading.)\n"
   ]
  },
  {
   "cell_type": "markdown",
   "metadata": {
    "deletable": false,
    "editable": false,
    "nbgrader": {
     "cell_type": "markdown",
     "checksum": "21a270d863c6204bc38df26917139587",
     "grade": false,
     "grade_id": "cell-890fd54197ddc82d",
     "locked": true,
     "schema_version": 3,
     "solution": false,
     "task": false
    }
   },
   "source": [
    "### Q7 - Function Execution\n",
    "\n",
    "The function `count_sentences()` has been provided for you below. Note that `split()` is a string method that splits a string at the character specified within the parentheses of the method call.\n",
    "\n",
    "If this isn't clear to you, you might want to try the following in a cell and see what happens:\n",
    "```python\n",
    "'milk, butter, eggs'.split(',')\n",
    "```\n",
    "\n",
    "**Part 1** \n",
    "\n",
    "First, in the cell provided below containing `YOUR ANSWER HERE`, describe what the `count_sentences()` function accomplishes. This should include both 1) the overall task accomplished and 2) how the specific code used accomplishes this task."
   ]
  },
  {
   "cell_type": "code",
   "execution_count": null,
   "metadata": {
    "deletable": false,
    "editable": false,
    "nbgrader": {
     "cell_type": "code",
     "checksum": "6d33447964e51bd1a5341125cbc78e99",
     "grade": false,
     "grade_id": "cell-499ed96ef2b003e9",
     "locked": true,
     "schema_version": 3,
     "solution": false,
     "task": false
    }
   },
   "outputs": [],
   "source": [
    "def count_sentences(text):\n",
    "    sentences = text.split('.')\n",
    "    \n",
    "    if sentences[-1] == '':\n",
    "        num_sentences = len(sentences) - 1\n",
    "    else:\n",
    "        num_sentences = len(sentences)\n",
    "        \n",
    "    return num_sentences"
   ]
  },
  {
   "cell_type": "code",
   "execution_count": null,
   "metadata": {},
   "outputs": [],
   "source": [
    "# BE SURE YOUR ANSWER IS IN THE CELL BELOW\n",
    "# but you can use this cell to test/execute/check your thinking (optional)"
   ]
  },
  {
   "cell_type": "markdown",
   "metadata": {
    "deletable": false,
    "nbgrader": {
     "cell_type": "markdown",
     "checksum": "e42646c7e640020c33fb95f1b021148d",
     "grade": true,
     "grade_id": "cell-f060a0b5dbbc43db",
     "locked": false,
     "points": 0,
     "schema_version": 3,
     "solution": true,
     "task": false
    }
   },
   "source": [
    "YOUR ANSWER HERE"
   ]
  },
  {
   "cell_type": "markdown",
   "metadata": {
    "deletable": false,
    "editable": false,
    "nbgrader": {
     "cell_type": "markdown",
     "checksum": "9f3f1f110ddddb710aa306ed9e359f6c",
     "grade": false,
     "grade_id": "cell-931ecd95a8a4a45f",
     "locked": true,
     "schema_version": 3,
     "solution": false,
     "task": false
    }
   },
   "source": [
    "**Part 2**\n",
    "\n",
    "Execute the `count_sentences()` function by passing it a string that will cause it to return a value of `2`; assign this output to the variable `out_2`."
   ]
  },
  {
   "cell_type": "code",
   "execution_count": null,
   "metadata": {
    "deletable": false,
    "nbgrader": {
     "cell_type": "code",
     "checksum": "30360d8d27566bd0d4bfefdd93fd93b1",
     "grade": false,
     "grade_id": "cell-b60e1b7443ba1cb1",
     "locked": false,
     "schema_version": 3,
     "solution": true,
     "task": false
    }
   },
   "outputs": [],
   "source": [
    "# your code here"
   ]
  },
  {
   "cell_type": "code",
   "execution_count": null,
   "metadata": {
    "deletable": false,
    "editable": false,
    "nbgrader": {
     "cell_type": "code",
     "checksum": "3206d2fd6fbda4f81eec7d5f765b2c3b",
     "grade": true,
     "grade_id": "cell-b92e934f9e45a69a",
     "locked": true,
     "points": 0,
     "schema_version": 3,
     "solution": false,
     "task": false
    }
   },
   "outputs": [],
   "source": [
    "assert out_2\n",
    "# below this would normally be hidden tests,\n",
    "# but because this is a practice exam \n",
    "# we are going to show it to you\n",
    "assert out_2 == 2"
   ]
  },
  {
   "cell_type": "markdown",
   "metadata": {
    "deletable": false,
    "editable": false,
    "nbgrader": {
     "cell_type": "markdown",
     "checksum": "dc0bf9380101c9e2d115c7fd5cb806e1",
     "grade": false,
     "grade_id": "cell-8d8d84eb3b622760",
     "locked": true,
     "points": 0,
     "schema_version": 3,
     "solution": false,
     "task": true
    }
   },
   "source": [
    "**This \"blank\" cell included intentionally.** Do not do anything here. (It's being used in grading.)\n"
   ]
  },
  {
   "cell_type": "markdown",
   "metadata": {
    "deletable": false,
    "editable": false,
    "nbgrader": {
     "cell_type": "markdown",
     "checksum": "53166972fb8f3fd504058c604fe6212c",
     "grade": false,
     "grade_id": "q2",
     "locked": true,
     "schema_version": 3,
     "solution": false
    }
   },
   "source": [
    "### Q8 - `count_int` \n",
    "\n",
    "Write a function `count_int` that will take a list as the input and count the number of integers in that list, returning this value from the function. \n",
    "\n",
    "For example, if the list had 5 elements, with 2 of the elements being strings and 3 of the elements were integers, then the function would return 3.\n",
    "\n",
    "Note: You can assume the input to this function will be a list and do *not* need to write code to check whether or not this is true."
   ]
  },
  {
   "cell_type": "code",
   "execution_count": null,
   "metadata": {
    "deletable": false,
    "nbgrader": {
     "cell_type": "code",
     "checksum": "9778ab2e442f739fd4d43eb70e3c4561",
     "grade": false,
     "grade_id": "q2-solution",
     "locked": false,
     "schema_version": 3,
     "solution": true
    }
   },
   "outputs": [],
   "source": [
    "# your code here"
   ]
  },
  {
   "cell_type": "code",
   "execution_count": null,
   "metadata": {},
   "outputs": [],
   "source": [
    "# BE SURE YOUR ANSWER IS IN THE CELL ABOVE\n",
    "# but you can use this cell to test/execute/check your function (optional)"
   ]
  },
  {
   "cell_type": "code",
   "execution_count": null,
   "metadata": {
    "deletable": false,
    "editable": false,
    "nbgrader": {
     "cell_type": "code",
     "checksum": "49a1ede6306dbde03f56c7d84f4d8d6c",
     "grade": true,
     "grade_id": "q5-test1",
     "locked": true,
     "points": 0.25,
     "schema_version": 3,
     "solution": false,
     "task": false
    }
   },
   "outputs": [],
   "source": [
    "assert callable(count_int)\n",
    "\n",
    "# below this would normally be hidden tests,\n",
    "# but because this is a practice exam \n",
    "# we are going to show it to you\n",
    "assert count_int((1,2,3,4,5)) == 5\n",
    "assert count_int([1,3,'string', 4.4, None, True ]) == 2"
   ]
  },
  {
   "cell_type": "markdown",
   "metadata": {
    "deletable": false,
    "editable": false,
    "nbgrader": {
     "cell_type": "markdown",
     "checksum": "4d99d7825fe3abe9bcfd833c04bcc9f9",
     "grade": false,
     "grade_id": "q5-test2",
     "locked": true,
     "points": 0,
     "schema_version": 3,
     "solution": false,
     "task": true
    }
   },
   "source": [
    "**This \"blank\" cell included intentionally.** Do not do anything here. (It's being used in grading.)\n"
   ]
  },
  {
   "cell_type": "markdown",
   "metadata": {},
   "source": [
    "### Q9 - `while` loop, indexing into multiple lists, list `append`\n",
    "\n",
    "Write a function `zip_max` that takes in two lists as input.\n",
    "\n",
    "`zip_max` should return a new list that is the maximum item of the corresponding items between the lists, for example:\n",
    "\n",
    "```python\n",
    "nums1 = [1,  20, 30, 4,  5]\n",
    "nums2 = [50, 4,  3,  20, 10, 0]\n",
    "\n",
    "assert zip_max(nums1, nums2) == [50, 20, 30, 20, 10]\n",
    "```\n",
    "\n",
    "Note the input lists may not be the same length.\n",
    "\n",
    "Use at least `while` loop and list `.append()` inside the loop to accomplish this task.\n",
    "\n",
    "**Hints:**\n",
    "\n",
    "- Set an index counter before the loop (name it whatever you want).\n",
    "- Set an empty output list before the loop (name it whatever you want).\n",
    "- The `while` loop should keep looping so long as the index counter is less than the length of both lists.\n",
    "- In the loop, compare the appropriate items in the lists and append the appropriate one to the output list.\n",
    "- Don't forget to increment the index counter in the loop."
   ]
  },
  {
   "cell_type": "code",
   "execution_count": null,
   "metadata": {
    "deletable": false,
    "nbgrader": {
     "cell_type": "code",
     "checksum": "a4b105d1c93362131693d1effd3fa3a5",
     "grade": false,
     "grade_id": "cell-fdd3939da79c3975",
     "locked": false,
     "schema_version": 3,
     "solution": true,
     "task": false
    }
   },
   "outputs": [],
   "source": [
    "def zip_max(lst1, lst2):\n",
    "    # your code here"
   ]
  },
  {
   "cell_type": "code",
   "execution_count": null,
   "metadata": {
    "deletable": false,
    "editable": false,
    "nbgrader": {
     "cell_type": "code",
     "checksum": "25d99e4a6ee4beb937fa3c435ba67f71",
     "grade": true,
     "grade_id": "cell-0cca5022c0814421",
     "locked": true,
     "points": 0,
     "schema_version": 3,
     "solution": false,
     "task": false
    }
   },
   "outputs": [],
   "source": [
    "nums1 = [1,  20, 30, 4,  5]\n",
    "nums2 = [50, 4,  3,  20, 10, 0]\n",
    "\n",
    "assert zip_max(nums1, nums2) == [50, 20, 30, 20, 10]\n",
    "\n",
    "\n",
    "nums1 = [10, 30, 4,  5, 0]\n",
    "nums2 = [-1, -1]\n",
    "\n",
    "assert zip_max(nums1, nums2) == [10, 30]"
   ]
  },
  {
   "cell_type": "markdown",
   "metadata": {
    "deletable": false,
    "editable": false,
    "nbgrader": {
     "cell_type": "markdown",
     "checksum": "82bce6eb04dd97cfe1ede6a376d336ff",
     "grade": false,
     "grade_id": "q5",
     "locked": true,
     "schema_version": 3,
     "solution": false
    }
   },
   "source": [
    "### Q10 - `modify_string`\n",
    "\n",
    "\n",
    "In this question, you're going to define a function called `modify_string()` that will change `input_string` using the key-value pairs in `new_language` (provided below), ultimately returning the updated name from the function.\n",
    "\n",
    "Specifically, if any of the letters in your name (`input_string`) are keys in the dictionary `new_language` below, use that key's value in that letter's place in the string being output from the function. If the letter is not in `new_language`, add the original character from `input_string` to the string being output from the function.\n",
    "\n",
    "For example, if `input_string` were 'Shannon', `modif_string()` would `return` 'Shӓnnðn' (the a and the o have the modified character from `new_language`)\n",
    "\n",
    "\n",
    "This function should have a single parameter: `input_string` - the string to be modified."
   ]
  },
  {
   "cell_type": "code",
   "execution_count": null,
   "metadata": {},
   "outputs": [],
   "source": [
    "new_language = {'a': 'ӓ',\n",
    "                'e' : 'ɚ',\n",
    "                'i' : '¡',\n",
    "                'o' : 'ð',\n",
    "                'u' : 'û',\n",
    "                'A' : 'Ӓ',\n",
    "                'E' : 'ɛ',\n",
    "                'O' : 'Ó',\n",
    "                'U' : 'Ü'}"
   ]
  },
  {
   "cell_type": "code",
   "execution_count": null,
   "metadata": {
    "deletable": false,
    "nbgrader": {
     "cell_type": "code",
     "checksum": "84e7c5ac3ea2255bb740351c4018d760",
     "grade": false,
     "grade_id": "q5-solution",
     "locked": false,
     "schema_version": 3,
     "solution": true
    }
   },
   "outputs": [],
   "source": [
    "# your code here"
   ]
  },
  {
   "cell_type": "code",
   "execution_count": null,
   "metadata": {},
   "outputs": [],
   "source": [
    "# BE SURE YOUR ANSWER IS IN THE CELL ABOVE\n",
    "# but you can use this cell to test/execute/check your function (optional)"
   ]
  },
  {
   "cell_type": "code",
   "execution_count": null,
   "metadata": {
    "deletable": false,
    "editable": false,
    "nbgrader": {
     "cell_type": "code",
     "checksum": "aaaffda205bc3f42b09754740407e477",
     "grade": true,
     "grade_id": "test1",
     "locked": true,
     "points": 0.25,
     "schema_version": 3,
     "solution": false,
     "task": false
    }
   },
   "outputs": [],
   "source": [
    "assert modify_string\n",
    "\n",
    "# below this would normally be hidden tests,\n",
    "# but because this is a practice exam \n",
    "# we are going to show it to you\n",
    "assert modify_string('taylor') == 'tӓylðr'"
   ]
  },
  {
   "cell_type": "code",
   "execution_count": null,
   "metadata": {
    "deletable": false,
    "editable": false,
    "nbgrader": {
     "cell_type": "code",
     "checksum": "376705f41b23fa07966fbf2e330522d1",
     "grade": true,
     "grade_id": "test2",
     "locked": true,
     "points": 0.25,
     "schema_version": 3,
     "solution": false,
     "task": false
    }
   },
   "outputs": [],
   "source": [
    "assert callable(modify_string)\n",
    "\n",
    "# below this would normally be hidden tests,\n",
    "# but because this is a practice exam \n",
    "# we are going to show it to you\n",
    "# check functioning for capital letters\n",
    "assert modify_string('AaBbCcEe') == 'ӒӓBbCcɛɚ'\n"
   ]
  },
  {
   "cell_type": "markdown",
   "metadata": {
    "deletable": false,
    "editable": false,
    "nbgrader": {
     "cell_type": "markdown",
     "checksum": "771b1256a1a481088a4cc47339a23232",
     "grade": false,
     "grade_id": "q5-test4",
     "locked": true,
     "points": 0.5,
     "schema_version": 3,
     "solution": false,
     "task": true
    }
   },
   "source": [
    "**This \"blank\" cell included intentionally.** Do not do anything here. (It's being used in grading.)\n"
   ]
  },
  {
   "cell_type": "markdown",
   "metadata": {
    "deletable": false,
    "editable": false,
    "nbgrader": {
     "cell_type": "markdown",
     "checksum": "d9f6c35b52b9196ad0a519ac83d77305",
     "grade": false,
     "grade_id": "q",
     "locked": true,
     "schema_version": 3,
     "solution": false
    }
   },
   "source": [
    "### Q11 - `calculate_points`\n",
    "\n",
    "Write a function `calculate_points` that has a single input parameter: `dice`. `dice` can be assumed to be a list of string values, where each string corresponds to a value corresponding to each face of dice (1,2,3,4,5,6)\n",
    "\n",
    "This function should calculate the total number of \"pointer\" faces of a dice, where ***a \"pointer\" is either a 4, 5, or 6***. Each \"pointer\" is worth one point. All other faces are worth zero points. The function should `return` the total number of points in the `dice` as an integer.\n",
    "\n",
    "For example, if your `dice` input was: \n",
    "\n",
    "```python\n",
    "['1', '3', '4', '5', '6']\n",
    "```\n",
    "\n",
    "executing the `calculate_points()` function with the above list as the input to the `dice` parameter, the function would `return` the integer 3 (one point each for the `'4'`, `'5'`, and `'6'`.\n",
    "\n",
    "If there are no pointers in the input `dice`, the function should return 0."
   ]
  },
  {
   "cell_type": "code",
   "execution_count": null,
   "metadata": {
    "deletable": false,
    "nbgrader": {
     "cell_type": "code",
     "checksum": "c81563b5886f5d6cabf3044c626666dc",
     "grade": false,
     "grade_id": "q6-solution",
     "locked": false,
     "schema_version": 3,
     "solution": true
    }
   },
   "outputs": [],
   "source": [
    "# your code here"
   ]
  },
  {
   "cell_type": "code",
   "execution_count": null,
   "metadata": {},
   "outputs": [],
   "source": [
    "# BE SURE YOUR ANSWER IS IN THE CELL ABOVE\n",
    "# but you can use this cell to test/execute/check your function (optional)"
   ]
  },
  {
   "cell_type": "code",
   "execution_count": null,
   "metadata": {
    "deletable": false,
    "editable": false,
    "nbgrader": {
     "cell_type": "code",
     "checksum": "5c3440fb597c5572fc62284b6bfdef94",
     "grade": true,
     "grade_id": "q6-testa",
     "locked": true,
     "points": 0.25,
     "schema_version": 3,
     "solution": false
    }
   },
   "outputs": [],
   "source": [
    "assert callable(calculate_points)\n"
   ]
  },
  {
   "cell_type": "code",
   "execution_count": null,
   "metadata": {
    "deletable": false,
    "editable": false,
    "nbgrader": {
     "cell_type": "code",
     "checksum": "30b44fb6fd1e9ecb34ed67579d7ea6aa",
     "grade": true,
     "grade_id": "q6-testb",
     "locked": true,
     "points": 0.25,
     "schema_version": 3,
     "solution": false,
     "task": false
    }
   },
   "outputs": [],
   "source": [
    "# hidden tests for function above\n",
    "\n",
    "# below this would normally be hidden tests,\n",
    "# but because this is a practice exam \n",
    "# we are going to show it to you\n",
    "\n",
    "# assure returns zero if no pointers\n",
    "assert calculate_points(['1', '2', '3']) == 0\n",
    "assert calculate_points(['4','5']) == 2\n",
    "assert calculate_points([5, 6]) == 0 # these are ints, we said strings"
   ]
  },
  {
   "cell_type": "markdown",
   "metadata": {
    "deletable": false,
    "editable": false,
    "nbgrader": {
     "cell_type": "markdown",
     "checksum": "dafa1a15e21eee42ee07e2f979b2786f",
     "grade": false,
     "grade_id": "q6-test4",
     "locked": true,
     "points": 0.5,
     "schema_version": 3,
     "solution": false,
     "task": true
    }
   },
   "source": [
    "**This \"blank\" cell included intentionally.** Do not do anything here. (It's being used in grading.)\n",
    "\n"
   ]
  },
  {
   "cell_type": "markdown",
   "metadata": {
    "deletable": false,
    "editable": false,
    "nbgrader": {
     "cell_type": "markdown",
     "checksum": "6518d9cbd2feb2012629de5974fafe5e",
     "grade": false,
     "grade_id": "cell-b07c2aef11f91d5c",
     "locked": true,
     "schema_version": 3,
     "solution": false,
     "task": false
    }
   },
   "source": [
    "### Q12 - `to_taxes` - Looping and Dictionaries\n",
    "\n",
    "Here you will write a function that, given a salary as input, will `return` how much of that person's salary is going toward taxes.\n",
    "\n",
    "To accomplish this, write a function `to_taxes()` that takes two parameters as input: `salary` and `tax_brackets`. The default value for the `tax_brackets` parameter should be the `default_brackets` dictionary provided below. Then, use code constructs discussed in class to accomplish the above goal.\n",
    "\n",
    "Note that the dictionary `default_brackets` provided will have to be used to accomplish this goal. The keys in `default_brackets` are the proportion of an individual's salary that will go toward taxes if their salary is within the range in a given key's value (tuple). For example, an individual who makes \\$10,000 would contribute 12\\% of their salary in taxes, given the information in `tax_brackets` (specifically becasue 10000 falls between 9876 and 40125).\n",
    "\n",
    "Accordingly, `to_taxes(salary=10000)` should `return` 1200.0 (which corresponds to 12\\% of the input $10,000 salary).\n",
    "\n",
    "Dictionaries in Python are ordered (by insertion order), so iterating over `tax_brackets` will process the keys in the expected order."
   ]
  },
  {
   "cell_type": "code",
   "execution_count": null,
   "metadata": {
    "deletable": false,
    "editable": false,
    "nbgrader": {
     "cell_type": "code",
     "checksum": "83f8877e99927303700c39b22bbee9fa",
     "grade": false,
     "grade_id": "cell-7a2d1b04bb88e023",
     "locked": true,
     "schema_version": 3,
     "solution": false,
     "task": false
    }
   },
   "outputs": [],
   "source": [
    "default_brackets = {\n",
    "    0.10 : (0, 11000),\n",
    "    0.12 : (11001, 44725),\n",
    "    0.22 : (44726, 95375),\n",
    "    0.24 : (95376, 182100),\n",
    "    0.32 : (182101, 231250),\n",
    "    0.35 : (231251, 578125)\n",
    "}"
   ]
  },
  {
   "cell_type": "code",
   "execution_count": null,
   "metadata": {
    "deletable": false,
    "nbgrader": {
     "cell_type": "code",
     "checksum": "e234f74bd238aedb96bd66fd340367df",
     "grade": false,
     "grade_id": "cell-f48b7b2362162c98",
     "locked": false,
     "schema_version": 3,
     "solution": true,
     "task": false
    }
   },
   "outputs": [],
   "source": [
    "# your code here"
   ]
  },
  {
   "cell_type": "code",
   "execution_count": null,
   "metadata": {},
   "outputs": [],
   "source": [
    "# BE SURE YOUR ANSWER IS IN THE CELL ABOVE\n",
    "# but you can use this cell to test/execute/check your thinking (optional)"
   ]
  },
  {
   "cell_type": "code",
   "execution_count": null,
   "metadata": {
    "deletable": false,
    "editable": false,
    "nbgrader": {
     "cell_type": "code",
     "checksum": "183b040075989ea8cce83f11c59d93e3",
     "grade": true,
     "grade_id": "cell-46841edd2405b87e",
     "locked": true,
     "points": 0,
     "schema_version": 3,
     "solution": false,
     "task": false
    }
   },
   "outputs": [],
   "source": [
    "assert to_taxes\n",
    "\n",
    "# below this would normally be hidden tests,\n",
    "# but because this is a practice exam \n",
    "# we are going to show it to you\n",
    "\n",
    "assert callable(to_taxes)\n",
    "assert to_taxes(10000) == 1000.0\n",
    "assert to_taxes(182101) == 58272.32"
   ]
  },
  {
   "cell_type": "code",
   "execution_count": null,
   "metadata": {
    "deletable": false,
    "editable": false,
    "nbgrader": {
     "cell_type": "code",
     "checksum": "d61c1a3e6e7562bce084dd6b27367706",
     "grade": true,
     "grade_id": "cell-48691fd539be2c35",
     "locked": true,
     "points": 0,
     "schema_version": 3,
     "solution": false,
     "task": false
    }
   },
   "outputs": [],
   "source": [
    "# hidden test to check function accomplishes task\n",
    "\n",
    "# below this would normally be hidden tests,\n",
    "# but because this is a practice exam \n",
    "# we are going to show it to you\n",
    "\n",
    "# check for 22% bracket\n",
    "# check that values on edges included\n",
    "assert to_taxes(44726) == 9839.72\n",
    "assert to_taxes(95375) == 20982.5"
   ]
  },
  {
   "cell_type": "code",
   "execution_count": null,
   "metadata": {
    "deletable": false,
    "editable": false,
    "nbgrader": {
     "cell_type": "code",
     "checksum": "427b7e8bf76b5f6d147e6bb78686f61d",
     "grade": true,
     "grade_id": "cell-11839f4b8385d811",
     "locked": true,
     "points": 0,
     "schema_version": 3,
     "solution": false,
     "task": false
    }
   },
   "outputs": [],
   "source": [
    "# hidden test to check default parameter correct\n",
    "\n",
    "# below this would normally be hidden tests,\n",
    "# but because this is a practice exam \n",
    "# we are going to show it to you\n",
    "\n",
    "# check for a different tax_brackets\n",
    "assert to_taxes(100, tax_brackets={0.5: (0,1000)}) == 50.0"
   ]
  },
  {
   "cell_type": "markdown",
   "metadata": {
    "deletable": false,
    "editable": false,
    "nbgrader": {
     "cell_type": "markdown",
     "checksum": "05b05491be3544492cfb478e6394d3ac",
     "grade": false,
     "grade_id": "cell-1119e2d53ac4a2bd",
     "locked": true,
     "points": 0,
     "schema_version": 3,
     "solution": false,
     "task": true
    }
   },
   "source": [
    "**This \"blank\" cell included intentionally.** Do not do anything here. (It's being used in grading.)\n"
   ]
  },
  {
   "cell_type": "markdown",
   "metadata": {
    "deletable": false,
    "editable": false,
    "nbgrader": {
     "cell_type": "markdown",
     "checksum": "277447b4463bfda6a5bad3971b59469c",
     "grade": false,
     "grade_id": "cell-b92f1d3c5bd89143",
     "locked": true,
     "schema_version": 3,
     "solution": false,
     "task": false
    }
   },
   "source": [
    "### Q13 - Loops and Dictionary Methods\n",
    "\n",
    "Write a function `shared_values` that takes two dictionaries as input.\n",
    "\n",
    "The function should return two new dictionaries (in a tuple) such that the new dictionaries contain the entries where some value is shared between the two dictionaries.\n",
    "\n",
    "That is, each dictionary should be filtered down to only those entries whose value appears as a value somewhere in the other dictionary.\n",
    "\n",
    "For example:\n",
    "\n",
    "```python\n",
    "d1 = {\n",
    "    'a': 1,\n",
    "    'b': 2,\n",
    "    'c': 3,\n",
    "    'd': 4,\n",
    "}\n",
    "\n",
    "d2 = {\n",
    "    'Z': 6,\n",
    "    'Y': 5,\n",
    "    'X': 4,\n",
    "    'W': 3,\n",
    "}\n",
    "\n",
    "# Only the values 3 and 4 are shared between the dictionaries.\n",
    "\n",
    "out1 = {'c': 3, 'd': 4}\n",
    "out2 = {'X': 4, 'W': 3}\n",
    "\n",
    "assert shared_values(d1, d2) == (out1, out2)\n",
    "```\n",
    "\n",
    "**Hints:**\n",
    "- You may want to use some of the [dictionary methods](https://www.w3schools.com/python/python_ref_dictionary.asp).\n",
    "- You may need two separate (non-nested) loops, one to process each dictionary."
   ]
  },
  {
   "cell_type": "code",
   "execution_count": null,
   "metadata": {
    "deletable": false,
    "nbgrader": {
     "cell_type": "code",
     "checksum": "0864e83e118b8b9d79b387c9eba8e658",
     "grade": false,
     "grade_id": "cell-9b0c62c3966a82f4",
     "locked": false,
     "schema_version": 3,
     "solution": true,
     "task": false
    }
   },
   "outputs": [],
   "source": [
    "def shared_values(dict1, dict2):\n",
    "    out1 = {}\n",
    "    out2 = {}\n",
    "    \n",
    "    # your code here\n",
    "    \n",
    "    return (out1, out2)"
   ]
  },
  {
   "cell_type": "code",
   "execution_count": null,
   "metadata": {},
   "outputs": [],
   "source": [
    "# BE SURE YOUR ANSWER IS IN THE CELL ABOVE\n",
    "# but you may test your function here."
   ]
  },
  {
   "cell_type": "code",
   "execution_count": null,
   "metadata": {
    "deletable": false,
    "editable": false,
    "nbgrader": {
     "cell_type": "code",
     "checksum": "634bf3152b60037b9ba288073fe041ac",
     "grade": true,
     "grade_id": "cell-512d4527dace1b8b",
     "locked": true,
     "points": 0,
     "schema_version": 3,
     "solution": false,
     "task": false
    }
   },
   "outputs": [],
   "source": [
    "d1 = {\n",
    "    'a': 1,\n",
    "    'b': 2,\n",
    "    'c': 3,\n",
    "    'd': 4,\n",
    "}\n",
    "\n",
    "d2 = {\n",
    "    'Z': 6,\n",
    "    'Y': 5,\n",
    "    'X': 4,\n",
    "    'W': 3,\n",
    "}\n",
    "\n",
    "d3 = {\n",
    "    '😺' : 3,\n",
    "    '🌧️' : 6\n",
    "}\n",
    "\n",
    "assert shared_values(d1, d2) == ({'c': 3, 'd': 4}, {'X': 4, 'W': 3})\n",
    "\n",
    "assert shared_values(d1, d3) == ({'c': 3}, {'😺' : 3})\n",
    "\n",
    "assert shared_values(d3, d3) == (d3, d3)"
   ]
  },
  {
   "cell_type": "markdown",
   "metadata": {
    "deletable": false,
    "editable": false,
    "nbgrader": {
     "cell_type": "markdown",
     "checksum": "70f41c224163bf1578b85906092e1140",
     "grade": false,
     "grade_id": "cell-1689dc638592d688",
     "locked": true,
     "schema_version": 3,
     "solution": false,
     "task": false
    }
   },
   "source": [
    "### Q14 Filtering and Transforming A List With Loops and `.append()`\n",
    "\n",
    "Write a function `odds_only_doubled` that takes in one list as input.\n",
    "\n",
    "It should return an output list that:\n",
    "\n",
    "- Retains the items in the input list that are odd numbers (discarding the others), _and_\n",
    "- doubles those numbers.\n",
    "\n",
    "For example:\n",
    "\n",
    "```python\n",
    "in_list = [1, 2, 3, 3, 4, 0]\n",
    "\n",
    "assert odds_only_doubled(in_list) == [2, 6, 6]\n",
    "```\n",
    "\n",
    "**Hints:**\n",
    "- Recall the condition `x % 2 == 1` will check if `x` is odd."
   ]
  },
  {
   "cell_type": "code",
   "execution_count": null,
   "metadata": {
    "deletable": false,
    "nbgrader": {
     "cell_type": "code",
     "checksum": "e710f449497464631c057402c5470f48",
     "grade": false,
     "grade_id": "cell-fcc930f7ab913422",
     "locked": false,
     "schema_version": 3,
     "solution": true,
     "task": false
    }
   },
   "outputs": [],
   "source": [
    "# your code here"
   ]
  },
  {
   "cell_type": "code",
   "execution_count": null,
   "metadata": {},
   "outputs": [],
   "source": [
    "# BE SURE YOUR ANSWER IS IN THE CELL ABOVE\n",
    "# but you may test your function here."
   ]
  },
  {
   "cell_type": "code",
   "execution_count": null,
   "metadata": {
    "deletable": false,
    "editable": false,
    "nbgrader": {
     "cell_type": "code",
     "checksum": "a30e2b162fba707b49afdd6d61afbc77",
     "grade": true,
     "grade_id": "cell-fa395030ed89ae59",
     "locked": true,
     "points": 0,
     "schema_version": 3,
     "solution": false,
     "task": false
    }
   },
   "outputs": [],
   "source": [
    "in_list = [1, 2, 3, 3, 4, 0]\n",
    "\n",
    "assert odds_only_doubled(in_list) == [2, 6, 6]\n",
    "\n",
    "assert odds_only_doubled([]) == []\n",
    "\n",
    "assert odds_only_doubled([5, 0, 7, 0]) == [10, 14]"
   ]
  },
  {
   "cell_type": "markdown",
   "metadata": {
    "deletable": false,
    "editable": false,
    "nbgrader": {
     "cell_type": "markdown",
     "checksum": "b14f7fd2b73fac59f577c5681d8e4779",
     "grade": false,
     "grade_id": "cell-4ab8407deca62752",
     "locked": true,
     "schema_version": 3,
     "solution": false,
     "task": false
    }
   },
   "source": [
    "## Part 3: Classes\n",
    "\n",
    "Note this section has *more* questions than your real exam will have. This is where students tend to struggle the most as the material is new and puts all the pieces we've talked about so far this quarter together, so I wanted you to have extra practice."
   ]
  },
  {
   "cell_type": "markdown",
   "metadata": {
    "deletable": false,
    "editable": false,
    "nbgrader": {
     "cell_type": "markdown",
     "checksum": "f6292596bec3a7afb09338b5997a1d34",
     "grade": false,
     "grade_id": "q9",
     "locked": true,
     "schema_version": 3,
     "solution": false
    }
   },
   "source": [
    "### Q15 - `Movie`\n",
    "\n",
    "For this question, imagine you want to create a movie game with a handful of characters. You want this game to have a movie theme.\n",
    "\n",
    "Here, define a class `Movie`.\n",
    "\n",
    "This class should have two instance attributes: `movie_name` and `actor`, which will be strings specifying the movie_name and an actor in that movie.\n",
    "\n",
    "This class will also have a method `introduce()`. This method should `return` (*not* just `print`) a string, similar to:\n",
    "\n",
    "```\n",
    "'Inception starring Leonardo DiCaprio.' \n",
    "```\n",
    "\n",
    "...where 'Inception' corresponds to whatever is stored in `Movie()` object's `movie_name` attribute is and 'Leonardo DiCaprio' corresponds to whatever is stored in the `Movie()` object's `actor` attribute.\n",
    "\n",
    "Note that you can make the introduction say whatever you want as long as the output is a string mentioning both the movie name and the actor."
   ]
  },
  {
   "cell_type": "code",
   "execution_count": null,
   "metadata": {
    "deletable": false,
    "nbgrader": {
     "cell_type": "code",
     "checksum": "dfaf92355dbdba206cc0ee8aeec5c0b4",
     "grade": false,
     "grade_id": "q9-solution",
     "locked": false,
     "schema_version": 3,
     "solution": true
    }
   },
   "outputs": [],
   "source": [
    "# your code here\n"
   ]
  },
  {
   "cell_type": "code",
   "execution_count": null,
   "metadata": {},
   "outputs": [],
   "source": [
    "# BE SURE YOUR ANSWER IS IN THE CELL ABOVE\n",
    "# but you can use this cell to test/execute/check your function (optional)"
   ]
  },
  {
   "cell_type": "code",
   "execution_count": null,
   "metadata": {
    "deletable": false,
    "editable": false,
    "nbgrader": {
     "cell_type": "code",
     "checksum": "1cb0a34bac261945f2ac673e798cbbfa",
     "grade": true,
     "grade_id": "q9-test1",
     "locked": true,
     "points": 0.5,
     "schema_version": 3,
     "solution": false
    }
   },
   "outputs": [],
   "source": [
    "# Tests for the object\n",
    "assert Movie\n",
    "\n",
    "# below this would normally be hidden tests,\n",
    "# but because this is a practice exam \n",
    "# we are going to show it to you\n",
    "\n",
    "my_movie = Movie('Arrival', 'Amy Adams')\n",
    "assert isinstance(my_movie, Movie)\n",
    "assert my_movie.movie_name == 'Arrival'\n",
    "assert my_movie.actor == 'Amy Adams'"
   ]
  },
  {
   "cell_type": "code",
   "execution_count": null,
   "metadata": {
    "deletable": false,
    "editable": false,
    "nbgrader": {
     "cell_type": "code",
     "checksum": "cc71890ffd15b6a34189167f1b82b3f4",
     "grade": true,
     "grade_id": "q9-test2",
     "locked": true,
     "points": 0.5,
     "schema_version": 3,
     "solution": false
    }
   },
   "outputs": [],
   "source": [
    "# Tests for introduce method\n",
    "assert callable(Movie)\n",
    "\n",
    "# below this would normally be hidden tests,\n",
    "# but because this is a practice exam \n",
    "# we are going to show it to you\n",
    "\n",
    "assert callable(my_movie.introduce)\n",
    "assert isinstance(my_movie.introduce(), str)\n",
    "assert my_movie.actor in my_movie.introduce()\n",
    "assert my_movie.movie_name in my_movie.introduce()\n"
   ]
  },
  {
   "cell_type": "markdown",
   "metadata": {
    "deletable": false,
    "editable": false,
    "nbgrader": {
     "cell_type": "markdown",
     "checksum": "20c48d50a10ec6db096ec02b659c0294",
     "grade": false,
     "grade_id": "q9-test3",
     "locked": true,
     "points": 1.5,
     "schema_version": 3,
     "solution": false,
     "task": true
    }
   },
   "source": [
    "**This \"blank\" cell included intentionally.** Do not do anything here. (It's being used in grading.)\n"
   ]
  },
  {
   "cell_type": "markdown",
   "metadata": {
    "deletable": false,
    "editable": false,
    "nbgrader": {
     "cell_type": "markdown",
     "checksum": "94311261f9e0dbb0fed38cdf4d039b84",
     "grade": false,
     "grade_id": "q10",
     "locked": true,
     "schema_version": 3,
     "solution": false
    }
   },
   "source": [
    "### Q16 - `NewYear` - Classes and Dictionary Iteration\n",
    "\n",
    "For this question, let's create a class to celebrate the Lunar New Year!\n",
    "\n",
    "Here, define a class `NewYear`.\n",
    "\n",
    "This class should have:\n",
    "\n",
    "- **one class attribute**: `zodiac_signs` that stores the dictionary specified in the cell below. This dictionary contains the zodiac sign as the key and the birth years that correspond to that sign.\n",
    "- **one instance attribute**:  `year` that takes someone's birth `year` as input upon creation of a `NewYear` instance.\n",
    "\n",
    "This class will also have a method `return_sign()`. This method should `return` (*not* just `print`) a string, similar to:\n",
    "\n",
    "```\n",
    "'You were born in the year of the Dragon!' \n",
    "```\n",
    "\n",
    "...where 'Dragon' corresponds to the key from the `zodiac_signs` corresponding to the value stored in the `year` attribute. (Be sure captitalization and punctuation match the string specified here. The only thing that should change is the last word in the string.)\n",
    "\n",
    "For example `NewYear(year=2021).return_sign()` should return 'You were born in the year of the Ox!', since 2021 is a value in the `zodiac_signs` dictionary for the key 'Ox'. "
   ]
  },
  {
   "cell_type": "code",
   "execution_count": null,
   "metadata": {
    "deletable": false,
    "editable": false,
    "nbgrader": {
     "cell_type": "code",
     "checksum": "6a7119902f276f2a5dfe59d541ce0465",
     "grade": false,
     "grade_id": "cell-0320cf0ec9903820",
     "locked": true,
     "schema_version": 3,
     "solution": false,
     "task": false
    }
   },
   "outputs": [],
   "source": [
    "# provided for you\n",
    "zodiac_signs = {\n",
    "    'Ox' : [1937, 1949, 1961, 1973, 1985, 1997, 2009, 2021],\n",
    "    'Tiger' : [1938, 1950, 1962, 1974, 1986, 1998, 2010, 2022], \n",
    "    'Rabbit' : [1939, 1951, 1963, 1975, 1987, 1999, 2011, 2023], \n",
    "    'Dragon' : [1940, 1952, 1964, 1976, 1988, 2000, 2012, 2024], \n",
    "    'Snake' : [1941, 1953, 1965, 1977, 1989, 2001, 2013, 2025], \n",
    "    'Horse' : [1942, 1954, 1966, 1978, 1990, 2002, 2014, 2026], \n",
    "    'Goat/Sheep' : [1943, 1955, 1967, 1979, 1991, 2003, 2015, 2027], \n",
    "    'Monkey' : [1944, 1956, 1968, 1980, 1992, 2004, 2016, 2028], \n",
    "    'Rooster' : [1945, 1957, 1969, 1981, 1993, 2005, 2017, 2029], \n",
    "    'Dog' : [1946, 1958, 1970, 1982, 1994, 2006, 2018, 2030], \n",
    "    'Pig' : [1947, 1959, 1971, 1983, 1995, 2007, 2019, 2031], \n",
    "    'Rat' : [1936, 1948, 1960, 1972, 1984, 1996, 2008, 2020]\n",
    "} "
   ]
  },
  {
   "cell_type": "code",
   "execution_count": null,
   "metadata": {
    "deletable": false,
    "nbgrader": {
     "cell_type": "code",
     "checksum": "f0ecc7403b9420e048aefb7b5b0d2e07",
     "grade": false,
     "grade_id": "q10-solution",
     "locked": false,
     "schema_version": 3,
     "solution": true
    }
   },
   "outputs": [],
   "source": [
    "# your code here\n"
   ]
  },
  {
   "cell_type": "code",
   "execution_count": null,
   "metadata": {},
   "outputs": [],
   "source": [
    "# BE SURE YOUR ANSWER IS IN THE CELL ABOVE\n",
    "# but you can use this cell to test/execute/check your function (optional)"
   ]
  },
  {
   "cell_type": "code",
   "execution_count": null,
   "metadata": {
    "deletable": false,
    "editable": false,
    "nbgrader": {
     "cell_type": "code",
     "checksum": "79b556ae0c179ea0f28c282bd9a50b52",
     "grade": true,
     "grade_id": "q10-test1",
     "locked": true,
     "points": 0.25,
     "schema_version": 3,
     "solution": false
    }
   },
   "outputs": [],
   "source": [
    "# Tests for the object\n",
    "assert NewYear\n",
    "\n",
    "# below this would normally be hidden tests,\n",
    "# but because this is a practice exam \n",
    "# we are going to show it to you\n",
    "\n",
    "dragon = NewYear(1988)\n",
    "assert isinstance(dragon, NewYear)"
   ]
  },
  {
   "cell_type": "code",
   "execution_count": null,
   "metadata": {
    "deletable": false,
    "editable": false,
    "nbgrader": {
     "cell_type": "code",
     "checksum": "6f583e828d435f3cc87a936b828faae9",
     "grade": true,
     "grade_id": "q10-test2",
     "locked": true,
     "points": 0.25,
     "schema_version": 3,
     "solution": false
    }
   },
   "outputs": [],
   "source": [
    "assert callable(NewYear)\n",
    "# Tests for classs attribute\n",
    "\n",
    "# below this would normally be hidden tests,\n",
    "# but because this is a practice exam \n",
    "# we are going to show it to you\n",
    "\n",
    "assert dragon.year ==  1988"
   ]
  },
  {
   "cell_type": "code",
   "execution_count": null,
   "metadata": {
    "deletable": false,
    "editable": false,
    "nbgrader": {
     "cell_type": "code",
     "checksum": "69df059821fe5e83ecccdef53e300030",
     "grade": true,
     "grade_id": "q10-test3",
     "locked": true,
     "points": 0.25,
     "schema_version": 3,
     "solution": false,
     "task": false
    }
   },
   "outputs": [],
   "source": [
    "# Tests for instance attribute\n",
    "\n",
    "# below this would normally be hidden tests,\n",
    "# but because this is a practice exam \n",
    "# we are going to show it to you\n",
    "\n",
    "assert isinstance(dragon.zodiac_signs, dict)\n",
    "assert 'Ox' in dragon.zodiac_signs.keys()"
   ]
  },
  {
   "cell_type": "code",
   "execution_count": null,
   "metadata": {
    "deletable": false,
    "editable": false,
    "nbgrader": {
     "cell_type": "code",
     "checksum": "c69b56ecb1c376896c1d5b550315a5a2",
     "grade": true,
     "grade_id": "q10-test4",
     "locked": true,
     "points": 0.5,
     "schema_version": 3,
     "solution": false,
     "task": false
    }
   },
   "outputs": [],
   "source": [
    "# tests for method\n",
    "# be sure punctuation matches instructions\n",
    "\n",
    "# below this would normally be hidden tests,\n",
    "# but because this is a practice exam \n",
    "# we are going to show it to you\n",
    "\n",
    "assert dragon.return_sign() == 'You were born in the year of the Dragon!'"
   ]
  },
  {
   "cell_type": "markdown",
   "metadata": {
    "deletable": false,
    "editable": false,
    "nbgrader": {
     "cell_type": "markdown",
     "checksum": "be9acd843c0aa1cf1456bebbd8c092ac",
     "grade": false,
     "grade_id": "q10-test5",
     "locked": true,
     "points": 1.25,
     "schema_version": 3,
     "solution": false,
     "task": true
    }
   },
   "source": [
    "**This \"blank\" cell included intentionally.** Do not do anything here. (It's being used in grading.)\n"
   ]
  },
  {
   "cell_type": "markdown",
   "metadata": {
    "deletable": false,
    "editable": false,
    "nbgrader": {
     "cell_type": "markdown",
     "checksum": "c2e987aca784f7249049e946700a4180",
     "grade": false,
     "grade_id": "q11",
     "locked": true,
     "schema_version": 3,
     "solution": false
    }
   },
   "source": [
    "### Q17 - `BasketballGame`\n",
    "\n",
    "Generate a class called `BasketballGame`.\n",
    "\n",
    "This class should have four instance attributes: `home_team`, `away_team`, `home_points`, and `away_points`\n",
    "\n",
    "It should also have one method, `play_game()`. \n",
    "\n",
    "Within the `play_game` method, add code that would determine who the winner of the game is (determined by the team with the most points), returning 'Winner: Team Name Here' but with the winning team's name there.\n",
    "\n",
    "For ties, return: 'Winner: tie'"
   ]
  },
  {
   "cell_type": "code",
   "execution_count": null,
   "metadata": {
    "deletable": false,
    "nbgrader": {
     "cell_type": "code",
     "checksum": "93909cb3d669c35d6c5489a4b9abb410",
     "grade": false,
     "grade_id": "q11-solution",
     "locked": false,
     "schema_version": 3,
     "solution": true
    }
   },
   "outputs": [],
   "source": [
    "# your code here"
   ]
  },
  {
   "cell_type": "code",
   "execution_count": null,
   "metadata": {},
   "outputs": [],
   "source": [
    "# use this cell to test/execute/check your class (optional)"
   ]
  },
  {
   "cell_type": "code",
   "execution_count": null,
   "metadata": {
    "deletable": false,
    "editable": false,
    "nbgrader": {
     "cell_type": "code",
     "checksum": "ad1098c0a9ee73a2898a0bfa10bc51ee",
     "grade": true,
     "grade_id": "q11-test1",
     "locked": true,
     "points": 0,
     "schema_version": 3,
     "solution": false
    }
   },
   "outputs": [],
   "source": [
    "assert callable(BasketballGame)\n",
    "\n",
    "# below this would normally be hidden tests,\n",
    "# but because this is a practice exam \n",
    "# we are going to show it to you\n",
    "\n",
    "game = BasketballGame(home_team='Warriors', away_team='Sixers', \n",
    "                      home_points=100, away_points=105)\n",
    "\n",
    "# test attributes\n",
    "assert game.home_team == 'Warriors'\n",
    "assert game.away_team == 'Sixers'\n",
    "assert game.home_points == 100\n",
    "assert game.away_points == 105"
   ]
  },
  {
   "cell_type": "code",
   "execution_count": null,
   "metadata": {
    "deletable": false,
    "editable": false,
    "nbgrader": {
     "cell_type": "code",
     "checksum": "823c4943d3a650ff63e71e94b85a6f45",
     "grade": true,
     "grade_id": "q11-test2",
     "locked": true,
     "points": 0,
     "schema_version": 3,
     "solution": false,
     "task": false
    }
   },
   "outputs": [],
   "source": [
    "assert callable(BasketballGame.play_game)\n",
    "\n",
    "# below this would normally be hidden tests,\n",
    "# but because this is a practice exam \n",
    "# we are going to show it to you\n",
    "\n",
    "# test method\n",
    "assert game.play_game() == 'Winner: Sixers'"
   ]
  },
  {
   "cell_type": "markdown",
   "metadata": {
    "deletable": false,
    "editable": false,
    "nbgrader": {
     "cell_type": "markdown",
     "checksum": "a83eecb101d3a41e3cadb65684d6a3fd",
     "grade": false,
     "grade_id": "q11-test3",
     "locked": true,
     "points": 0,
     "schema_version": 3,
     "solution": false,
     "task": true
    }
   },
   "source": [
    "This \"blank\" cell included intentionally. Do not do anything here. (It's being used in grading.)\n"
   ]
  },
  {
   "cell_type": "markdown",
   "metadata": {
    "deletable": false,
    "editable": false,
    "nbgrader": {
     "cell_type": "markdown",
     "checksum": "20762f016de8738faf7c920f911731b0",
     "grade": false,
     "grade_id": "cell-298cc925723b1f75",
     "locked": true,
     "schema_version": 3,
     "solution": false,
     "task": false
    }
   },
   "source": [
    "### Q18 - `ClassRoster`\n",
    "\n",
    "Define a class `ClassRoster` that meets the following specifications:\n",
    "\n",
    "- has two instance attributes:\n",
    "    - `students`; initialized as an empty list\n",
    "    - `course`; which the user specifies when creating a `ClassRoster()` object\n",
    "- a single method `add_student()`, which will have `pid` and `name` as arguments, and will add these two inputs as a single-entry dictionary with `pid` as the key and the student's `name` as the value to the `students` list each time the method is called"
   ]
  },
  {
   "cell_type": "code",
   "execution_count": null,
   "metadata": {
    "deletable": false,
    "nbgrader": {
     "cell_type": "code",
     "checksum": "0a91123f7f28b624bf7b998e3a411126",
     "grade": false,
     "grade_id": "cell-d4d9cea6256f62c0",
     "locked": false,
     "schema_version": 3,
     "solution": true,
     "task": false
    }
   },
   "outputs": [],
   "source": [
    "# your code here"
   ]
  },
  {
   "cell_type": "code",
   "execution_count": null,
   "metadata": {},
   "outputs": [],
   "source": [
    "# BE SURE YOUR ANSWER IS IN THE CELL ABOVE\n",
    "# but you can use this cell to test/execute/check your thinking (optional)"
   ]
  },
  {
   "cell_type": "code",
   "execution_count": null,
   "metadata": {
    "deletable": false,
    "editable": false,
    "nbgrader": {
     "cell_type": "code",
     "checksum": "dcc6796794a3d4cd961ef05b283b0499",
     "grade": true,
     "grade_id": "cell-22422a3990743b88",
     "locked": true,
     "points": 0,
     "schema_version": 3,
     "solution": false,
     "task": false
    }
   },
   "outputs": [],
   "source": [
    "assert callable(ClassRoster)\n",
    "my_course = ClassRoster('COGS 18')\n",
    "\n",
    "\n",
    "# below this would normally be hidden tests,\n",
    "# but because this is a practice exam \n",
    "# we are going to show it to you\n",
    "\n",
    "assert my_course.course == 'COGS 18'"
   ]
  },
  {
   "cell_type": "code",
   "execution_count": null,
   "metadata": {
    "deletable": false,
    "nbgrader": {
     "cell_type": "code",
     "checksum": "de6b8009d683455c07399d28f65aad0b",
     "grade": false,
     "grade_id": "cell-bd0c067e35d23349",
     "locked": false,
     "schema_version": 3,
     "solution": true,
     "task": false
    }
   },
   "outputs": [],
   "source": [
    "# your code here"
   ]
  },
  {
   "cell_type": "code",
   "execution_count": null,
   "metadata": {
    "deletable": false,
    "nbgrader": {
     "cell_type": "code",
     "checksum": "c0e898768bf6675f83f0ef2320e02a81",
     "grade": false,
     "grade_id": "cell-c250ea29b92bbfb1",
     "locked": false,
     "schema_version": 3,
     "solution": true,
     "task": false
    }
   },
   "outputs": [],
   "source": [
    "# your code here"
   ]
  },
  {
   "cell_type": "markdown",
   "metadata": {
    "deletable": false,
    "editable": false,
    "nbgrader": {
     "cell_type": "markdown",
     "checksum": "a32635b55d1a03e8b610f3899a1e8618",
     "grade": false,
     "grade_id": "cell-6aef43453248070e",
     "locked": true,
     "points": 0,
     "schema_version": 3,
     "solution": false,
     "task": true
    }
   },
   "source": [
    "**This \"blank\" cell included intentionally.** Do not do anything here. (It's being used in grading.)\n"
   ]
  },
  {
   "cell_type": "markdown",
   "metadata": {
    "deletable": false,
    "editable": false,
    "nbgrader": {
     "cell_type": "markdown",
     "checksum": "1f8e7a6cb78513adefc1d91776fc7b0a",
     "grade": false,
     "grade_id": "cell-052d00ebe5951a3d",
     "locked": true,
     "schema_version": 3,
     "solution": false,
     "task": false
    }
   },
   "source": [
    "### Q19 - `ShoppingList` \n",
    "\n",
    "Define a class `ShoppingList()` to keep track of your to do list.\n",
    "\n",
    "This should have a single instance attribute: `shoppinglist`, which is initialized as an empty list.\n",
    "\n",
    "It will then have two methods: `add_item` and `remove_item`.\n",
    "\n",
    "`add_item()`:\n",
    "- will have two parameters `item`, and `importance` (`importance` takes the default value `True`)\n",
    "- if `importance` is `True`:\n",
    "    the string in `item` will be added to the top of `shoppinglist`:\n",
    "- if `importance` is not true:\n",
    "    the string it `item` will be added to the end of `shoppinglist`\n",
    "\n",
    "`remove_item()`:\n",
    "- will have a single parameter `item`\n",
    "- will remove the item specified from `shoppinglist`\n",
    "\n",
    "Note: there is a list method `insert()`, which operates in place to add a value to a list at the index specified with the general syntax `my_list.insert(index, item_to_add)`."
   ]
  },
  {
   "cell_type": "code",
   "execution_count": null,
   "metadata": {
    "deletable": false,
    "nbgrader": {
     "cell_type": "code",
     "checksum": "72e690e0217224ec85a7f4541d951d76",
     "grade": false,
     "grade_id": "cell-e696ac9734d6920a",
     "locked": false,
     "schema_version": 3,
     "solution": true,
     "task": false
    }
   },
   "outputs": [],
   "source": [
    "# your code here"
   ]
  },
  {
   "cell_type": "code",
   "execution_count": null,
   "metadata": {},
   "outputs": [],
   "source": [
    "# BE SURE YOUR ANSWER IS IN THE CELL ABOVE\n",
    "# but you can use this cell to test/execute/check your thinking (optional)"
   ]
  },
  {
   "cell_type": "code",
   "execution_count": null,
   "metadata": {
    "deletable": false,
    "editable": false,
    "nbgrader": {
     "cell_type": "code",
     "checksum": "9e2c9a59dcfbe2d4d1a91bbfc3991803",
     "grade": true,
     "grade_id": "cell-b43d68904a417d44",
     "locked": true,
     "points": 0,
     "schema_version": 3,
     "solution": false,
     "task": false
    }
   },
   "outputs": [],
   "source": [
    "assert callable(ShoppingList)\n",
    "my_shoppinglist = ShoppingList()\n",
    "\n",
    "# below this would normally be hidden tests,\n",
    "# but because this is a practice exam \n",
    "# we are going to show it to you\n",
    "\n",
    "assert my_shoppinglist.shoppinglist == []"
   ]
  },
  {
   "cell_type": "code",
   "execution_count": null,
   "metadata": {
    "deletable": false,
    "editable": false,
    "nbgrader": {
     "cell_type": "code",
     "checksum": "194889c6bcf3f1c85f556270de2a87d6",
     "grade": true,
     "grade_id": "cell-16d48156f776f357",
     "locked": true,
     "points": 0,
     "schema_version": 3,
     "solution": false,
     "task": false
    }
   },
   "outputs": [],
   "source": [
    "# check add_item method\n",
    "\n",
    "# below this would normally be hidden tests,\n",
    "# but because this is a practice exam \n",
    "# we are going to show it to you\n",
    "\n",
    "my_shoppinglist.add_item('A')\n",
    "my_shoppinglist.add_item('B')\n",
    "assert my_shoppinglist.shoppinglist == ['B','A']"
   ]
  },
  {
   "cell_type": "code",
   "execution_count": null,
   "metadata": {
    "deletable": false,
    "editable": false,
    "nbgrader": {
     "cell_type": "code",
     "checksum": "05296e4b56db36c8ee277618b5680955",
     "grade": true,
     "grade_id": "cell-90ca75a4a66f62cc",
     "locked": true,
     "points": 0,
     "schema_version": 3,
     "solution": false,
     "task": false
    }
   },
   "outputs": [],
   "source": [
    "# check add_item with non-default value\n",
    "\n",
    "\n",
    "# below this would normally be hidden tests,\n",
    "# but because this is a practice exam \n",
    "# we are going to show it to you\n",
    "\n",
    "my_shoppinglist.add_item('C', importance=False)\n",
    "assert my_shoppinglist.shoppinglist == ['B','A', 'C']"
   ]
  },
  {
   "cell_type": "code",
   "execution_count": null,
   "metadata": {
    "deletable": false,
    "editable": false,
    "nbgrader": {
     "cell_type": "code",
     "checksum": "db5dd2e4f6abe634a40d513a61e41245",
     "grade": true,
     "grade_id": "cell-41ae8cf0c3d717c5",
     "locked": true,
     "points": 0,
     "schema_version": 3,
     "solution": false,
     "task": false
    }
   },
   "outputs": [],
   "source": [
    "# check remove_item\n",
    "\n",
    "\n",
    "# below this would normally be hidden tests,\n",
    "# but because this is a practice exam \n",
    "# we are going to show it to you\n",
    "\n",
    "my_shoppinglist.remove_item('A')\n",
    "assert my_shoppinglist.shoppinglist == ['B', 'C']"
   ]
  },
  {
   "cell_type": "markdown",
   "metadata": {
    "deletable": false,
    "editable": false,
    "nbgrader": {
     "cell_type": "markdown",
     "checksum": "6663f6cac5ba2d93e3e4e57c41fc7e7e",
     "grade": false,
     "grade_id": "cell-05a72dd94ba338c9",
     "locked": true,
     "points": 0,
     "schema_version": 3,
     "solution": false,
     "task": true
    }
   },
   "source": [
    "**This \"blank\" cell included intentionally.** Do not do anything here. (It's being used in grading.)\n"
   ]
  },
  {
   "cell_type": "markdown",
   "metadata": {
    "deletable": false,
    "editable": false,
    "nbgrader": {
     "cell_type": "markdown",
     "checksum": "56a8944d14ced26c713edd0aa8c2a6bb",
     "grade": false,
     "grade_id": "cell-0853c728a08d1ec4",
     "locked": true,
     "schema_version": 3,
     "solution": false,
     "task": false
    }
   },
   "source": [
    "## Part 4: File Paths"
   ]
  },
  {
   "cell_type": "markdown",
   "metadata": {
    "deletable": false,
    "editable": false,
    "nbgrader": {
     "cell_type": "markdown",
     "checksum": "5bdcb4d740897a6923096ffdd062cc20",
     "grade": false,
     "grade_id": "cell-c3a35d1d9820b4f6",
     "locked": true,
     "schema_version": 3,
     "solution": false,
     "task": false
    }
   },
   "source": [
    "### Q20 - File Paths\n",
    "\n",
    "Consider the following directory structure:\n",
    "\n",
    "- **`/`**\n",
    "    - **`home/`**\n",
    "        - **`alice/`**\n",
    "            - `analysis.py`\n",
    "            - `data.csv`\n",
    "            - `make_plot.py`\n",
    "            - `plot.png`\n",
    "        - **`drhempel/`**\n",
    "            - **`cogs18/`**\n",
    "                - **`assignments/`**\n",
    "                    - `A1.ipynb`\n",
    "                    - `A2.ipynb`\n",
    "                    - `A3.ipynb`\n",
    "                - **`exams/`**\n",
    "                    - `E1_Take_Home.ipynb`\n",
    "                    - `E1_In_Class.tex`\n",
    "                    - `E2_Take_Home.ipynb`\n",
    "                    - `E2_In_Class.tex`\n",
    "                - **`scratch/`**\n",
    "                    - `scratch.py`\n",
    "                    - `helpers.py`\n"
   ]
  },
  {
   "cell_type": "markdown",
   "metadata": {},
   "source": [
    "We are interacting as the user `drhempel`. And here is where we are, according to `pwd`:\n",
    "\n",
    "```\n",
    "$ pwd\n",
    "/home/drhempel/cogs18\n",
    "```"
   ]
  },
  {
   "cell_type": "markdown",
   "metadata": {
    "deletable": false,
    "editable": false,
    "nbgrader": {
     "cell_type": "markdown",
     "checksum": "05b43ff099aef7723871b38f2530761d",
     "grade": false,
     "grade_id": "cell-a171d5b0f0342661",
     "locked": true,
     "schema_version": 3,
     "solution": false,
     "task": false
    }
   },
   "source": [
    "**Part 1:** We are currently in the `cogs18` directory. What is the _absolute_ path to `A1.ipynb`?"
   ]
  },
  {
   "cell_type": "markdown",
   "metadata": {
    "deletable": false,
    "nbgrader": {
     "cell_type": "markdown",
     "checksum": "e2d95b7d6938c06d91be7adf98055853",
     "grade": true,
     "grade_id": "cell-3a0ea2432983a3c0",
     "locked": false,
     "points": 0,
     "schema_version": 3,
     "solution": true,
     "task": false
    }
   },
   "source": [
    "YOUR ANSWER HERE"
   ]
  },
  {
   "cell_type": "markdown",
   "metadata": {
    "deletable": false,
    "editable": false,
    "nbgrader": {
     "cell_type": "markdown",
     "checksum": "853ca5d8cc80861995bf830ebdd5be0f",
     "grade": false,
     "grade_id": "cell-252cae0781dddd27",
     "locked": true,
     "schema_version": 3,
     "solution": false,
     "task": false
    }
   },
   "source": [
    "**Part 2:** We are currently in the `cogs18` directory. What is the _relative_ path to `A1.ipynb`?"
   ]
  },
  {
   "cell_type": "markdown",
   "metadata": {
    "deletable": false,
    "nbgrader": {
     "cell_type": "markdown",
     "checksum": "e5cd62e4634bcd2d8dc967f026f01655",
     "grade": true,
     "grade_id": "cell-1981c831ab53af36",
     "locked": false,
     "points": 0,
     "schema_version": 3,
     "solution": true,
     "task": false
    }
   },
   "source": [
    "YOUR ANSWER HERE"
   ]
  },
  {
   "cell_type": "markdown",
   "metadata": {
    "deletable": false,
    "editable": false,
    "nbgrader": {
     "cell_type": "markdown",
     "checksum": "2817186645694c33aa4a0ba2183a11eb",
     "grade": false,
     "grade_id": "cell-c4c0e342d15d6949",
     "locked": true,
     "schema_version": 3,
     "solution": false,
     "task": false
    }
   },
   "source": [
    "**Part 3:** We are currently in the `cogs18` directory. What is the path to `A1.ipynb` using `~`?"
   ]
  },
  {
   "cell_type": "markdown",
   "metadata": {
    "deletable": false,
    "nbgrader": {
     "cell_type": "markdown",
     "checksum": "fd8e19dc9e025e78a621fca5fe6bcf3f",
     "grade": true,
     "grade_id": "cell-e8175fe7ca17985f",
     "locked": false,
     "points": 0,
     "schema_version": 3,
     "solution": true,
     "task": false
    }
   },
   "source": [
    "YOUR ANSWER HERE"
   ]
  },
  {
   "cell_type": "markdown",
   "metadata": {
    "deletable": false,
    "editable": false,
    "nbgrader": {
     "cell_type": "markdown",
     "checksum": "64cfd6cc681c2385c48e5cb60524489d",
     "grade": false,
     "grade_id": "cell-a59f63e2352d8c15",
     "locked": true,
     "schema_version": 3,
     "solution": false,
     "task": false
    }
   },
   "source": [
    "**Part 4:** We are currently in the `cogs18` directory. What is the path to where we are using `~`?"
   ]
  },
  {
   "cell_type": "markdown",
   "metadata": {
    "deletable": false,
    "nbgrader": {
     "cell_type": "markdown",
     "checksum": "3883fe142a643d0ece96255dacc26085",
     "grade": true,
     "grade_id": "cell-937b0b49a4d08a4c",
     "locked": false,
     "points": 0,
     "schema_version": 3,
     "solution": true,
     "task": false
    }
   },
   "source": [
    "YOUR ANSWER HERE"
   ]
  },
  {
   "cell_type": "markdown",
   "metadata": {
    "deletable": false,
    "editable": false,
    "nbgrader": {
     "cell_type": "markdown",
     "checksum": "48234aad23913bcca3b59a5c363598bd",
     "grade": false,
     "grade_id": "cell-7f5de26433836bf1",
     "locked": true,
     "schema_version": 3,
     "solution": false,
     "task": false
    }
   },
   "source": [
    "**Part 5:** We are currently in the `cogs18` directory. What is the _relative_ path to Alice's `make_plot.py`?"
   ]
  },
  {
   "cell_type": "markdown",
   "metadata": {
    "deletable": false,
    "nbgrader": {
     "cell_type": "markdown",
     "checksum": "0e38c6a26f535e7d39b5280221e09d37",
     "grade": true,
     "grade_id": "cell-e9d4094803131f04",
     "locked": false,
     "points": 0,
     "schema_version": 3,
     "solution": true,
     "task": false
    }
   },
   "source": [
    "YOUR ANSWER HERE"
   ]
  },
  {
   "cell_type": "markdown",
   "metadata": {
    "deletable": false,
    "editable": false,
    "nbgrader": {
     "cell_type": "markdown",
     "checksum": "9ea7a2c5a6f654320f622422262bb3a4",
     "grade": false,
     "grade_id": "cell-57fd4af9f9933f82",
     "locked": true,
     "schema_version": 3,
     "solution": false,
     "task": false
    }
   },
   "source": [
    "**Part 6:** Say we are now in the `scratch` directory. What do I put in the blank to run the `scratch.py` script?\n",
    "\n",
    "```\n",
    "$ pwd\n",
    "/home/drhempel/cogs18/scratch\n",
    "$ python ____________\n",
    "```"
   ]
  },
  {
   "cell_type": "markdown",
   "metadata": {
    "deletable": false,
    "nbgrader": {
     "cell_type": "markdown",
     "checksum": "5ca6717f38585700d0b17cabf5955bbb",
     "grade": true,
     "grade_id": "cell-e9f6726b73670d2a",
     "locked": false,
     "points": 0,
     "schema_version": 3,
     "solution": true,
     "task": false
    }
   },
   "source": [
    "YOUR ANSWER HERE"
   ]
  },
  {
   "cell_type": "markdown",
   "metadata": {
    "deletable": false,
    "editable": false,
    "nbgrader": {
     "cell_type": "markdown",
     "checksum": "3f7d9574fa9e45e1a349e97c4cc94f74",
     "grade": false,
     "grade_id": "cell-461f6c127ae7aeb6",
     "locked": true,
     "schema_version": 3,
     "solution": false,
     "task": false
    }
   },
   "source": [
    "**Part 7:** We are still in the `scratch` directory. What could I put in the blank to run Alice's `analysis.py` script? (There are at least three possible answers.)\n",
    "\n",
    "```\n",
    "$ pwd\n",
    "/home/drhempel/cogs18/scratch\n",
    "$ python _______________________\n",
    "```"
   ]
  },
  {
   "cell_type": "markdown",
   "metadata": {
    "deletable": false,
    "nbgrader": {
     "cell_type": "markdown",
     "checksum": "7172e9d24aca435066e6771b6453e268",
     "grade": true,
     "grade_id": "cell-7b317da14f161245",
     "locked": false,
     "points": 0,
     "schema_version": 3,
     "solution": true,
     "task": false
    }
   },
   "source": [
    "YOUR ANSWER HERE"
   ]
  },
  {
   "cell_type": "markdown",
   "metadata": {
    "deletable": false,
    "editable": false,
    "nbgrader": {
     "cell_type": "markdown",
     "checksum": "7ed0c63de50891181f36accbea826fdd",
     "grade": false,
     "grade_id": "cell-6ff9187b2a84ff49",
     "locked": true,
     "schema_version": 3,
     "solution": false,
     "task": false
    }
   },
   "source": [
    "(Note that, in practice, you usually cannot see or run the files in other user's home folders, but we didn't talk about \"file permissions\" so we are ignoring that.)"
   ]
  },
  {
   "cell_type": "markdown",
   "metadata": {
    "deletable": false,
    "editable": false,
    "nbgrader": {
     "cell_type": "markdown",
     "checksum": "b087d1296793c0ed123d019bda818e91",
     "grade": false,
     "grade_id": "end",
     "locked": true,
     "schema_version": 3,
     "solution": false
    }
   },
   "source": [
    "### (Practice) Exam II complete!\n",
    "\n",
    "Good work - you're done with the second (practice) exam!\n",
    "\n",
    "A reminder that for the real thing you will need to save and submit on datahub. We will not have your exam until you click submit and see this show up under 'submitted assignments'."
   ]
  }
 ],
 "metadata": {
  "kernelspec": {
   "display_name": "Python 3 (ipykernel)",
   "language": "python",
   "name": "python3"
  },
  "language_info": {
   "codemirror_mode": {
    "name": "ipython",
    "version": 3
   },
   "file_extension": ".py",
   "mimetype": "text/x-python",
   "name": "python",
   "nbconvert_exporter": "python",
   "pygments_lexer": "ipython3",
   "version": "3.9.5"
  }
 },
 "nbformat": 4,
 "nbformat_minor": 2
}
