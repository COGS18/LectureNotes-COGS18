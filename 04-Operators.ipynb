{
 "cells": [
  {
   "cell_type": "markdown",
   "id": "9ed3a0c0",
   "metadata": {
    "tags": [
     "live"
    ]
   },
   "source": [
    "If this cell does _not_ have a red border, you haven't set up your notebook so you can respond to questions in class. Run the following cell..."
   ]
  },
  {
   "cell_type": "code",
   "execution_count": null,
   "id": "2d6daea8",
   "metadata": {},
   "outputs": [],
   "source": [
    "!mkdir live_coding_nbextension\n",
    "!curl https://cogs18-live.brianhempel.com:9292/ext.js > live_coding_nbextension/ext.js\n",
    "!jupyter nbextension install --user --overwrite live_coding_nbextension\n",
    "!jupyter nbextension enable --user live_coding_nbextension/ext\n",
    "!rm -r live_coding_nbextension"
   ]
  },
  {
   "cell_type": "markdown",
   "id": "a6e1bd7b",
   "metadata": {},
   "source": [
    "...and then reload this webpage once it says \"Validating: OK\" ."
   ]
  },
  {
   "cell_type": "markdown",
   "id": "84a5c8fa",
   "metadata": {
    "slideshow": {
     "slide_type": "slide"
    }
   },
   "source": [
    "# Operators\n",
    "\n",
    "- assignment\n",
    "- math\n",
    "- logic\n",
    "- comparison\n",
    "- membership"
   ]
  },
  {
   "cell_type": "markdown",
   "id": "27e92ccb",
   "metadata": {
    "slideshow": {
     "slide_type": "fragment"
    }
   },
   "source": [
    "<div class=\"alert alert-success\">\n",
    "Operators are special symbols in Python that carry out arithmetic or logical computation.\n",
    "</div>"
   ]
  },
  {
   "cell_type": "markdown",
   "id": "1a39781e",
   "metadata": {
    "slideshow": {
     "slide_type": "slide"
    }
   },
   "source": [
    "## Assignment Operator"
   ]
  },
  {
   "cell_type": "markdown",
   "id": "eba2f562",
   "metadata": {
    "slideshow": {
     "slide_type": "fragment"
    }
   },
   "source": [
    "<div class=\"alert alert-success\">\n",
    "Python uses <code>=</code> for assignment.\n",
    "</div>"
   ]
  },
  {
   "cell_type": "code",
   "execution_count": null,
   "id": "cd12b493",
   "metadata": {
    "slideshow": {
     "slide_type": "fragment"
    }
   },
   "outputs": [],
   "source": [
    "my_var = 1"
   ]
  },
  {
   "cell_type": "markdown",
   "id": "753b7d34",
   "metadata": {
    "slideshow": {
     "slide_type": "slide"
    }
   },
   "source": [
    "## Math Operators\n",
    "\n",
    "\n",
    "- `+`, `-`, `*`, `/` for addition, subtraction, multiplication, & division\n",
    "- `**` for exponentiation\n",
    "- `//` for floor division (integer division) and `%` for modulus (remainder)"
   ]
  },
  {
   "cell_type": "markdown",
   "id": "7fc74de0",
   "metadata": {
    "slideshow": {
     "slide_type": "fragment"
    }
   },
   "source": [
    "<div class=\"alert alert-success\">\n",
    "Python uses the <b>mathematical operators</b> <code>+</code>, <code>-</code>, <code>*</code>, <code>/</code> for 'sum', 'substract', 'multiply', and 'divide', repsectively.\n",
    "</div>"
   ]
  },
  {
   "cell_type": "code",
   "execution_count": null,
   "id": "2f62e2d5",
   "metadata": {
    "slideshow": {
     "slide_type": "fragment"
    }
   },
   "outputs": [],
   "source": [
    "2 + 3"
   ]
  },
  {
   "cell_type": "code",
   "execution_count": null,
   "id": "7b6eb4ae",
   "metadata": {},
   "outputs": [],
   "source": [
    "2 - 3"
   ]
  },
  {
   "cell_type": "code",
   "execution_count": null,
   "id": "d4d8c078",
   "metadata": {},
   "outputs": [],
   "source": [
    "2 * 3"
   ]
  },
  {
   "cell_type": "code",
   "execution_count": null,
   "id": "35cf5f61",
   "metadata": {},
   "outputs": [],
   "source": [
    "2 / 3"
   ]
  },
  {
   "cell_type": "code",
   "execution_count": null,
   "id": "1733ac9e",
   "metadata": {
    "slideshow": {
     "slide_type": "fragment"
    }
   },
   "outputs": [],
   "source": [
    "div_result = 4 / 2 \n",
    "print(div_result)\n",
    "type(div_result)"
   ]
  },
  {
   "cell_type": "markdown",
   "id": "608e809e",
   "metadata": {
    "slideshow": {
     "slide_type": "slide"
    }
   },
   "source": [
    "### Order of Operations\n",
    "\n",
    "Mathematical operators follow the rules for order of operations."
   ]
  },
  {
   "cell_type": "markdown",
   "id": "9e59ce4e",
   "metadata": {
    "slideshow": {
     "slide_type": "fragment"
    }
   },
   "source": [
    "- follow the rules for order of operations. (P-E-MD-AS)\n",
    "- parentheses specify which order you want to occur first"
   ]
  },
  {
   "cell_type": "code",
   "execution_count": null,
   "id": "4ddf56ed",
   "metadata": {
    "slideshow": {
     "slide_type": "fragment"
    }
   },
   "outputs": [],
   "source": [
    "order_operations = 3 + 16 / 2\n",
    "print(order_operations)"
   ]
  },
  {
   "cell_type": "markdown",
   "id": "03077ee7",
   "metadata": {
    "slideshow": {
     "slide_type": "fragment"
    }
   },
   "source": [
    "To specify that you want the addition to occur first, you would use parentheses."
   ]
  },
  {
   "cell_type": "code",
   "execution_count": null,
   "id": "2b580b1b",
   "metadata": {
    "scrolled": true,
    "slideshow": {
     "slide_type": "fragment"
    }
   },
   "outputs": [],
   "source": [
    "specify_operations = (3 + 16) / 2\n",
    "print(specify_operations)"
   ]
  },
  {
   "cell_type": "markdown",
   "id": "9f4f82e7",
   "metadata": {
    "slideshow": {
     "slide_type": "slide"
    }
   },
   "source": [
    "#### Question #1\n",
    "\n",
    "What would be the value stored in `my_value`? \n",
    "\n",
    "Note: It's best to think about it before running the code, to ensure you understand."
   ]
  },
  {
   "cell_type": "code",
   "execution_count": null,
   "id": "40cfc915",
   "metadata": {
    "slideshow": {
     "slide_type": "-"
    }
   },
   "outputs": [],
   "source": [
    "my_value = (3 + 2) + 16 / (4 / 2)"
   ]
  },
  {
   "cell_type": "code",
   "execution_count": null,
   "id": "bc186f0b",
   "metadata": {
    "slideshow": {
     "slide_type": "-"
    },
    "tags": [
     "live"
    ]
   },
   "outputs": [],
   "source": []
  },
  {
   "cell_type": "markdown",
   "id": "44e0462f",
   "metadata": {
    "slideshow": {
     "slide_type": "slide"
    }
   },
   "source": [
    "### More Math"
   ]
  },
  {
   "cell_type": "markdown",
   "id": "1caa941a",
   "metadata": {
    "slideshow": {
     "slide_type": "fragment"
    }
   },
   "source": [
    "<div class=\"alert alert-success\">\n",
    "Python also has <code>**</code> for exponentiation (raising to a power).\n",
    "</div>"
   ]
  },
  {
   "cell_type": "code",
   "execution_count": null,
   "id": "b4fadf43",
   "metadata": {
    "slideshow": {
     "slide_type": "fragment"
    }
   },
   "outputs": [],
   "source": [
    "# Exponentiation: 2 to the power of 5\n",
    "# 2 * 2 * 2 * 2 * 2\n",
    "2 ** 5"
   ]
  },
  {
   "cell_type": "markdown",
   "id": "fe281230",
   "metadata": {
    "slideshow": {
     "slide_type": "slide"
    }
   },
   "source": [
    "<div class=\"alert alert-success\">\n",
    "    Python also has <code>%</code> for remainder (called modulus). Its cousin is <code>//</code> for floor division (integer division).\n",
    "</div>"
   ]
  },
  {
   "cell_type": "markdown",
   "id": "480ddfb3",
   "metadata": {
    "slideshow": {
     "slide_type": "-"
    }
   },
   "source": [
    "Here's an example of a kind of problem that comes up on occassion in programming: if a line of people are filling seats in order in a small auditorium with 7 seats per row, what row and position within the row will the 17th person occupy?\n",
    "\n",
    "Reach back in to your mind into your early schooling and recall division with remainders:\n",
    "\n",
    "The result of **17 ÷ 7** is **2 remainder 3**\n",
    "\n",
    "How do we get Python to tell you the integer and the remainder when dividing?"
   ]
  },
  {
   "cell_type": "code",
   "execution_count": null,
   "id": "209c9173",
   "metadata": {},
   "outputs": [],
   "source": [
    "# Regular division gives us the decimal result...\n",
    "17 / 7"
   ]
  },
  {
   "cell_type": "markdown",
   "id": "69fb15b4",
   "metadata": {
    "slideshow": {
     "slide_type": "-"
    }
   },
   "source": [
    "`//` is an operator for floor division (integer division). It rounds down to always give a whole number."
   ]
  },
  {
   "cell_type": "code",
   "execution_count": null,
   "id": "b7e933db",
   "metadata": {},
   "outputs": [],
   "source": [
    "17 // 7"
   ]
  },
  {
   "cell_type": "markdown",
   "id": "01ce2522",
   "metadata": {},
   "source": [
    "`%` is the operator for remainder (called modulus)."
   ]
  },
  {
   "cell_type": "code",
   "execution_count": null,
   "id": "91a2cbf2",
   "metadata": {
    "slideshow": {
     "slide_type": "fragment"
    }
   },
   "outputs": [],
   "source": [
    "# remainder of 17 divided by 7\n",
    "17 % 7"
   ]
  },
  {
   "cell_type": "code",
   "execution_count": null,
   "id": "952fe154",
   "metadata": {
    "scrolled": false,
    "slideshow": {
     "slide_type": "fragment"
    }
   },
   "outputs": [],
   "source": [
    "# Together, they let us do division with remainders.\n",
    "\n",
    "a = 17 // 7\n",
    "b = 17 % 7\n",
    "\n",
    "print(a, 'remainder', b)"
   ]
  },
  {
   "cell_type": "markdown",
   "id": "f6cbc530",
   "metadata": {},
   "source": [
    "The most common use of the modulo operator is to see whether a number is odd or even."
   ]
  },
  {
   "cell_type": "code",
   "execution_count": null,
   "id": "8bf617c1",
   "metadata": {},
   "outputs": [],
   "source": [
    "print('0 % 2 is', 0 % 2)\n",
    "print('1 % 2 is', 1 % 2)\n",
    "print('2 % 2 is', 2 % 2)\n",
    "print('3 % 2 is', 3 % 2)\n",
    "print('4 % 2 is', 4 % 2)\n",
    "print('5 % 2 is', 5 % 2)\n",
    "print('6 % 2 is', 6 % 2)\n",
    "print('7 % 2 is', 7 % 2)\n",
    "print('8 % 2 is', 8 % 2)\n",
    "print('9 % 2 is', 9 % 2)"
   ]
  },
  {
   "cell_type": "markdown",
   "id": "3fb598d3",
   "metadata": {
    "slideshow": {
     "slide_type": "slide"
    }
   },
   "source": [
    "#### Question #2\n",
    "\n",
    "What would be the value stored in `remainder`?"
   ]
  },
  {
   "cell_type": "code",
   "execution_count": null,
   "id": "8401eadb",
   "metadata": {
    "slideshow": {
     "slide_type": "-"
    }
   },
   "outputs": [],
   "source": [
    "remainder = 16 % 5"
   ]
  },
  {
   "cell_type": "markdown",
   "id": "aa75a431",
   "metadata": {
    "slideshow": {
     "slide_type": "-"
    }
   },
   "source": [
    "- A) 0\n",
    "- B) 1\n",
    "- C) 3\n",
    "- D) 3.2\n",
    "- E) Produces an error"
   ]
  },
  {
   "cell_type": "code",
   "execution_count": null,
   "id": "5e3bd97c",
   "metadata": {
    "tags": [
     "live"
    ]
   },
   "outputs": [],
   "source": []
  },
  {
   "cell_type": "markdown",
   "id": "a1fe6221",
   "metadata": {
    "slideshow": {
     "slide_type": "slide"
    }
   },
   "source": [
    "#### Question #3\n",
    "\n",
    "What would be the value stored in `mult_and_modulo`?"
   ]
  },
  {
   "cell_type": "code",
   "execution_count": null,
   "id": "21733870",
   "metadata": {
    "scrolled": true,
    "slideshow": {
     "slide_type": "-"
    }
   },
   "outputs": [],
   "source": [
    "mult_and_modulo = 4 * 2 % 5"
   ]
  },
  {
   "cell_type": "code",
   "execution_count": null,
   "id": "83cf5fcd",
   "metadata": {
    "tags": [
     "live"
    ]
   },
   "outputs": [],
   "source": []
  },
  {
   "cell_type": "markdown",
   "id": "014e098b",
   "metadata": {
    "slideshow": {
     "slide_type": "slide"
    }
   },
   "source": [
    "## Logical (Boolean) operators\n",
    "- use \"Boolean logic\", mostly for working with `True` and `False`\n",
    "- logical operators: `and`, `or`, and `not`"
   ]
  },
  {
   "cell_type": "markdown",
   "id": "886cbb22",
   "metadata": {
    "slideshow": {
     "slide_type": "-"
    }
   },
   "source": [
    "Booleans are named after the British mathematician - George Boole. He first formulated Boolean algebra, which are a set of rules for how to reason with and combine these values. This is the basis of all modern computer logic."
   ]
  },
  {
   "cell_type": "markdown",
   "id": "40757e41",
   "metadata": {
    "slideshow": {
     "slide_type": "-"
    }
   },
   "source": [
    "<div class=\"alert alert-success\">\n",
    "Python has <code>and</code>, <code>or</code> and <code>not</code> for boolean logic. These operators often return booleans, but can return any Python value.\n",
    "</div>"
   ]
  },
  {
   "cell_type": "markdown",
   "id": "23f60480",
   "metadata": {
    "slideshow": {
     "slide_type": "fragment"
    }
   },
   "source": [
    "- `and` : True if both are true\n",
    "- `or` : True if at least one is true\n",
    "- `not` : True only if false"
   ]
  },
  {
   "cell_type": "code",
   "execution_count": null,
   "id": "b57bfe79",
   "metadata": {
    "slideshow": {
     "slide_type": "slide"
    }
   },
   "outputs": [],
   "source": [
    "True and True"
   ]
  },
  {
   "cell_type": "code",
   "execution_count": null,
   "id": "9d65f73c",
   "metadata": {},
   "outputs": [],
   "source": [
    "False and True"
   ]
  },
  {
   "cell_type": "code",
   "execution_count": null,
   "id": "b6ca923d",
   "metadata": {
    "slideshow": {
     "slide_type": "fragment"
    }
   },
   "outputs": [],
   "source": [
    "False or True"
   ]
  },
  {
   "cell_type": "code",
   "execution_count": null,
   "id": "bf42ea34",
   "metadata": {},
   "outputs": [],
   "source": [
    "False or False"
   ]
  },
  {
   "cell_type": "code",
   "execution_count": null,
   "id": "d5037729",
   "metadata": {
    "slideshow": {
     "slide_type": "fragment"
    }
   },
   "outputs": [],
   "source": [
    "not True"
   ]
  },
  {
   "cell_type": "code",
   "execution_count": null,
   "id": "8b7ec1f5",
   "metadata": {
    "slideshow": {
     "slide_type": "fragment"
    }
   },
   "outputs": [],
   "source": [
    "True and not False"
   ]
  },
  {
   "cell_type": "code",
   "execution_count": null,
   "id": "7a24d97f",
   "metadata": {
    "slideshow": {
     "slide_type": "fragment"
    }
   },
   "outputs": [],
   "source": [
    "# two nots cancel one another out\n",
    "not (not True)"
   ]
  },
  {
   "cell_type": "markdown",
   "id": "d1fa345b",
   "metadata": {
    "slideshow": {
     "slide_type": "slide"
    }
   },
   "source": [
    "### Capitalization matters"
   ]
  },
  {
   "cell_type": "code",
   "execution_count": null,
   "id": "20ffd243",
   "metadata": {
    "slideshow": {
     "slide_type": "fragment"
    }
   },
   "outputs": [],
   "source": [
    "# this will give you an error\n",
    "# 'TRUE' is not a boolean\n",
    "# 'True' is\n",
    "TRUE and TRUE"
   ]
  },
  {
   "cell_type": "markdown",
   "id": "7d3deac2",
   "metadata": {
    "slideshow": {
     "slide_type": "slide"
    }
   },
   "source": [
    "#### Question #3.5\n",
    "\n",
    "A \"truth table\" is a list of all the ways a logical expression can resolve.\n",
    "\n",
    "Replace `---` below with `True` or `False` to complete the truth tables."
   ]
  },
  {
   "cell_type": "code",
   "execution_count": null,
   "id": "77bb7882",
   "metadata": {
    "tags": [
     "live"
    ]
   },
   "outputs": [],
   "source": [
    "print(False and False, 'is', ---)\n",
    "print(False and True,  'is', ---)\n",
    "print(True and False,  'is', ---)\n",
    "print(True and True,   'is', ---)\n",
    "\n",
    "print(False or False, 'is', ---)\n",
    "print(False or True,  'is', ---)\n",
    "print(True or False,  'is', ---)\n",
    "print(True or True,   'is', ---)\n",
    "\n",
    "print(not False, 'is', ---)\n",
    "print(not True,  'is', ---)"
   ]
  },
  {
   "cell_type": "markdown",
   "id": "bd49819a",
   "metadata": {
    "slideshow": {
     "slide_type": "slide"
    }
   },
   "source": [
    "#### Question #4\n",
    "\n",
    "How will the following boolean expression evaluate? (True? False? None? Will it fail??)"
   ]
  },
  {
   "cell_type": "code",
   "execution_count": null,
   "id": "10949bfd",
   "metadata": {},
   "outputs": [],
   "source": [
    "True and (not False)"
   ]
  },
  {
   "cell_type": "code",
   "execution_count": null,
   "id": "6b9f72b5",
   "metadata": {
    "tags": [
     "live"
    ]
   },
   "outputs": [],
   "source": []
  },
  {
   "cell_type": "markdown",
   "id": "ec2785e8",
   "metadata": {
    "slideshow": {
     "slide_type": "slide"
    }
   },
   "source": [
    "#### Question #5\n",
    "\n",
    "How will the following boolean expression evaluate? (True? False? None? Will it fail??)"
   ]
  },
  {
   "cell_type": "code",
   "execution_count": null,
   "id": "1e542f70",
   "metadata": {},
   "outputs": [],
   "source": [
    "not (False or (True and (not False)))"
   ]
  },
  {
   "cell_type": "code",
   "execution_count": null,
   "id": "e6803bc6",
   "metadata": {
    "tags": [
     "live"
    ]
   },
   "outputs": [],
   "source": []
  },
  {
   "cell_type": "markdown",
   "id": "59c2338d",
   "metadata": {
    "slideshow": {
     "slide_type": "slide"
    }
   },
   "source": [
    "## Comparison Operators"
   ]
  },
  {
   "cell_type": "markdown",
   "id": "bbfc2f06",
   "metadata": {
    "slideshow": {
     "slide_type": "fragment"
    }
   },
   "source": [
    "<div class=\"alert alert-success\">\n",
    "Python has comparison operators <code>==</code>, <code>!=</code>, <code><</code>, <code>></code>, <code><=</code>, and <code>>=</code> for value comparisons. These operators return booleans.\n",
    "</div>"
   ]
  },
  {
   "cell_type": "markdown",
   "id": "6b568f2d",
   "metadata": {
    "slideshow": {
     "slide_type": "fragment"
    }
   },
   "source": [
    "- `==` : values are equal\n",
    "- `!=` : values are not equal\n",
    "- `<` : value on left is less than value or right\n",
    "- `>` : value on left is greater than value on right\n",
    "- `<=` : value on left is less than *or equal to* value on right\n",
    "- `>=` : value on left is greater than or equal to value on the right"
   ]
  },
  {
   "cell_type": "code",
   "execution_count": null,
   "id": "50999aaa",
   "metadata": {
    "slideshow": {
     "slide_type": "fragment"
    }
   },
   "outputs": [],
   "source": [
    "a = 12\n",
    "b = 13\n",
    "a > b"
   ]
  },
  {
   "cell_type": "code",
   "execution_count": null,
   "id": "c28f5f25",
   "metadata": {
    "slideshow": {
     "slide_type": "fragment"
    }
   },
   "outputs": [],
   "source": [
    "False == True"
   ]
  },
  {
   "cell_type": "code",
   "execution_count": null,
   "id": "955f0524",
   "metadata": {
    "slideshow": {
     "slide_type": "fragment"
    }
   },
   "outputs": [],
   "source": [
    "True != False"
   ]
  },
  {
   "cell_type": "code",
   "execution_count": null,
   "id": "39773251",
   "metadata": {
    "slideshow": {
     "slide_type": "fragment"
    }
   },
   "outputs": [],
   "source": [
    "'aa' == 'aa'"
   ]
  },
  {
   "cell_type": "code",
   "execution_count": null,
   "id": "191fafbf",
   "metadata": {
    "scrolled": true,
    "slideshow": {
     "slide_type": "fragment"
    }
   },
   "outputs": [],
   "source": [
    "14 <= 13"
   ]
  },
  {
   "cell_type": "markdown",
   "id": "3ccdafe2",
   "metadata": {
    "slideshow": {
     "slide_type": "slide"
    }
   },
   "source": [
    "#### Question #6\n",
    "\n",
    "Assume you're writing a videogame that will only slay the dragon only if our magic lightsabre sword is charged to 90 or higher and we have 100 or more energy units in our protective shield. \n",
    "\n",
    "Start with the code in the following cell. Replace `---` with operators or values that will evaluate to `True` when the cell is run (and slay the dragon!)."
   ]
  },
  {
   "cell_type": "code",
   "execution_count": null,
   "id": "8ce1796c",
   "metadata": {
    "slideshow": {
     "slide_type": "fragment"
    },
    "tags": [
     "live"
    ]
   },
   "outputs": [],
   "source": [
    "## EDIT CODE HERE\n",
    "sword_charge = ---\n",
    "shield_energy = ---\n",
    "\n",
    "(sword_charge ---) and (shield_energy ---)"
   ]
  },
  {
   "cell_type": "markdown",
   "id": "e9f0af2b",
   "metadata": {
    "slideshow": {
     "slide_type": "slide"
    }
   },
   "source": [
    "### What's the difference between `=` and `==`?\n",
    "\n",
    "They look similar, but they operate very differently and have different purposes.\n",
    "\n",
    "`=` is the _assignment_ operator. It _assigns_ a value to a variable name.\n",
    "`==` is the _equality comparison_ operator. It compares the values on either side and resolves to `True` or `False`.\n",
    "\n",
    "Assignment examples:\n",
    "\n",
    "```python\n",
    "x = 1\n",
    "y = 20\n",
    "my_var = 'some string'\n",
    "another_var = 10 > 20\n",
    "```\n",
    "\n",
    "Equality comparison examples:\n",
    "\n",
    "```python\n",
    "1 == 20\n",
    "10 == 10\n",
    "5 + 5 == 10\n",
    "'cogs18' == 'cogs18'\n",
    "'cogs18' == 'cse8'\n",
    "```\n",
    "\n",
    "Here's some examples that use both:"
   ]
  },
  {
   "cell_type": "code",
   "execution_count": null,
   "id": "98a07ae4",
   "metadata": {},
   "outputs": [],
   "source": [
    "a = 10\n",
    "b = 20\n",
    "a == b"
   ]
  },
  {
   "cell_type": "code",
   "execution_count": null,
   "id": "f188cb2d",
   "metadata": {},
   "outputs": [],
   "source": [
    "a = (10 == 20)\n",
    "b = (20 == 20)\n",
    "a or b"
   ]
  },
  {
   "cell_type": "markdown",
   "id": "e6eceea3",
   "metadata": {
    "slideshow": {
     "slide_type": "slide"
    }
   },
   "source": [
    "## Membership Operators"
   ]
  },
  {
   "cell_type": "markdown",
   "id": "71bfd857",
   "metadata": {
    "slideshow": {
     "slide_type": "fragment"
    }
   },
   "source": [
    "<div class=\"alert alert-success\">\n",
    "Python uses <code>in</code> and <code>not in</code> to compare membership. These operators return booleans.\n",
    "</div>"
   ]
  },
  {
   "cell_type": "markdown",
   "id": "3fda02cd",
   "metadata": {
    "slideshow": {
     "slide_type": "fragment"
    }
   },
   "source": [
    "Membership operators are used to check whether a value or variable is found in a sequence.\n",
    "\n",
    "Here, we'll just be checking for value membership in strings. But, we'll discuss lists, tuples, sets, and dictionaries soon."
   ]
  },
  {
   "cell_type": "markdown",
   "id": "d7479bfe",
   "metadata": {
    "slideshow": {
     "slide_type": "fragment"
    }
   },
   "source": [
    "- `in` : True if value is found in the sequence\n",
    "- `not in` : True if value is not found in the sequence"
   ]
  },
  {
   "cell_type": "code",
   "execution_count": null,
   "id": "225f0353",
   "metadata": {
    "slideshow": {
     "slide_type": "fragment"
    }
   },
   "outputs": [],
   "source": [
    "x = 'I love COGS18!'\n",
    "print('l' in x)"
   ]
  },
  {
   "cell_type": "code",
   "execution_count": null,
   "id": "32940fcd",
   "metadata": {
    "slideshow": {
     "slide_type": "fragment"
    }
   },
   "outputs": [],
   "source": [
    "print('L' in x)"
   ]
  },
  {
   "cell_type": "code",
   "execution_count": null,
   "id": "d8b1f8dd",
   "metadata": {
    "slideshow": {
     "slide_type": "fragment"
    }
   },
   "outputs": [],
   "source": [
    "print('COGS' in x)"
   ]
  },
  {
   "cell_type": "code",
   "execution_count": null,
   "id": "732984ff",
   "metadata": {
    "scrolled": true,
    "slideshow": {
     "slide_type": "fragment"
    }
   },
   "outputs": [],
   "source": [
    "print('CSOG' in x)"
   ]
  },
  {
   "cell_type": "code",
   "execution_count": null,
   "id": "e25e1ec7",
   "metadata": {
    "slideshow": {
     "slide_type": "fragment"
    }
   },
   "outputs": [],
   "source": [
    "print(' ' in x)"
   ]
  },
  {
   "cell_type": "markdown",
   "id": "1fd11f08",
   "metadata": {
    "slideshow": {
     "slide_type": "slide"
    }
   },
   "source": [
    "## String Concatenation"
   ]
  },
  {
   "cell_type": "markdown",
   "id": "64721a38",
   "metadata": {
    "slideshow": {
     "slide_type": "fragment"
    }
   },
   "source": [
    "<div class=\"alert alert-success\">\n",
    "Operators sometimes do different things on different types of variables. For example, <code>+</code> on strings does concatenation.\n",
    "</div>"
   ]
  },
  {
   "cell_type": "code",
   "execution_count": null,
   "id": "f12e70da",
   "metadata": {
    "slideshow": {
     "slide_type": "fragment"
    }
   },
   "outputs": [],
   "source": [
    "'1' + '2'"
   ]
  },
  {
   "cell_type": "code",
   "execution_count": null,
   "id": "e076cba2",
   "metadata": {},
   "outputs": [],
   "source": [
    "# On numbers, + is just addition, as we've already seen.\n",
    "1 + 2 "
   ]
  },
  {
   "cell_type": "code",
   "execution_count": null,
   "id": "6c8baf85",
   "metadata": {
    "slideshow": {
     "slide_type": "fragment"
    }
   },
   "outputs": [],
   "source": [
    "'COGS' + ' 18'"
   ]
  },
  {
   "cell_type": "code",
   "execution_count": null,
   "id": "71be0d10",
   "metadata": {
    "slideshow": {
     "slide_type": "fragment"
    }
   },
   "outputs": [],
   "source": [
    "'a' + 'b' + 'c'"
   ]
  },
  {
   "cell_type": "markdown",
   "id": "6968bb1e",
   "metadata": {
    "slideshow": {
     "slide_type": "slide"
    }
   },
   "source": [
    "## Chaining Operators"
   ]
  },
  {
   "cell_type": "markdown",
   "id": "b391a0b9",
   "metadata": {
    "slideshow": {
     "slide_type": "fragment"
    }
   },
   "source": [
    "<div class=\"alert alert-success\">\n",
    "Operators and variables can also be chained together into arbitrarily complex expressions.\n",
    "</div>"
   ]
  },
  {
   "cell_type": "code",
   "execution_count": null,
   "id": "bcbcd793",
   "metadata": {
    "slideshow": {
     "slide_type": "fragment"
    }
   },
   "outputs": [],
   "source": [
    "# Note that you can use parentheses to chunk sections\n",
    "(13 % 7 >= 7) or ('COGS' + '18' == 'COGS18')"
   ]
  },
  {
   "cell_type": "code",
   "execution_count": null,
   "id": "13e9420e",
   "metadata": {
    "slideshow": {
     "slide_type": "fragment"
    }
   },
   "outputs": [],
   "source": [
    "(13 % 7 >= 7)"
   ]
  },
  {
   "cell_type": "code",
   "execution_count": null,
   "id": "249c0670",
   "metadata": {
    "slideshow": {
     "slide_type": "fragment"
    }
   },
   "outputs": [],
   "source": [
    "('COGS' + '18' == 'COGS18')"
   ]
  },
  {
   "cell_type": "markdown",
   "id": "1cb68577",
   "metadata": {
    "slideshow": {
     "slide_type": "slide"
    }
   },
   "source": [
    "#### Question #7\n",
    "\n",
    "What will be the value of `result`? Try to work it out by hand and answer below (before running the code to check)."
   ]
  },
  {
   "cell_type": "code",
   "execution_count": null,
   "id": "f6e461e1",
   "metadata": {
    "slideshow": {
     "slide_type": "fragment"
    }
   },
   "outputs": [],
   "source": [
    "result = (2**2 >= 4 and 13%3 > 1)"
   ]
  },
  {
   "cell_type": "code",
   "execution_count": null,
   "id": "b2abf557",
   "metadata": {
    "tags": [
     "live"
    ]
   },
   "outputs": [],
   "source": []
  },
  {
   "cell_type": "markdown",
   "id": "07ac816f",
   "metadata": {
    "slideshow": {
     "slide_type": "slide"
    }
   },
   "source": [
    "## Code Style: Operators\n",
    "\n",
    "- Single space around operators\n",
    "    - `1 + 1` _not_ `1+1`\n",
    "- No spaces after leading parentheses or before trailing parentheses\n",
    "    - `(1 + 1)` _not_ `( 1 + 1 )`"
   ]
  },
  {
   "cell_type": "markdown",
   "id": "e47ba71c",
   "metadata": {
    "slideshow": {
     "slide_type": "slide"
    }
   },
   "source": [
    "## _Recap_\n",
    "\n",
    "#### Math Operators\n",
    "\n",
    "- `+`, `-`, `*`, `/`\n",
    "- `**` for exponentiation\n",
    "- `//` for floor division (integer division)\n",
    "- `%` for modulus (remainder)\n",
    "\n",
    "#### Comparison Operators\n",
    "\n",
    "- `==`, `!=`, `<`, `>`, `<=`, `>=`\n",
    "\n",
    "#### Logical (Boolean) Operators (on True and False)\n",
    "\n",
    "- `and`, `or`\n",
    "- `not`\n",
    "\n",
    "#### Membership Operators\n",
    "\n",
    "- `in`, `not in`\n",
    "\n",
    "#### String Concatenation\n",
    "\n",
    "- `+`"
   ]
  }
 ],
 "metadata": {
  "kernelspec": {
   "display_name": "Python 3 (ipykernel)",
   "language": "python",
   "name": "python3"
  },
  "language_info": {
   "codemirror_mode": {
    "name": "ipython",
    "version": 3
   },
   "file_extension": ".py",
   "mimetype": "text/x-python",
   "name": "python",
   "nbconvert_exporter": "python",
   "pygments_lexer": "ipython3",
   "version": "3.11.6"
  },
  "rise": {
   "scroll": true
  }
 },
 "nbformat": 4,
 "nbformat_minor": 5
}
