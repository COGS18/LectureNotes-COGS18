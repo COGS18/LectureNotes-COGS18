{
 "cells": [
  {
   "cell_type": "markdown",
   "id": "6a1fbf4e",
   "metadata": {},
   "source": [
    "#### Cell 1"
   ]
  },
  {
   "cell_type": "code",
   "execution_count": null,
   "id": "e46b9de2",
   "metadata": {
    "tags": [
     "live"
    ]
   },
   "outputs": [],
   "source": []
  },
  {
   "cell_type": "markdown",
   "id": "830122f5",
   "metadata": {},
   "source": [
    "#### Cell 2"
   ]
  },
  {
   "cell_type": "code",
   "execution_count": null,
   "id": "a9323fe8",
   "metadata": {
    "tags": [
     "live"
    ]
   },
   "outputs": [],
   "source": []
  },
  {
   "cell_type": "markdown",
   "id": "6205e970",
   "metadata": {},
   "source": [
    "#### Cell 3"
   ]
  },
  {
   "cell_type": "code",
   "execution_count": null,
   "id": "686a3e29",
   "metadata": {
    "tags": [
     "live"
    ]
   },
   "outputs": [],
   "source": []
  },
  {
   "cell_type": "markdown",
   "id": "dbf2c506",
   "metadata": {},
   "source": [
    "#### Cell 4"
   ]
  },
  {
   "cell_type": "code",
   "execution_count": null,
   "id": "e8465fc1",
   "metadata": {
    "tags": [
     "live"
    ]
   },
   "outputs": [],
   "source": []
  },
  {
   "cell_type": "markdown",
   "id": "fde1aa45",
   "metadata": {},
   "source": [
    "#### Cell 5"
   ]
  },
  {
   "cell_type": "code",
   "execution_count": null,
   "id": "708e496a",
   "metadata": {
    "tags": [
     "live"
    ]
   },
   "outputs": [],
   "source": []
  },
  {
   "cell_type": "markdown",
   "id": "d786564f",
   "metadata": {},
   "source": [
    "#### Cell 6"
   ]
  },
  {
   "cell_type": "code",
   "execution_count": null,
   "id": "1ddb7e36",
   "metadata": {
    "tags": [
     "live"
    ]
   },
   "outputs": [],
   "source": []
  },
  {
   "cell_type": "markdown",
   "id": "51035e52",
   "metadata": {},
   "source": [
    "#### Cell 7"
   ]
  },
  {
   "cell_type": "code",
   "execution_count": null,
   "id": "18c33ab0",
   "metadata": {
    "tags": [
     "live"
    ]
   },
   "outputs": [],
   "source": []
  },
  {
   "cell_type": "markdown",
   "id": "b787b3b8",
   "metadata": {},
   "source": [
    "#### Cell 8"
   ]
  },
  {
   "cell_type": "code",
   "execution_count": null,
   "id": "a60d8a3f",
   "metadata": {
    "tags": [
     "live"
    ]
   },
   "outputs": [],
   "source": []
  }
 ],
 "metadata": {
  "kernelspec": {
   "display_name": "Python 3 (ipykernel)",
   "language": "python",
   "name": "python3"
  },
  "language_info": {
   "codemirror_mode": {
    "name": "ipython",
    "version": 3
   },
   "file_extension": ".py",
   "mimetype": "text/x-python",
   "name": "python",
   "nbconvert_exporter": "python",
   "pygments_lexer": "ipython3",
   "version": "3.11.6"
  }
 },
 "nbformat": 4,
 "nbformat_minor": 5
}
