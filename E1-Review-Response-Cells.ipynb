{
 "cells": [
  {
   "cell_type": "markdown",
   "id": "14be19a6",
   "metadata": {},
   "source": [
    "#### Cell 1"
   ]
  },
  {
   "cell_type": "code",
   "execution_count": null,
   "id": "c41b16a5",
   "metadata": {},
   "outputs": [],
   "source": []
  },
  {
   "cell_type": "markdown",
   "id": "0b538bb1",
   "metadata": {},
   "source": [
    "#### Cell 2"
   ]
  },
  {
   "cell_type": "code",
   "execution_count": null,
   "id": "9ee34cbc",
   "metadata": {},
   "outputs": [],
   "source": []
  },
  {
   "cell_type": "markdown",
   "id": "e200c0b1",
   "metadata": {},
   "source": [
    "#### Cell 3"
   ]
  },
  {
   "cell_type": "code",
   "execution_count": null,
   "id": "d6d069f0",
   "metadata": {},
   "outputs": [],
   "source": []
  },
  {
   "cell_type": "markdown",
   "id": "ee97cebc",
   "metadata": {},
   "source": [
    "#### Cell 4"
   ]
  },
  {
   "cell_type": "code",
   "execution_count": null,
   "id": "3d2d5111",
   "metadata": {},
   "outputs": [],
   "source": []
  },
  {
   "cell_type": "markdown",
   "id": "2b683357",
   "metadata": {},
   "source": [
    "#### Cell 5"
   ]
  },
  {
   "cell_type": "code",
   "execution_count": null,
   "id": "5aa9070e",
   "metadata": {},
   "outputs": [],
   "source": []
  },
  {
   "cell_type": "markdown",
   "id": "3cc60601",
   "metadata": {},
   "source": [
    "#### Cell 6"
   ]
  },
  {
   "cell_type": "code",
   "execution_count": null,
   "id": "9e0245ae",
   "metadata": {},
   "outputs": [],
   "source": []
  },
  {
   "cell_type": "markdown",
   "id": "b61075bb",
   "metadata": {},
   "source": [
    "#### Cell 7"
   ]
  },
  {
   "cell_type": "code",
   "execution_count": null,
   "id": "bbd8bf4e",
   "metadata": {},
   "outputs": [],
   "source": []
  },
  {
   "cell_type": "markdown",
   "id": "08a6768d",
   "metadata": {},
   "source": [
    "#### Cell 8"
   ]
  },
  {
   "cell_type": "code",
   "execution_count": null,
   "id": "69ed2a80",
   "metadata": {},
   "outputs": [],
   "source": []
  }
 ],
 "metadata": {
  "kernelspec": {
   "display_name": "Python 3 (ipykernel)",
   "language": "python",
   "name": "python3"
  },
  "language_info": {
   "codemirror_mode": {
    "name": "ipython",
    "version": 3
   },
   "file_extension": ".py",
   "mimetype": "text/x-python",
   "name": "python",
   "nbconvert_exporter": "python",
   "pygments_lexer": "ipython3",
   "version": "3.11.6"
  }
 },
 "nbformat": 4,
 "nbformat_minor": 5
}
