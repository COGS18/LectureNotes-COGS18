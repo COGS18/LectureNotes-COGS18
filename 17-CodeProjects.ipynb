{
 "cells": [
  {
   "cell_type": "markdown",
   "id": "3efcb5b8",
   "metadata": {
    "slideshow": {
     "slide_type": "-"
    }
   },
   "source": [
    "# Code Projects\n",
    "\n",
    "- modular design\n",
    "- minimal viable product\n",
    "- test-driven development\n",
    "- rapid prototyping\n",
    "- project organization\n",
    "- refactoring\n",
    "- code review"
   ]
  },
  {
   "cell_type": "markdown",
   "id": "df76b38a",
   "metadata": {
    "slideshow": {
     "slide_type": "slide"
    }
   },
   "source": [
    "## Project Check-In\n"
   ]
  },
  {
   "cell_type": "markdown",
   "id": "111bbe1d",
   "metadata": {},
   "source": [
    "#### Class Question #1\n",
    "\n",
    "What percent done are you on your final project? Say \"taking the exam\" if you're planning on doing the exam instead of the project."
   ]
  },
  {
   "cell_type": "code",
   "execution_count": null,
   "id": "801cb9ff",
   "metadata": {
    "tags": [
     "live"
    ]
   },
   "outputs": [],
   "source": []
  },
  {
   "cell_type": "markdown",
   "id": "7c694d8a",
   "metadata": {
    "slideshow": {
     "slide_type": "slide"
    }
   },
   "source": [
    "### Modular Design"
   ]
  },
  {
   "cell_type": "markdown",
   "id": "07bb8905",
   "metadata": {
    "slideshow": {
     "slide_type": "-"
    }
   },
   "source": [
    "<div class=\"alert alert-success\">\n",
    "Modular design, like modular programming, is the approach of designing and building things as independent modules. \n",
    "</div>"
   ]
  },
  {
   "cell_type": "markdown",
   "id": "c8deec16",
   "metadata": {
    "slideshow": {
     "slide_type": "slide"
    }
   },
   "source": [
    "### Minimal Viable Product"
   ]
  },
  {
   "cell_type": "markdown",
   "id": "a40e8e70",
   "metadata": {
    "slideshow": {
     "slide_type": "-"
    }
   },
   "source": [
    "<div class=\"alert alert-success\">\n",
    "A 'minimal viable product' is a product that contains the minimum amount of implemented features to use the code product - no more, no less.</div>"
   ]
  },
  {
   "cell_type": "markdown",
   "id": "a5e40300",
   "metadata": {
    "slideshow": {
     "slide_type": "-"
    }
   },
   "source": [
    "### Test-Driven Development"
   ]
  },
  {
   "cell_type": "markdown",
   "id": "d0bffdf7",
   "metadata": {
    "slideshow": {
     "slide_type": "-"
    }
   },
   "source": [
    "<div class=\"alert alert-success\">\n",
    "Writing the tests as soon as you have a plan & before you've written the code.\n",
    "</div>"
   ]
  },
  {
   "cell_type": "markdown",
   "id": "c7cbb2c6",
   "metadata": {
    "slideshow": {
     "slide_type": "-"
    }
   },
   "source": [
    "### Rapid Prototyping"
   ]
  },
  {
   "cell_type": "markdown",
   "id": "909705e7",
   "metadata": {
    "slideshow": {
     "slide_type": "-"
    }
   },
   "source": [
    "<div class=\"alert alert-success\">\n",
    "Rapid prototyping is an approach for developing things in which you work on minimal prototypes and iterate on them quickly. \n",
    "</div>"
   ]
  },
  {
   "cell_type": "markdown",
   "id": "67a50d00",
   "metadata": {
    "slideshow": {
     "slide_type": "-"
    }
   },
   "source": [
    "#### Some minimum viable product examples\n",
    "\n",
    "- Chatbot: start and end a chat\n",
    "- Data Analysis: read a dataset in, make a basic plot\n",
    "- Car Inventory: object with method that adds a car to the Inventory\n",
    "- Artificial Agents: simple bot moves around randomly"
   ]
  },
  {
   "cell_type": "markdown",
   "id": "8f58aa5a",
   "metadata": {},
   "source": [
    "**The key idea is to run the code regularly as you develop!** Don't write pages of code without running/testing and think you can fix it all at the end—that will be _very_ painful. Save yourself pain and run/test as you go."
   ]
  },
  {
   "cell_type": "markdown",
   "id": "74e90b95",
   "metadata": {
    "slideshow": {
     "slide_type": "slide"
    }
   },
   "source": [
    "## Project Organization"
   ]
  },
  {
   "cell_type": "markdown",
   "id": "c7d4dc96",
   "metadata": {
    "collapsed": true,
    "slideshow": {
     "slide_type": "-"
    }
   },
   "source": [
    "- **Notebooks**: good for interactive development\n",
    "    - For when seeing the inputs and outputs of code running needs to be seen start to finish\n",
    "    - file ends in `.ipynb`\n",
    "- **Modules**: for storing mature Python code, that you can import\n",
    "    - you don't *use* the functions in there, just define them\n",
    "    - file ends in `.py`\n",
    "- **Scripts (not required for the project)**: a Python file for executing a particular task\n",
    "    - this takes an input and does something start to finish\n",
    "    - file ends in `.py`"
   ]
  },
  {
   "cell_type": "markdown",
   "id": "ad4ccc07",
   "metadata": {},
   "source": [
    "Remember:\n",
    "    \n",
    "- a **module** is just a file with Python code in it that you import\n",
    "- a **script** is just a file with Python code in it that you run directly on the command line.\n",
    "\n",
    "Save this code as **`my_script.py`**\n",
    "\n",
    "```python\n",
    "print('my_script.py is being run')\n",
    "\n",
    "def say_hi():\n",
    "    print('hi')\n",
    "\n",
    "# This incantation lets use check if we are being run directly as a script.\n",
    "if __name__ == '__main__':\n",
    "    print(\"I'm running as a script!\")\n",
    "    say_hi()\n",
    "else:\n",
    "    print(\"I'm being imported!\")\n",
    "```"
   ]
  },
  {
   "cell_type": "code",
   "execution_count": null,
   "id": "628b2408",
   "metadata": {},
   "outputs": [],
   "source": [
    "# running as a script\n",
    "!python my_script.py"
   ]
  },
  {
   "cell_type": "code",
   "execution_count": null,
   "id": "48ffc762",
   "metadata": {},
   "outputs": [],
   "source": [
    "# importing (note: no \".py\" in the import statement)\n",
    "import my_script"
   ]
  },
  {
   "cell_type": "code",
   "execution_count": null,
   "id": "1bcd028d",
   "metadata": {},
   "outputs": [],
   "source": [
    "my_script.say_hi()"
   ]
  },
  {
   "cell_type": "markdown",
   "id": "7a14177d",
   "metadata": {},
   "source": [
    "**Reminder:** When you change an external module file and save it, you have to restart the notebook kernel for the notebook to load the updated version."
   ]
  },
  {
   "cell_type": "markdown",
   "id": "45f00a9d",
   "metadata": {
    "slideshow": {
     "slide_type": "slide"
    }
   },
   "source": [
    "### Typical Project Workflow"
   ]
  },
  {
   "cell_type": "markdown",
   "id": "47d67797",
   "metadata": {
    "collapsed": true,
    "slideshow": {
     "slide_type": "-"
    }
   },
   "source": [
    "- Develop plan and write tests\n",
    "- Develop code interactively in a Jupyter notebook/text editor\n",
    "- As functions & classes become mature, move them to Python files that you then `import`\n",
    "    - As you do so, go back through them to check for code style, add documentation, and run your code tests\n",
    "- At the end of a project, (maybe) write a standalone script that runs the project"
   ]
  },
  {
   "cell_type": "markdown",
   "id": "f3e33f37",
   "metadata": {
    "slideshow": {
     "slide_type": "slide"
    }
   },
   "source": [
    "<h3 style=\"font-family: 'Comic Sans', cursive\">My Project Plan</h3>\n",
    "\n",
    "- [ ] Design and write tests\n",
    "- [ ] Write some code\n",
    "- [ ] Test to make sure it works\n",
    "- [ ] Check code style (naming, spacing, etc.)\n",
    "- [ ] Add documentation\n",
    "- [ ] Move to module (if necessary)\n",
    "- [ ] Run all tests"
   ]
  },
  {
   "cell_type": "markdown",
   "id": "189e5842",
   "metadata": {
    "slideshow": {
     "slide_type": "slide"
    }
   },
   "source": [
    "### Project Design\n",
    "\n",
    "- Idea: [atbash encryption](https://en.wikipedia.org/wiki/Atbash): return the capitalized, reverse alphabetical letter for each character in the input string\n",
    "\n",
    "- Design:\n",
    "    - `atbash_encrypt()` : take input string and retrun atbash encrypted string\n",
    "        - inputs: `input_string` \n",
    "        - returns: `atbash_string`\n",
    "    - `atbash_decrypt()` : take encrypted string and decrypt using atbash\n",
    "        - inputs: `atbash_string`\n",
    "        - returns: `decrypted_string`\n",
    "    - `atbash_wrapper()` : does either of the above, as specified with input parameter\n",
    "        - inputs: `input_string`, `method` (either 'encrypt' or 'decrypt', default: 'encrypt')\n",
    "        - returns `output_string`"
   ]
  },
  {
   "cell_type": "markdown",
   "id": "e8a94c5e",
   "metadata": {
    "slideshow": {
     "slide_type": "slide"
    }
   },
   "source": [
    "### Adding Unit Tests"
   ]
  },
  {
   "cell_type": "markdown",
   "id": "1fa6879a",
   "metadata": {},
   "source": [
    "Test-driven Development (TDD): write the tests _first_.\n",
    "\n",
    "Note the third test function demonstrates how to test for exceptions you might want to happen. "
   ]
  },
  {
   "cell_type": "code",
   "execution_count": null,
   "id": "c4f6f2aa",
   "metadata": {},
   "outputs": [],
   "source": [
    "def test_atbash_encrypt():\n",
    "    assert callable(atbash_encrypt)\n",
    "    assert isinstance(atbash_encrypt('hello'), str)\n",
    "    assert atbash_encrypt('HELLO') == 'SVOOL'\n",
    "    assert atbash_encrypt('hello') == 'SVOOL'\n",
    "    \n",
    "def test_atbash_decrypt():\n",
    "    assert callable(atbash_decrypt)\n",
    "    assert isinstance(atbash_decrypt('hello'), str)\n",
    "    assert atbash_decrypt('SVOOL') == 'HELLO'\n",
    "    assert atbash_decrypt('svool') == 'HELLO'\n",
    "\n",
    "def test_atbash_wrapper():\n",
    "    assert callable(atbash_wrapper)\n",
    "    assert isinstance(atbash_wrapper('hello', method='encrypt'), str)\n",
    "    assert atbash_wrapper('hello', method='encrypt') == 'SVOOL'\n",
    "    assert atbash_wrapper('HELLO', method='encrypt') == 'SVOOL'\n",
    "    assert atbash_wrapper('SVOOL', method='decrypt') == 'HELLO'\n",
    "    assert atbash_wrapper('svool', method='decrypt') == 'HELLO'    \n",
    "\n",
    "    # Test for an exception if we given a method other than 'encrypt' or 'decrypt'\n",
    "    try:\n",
    "        atbash_wrapper('svool', method='blargh')\n",
    "        assert False\n",
    "    except Exception as err:\n",
    "        assert str(err) == 'method should be encrypt or decrypt'"
   ]
  },
  {
   "cell_type": "markdown",
   "id": "efedee21",
   "metadata": {
    "slideshow": {
     "slide_type": "slide"
    }
   },
   "source": [
    "### Writing Code"
   ]
  },
  {
   "cell_type": "markdown",
   "id": "848f178a",
   "metadata": {
    "slideshow": {
     "slide_type": "-"
    }
   },
   "source": [
    "#### `atbash_encrypt`"
   ]
  },
  {
   "cell_type": "code",
   "execution_count": null,
   "id": "e86a569c",
   "metadata": {
    "slideshow": {
     "slide_type": "-"
    },
    "tags": [
     "live"
    ]
   },
   "outputs": [],
   "source": [
    "def atbash_encrypt(input_string):\n",
    "    alpha = 'ABCDEFGHIJKLMNOPQRSTUVWXYZ'\n",
    "    reverse_alpha = 'ZYXWVUTSRQPONMLKJIHGFEDCBA'\n",
    "\n",
    "    atbash_string = ''\n",
    "\n",
    "    for char in input_string:\n",
    "        char = char.upper()\n",
    "        if char in alpha:\n",
    "            position = alpha.find(char)\n",
    "            atbash_string += reverse_alpha[position]\n",
    "        else:\n",
    "            atbash_string = None\n",
    "            break\n",
    "        \n",
    "    return atbash_string"
   ]
  },
  {
   "cell_type": "code",
   "execution_count": null,
   "id": "75527e05",
   "metadata": {
    "scrolled": true
   },
   "outputs": [],
   "source": [
    "# smoke test\n",
    "atbash_encrypt('Hello')"
   ]
  },
  {
   "cell_type": "code",
   "execution_count": null,
   "id": "562fe5e9",
   "metadata": {},
   "outputs": [],
   "source": [
    "# unit test\n",
    "test_atbash_encrypt()"
   ]
  },
  {
   "cell_type": "markdown",
   "id": "c6b153f1",
   "metadata": {
    "slideshow": {
     "slide_type": "slide"
    }
   },
   "source": [
    "#### `atbash_decrypt`\n",
    "\n",
    "Let's clean this up."
   ]
  },
  {
   "cell_type": "code",
   "execution_count": null,
   "id": "317a0034",
   "metadata": {
    "slideshow": {
     "slide_type": "-"
    },
    "tags": [
     "live"
    ]
   },
   "outputs": [],
   "source": [
    "# reminder: consider code style! \n",
    "def atbash_decrypt(atbash_string):    \n",
    "    ALPHA='ABCDEFGHIJKLMNOPQRSTUVWXYZ'\n",
    "    REVERSEALPHA='ZYXWVUTSRQPONMLKJIHGFEDCBA'\n",
    "    atbash_string=atbash_string.upper()\n",
    "    decrypted_string=''\n",
    "    for l in atbash_string:\n",
    "        if l in REVERSEALPHA:\n",
    "            letterindex=REVERSEALPHA.find(l)\n",
    "            decrypted_string=decrypted_string+ALPHA [letterindex]\n",
    "        else: decrypted_string=decrypted_string+l\n",
    "    return decrypted_string"
   ]
  },
  {
   "cell_type": "code",
   "execution_count": null,
   "id": "a0433708",
   "metadata": {},
   "outputs": [],
   "source": [
    "# smoke test\n",
    "atbash_decrypt('SVOOL')"
   ]
  },
  {
   "cell_type": "code",
   "execution_count": null,
   "id": "a5f23ae6",
   "metadata": {},
   "outputs": [],
   "source": [
    "# unit test\n",
    "test_atbash_decrypt()"
   ]
  },
  {
   "cell_type": "markdown",
   "id": "904bd8b1",
   "metadata": {
    "slideshow": {
     "slide_type": "slide"
    }
   },
   "source": [
    "#### `atbash_wrapper`"
   ]
  },
  {
   "cell_type": "code",
   "execution_count": null,
   "id": "9bee9908",
   "metadata": {
    "slideshow": {
     "slide_type": "-"
    }
   },
   "outputs": [],
   "source": [
    "def atbash_wrapper(input_string, method='encrypt'):\n",
    "    \n",
    "    if method == 'encrypt':\n",
    "        output_string = atbash_encrypt(input_string)\n",
    "    elif method == 'decrypt':\n",
    "        output_string = atbash_decrypt(input_string)\n",
    "    else:\n",
    "        raise Exception('method should be encrypt or decrypt')\n",
    "    \n",
    "    return output_string"
   ]
  },
  {
   "cell_type": "code",
   "execution_count": null,
   "id": "26326e0d",
   "metadata": {},
   "outputs": [],
   "source": [
    "# smoke test\n",
    "atbash_wrapper('hello')"
   ]
  },
  {
   "cell_type": "code",
   "execution_count": null,
   "id": "7877784b",
   "metadata": {},
   "outputs": [],
   "source": [
    "# unit test\n",
    "test_atbash_wrapper()"
   ]
  },
  {
   "cell_type": "markdown",
   "id": "a024cdaa",
   "metadata": {
    "slideshow": {
     "slide_type": "slide"
    }
   },
   "source": [
    "### Moving to a module...\n",
    "\n",
    "- move the code to `atbash.py`\n",
    "- move the test functions to `test_atbash.py`\n",
    "- consider imports at the top"
   ]
  },
  {
   "cell_type": "markdown",
   "id": "c2a0e6a2",
   "metadata": {
    "slideshow": {
     "slide_type": "-"
    }
   },
   "source": [
    "Note on `imports`: If you want to be able to use modules (imports) within a module/script, be sure to import it at the top. This applies to test files as well."
   ]
  },
  {
   "cell_type": "code",
   "execution_count": null,
   "id": "b2149505",
   "metadata": {
    "scrolled": false,
    "slideshow": {
     "slide_type": "fragment"
    }
   },
   "outputs": [],
   "source": [
    "!pytest test_atbash.py"
   ]
  },
  {
   "cell_type": "markdown",
   "id": "00524b57",
   "metadata": {
    "slideshow": {
     "slide_type": "slide"
    }
   },
   "source": [
    "### Add Some Documentation\n",
    "\n",
    "- Code in final project/exam requires:\n",
    "    - numpy-style docstrings\n",
    "    - code comments"
   ]
  },
  {
   "cell_type": "markdown",
   "id": "6b7341ab",
   "metadata": {
    "slideshow": {
     "slide_type": "slide"
    }
   },
   "source": [
    "### Putting it all together"
   ]
  },
  {
   "cell_type": "code",
   "execution_count": null,
   "id": "d9074862",
   "metadata": {},
   "outputs": [],
   "source": [
    "from atbash import atbash_wrapper"
   ]
  },
  {
   "cell_type": "code",
   "execution_count": null,
   "id": "bd02b266",
   "metadata": {},
   "outputs": [],
   "source": [
    "atbash_wrapper('hello')"
   ]
  },
  {
   "cell_type": "code",
   "execution_count": null,
   "id": "e6cb7d59",
   "metadata": {},
   "outputs": [],
   "source": [
    "atbash_wrapper('svool', method='decrypt')"
   ]
  },
  {
   "cell_type": "code",
   "execution_count": null,
   "id": "b8542522",
   "metadata": {},
   "outputs": [],
   "source": [
    "atbash_wrapper('hello', method='blargh')"
   ]
  },
  {
   "cell_type": "markdown",
   "id": "9928a202",
   "metadata": {
    "slideshow": {
     "slide_type": "slide"
    }
   },
   "source": [
    "### Refactoring"
   ]
  },
  {
   "cell_type": "markdown",
   "id": "b8efd59b",
   "metadata": {
    "slideshow": {
     "slide_type": "fragment"
    }
   },
   "source": [
    "<div class=\"alert alert-success\">\n",
    "Refactoring is the process of restructuring existing computer code, without changing its external behaviour. \n",
    "</div>"
   ]
  },
  {
   "cell_type": "markdown",
   "id": "273290e7",
   "metadata": {
    "slideshow": {
     "slide_type": "fragment"
    }
   },
   "source": [
    "Think of this as restructuring and final edits on your essay. "
   ]
  },
  {
   "cell_type": "markdown",
   "id": "22cb7b17",
   "metadata": {
    "slideshow": {
     "slide_type": "fragment"
    }
   },
   "source": [
    "**Nesting Functions** - If you have a whole bunch of functions, if statements, and for/while loops together within a single function, you probably want (need?) to refactor."
   ]
  },
  {
   "cell_type": "markdown",
   "id": "f6c31e54",
   "metadata": {
    "slideshow": {
     "slide_type": "fragment"
    }
   },
   "source": [
    "Clean functions accomplish a **single task**!"
   ]
  },
  {
   "cell_type": "markdown",
   "id": "2851776d",
   "metadata": {
    "slideshow": {
     "slide_type": "fragment"
    }
   },
   "source": [
    "**DRY**: Don't Repeat Yourself"
   ]
  },
  {
   "cell_type": "markdown",
   "id": "c8deb0bb",
   "metadata": {},
   "source": [
    "#### Refactoring Example: Cats"
   ]
  },
  {
   "cell_type": "code",
   "execution_count": null,
   "id": "314fb83d",
   "metadata": {},
   "outputs": [],
   "source": [
    "import matplotlib.pyplot as plt\n",
    "from imageio import imread"
   ]
  },
  {
   "cell_type": "code",
   "execution_count": null,
   "id": "c1caacfa",
   "metadata": {},
   "outputs": [],
   "source": [
    "# Show not a cat image with width of 200 pixels and a height of 400 pixels\n",
    "\n",
    "bird_url = 'https://cogs18-live.brianhempel.com/not_a_cat.jpg'\n",
    "bird_img = imread(cat_a_url)\n",
    "\n",
    "pixels_per_inch = plt.figure().get_dpi()\n",
    "\n",
    "plt.figure().set_figwidth(200 / pixels_per_inch)\n",
    "plt.figure().set_figheight(400 / pixels_per_inch)\n",
    "\n",
    "plt.imshow(bird_img, extent=(0, 200, 0, 400))"
   ]
  },
  {
   "cell_type": "code",
   "execution_count": null,
   "id": "af27ca50",
   "metadata": {},
   "outputs": [],
   "source": [
    "pixels_per_inch = plt.figure().get_dpi()\n",
    "\n",
    "plt.figure().set_figwidth(100 / pixels_per_inch)\n",
    "plt.figure().set_figheight(100 / pixels_per_inch)\n",
    "\n",
    "plt.imshow(bird_img, extent=(0, 100, 0, 100))"
   ]
  },
  {
   "cell_type": "code",
   "execution_count": null,
   "id": "d03de099",
   "metadata": {},
   "outputs": [],
   "source": [
    "pixels_per_inch = plt.figure().get_dpi()\n",
    "\n",
    "plt.figure().set_figwidth(600 / pixels_per_inch)\n",
    "plt.figure().set_figheight(200 / pixels_per_inch)\n",
    "\n",
    "plt.imshow(bird_img, extent=(0, 600, 0, 200))"
   ]
  },
  {
   "cell_type": "markdown",
   "id": "5d83eb80",
   "metadata": {},
   "source": [
    "#### Class Question\n",
    "\n",
    "Refactor this into a function that takes in width and height and displays the not-cat using the given dimensions."
   ]
  },
  {
   "cell_type": "code",
   "execution_count": null,
   "id": "a18ba4aa",
   "metadata": {
    "tags": [
     "live"
    ]
   },
   "outputs": [],
   "source": [
    "bird_url = 'https://cogs18-live.brianhempel.com/not_a_cat.jpg'\n",
    "bird_img = imread(cat_a_url)\n",
    "\n",
    "pixels_per_inch = plt.figure().get_dpi()\n",
    "\n",
    "plt.figure().set_figwidth(200 / pixels_per_inch)\n",
    "plt.figure().set_figheight(400 / pixels_per_inch)\n",
    "\n",
    "plt.imshow(bird_img, extent=(0, 200, 0, 400))"
   ]
  },
  {
   "cell_type": "markdown",
   "id": "9bb11910",
   "metadata": {
    "slideshow": {
     "slide_type": "slide"
    }
   },
   "source": [
    "#### Refactoring Example: Chatbot"
   ]
  },
  {
   "cell_type": "code",
   "execution_count": null,
   "id": "c8ad4f9a",
   "metadata": {
    "slideshow": {
     "slide_type": "-"
    }
   },
   "outputs": [],
   "source": [
    "import random \n",
    "\n",
    "def have_a_chat():\n",
    "    \"\"\"Main function to run our chatbot.\"\"\"\n",
    "    \n",
    "    keep_chatting = True\n",
    "\n",
    "    while keep_chatting:\n",
    "\n",
    "        # Get a message from the user\n",
    "        msg = input('INPUT :\\t')\n",
    "        out_msg = None\n",
    "        \n",
    "        # Check if the input is a question\n",
    "        input_string = msg\n",
    "        if '?' in input_string:\n",
    "            question = True\n",
    "        else:\n",
    "            question = False\n",
    "\n",
    "        # Check for an end msg \n",
    "        if 'quit' in input_string:\n",
    "            out_msg = 'Bye!'\n",
    "            keep_chatting = False\n",
    "            \n",
    "        # If we don't have an output yet, but the input was a question, \n",
    "        # return msg related to it being a question\n",
    "        if not out_msg and question:\n",
    "            out_msg = \"I'm too shy to answer questions. What do you want to talk about?\"\n",
    "\n",
    "        # Catch-all to say something if msg not caught & processed so far\n",
    "        if not out_msg:\n",
    "            out_msg = random.choice(['Good.', 'Okay', 'Huh?', 'Yeah!', 'Thanks!'])\n",
    "\n",
    "        print('OUTPUT:', out_msg)"
   ]
  },
  {
   "cell_type": "code",
   "execution_count": null,
   "id": "c73bd3e6",
   "metadata": {
    "scrolled": true,
    "slideshow": {
     "slide_type": "fragment"
    }
   },
   "outputs": [],
   "source": [
    "have_a_chat()"
   ]
  },
  {
   "cell_type": "markdown",
   "id": "c277d4ec",
   "metadata": {
    "slideshow": {
     "slide_type": "slide"
    }
   },
   "source": [
    "#### Refactored Example: Chatbot"
   ]
  },
  {
   "cell_type": "markdown",
   "id": "e87dead0",
   "metadata": {
    "slideshow": {
     "slide_type": "fragment"
    }
   },
   "source": [
    "What this function does:\n",
    "\n",
    "1. takes an input\n",
    "2. checks if input is a question\n",
    "3. checks if input is supposed to end the chat\n",
    "4. return appropriate response if question, end chat, or other\n",
    "\n",
    "That's four different things! Functions should do a single thing..."
   ]
  },
  {
   "cell_type": "code",
   "execution_count": null,
   "id": "a6972999",
   "metadata": {
    "slideshow": {
     "slide_type": "fragment"
    }
   },
   "outputs": [],
   "source": [
    "def get_input():\n",
    "    \"\"\"ask user for an input message\"\"\"\n",
    "    \n",
    "    msg = input('INPUT :\\t')\n",
    "    out_msg = None\n",
    "    \n",
    "    return msg, out_msg"
   ]
  },
  {
   "cell_type": "code",
   "execution_count": null,
   "id": "eddedabe",
   "metadata": {
    "slideshow": {
     "slide_type": "fragment"
    }
   },
   "outputs": [],
   "source": [
    "def is_question(input_string):\n",
    "    \"\"\"determine if input from user is a question\"\"\"\n",
    "    \n",
    "    if '?' in input_string:\n",
    "        output = True\n",
    "    else:\n",
    "        output = False\n",
    "    \n",
    "    return output"
   ]
  },
  {
   "cell_type": "code",
   "execution_count": null,
   "id": "2098db9d",
   "metadata": {
    "slideshow": {
     "slide_type": "fragment"
    }
   },
   "outputs": [],
   "source": [
    "def end_chat(input_list):\n",
    "    \"\"\"identify if user says 'quit' in input and end chat\"\"\"\n",
    "    \n",
    "    if 'quit' in input_list:\n",
    "        output = 'Bye'\n",
    "        keep_chatting = False\n",
    "    else:\n",
    "        output = None\n",
    "        keep_chatting = True\n",
    "        \n",
    "    return output, keep_chatting"
   ]
  },
  {
   "cell_type": "code",
   "execution_count": null,
   "id": "29cb93eb",
   "metadata": {
    "slideshow": {
     "slide_type": "fragment"
    }
   },
   "outputs": [],
   "source": [
    "def return_message(out_msg, question):\n",
    "    \"\"\"generic responses for the chatbot to return\"\"\"\n",
    "        \n",
    "    # If we don't have an output yet, but the input was a question, \n",
    "    # return msg related to it being a question\n",
    "    if not out_msg and question:\n",
    "        out_msg = \"I'm too shy to answer questions. What do you want to talk about?\"\n",
    "\n",
    "    # Catch-all to say something if msg not caught & processed so far\n",
    "    if not out_msg:\n",
    "        out_msg = random.choice(['Good.', 'Okay', 'Huh?', 'Yeah!', 'Thanks!'])\n",
    "        \n",
    "    return out_msg"
   ]
  },
  {
   "cell_type": "code",
   "execution_count": null,
   "id": "8072cf75",
   "metadata": {
    "slideshow": {
     "slide_type": "fragment"
    }
   },
   "outputs": [],
   "source": [
    "def have_a_chat():\n",
    "    \"\"\"Main function to run our chatbot.\"\"\"\n",
    "    \n",
    "    keep_chatting = True\n",
    "\n",
    "    while keep_chatting:\n",
    "\n",
    "        # Get input message from the user\n",
    "        msg, out_msg = get_input()\n",
    "        \n",
    "        # Check if the input is a question\n",
    "        question = is_question(msg)\n",
    "         \n",
    "        # Check for an end msg \n",
    "        out_msg, keep_chatting = end_chat(msg)\n",
    "       \n",
    "        # specify what to return\n",
    "        out_msg = return_message(out_msg = out_msg, question = question)\n",
    "        \n",
    "        print('OUTPUT:', out_msg)"
   ]
  },
  {
   "cell_type": "code",
   "execution_count": null,
   "id": "d139841a",
   "metadata": {
    "scrolled": false,
    "slideshow": {
     "slide_type": "fragment"
    }
   },
   "outputs": [],
   "source": [
    "have_a_chat()  "
   ]
  },
  {
   "cell_type": "markdown",
   "id": "56e24f4f",
   "metadata": {
    "slideshow": {
     "slide_type": "slide"
    }
   },
   "source": [
    "## Code Review"
   ]
  },
  {
   "cell_type": "markdown",
   "id": "85f3d2c5",
   "metadata": {
    "slideshow": {
     "slide_type": "fragment"
    }
   },
   "source": [
    "<div class=\"alert alert-success\">\n",
    "Code reviews is a process for systematically reviewing someone else's code. \n",
    "</div>"
   ]
  }
 ],
 "metadata": {
  "kernelspec": {
   "display_name": "Python 3 (ipykernel)",
   "language": "python",
   "name": "python3"
  },
  "language_info": {
   "codemirror_mode": {
    "name": "ipython",
    "version": 3
   },
   "file_extension": ".py",
   "mimetype": "text/x-python",
   "name": "python",
   "nbconvert_exporter": "python",
   "pygments_lexer": "ipython3",
   "version": "3.11.6"
  },
  "rise": {
   "scroll": true
  }
 },
 "nbformat": 4,
 "nbformat_minor": 5
}
