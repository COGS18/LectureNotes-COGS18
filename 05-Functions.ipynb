{
 "cells": [
  {
   "cell_type": "markdown",
   "id": "5d8fd052",
   "metadata": {
    "tags": [
     "live"
    ]
   },
   "source": [
    "It may take a few seconds, but if this cell does _not_ have a red border, you haven't set up your notebook so you can respond to questions in class. Run the following cell..."
   ]
  },
  {
   "cell_type": "code",
   "execution_count": null,
   "id": "49b58234",
   "metadata": {
    "scrolled": true
   },
   "outputs": [],
   "source": [
    "!mkdir live_coding_nbextension\n",
    "!curl https://cogs18-live.brianhempel.com:9292/ext.js > live_coding_nbextension/ext.js\n",
    "!jupyter nbextension install --user --overwrite live_coding_nbextension\n",
    "!jupyter nbextension enable --user live_coding_nbextension/ext\n",
    "!rm -r live_coding_nbextension"
   ]
  },
  {
   "cell_type": "markdown",
   "id": "be4e2519",
   "metadata": {},
   "source": [
    "...and then reload this webpage once it says \"Validating: OK\" ."
   ]
  },
  {
   "cell_type": "markdown",
   "id": "b31f7ee0",
   "metadata": {
    "slideshow": {
     "slide_type": "slide"
    }
   },
   "source": [
    "# Functions\n",
    "\n",
    "### *When we want to do the same sort of thing over and over, must we copy-paste every time?*\n",
    "\n",
    "For example, below we compute the distance between various points and La Jolla Shores Beach (LJS). **The code is kind of long—do we have to repeat the code for each distance we want to compute?**"
   ]
  },
  {
   "cell_type": "markdown",
   "id": "451e3e9d",
   "metadata": {},
   "source": [
    "<img style=\"float:right; max-width: 33%\" src=\"img/points_map.png\">\n",
    "\n",
    "| Location                        | Latitude      | Longitude       |\n",
    "|---------------------------------|---------------|-----------------|\n",
    "| Peterson Hall                   | 32.879896     | -117.240337     |\n",
    "| My office (DIB)                 | 32.879550     | -117.232273     |\n",
    "| La Jolla Cove                   | 32.850422     | -117.272852     |\n",
    "| **La Jolla Shores Beach (LJS)** | **32.855795** | **-117.258409** |\n"
   ]
  },
  {
   "cell_type": "code",
   "execution_count": null,
   "id": "89fdac92",
   "metadata": {
    "slideshow": {
     "slide_type": "fragment"
    }
   },
   "outputs": [],
   "source": [
    "from math import cos, pi # Need this so we can use cosine and pi"
   ]
  },
  {
   "cell_type": "code",
   "execution_count": null,
   "id": "11d10e2a",
   "metadata": {
    "slideshow": {
     "slide_type": "fragment"
    }
   },
   "outputs": [],
   "source": [
    "# lat,lon of Peterson\n",
    "lat = 32.879896\n",
    "lon = -117.240337\n",
    "\n",
    "# Compute distance between lat,lon and La Jolla Shores Beach\n",
    "# (Formula from https://en.wikipedia.org/wiki/Geographical_distance#Spherical_Earth_projected_to_a_plane)\n",
    "mean_lat_radians = (lat + 32.855795) / 2 / 180 * pi\n",
    "lat_diff_radians = (lat - 32.855795) / 180 * pi\n",
    "lon_diff_radians = (lon - -117.258409) / 180 * pi\n",
    "earth_radius_feet = 20902259.8\n",
    "distance_feet = earth_radius_feet * (lat_diff_radians**2 + (cos(mean_lat_radians) * lon_diff_radians)**2)**0.5\n",
    "\n",
    "distance_feet"
   ]
  },
  {
   "cell_type": "markdown",
   "id": "e051df29",
   "metadata": {},
   "source": [
    "Now, if we want to do it again, but for the distance from my office to LJS, we copy-paste the above and change the `lat` and `lon`. So much code!"
   ]
  },
  {
   "cell_type": "code",
   "execution_count": null,
   "id": "27c63851",
   "metadata": {
    "slideshow": {
     "slide_type": "fragment"
    }
   },
   "outputs": [],
   "source": [
    "# lat,lon of my office\n",
    "lat = 32.879550\n",
    "lon = -117.232273\n",
    "\n",
    "# Compute distance between lat,lon and La Jolla Shores Beach\n",
    "# (Formula from https://en.wikipedia.org/wiki/Geographical_distance#Spherical_Earth_projected_to_a_plane)\n",
    "mean_lat_radians = (lat + 32.855795) / 2 / 180 * pi\n",
    "lat_diff_radians = (lat - 32.855795) / 180 * pi\n",
    "lon_diff_radians = (lon - -117.258409) / 180 * pi\n",
    "earth_radius_feet = 20902259.8\n",
    "distance_feet = earth_radius_feet * (lat_diff_radians**2 + (cos(mean_lat_radians) * lon_diff_radians)**2)**0.5\n",
    "\n",
    "distance_feet"
   ]
  },
  {
   "cell_type": "markdown",
   "id": "fb31ad0d",
   "metadata": {},
   "source": [
    "Now, if we want to do it AGAIN, but for the distance from La Jolla Cove to LJS, we copy-paste the above and change the `lat` and `lon`."
   ]
  },
  {
   "cell_type": "code",
   "execution_count": null,
   "id": "d9c6df41",
   "metadata": {
    "slideshow": {
     "slide_type": "fragment"
    }
   },
   "outputs": [],
   "source": [
    "# lat,lon of La Jolla Cove\n",
    "lat = 32.850422\n",
    "lon = -117.272852\n",
    "\n",
    "# Compute distance between lat,lon and La Jolla Shores Beach\n",
    "# (Formula from https://en.wikipedia.org/wiki/Geographical_distance#Spherical_Earth_projected_to_a_plane)\n",
    "mean_lat_radians = (lat + 32.855795) / 2 / 180 * pi\n",
    "lat_diff_radians = (lat - 32.855795) / 180 * pi\n",
    "lon_diff_radians = (lon - -117.258409) / 180 * pi\n",
    "earth_radius_feet = 20902259.8\n",
    "distance_feet = earth_radius_feet * (lat_diff_radians**2 + (cos(mean_lat_radians) * lon_diff_radians)**2)**0.5\n",
    "\n",
    "distance_feet"
   ]
  },
  {
   "cell_type": "markdown",
   "id": "0744a46e",
   "metadata": {},
   "source": [
    "**Why might copy-pasting so much be a bad idea?**"
   ]
  },
  {
   "cell_type": "code",
   "execution_count": null,
   "id": "8ee92202",
   "metadata": {
    "tags": [
     "live"
    ]
   },
   "outputs": [],
   "source": []
  },
  {
   "cell_type": "markdown",
   "id": "6e366fa7",
   "metadata": {
    "slideshow": {
     "slide_type": "slide"
    }
   },
   "source": [
    "Once we learn _functions_ today, we can write a single function to compute the distance, and just use our function instead of copying and pasting the code every time:"
   ]
  },
  {
   "cell_type": "code",
   "execution_count": null,
   "id": "2f7a3b46",
   "metadata": {},
   "outputs": [],
   "source": [
    "# If we define a function called feet_to_ljs...\n",
    "\n",
    "def feet_to_ljs(lat, lon):\n",
    "    mean_lat_radians = (lat + 32.855795) / 2 / 180 * pi\n",
    "    lat_diff_radians = (lat - 32.855795) / 180 * pi\n",
    "    lon_diff_radians = (lon - -117.258409) / 180 * pi\n",
    "    earth_radius_feet = 20902259.8 \n",
    "    distance_feet = earth_radius_feet * (lat_diff_radians**2 + (cos(mean_lat_radians) * lon_diff_radians)**2)**0.5\n",
    "    return distance_feet\n",
    "\n",
    "\n",
    "# We can use it as many times as we want!\n",
    "# No more large copy-paste!\n",
    "# Here we use feet_to_ljs three times:\n",
    "\n",
    "peterson_to_ljs  = feet_to_ljs(32.879896, -117.240337)\n",
    "my_office_to_ljs = feet_to_ljs(32.879550, -117.232273)\n",
    "lj_cove_to_ljs   = feet_to_ljs(32.850422, -117.272852)\n",
    "\n",
    "print(\"Peterson to LJS:\", my_office_to_ljs, \"feet\")\n",
    "print(\"Office to LJS:\", my_office_to_ljs, \"feet\")\n",
    "print(\"LJ Cove to LJS:\", lj_cove_to_ljs, \"feet\")"
   ]
  },
  {
   "cell_type": "markdown",
   "id": "4b5c8f89",
   "metadata": {
    "slideshow": {
     "slide_type": "slide"
    }
   },
   "source": [
    "# Functions\n",
    "\n",
    "- defining a function\n",
    "    - `def`\n",
    "    - `return`\n",
    "- executing a function\n",
    "    - parameters/arguments\n",
    "    - output\n",
    "- extra features\n",
    "    - default values\n",
    "    - keyword vs. positional arguments\n",
    "- separate namespace\n",
    "- code style"
   ]
  },
  {
   "cell_type": "markdown",
   "id": "29bff4ff",
   "metadata": {
    "slideshow": {
     "slide_type": "slide"
    }
   },
   "source": [
    "## Functions\n",
    "\n",
    "<div class=\"alert alert-success\">\n",
    "A function is a re-usable piece of code that performs operations on a specified set of variables, and returns the result.\n",
    "</div>\n",
    "\n",
    "They let us repeat the same set of operations with slight variation, but _without_ copy-paste!"
   ]
  },
  {
   "cell_type": "markdown",
   "id": "9130075b",
   "metadata": {
    "slideshow": {
     "slide_type": "fragment"
    }
   },
   "source": [
    "![cheeseburger](img/cheeseburger.png)"
   ]
  },
  {
   "cell_type": "markdown",
   "id": "ae3401e8",
   "metadata": {
    "slideshow": {
     "slide_type": "slide"
    }
   },
   "source": [
    "![cheeseburger](img/cheeseburger.png)"
   ]
  },
  {
   "cell_type": "markdown",
   "id": "19f538df",
   "metadata": {
    "slideshow": {
     "slide_type": "fragment"
    }
   },
   "source": [
    "# 🍞🥫🍅🥬🍗🧀🧅🍞"
   ]
  },
  {
   "cell_type": "code",
   "execution_count": null,
   "id": "2c481645",
   "metadata": {
    "slideshow": {
     "slide_type": "fragment"
    }
   },
   "outputs": [],
   "source": [
    "# A function is a recipe:\n",
    "\n",
    "def sandwich(thing_above_patty):\n",
    "    return '🍞🥫🍅🥬🍗' + thing_above_patty + '🧅🍞'\n",
    "\n",
    "# Here we \"make\" the recipe five times:\n",
    "\n",
    "print(sandwich('') + ' is a Hamburger')\n",
    "print(sandwich('🧀') + ' is a Cheeseburger')\n",
    "print(sandwich('🍄🧀') + ' is a Mushroom Swiss Burger')\n",
    "print(sandwich('🐍') + ' is a Snake Burger')\n",
    "print(sandwich('🧱') + ' is a Dentist Burger')"
   ]
  },
  {
   "cell_type": "markdown",
   "id": "81a7af2a",
   "metadata": {
    "slideshow": {
     "slide_type": "slide"
    }
   },
   "source": [
    "## Functions"
   ]
  },
  {
   "cell_type": "markdown",
   "id": "23a1b3ad",
   "metadata": {
    "slideshow": {
     "slide_type": "fragment"
    }
   },
   "source": [
    "- Functions allow us to flexibly re-use pieces of code\n",
    "- Each function is independent of every other function, and other pieces of code\n",
    "- **Functions are the building blocks of programs**, and can be flexibly combined and executed in specified orders\n",
    "    - This allows us to build up arbitrarily complex, well-organized programs"
   ]
  },
  {
   "cell_type": "code",
   "execution_count": null,
   "id": "9a4730bc",
   "metadata": {
    "slideshow": {
     "slide_type": "fragment"
    }
   },
   "outputs": [],
   "source": [
    "# you've seen functions used before\n",
    "# here we use the type() function\n",
    "my_var = 3\n",
    "type(my_var)"
   ]
  },
  {
   "cell_type": "code",
   "execution_count": null,
   "id": "948492ad",
   "metadata": {
    "slideshow": {
     "slide_type": "fragment"
    }
   },
   "outputs": [],
   "source": [
    "# the function print() is independent of the function type()\n",
    "# but they can both be used on the same variable\n",
    "print(my_var)"
   ]
  },
  {
   "cell_type": "markdown",
   "id": "e7de514d",
   "metadata": {
    "slideshow": {
     "slide_type": "slide"
    }
   },
   "source": [
    "## Function General Form and Vocab\n",
    "\n",
    "If the goal of a function is to do the same operations with slight variations, we have to do two things:\n",
    "\n",
    "1. Tell Python the operations that we want to do. This is *defining* a function.\n",
    "2. Tell Python to actually do the thing. This is *calling* a function.\n",
    "\n",
    "Here is the general form of _defining_ a function:"
   ]
  },
  {
   "cell_type": "code",
   "execution_count": null,
   "id": "25899708",
   "metadata": {},
   "outputs": [],
   "source": [
    "def function_name(input_var1, input_var2, input_var3):\n",
    "    # any lines lines of code here\n",
    "    # indented, to show they are part of the function\n",
    "    return the_output_of_the_function"
   ]
  },
  {
   "cell_type": "markdown",
   "id": "f2f5e8ee",
   "metadata": {},
   "source": [
    "The function definition tells Python what instructions we will want to execute. It does _not_ run them yet! We have to _call_ the function to actually run it:"
   ]
  },
  {
   "cell_type": "code",
   "execution_count": null,
   "id": "f853cde7",
   "metadata": {},
   "outputs": [],
   "source": [
    "function_name(in1, in2, in3)"
   ]
  },
  {
   "cell_type": "markdown",
   "id": "268528ea",
   "metadata": {
    "slideshow": {
     "slide_type": "fragment"
    }
   },
   "source": [
    "- **Define/declare/create/make** a function: To set up and write the instructions for a function. (To write the recipe down.)\n",
    "- **Execute/call/use/run** a function: To actually use the pre-defined function. (To actually make the recipe.)\n",
    "\n",
    "Parts of a function:\n",
    "- **Input/parameter/argument**: A variable defined by the user that is put/passed in between the parentheses `()` that comes after the function name.  \n",
    "- **Output**: The value that is `return`ed to the user after the function is executed."
   ]
  },
  {
   "cell_type": "markdown",
   "id": "09c8f833",
   "metadata": {
    "slideshow": {
     "slide_type": "slide"
    }
   },
   "source": [
    "### Example I\n",
    "\n",
    "_Defining/declaring/creating/making_ the function:"
   ]
  },
  {
   "cell_type": "code",
   "execution_count": null,
   "id": "28853bf5",
   "metadata": {
    "slideshow": {
     "slide_type": "fragment"
    }
   },
   "outputs": [],
   "source": [
    "def double_value(num):\n",
    "\n",
    "    # do operations\n",
    "    doubled = num + num\n",
    "    \n",
    "    return doubled"
   ]
  },
  {
   "cell_type": "markdown",
   "id": "702ac18b",
   "metadata": {},
   "source": [
    "That tells Python what we _want_ to do, but Python hasn't actually done it yet. It has only remembered the instructions.\n",
    "\n",
    "To actually do it, we must _execute/call/use/run_ the function:"
   ]
  },
  {
   "cell_type": "code",
   "execution_count": null,
   "id": "6022aab7",
   "metadata": {
    "slideshow": {
     "slide_type": "fragment"
    }
   },
   "outputs": [],
   "source": [
    "double_value(num = 2)"
   ]
  },
  {
   "cell_type": "code",
   "execution_count": null,
   "id": "ae279db4",
   "metadata": {
    "slideshow": {
     "slide_type": "fragment"
    }
   },
   "outputs": [],
   "source": [
    "double_value(2)"
   ]
  },
  {
   "cell_type": "markdown",
   "id": "ffaa8ad3",
   "metadata": {
    "slideshow": {
     "slide_type": "slide"
    }
   },
   "source": [
    "### Example II\n",
    "\n",
    "Here we are _defining_ a function with multiple parameters:"
   ]
  },
  {
   "cell_type": "code",
   "execution_count": null,
   "id": "27c45ec0",
   "metadata": {
    "slideshow": {
     "slide_type": "fragment"
    }
   },
   "outputs": [],
   "source": [
    "def add_two_numbers(num1, num2):\n",
    "    \n",
    "    answer = num1 + num2\n",
    "    \n",
    "    return answer"
   ]
  },
  {
   "cell_type": "markdown",
   "id": "7b4774a1",
   "metadata": {},
   "source": [
    "_Using_ it:"
   ]
  },
  {
   "cell_type": "code",
   "execution_count": null,
   "id": "d26a2ba9",
   "metadata": {
    "slideshow": {
     "slide_type": "fragment"
    }
   },
   "outputs": [],
   "source": [
    "add_two_numbers(5, 14)"
   ]
  },
  {
   "cell_type": "code",
   "execution_count": null,
   "id": "b90361a4",
   "metadata": {
    "scrolled": true,
    "slideshow": {
     "slide_type": "fragment"
    }
   },
   "outputs": [],
   "source": [
    "# Execute our function again on some other inputs to double check \n",
    "# that our function is working how we think it should\n",
    "output = add_two_numbers(-1, 4)\n",
    "print(output)"
   ]
  },
  {
   "cell_type": "markdown",
   "id": "d894f3b7",
   "metadata": {
    "slideshow": {
     "slide_type": "slide"
    }
   },
   "source": [
    "### Example III"
   ]
  },
  {
   "cell_type": "code",
   "execution_count": null,
   "id": "920e06e1",
   "metadata": {
    "slideshow": {
     "slide_type": "fragment"
    }
   },
   "outputs": [],
   "source": [
    "def sandwich(thing_above_patty):\n",
    "    return '🍞🥫🍅🥬🍗' + thing_above_patty + '🧅🍞'\n",
    "\n",
    "hamburger    = sandwich('')\n",
    "cheeseburger = sandwich('🧀')\n",
    "snake_burger = sandwich('🐍')\n",
    "\n",
    "print(hamburger)\n",
    "print(cheeseburger)\n",
    "print(snake_burger)"
   ]
  },
  {
   "cell_type": "markdown",
   "id": "5c04cea3",
   "metadata": {
    "slideshow": {
     "slide_type": "fragment"
    }
   },
   "source": [
    "## Vocab Review\n",
    "\n",
    "*Discuss with your neighbor.* In the above example, where is each of the following?\n",
    "\n",
    "- Where do we **define/create/make** the function?\n",
    "- Where do we **execute/call/use** the function?\n",
    "- Where are the **inputs/parameters/arguments**?\n",
    "- Where is the function **output**?"
   ]
  },
  {
   "cell_type": "markdown",
   "id": "e354c3cc",
   "metadata": {
    "slideshow": {
     "slide_type": "slide"
    }
   },
   "source": [
    "## Function Properties"
   ]
  },
  {
   "cell_type": "markdown",
   "id": "3eea3b85",
   "metadata": {
    "slideshow": {
     "slide_type": "fragment"
    }
   },
   "source": [
    "- Functions are defined using `def` followed by the name of the function, parentheses `()`, parameters within the parentheses, and then `:` after the parentheses, which opens a code-block that comprises the function\n",
    "    - Running code with a `def` block *defines* the function (but does not *execute* it)"
   ]
  },
  {
   "cell_type": "code",
   "execution_count": null,
   "id": "819d7906",
   "metadata": {
    "slideshow": {
     "slide_type": "fragment"
    }
   },
   "outputs": [],
   "source": [
    "def my_func(param1, param2):\n",
    "    # any code here, for example:\n",
    "    x = param1 + param2\n",
    "    return x"
   ]
  },
  {
   "cell_type": "markdown",
   "id": "07498f54",
   "metadata": {
    "slideshow": {
     "slide_type": "fragment"
    }
   },
   "source": [
    "- Functions are *executed* with the name of the function and parentheses - `()` without `def` and `:`\n",
    "    - This is when the code inside a function is actually run\n",
    "    - Inside a function, there is code that performs operations on the available variables\n",
    "    - Functions use the special operator `return` to exit the function, passing out any specified variables"
   ]
  },
  {
   "cell_type": "code",
   "execution_count": null,
   "id": "5c2bd459",
   "metadata": {
    "slideshow": {
     "slide_type": "fragment"
    }
   },
   "outputs": [],
   "source": [
    "# The function call...\n",
    "\n",
    "my_func(1,2) # 1 and 2 are the \"arguments\" of the function call\n",
    "\n",
    "# ...executes like this:\n",
    "\n",
    "param1 = 1\n",
    "param2 = 2\n",
    "x = param1 + param2\n",
    "x"
   ]
  },
  {
   "cell_type": "markdown",
   "id": "3feffde6",
   "metadata": {},
   "source": [
    "There is a nice online tool called [Python Tutor](https://pythontutor.com/) made by UCSD's own Philip Guo. Python Tutor visualizes how your code runs, line by line. Feel free to paste your own code into it to understand. For example, this code:\n",
    "\n",
    "```python\n",
    "def my_func(param1, param2):\n",
    "    x = param1 + param2\n",
    "    return x\n",
    "\n",
    "result1 = my_func(1, 2)\n",
    "result2 = my_func(3, 4)\n",
    "```\n",
    "\n",
    "[Click here to visualize this example in Python Tutor.](https://pythontutor.com/render.html#code=def%20my_func%28param1,%20param2%29%3A%0A%20%20%20%20x%20%3D%20param1%20%2B%20param2%0A%20%20%20%20return%20x%0A%0Aresult1%20%3D%20my_func%281,%202%29%0Aresult2%20%3D%20my_func%283,%204%29&cumulative=false&curInstr=0&heapPrimitives=true&mode=display&origin=opt-frontend.js&py=311&rawInputLstJSON=%5B%5D&textReferences=false)\n"
   ]
  },
  {
   "cell_type": "markdown",
   "id": "98927495",
   "metadata": {
    "slideshow": {
     "slide_type": "fragment"
    }
   },
   "source": [
    "- When you use a function, you can assign the output (whatever is `return`ed) to a variable"
   ]
  },
  {
   "cell_type": "code",
   "execution_count": null,
   "id": "58e52269",
   "metadata": {
    "slideshow": {
     "slide_type": "fragment"
    }
   },
   "outputs": [],
   "source": [
    "my_result = my_func(1,2)\n",
    "my_result"
   ]
  },
  {
   "cell_type": "markdown",
   "id": "9ed354fa",
   "metadata": {},
   "source": [
    "- Or you can use the function directly where you need its output"
   ]
  },
  {
   "cell_type": "code",
   "execution_count": null,
   "id": "2f9e8a74",
   "metadata": {},
   "outputs": [],
   "source": [
    "my_func(1,2) + my_func(3,4)\n",
    "\n",
    "# instead of\n",
    "\n",
    "result1 = my_func(1,2)\n",
    "result2 = my_func(3,4)\n",
    "result1 + result2"
   ]
  },
  {
   "cell_type": "markdown",
   "id": "59e52d57",
   "metadata": {
    "collapsed": true,
    "slideshow": {
     "slide_type": "slide"
    }
   },
   "source": [
    "### Class Question #1: Using a function\n",
    "\n",
    "Given the function defined below (don't forget to run the cell!)"
   ]
  },
  {
   "cell_type": "code",
   "execution_count": null,
   "id": "b7a698c0",
   "metadata": {
    "slideshow": {
     "slide_type": "fragment"
    }
   },
   "outputs": [],
   "source": [
    "def remainder(number, divider):\n",
    "    \n",
    "    r = number % divider\n",
    "    \n",
    "    return r"
   ]
  },
  {
   "cell_type": "markdown",
   "id": "fa3b0ed5",
   "metadata": {},
   "source": [
    "Write a _call_ to the function with the inputs/parameters/arguments `12` and `5` "
   ]
  },
  {
   "cell_type": "code",
   "execution_count": null,
   "id": "82e930c9",
   "metadata": {
    "slideshow": {
     "slide_type": "-"
    },
    "tags": [
     "live"
    ]
   },
   "outputs": [],
   "source": []
  },
  {
   "cell_type": "markdown",
   "id": "c9dd66fe",
   "metadata": {
    "collapsed": true,
    "slideshow": {
     "slide_type": "slide"
    }
   },
   "source": [
    "### Class Question #2: Defining a function\n",
    "\n",
    "Write a function `greet` that takes the parameter `name`. Inside the function, concatenate 'Hello', the person's name, and 'Good morning!\". Assign this to `output` and return `output`.\n",
    "\n",
    "**Hint:** This is very much like the `sandwich` function.\n",
    "\n",
    "_Note: Each time you change your function, you have to re-run that cell before you can test it in a different cell. If you don't you will be testing the older version of the function!_"
   ]
  },
  {
   "cell_type": "code",
   "execution_count": null,
   "id": "b39b7b6b",
   "metadata": {
    "slideshow": {
     "slide_type": "fragment"
    },
    "tags": [
     "live"
    ]
   },
   "outputs": [],
   "source": []
  },
  {
   "cell_type": "code",
   "execution_count": null,
   "id": "8f39fc81",
   "metadata": {
    "scrolled": true,
    "slideshow": {
     "slide_type": "fragment"
    }
   },
   "outputs": [],
   "source": [
    "greet('Alice') # a test call of the function"
   ]
  },
  {
   "cell_type": "markdown",
   "id": "42238246",
   "metadata": {
    "slideshow": {
     "slide_type": "slide"
    }
   },
   "source": [
    "### Class Question #3\n",
    "\n",
    "In the cell below, write the simplest/shortest function possible, and then call it. (It does not have to do anything useful, indeed it will not do anything if you are going for the shortest function possible in Python!)"
   ]
  },
  {
   "cell_type": "code",
   "execution_count": null,
   "id": "7e3eca9a",
   "metadata": {
    "tags": [
     "live"
    ]
   },
   "outputs": [],
   "source": []
  },
  {
   "cell_type": "markdown",
   "id": "040cb7f4",
   "metadata": {
    "slideshow": {
     "slide_type": "slide"
    }
   },
   "source": [
    "## Default Values"
   ]
  },
  {
   "cell_type": "markdown",
   "id": "87cd5a32",
   "metadata": {
    "slideshow": {
     "slide_type": "fragment"
    }
   },
   "source": [
    "<div class=\"alert alert-success\">\n",
    "Function parameters can also take <b>default values</b>. This makes some parameters optional, as they take a default value if not otherwise specified.\n",
    "</div>"
   ]
  },
  {
   "cell_type": "markdown",
   "id": "c3299e50",
   "metadata": {
    "slideshow": {
     "slide_type": "fragment"
    }
   },
   "source": [
    "#### Default Value Functions\n",
    "\n",
    "Specify a default value in a function by doing an assignment within the function definition."
   ]
  },
  {
   "cell_type": "code",
   "execution_count": null,
   "id": "bece8d19",
   "metadata": {
    "slideshow": {
     "slide_type": "fragment"
    }
   },
   "outputs": [],
   "source": [
    "# Create a function, that has a default values for a parameter\n",
    "def exponentiate(number, exponent=2):  \n",
    "    return number ** exponent"
   ]
  },
  {
   "cell_type": "code",
   "execution_count": null,
   "id": "e51e42a3",
   "metadata": {
    "slideshow": {
     "slide_type": "fragment"
    }
   },
   "outputs": [],
   "source": [
    "# Use the function, using default value\n",
    "exponentiate(3)"
   ]
  },
  {
   "cell_type": "code",
   "execution_count": null,
   "id": "0b6bc137",
   "metadata": {
    "scrolled": true,
    "slideshow": {
     "slide_type": "fragment"
    }
   },
   "outputs": [],
   "source": [
    "# Call the function, over-riding default value with something else\n",
    "# python assumes values are in order of parameters specified in definition\n",
    "exponentiate(2, 3)"
   ]
  },
  {
   "cell_type": "code",
   "execution_count": null,
   "id": "de0d0eed",
   "metadata": {
    "scrolled": true,
    "slideshow": {
     "slide_type": "fragment"
    }
   },
   "outputs": [],
   "source": [
    "# you can always state this explicitly\n",
    "exponentiate(exponent=3, number=2)"
   ]
  },
  {
   "cell_type": "markdown",
   "id": "9be063de",
   "metadata": {
    "slideshow": {
     "slide_type": "slide"
    }
   },
   "source": [
    "## Positional vs. Keyword Arguments"
   ]
  },
  {
   "cell_type": "markdown",
   "id": "ca6e4946",
   "metadata": {
    "slideshow": {
     "slide_type": "fragment"
    }
   },
   "source": [
    "<div class=\"alert alert-success\">\n",
    "Arguments to a function can be indicated by either position or keyword.\n",
    "</div>"
   ]
  },
  {
   "cell_type": "code",
   "execution_count": null,
   "id": "ab198bd9",
   "metadata": {
    "slideshow": {
     "slide_type": "fragment"
    }
   },
   "outputs": [],
   "source": [
    "# Positional arguments use the position to infer which argument each value relates to\n",
    "exponentiate(2, 3)"
   ]
  },
  {
   "cell_type": "code",
   "execution_count": null,
   "id": "f0d65735",
   "metadata": {
    "slideshow": {
     "slide_type": "fragment"
    }
   },
   "outputs": [],
   "source": [
    "# Keyword arguments are explicitly named as to which argument each value relates to\n",
    "exponentiate(number=2, exponent=3)"
   ]
  },
  {
   "cell_type": "code",
   "execution_count": null,
   "id": "5ce66330",
   "metadata": {
    "slideshow": {
     "slide_type": "fragment"
    }
   },
   "outputs": [],
   "source": [
    "exponentiate(exponent=3, number=2)"
   ]
  },
  {
   "cell_type": "code",
   "execution_count": null,
   "id": "4b1cd420",
   "metadata": {
    "slideshow": {
     "slide_type": "fragment"
    }
   },
   "outputs": [],
   "source": [
    "# Note: once you have a keyword argument, you can't have other positional arguments afterwards\n",
    "# this cell will produce an error\n",
    "exponentiate(exponent=3, 2)"
   ]
  },
  {
   "cell_type": "markdown",
   "id": "c7cda9f2",
   "metadata": {
    "slideshow": {
     "slide_type": "fragment"
    }
   },
   "source": [
    "Reminder, setting a default value for parameters is allowed during function *definition*.\n",
    "\n",
    "(This may look like what we did above, but here we are including a default value for one parameter during function definition. During function *execution*, you can't mix and match using positional vs. keywords)"
   ]
  },
  {
   "cell_type": "code",
   "execution_count": null,
   "id": "bd8c73b0",
   "metadata": {
    "slideshow": {
     "slide_type": "fragment"
    }
   },
   "outputs": [],
   "source": [
    "def exponentiate(number, exponent=2):    \n",
    "    return number ** exponent"
   ]
  },
  {
   "cell_type": "markdown",
   "id": "38f696ba",
   "metadata": {
    "slideshow": {
     "slide_type": "slide"
    }
   },
   "source": [
    "### Class Question #4\n",
    "\n",
    "What is the final value of `result` in the following?"
   ]
  },
  {
   "cell_type": "code",
   "execution_count": null,
   "id": "7b6545d0",
   "metadata": {
    "slideshow": {
     "slide_type": "fragment"
    }
   },
   "outputs": [],
   "source": [
    "def exponentiate(number, exponent=2):    \n",
    "    return number ** exponent\n",
    "\n",
    "result = exponentiate(exponent=3, number=2)"
   ]
  },
  {
   "cell_type": "code",
   "execution_count": null,
   "id": "a6d34498",
   "metadata": {
    "tags": [
     "live"
    ]
   },
   "outputs": [],
   "source": []
  },
  {
   "cell_type": "markdown",
   "id": "9a281899",
   "metadata": {
    "slideshow": {
     "slide_type": "fragment"
    }
   },
   "source": [
    "Note: when using Keyword arguments position/order no longer matters"
   ]
  },
  {
   "cell_type": "markdown",
   "id": "0713c209",
   "metadata": {
    "slideshow": {
     "slide_type": "slide"
    }
   },
   "source": [
    "## Function Namespace "
   ]
  },
  {
   "cell_type": "markdown",
   "id": "372c9d3c",
   "metadata": {
    "slideshow": {
     "slide_type": "fragment"
    }
   },
   "source": [
    "- Each function has its own namespace\n",
    "- Functions have access to:\n",
    "    - variables explicitly passed into them\n",
    "    - variables defined inside the function\n",
    "    - variables defined outside the function in the main, \"global\", namespace"
   ]
  },
  {
   "cell_type": "markdown",
   "id": "7340740e",
   "metadata": {
    "slideshow": {
     "slide_type": "-"
    }
   },
   "source": [
    "### Variables defined inside a function only exist within that function."
   ]
  },
  {
   "cell_type": "code",
   "execution_count": null,
   "id": "f7984850",
   "metadata": {},
   "outputs": [],
   "source": [
    "def add_ten(num):\n",
    "    out = num + 10\n",
    "    return out\n",
    "\n",
    "print(add_ten(0))\n",
    "print(add_ten(123))\n",
    "\n",
    "print(num) # error, num only exists inside add_ten\n",
    "print(out) # error, out only exists inside add_ten"
   ]
  },
  {
   "cell_type": "markdown",
   "id": "f825ccc8",
   "metadata": {},
   "source": [
    "We can check the global namespace to confirm that out and num don't exist:"
   ]
  },
  {
   "cell_type": "code",
   "execution_count": null,
   "id": "1f02646f",
   "metadata": {
    "scrolled": true
   },
   "outputs": [],
   "source": [
    "%whos"
   ]
  },
  {
   "cell_type": "markdown",
   "id": "6fc4ad21",
   "metadata": {},
   "source": [
    "[Click here to visualize this example in Python Tutor](https://pythontutor.com/render.html#code=def%20add_ten%28num%29%3A%0A%20%20%20%20out%20%3D%20num%20%2B%2010%0A%20%20%20%20return%20out%0A%0Aprint%28add_ten%280%29%29%0Aprint%28add_ten%28123%29%29%0A%0Aprint%28num%29%20%23%20error,%20num%20only%20exists%20inside%20add_ten%0Aprint%28out%29%20%23%20error,%20out%20only%20exists%20inside%20add_ten&cumulative=false&curInstr=0&heapPrimitives=true&mode=display&origin=opt-frontend.js&py=311&rawInputLstJSON=%5B%5D&textReferences=false)"
   ]
  },
  {
   "cell_type": "markdown",
   "id": "ad03f6cd",
   "metadata": {},
   "source": [
    "### Variables in a function take priority over those in the global namespace\n",
    "\n",
    "Even if it has the same name, a variable defined inside the function is _different_ from a variable in the global namespace."
   ]
  },
  {
   "cell_type": "code",
   "execution_count": null,
   "id": "0598ae3d",
   "metadata": {
    "slideshow": {
     "slide_type": "fragment"
    }
   },
   "outputs": [],
   "source": [
    "var = 5\n",
    "thing = 100\n",
    "\n",
    "def add_ten(var):\n",
    "    thing = var + 10\n",
    "    return thing\n",
    "\n",
    "add_ten(0)\n",
    "\n",
    "# If I print(thing) here, will it be 100 or 10 or 110?"
   ]
  },
  {
   "cell_type": "markdown",
   "id": "e160b18f",
   "metadata": {},
   "source": [
    "[Click here to visualize this example in Python Tutor](https://pythontutor.com/render.html#code=var%20%3D%205%0Athing%20%3D%20100%0A%0Adef%20add_ten%28var%29%3A%0A%20%20%20%20thing%20%3D%20var%20%2B%2010%0A%20%20%20%20return%20thing%0A%0Aadd_ten%280%29%0A%0Aprint%28thing%29%20%23%20Will%20thing%20be%20100,%2010,%20or%20110%3F&cumulative=false&curInstr=0&heapPrimitives=true&mode=display&origin=opt-frontend.js&py=311&rawInputLstJSON=%5B%5D&textReferences=false)"
   ]
  },
  {
   "cell_type": "markdown",
   "id": "74015d1c",
   "metadata": {},
   "source": [
    "This is very important when you are working on large software projects: functions that other people define cannot mess up your variables. The names they define in their function only exist in the function and it does not matter if you used the same names in your code. The code is completely independent!"
   ]
  },
  {
   "cell_type": "markdown",
   "id": "f55d0b35",
   "metadata": {},
   "source": [
    "### You may still _use_ global variables inside a function\n",
    "\n",
    "This is safe, since you aren't overwriting them."
   ]
  },
  {
   "cell_type": "code",
   "execution_count": null,
   "id": "9e0948a9",
   "metadata": {},
   "outputs": [],
   "source": [
    "my_var = 10\n",
    "\n",
    "def add_ten(num):\n",
    "    out = num + my_var # my_var is defined outside the function\n",
    "    return out\n",
    "\n",
    "add_ten(0)"
   ]
  },
  {
   "cell_type": "markdown",
   "id": "58e01d0f",
   "metadata": {
    "slideshow": {
     "slide_type": "slide"
    }
   },
   "source": [
    "## Code Style: Functions\n",
    "\n",
    "- Function names should be snake_case \n",
    "- Function names should describe task accomplished by function\n",
    "- Separate out logical sections within a function with new lines\n",
    "- Arguments should be separated by a comma and a space\n",
    "- Default values do NOT need a space around the `=`"
   ]
  },
  {
   "cell_type": "markdown",
   "id": "8d281f0d",
   "metadata": {
    "slideshow": {
     "slide_type": "fragment"
    }
   },
   "source": [
    "### Functions: Code Style to Avoid"
   ]
  },
  {
   "cell_type": "code",
   "execution_count": null,
   "id": "1cd3c81d",
   "metadata": {
    "slideshow": {
     "slide_type": "-"
    }
   },
   "outputs": [],
   "source": [
    "# could be improved by adding empty lines to separate out logical chunks\n",
    "def RRRR(a,b=2): # needs space after comma, needs better names\n",
    "    r=a%b # needs spacing around operators\n",
    "    return r"
   ]
  },
  {
   "cell_type": "markdown",
   "id": "1f6bc58a",
   "metadata": {
    "slideshow": {
     "slide_type": "fragment"
    }
   },
   "source": [
    "### Functions: Good Code Style"
   ]
  },
  {
   "cell_type": "code",
   "execution_count": null,
   "id": "29a64c1e",
   "metadata": {
    "slideshow": {
     "slide_type": "-"
    }
   },
   "outputs": [],
   "source": [
    "def remainder(number, divider=2):\n",
    "    \n",
    "    r = number % divider\n",
    "    \n",
    "    return r"
   ]
  },
  {
   "cell_type": "markdown",
   "id": "88e43f31",
   "metadata": {
    "slideshow": {
     "slide_type": "slide"
    }
   },
   "source": [
    "### Class Question #5\n",
    "\n",
    "Clean up this function:"
   ]
  },
  {
   "cell_type": "code",
   "execution_count": null,
   "id": "e6c43ed0",
   "metadata": {
    "tags": [
     "live"
    ]
   },
   "outputs": [],
   "source": [
    "def Func(in1):\n",
    "    o=in1+'!!'\n",
    "    return o\n",
    "\n",
    "Func('hi')"
   ]
  },
  {
   "cell_type": "markdown",
   "id": "fe3d5afb",
   "metadata": {
    "slideshow": {
     "slide_type": "slide"
    }
   },
   "source": [
    "## Recap\n",
    "\n",
    "Now you know enough to understand everything that is going on in the code example from the beginning of lecture. The `feet_to_ljs` function is longer than our other examples, but it just a function, with inputs, some computation, and a return statement, followed by a few function calls to actually run it."
   ]
  },
  {
   "cell_type": "code",
   "execution_count": null,
   "id": "be8cad8d",
   "metadata": {},
   "outputs": [],
   "source": [
    "def feet_to_ljs(lat, lon):\n",
    "    mean_lat_radians = (lat + 32.855795) / 2 / 180 * pi\n",
    "    lat_diff_radians = (lat - 32.855795) / 180 * pi\n",
    "    lon_diff_radians = (lon - -117.258409) / 180 * pi\n",
    "    earth_radius_feet = 20902259.8 \n",
    "    distance_feet = earth_radius_feet * (lat_diff_radians**2 + (cos(mean_lat_radians) * lon_diff_radians)**2)**0.5\n",
    "    return distance_feet\n",
    "\n",
    "peterson_to_ljs  = feet_to_ljs(32.879896, -117.240337)\n",
    "my_office_to_ljs = feet_to_ljs(32.879550, -117.232273)\n",
    "lj_cove_to_ljs   = feet_to_ljs(32.850422, -117.272852)\n",
    "\n",
    "print(\"Peterson to LJS:\", my_office_to_ljs, \"feet\")\n",
    "print(\"Office to LJS:\", my_office_to_ljs, \"feet\")\n",
    "print(\"LJ Cove to LJS:\", lj_cove_to_ljs, \"feet\")"
   ]
  },
  {
   "cell_type": "markdown",
   "id": "dd3a8cd6",
   "metadata": {},
   "source": [
    "By defining the `feet_to_ljs` function, we can do our computation over and over without copy-pasting all the code every time. That's the point of functions: to reuse code without copy-paste."
   ]
  },
  {
   "cell_type": "markdown",
   "id": "688a7e4b",
   "metadata": {
    "slideshow": {
     "slide_type": "-"
    }
   },
   "source": [
    "## Summary\n",
    "\n",
    "We learned...\n",
    "\n",
    "- how to **define/declare/create/make** a function\n",
    "- how to **execute/call/use/run** a function\n",
    "- **inputs/parameters/arguments**\n",
    "- **return/output**\n",
    "- default values\n",
    "- position vs. keyword arguments\n",
    "- global namespace vs. local namespace\n",
    "- code style"
   ]
  },
  {
   "cell_type": "code",
   "execution_count": null,
   "id": "13c74702",
   "metadata": {
    "tags": [
     "live"
    ]
   },
   "outputs": [],
   "source": []
  }
 ],
 "metadata": {
  "kernelspec": {
   "display_name": "Python 3 (ipykernel)",
   "language": "python",
   "name": "python3"
  },
  "language_info": {
   "codemirror_mode": {
    "name": "ipython",
    "version": 3
   },
   "file_extension": ".py",
   "mimetype": "text/x-python",
   "name": "python",
   "nbconvert_exporter": "python",
   "pygments_lexer": "ipython3",
   "version": "3.11.6"
  },
  "rise": {
   "scroll": true
  }
 },
 "nbformat": 4,
 "nbformat_minor": 5
}
