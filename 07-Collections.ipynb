{
 "cells": [
  {
   "cell_type": "markdown",
   "id": "41bbc908",
   "metadata": {
    "slideshow": {
     "slide_type": "fragment"
    }
   },
   "source": [
    "# Collections\n",
    "\n",
    "- Lists (variable-length lists)\n",
    "- Tuples (immutable, fixed-length lists)\n",
    "- Dictionaries (lookup tables)\n",
    "- Indexing (looking up items)\n",
    "- Mutating (changing)\n",
    "\n",
    "**Lists** are common in programming and super useful. Lists let us compute on lists of things, like lists of students, list of scores, lists of assignments, lists of tasks, lists of anything!<br>\n",
    "Example: `['Alice', 'Bob', 'Carol', 'Dan']`\n",
    "\n",
    "**Tuples** are fixed-length lists, useful when you want to associate information together. For example first name, last name, and age.<br>\n",
    "Example: `('Alice', 'Smith', 20)`\n",
    "\n",
    "**Dictionaries** are useful when you want to make a lookup table of information. For example, a lookup table of _name_ to _age_.<br>\n",
    "Example: `{'Alice': 20, 'Bob': 19, 'Carol': 22, 'Dan': 20}`"
   ]
  },
  {
   "cell_type": "markdown",
   "id": "54452db1",
   "metadata": {
    "collapsed": true,
    "slideshow": {
     "slide_type": "slide"
    }
   },
   "source": [
    "## Collections: Lists "
   ]
  },
  {
   "cell_type": "markdown",
   "id": "b79aaedc",
   "metadata": {
    "slideshow": {
     "slide_type": "fragment"
    }
   },
   "source": [
    "<div class=\"alert alert-success\">\n",
    "A <b>list</b> is a mutable collection of ordered items, that can be of mixed type. Lists are created using square brackets.\n",
    "</div>"
   ]
  },
  {
   "cell_type": "markdown",
   "id": "c31a9678",
   "metadata": {
    "slideshow": {
     "slide_type": "fragment"
    }
   },
   "source": [
    "### List example"
   ]
  },
  {
   "cell_type": "code",
   "execution_count": null,
   "id": "0f891b59",
   "metadata": {
    "slideshow": {
     "slide_type": "fragment"
    }
   },
   "outputs": [],
   "source": [
    "# Define a list\n",
    "lst = [1, 'a', True]\n",
    "lst"
   ]
  },
  {
   "cell_type": "code",
   "execution_count": null,
   "id": "afa74ce6",
   "metadata": {
    "slideshow": {
     "slide_type": "fragment"
    }
   },
   "outputs": [],
   "source": [
    "# Print out the contents of a list\n",
    "print(lst)"
   ]
  },
  {
   "cell_type": "code",
   "execution_count": null,
   "id": "30878de1",
   "metadata": {
    "slideshow": {
     "slide_type": "fragment"
    }
   },
   "outputs": [],
   "source": [
    "# Check the type of a list\n",
    "type(lst)"
   ]
  },
  {
   "cell_type": "code",
   "execution_count": null,
   "id": "0a7e6a29",
   "metadata": {
    "slideshow": {
     "slide_type": "fragment"
    }
   },
   "outputs": [],
   "source": [
    "# Get the length of a list\n",
    "len(lst)"
   ]
  },
  {
   "cell_type": "markdown",
   "id": "9fb1c930",
   "metadata": {},
   "source": [
    "#### Class Question #1\n",
    "\n",
    "Write a list containing the following four items:\n",
    "\n",
    "- `True`\n",
    "- `10`\n",
    "- `'hi'`\n",
    "- `lst`"
   ]
  },
  {
   "cell_type": "code",
   "execution_count": null,
   "id": "0a12fbd0",
   "metadata": {
    "tags": [
     "live"
    ]
   },
   "outputs": [],
   "source": []
  },
  {
   "cell_type": "markdown",
   "id": "1c84a391",
   "metadata": {
    "collapsed": true,
    "slideshow": {
     "slide_type": "slide"
    }
   },
   "source": [
    "### Indexing"
   ]
  },
  {
   "cell_type": "markdown",
   "id": "d3440023",
   "metadata": {
    "slideshow": {
     "slide_type": "fragment"
    }
   },
   "source": [
    "<div class=\"alert alert-success\">\n",
    "<b>Indexing</b> refers to selecting an item from within a collection. Indexing is done with square brackets.\n",
    "</div>"
   ]
  },
  {
   "cell_type": "code",
   "execution_count": null,
   "id": "b09f82a9",
   "metadata": {
    "slideshow": {
     "slide_type": "fragment"
    }
   },
   "outputs": [],
   "source": [
    "my_lst = ['Julia', 'Amal', 'Richard', 'Sandra', 'Xuan']"
   ]
  },
  {
   "cell_type": "code",
   "execution_count": null,
   "id": "baaf2b92",
   "metadata": {
    "slideshow": {
     "slide_type": "fragment"
    }
   },
   "outputs": [],
   "source": [
    "# Indexing: Count forward, starting at 0, with positive numbers\n",
    "my_lst[0]"
   ]
  },
  {
   "cell_type": "code",
   "execution_count": null,
   "id": "50ba6780",
   "metadata": {},
   "outputs": [],
   "source": [
    "# Indexing: Negative numbers count backwards from the end of the list\n",
    "my_lst[-1]"
   ]
  },
  {
   "cell_type": "code",
   "execution_count": null,
   "id": "1a44c81f",
   "metadata": {
    "slideshow": {
     "slide_type": "fragment"
    }
   },
   "outputs": [],
   "source": [
    "# Indexing: Grab a group of adjacent items using `start:stop`, called a slice\n",
    "my_lst[2:4]"
   ]
  },
  {
   "cell_type": "code",
   "execution_count": null,
   "id": "02744570",
   "metadata": {
    "slideshow": {
     "slide_type": "fragment"
    }
   },
   "outputs": [],
   "source": [
    "# Indexing to end of list\n",
    "my_lst[2:]"
   ]
  },
  {
   "cell_type": "code",
   "execution_count": null,
   "id": "0aace5dd",
   "metadata": {
    "slideshow": {
     "slide_type": "fragment"
    }
   },
   "outputs": [],
   "source": [
    "# Indexing from beginning of list\n",
    "my_lst[:4]"
   ]
  },
  {
   "cell_type": "code",
   "execution_count": null,
   "id": "101cb6d8",
   "metadata": {
    "slideshow": {
     "slide_type": "fragment"
    }
   },
   "outputs": [],
   "source": [
    "# No beginning and no end grabs the whole list, copying it\n",
    "my_lst[:]"
   ]
  },
  {
   "cell_type": "code",
   "execution_count": null,
   "id": "4f5262b4",
   "metadata": {
    "slideshow": {
     "slide_type": "fragment"
    }
   },
   "outputs": [],
   "source": [
    "# Slicing by skipping a value [start:stop:step]\n",
    "my_lst[1:4:2]"
   ]
  },
  {
   "cell_type": "markdown",
   "id": "03a158a5",
   "metadata": {
    "slideshow": {
     "slide_type": "slide"
    }
   },
   "source": [
    "#### Class Question #2\n",
    "\n",
    "Given `q2_list`, replace the five `None`s with **indexing operations** to produce the indicated results."
   ]
  },
  {
   "cell_type": "code",
   "execution_count": null,
   "id": "6b583a6a",
   "metadata": {
    "slideshow": {
     "slide_type": "fragment"
    }
   },
   "outputs": [],
   "source": [
    "q2_lst = ['peanut', 'butter', '&','jelly']"
   ]
  },
  {
   "cell_type": "code",
   "execution_count": null,
   "id": "0603577f",
   "metadata": {
    "slideshow": {
     "slide_type": "fragment"
    },
    "tags": [
     "live"
    ]
   },
   "outputs": [],
   "source": [
    "print(None) # 'peanut'\n",
    "print(None) # 'jelly'\n",
    "print(None) # ['peanut', 'butter']\n",
    "print(None) # ['butter', '&', 'jelly']\n",
    "print(None) # []"
   ]
  },
  {
   "cell_type": "markdown",
   "id": "2dac9b1a",
   "metadata": {
    "slideshow": {
     "slide_type": "slide"
    }
   },
   "source": [
    "### Reminders"
   ]
  },
  {
   "cell_type": "markdown",
   "id": "4fd4859d",
   "metadata": {
    "slideshow": {
     "slide_type": "fragment"
    }
   },
   "source": [
    "Python is **zero-based** (The first index is '0')\n",
    "- Item `1` of `['a', 'b', 'c']` is `'b'`"
   ]
  },
  {
   "cell_type": "markdown",
   "id": "0ab9c7e1",
   "metadata": {
    "slideshow": {
     "slide_type": "fragment"
    }
   },
   "source": [
    "**Negative indices** index backwards through a collection\n",
    "- Item `-1` of `['a', 'b', 'c']` is `'c'`\n",
    "- Item `-3` of `['a', 'b', 'c']` is `'a'`"
   ]
  },
  {
   "cell_type": "markdown",
   "id": "3950c98a",
   "metadata": {
    "slideshow": {
     "slide_type": "fragment"
    }
   },
   "source": [
    "A sequence of indices, called a **slice**, can be accessed using `start:stop`\n",
    "- Items `1:3` of `['a', 'b', 'c']` are `['b','c']`\n",
    "- In this contstruction, `start` is included then every element until `stop`, not including `stop` itself\n",
    "    - Items `1:2` of `['a', 'b', 'c']` are `['b']`\n",
    "    - Items `1:1` of `['a', 'b', 'c']` are `[]`\n",
    "- To skip values in a sequence use `start:stop:step`\n",
    "    - Items `0:5:2` of `['a', 'b', 'c', 'd', 'e']` are `['a','c','e']`"
   ]
  },
  {
   "cell_type": "markdown",
   "id": "fb5e23bd",
   "metadata": {
    "slideshow": {
     "slide_type": "-"
    }
   },
   "source": [
    "<div class=\"alert alert-info\">\n",
    "<p><strong>Thing you don't need to know:</strong> Starting at zero is a convention (some) languages use that comes from how variables are stored in memory, and 'pointers' to those locations.</p>\n",
    "\n",
    "<p>If the first index is 0, then: <code>location_of_thing_i_want = location_of_first_item + index * size_of_each_item</code></p>\n",
    "<p>If the first index is 1, then: <code>location_of_thing_i_want = location_of_first_item + (index - 1) * size_of_each_item</code></p>\n",
    "    \n",
    "<p>Back when computers were slow, we wanted to avoid extra math, so the first version is faster. Also, if you have to do the math yourself (occasionally you do) the first version is simpler.</p>\n",
    "</div>"
   ]
  },
  {
   "cell_type": "markdown",
   "id": "79bac7d1",
   "metadata": {
    "slideshow": {
     "slide_type": "slide"
    }
   },
   "source": [
    "### Aside: Slicing in Reverse\n",
    "\n",
    "Note: This and the three following cells are *not* someting you'll be tested on. Including as an FYI for those curious.\n",
    "\n",
    "You *can* return `['jelly', '&', 'butter']` but it combines two different concepts.\n",
    "\n",
    "1. the `start:stop` now refers to indices in the reverse.\n",
    "2. `-1` is used as the step to reverse the output, `start:stop:-1`\n",
    "\n",
    "`step` is the amount by which the index increases, it defaults to 1. If it's negative, you're slicing over the collection in reverse."
   ]
  },
  {
   "cell_type": "code",
   "execution_count": null,
   "id": "01183edc",
   "metadata": {
    "scrolled": true,
    "slideshow": {
     "slide_type": "fragment"
    }
   },
   "outputs": [],
   "source": [
    "q2_lst = ['peanut', 'butter', '&','jelly']\n",
    "\n",
    "# slice in reverse\n",
    "q2_lst[-1:-4:-1]"
   ]
  },
  {
   "cell_type": "code",
   "execution_count": null,
   "id": "a68146e7",
   "metadata": {
    "scrolled": true,
    "slideshow": {
     "slide_type": "fragment"
    }
   },
   "outputs": [],
   "source": [
    "# you can use forward indexing\n",
    "q2_lst[3:0:-1]"
   ]
  },
  {
   "cell_type": "code",
   "execution_count": null,
   "id": "15056b8a",
   "metadata": {
    "slideshow": {
     "slide_type": "fragment"
    }
   },
   "outputs": [],
   "source": [
    "# to reverse a whole list, use no beginning and no end but step backwards\n",
    "print(q2_lst[::-1])"
   ]
  },
  {
   "cell_type": "markdown",
   "id": "7821aeda",
   "metadata": {
    "slideshow": {
     "slide_type": "slide"
    }
   },
   "source": [
    "## Mutating a List"
   ]
  },
  {
   "cell_type": "markdown",
   "id": "f46b87ee",
   "metadata": {
    "slideshow": {
     "slide_type": "fragment"
    }
   },
   "source": [
    "<div class=\"alert alert-success\">\n",
    "Lists are <i>mutable</i>, meaning after definition, you can update and change what is in the list.\n",
    "</div>"
   ]
  },
  {
   "cell_type": "code",
   "execution_count": null,
   "id": "90f43bce",
   "metadata": {
    "slideshow": {
     "slide_type": "fragment"
    }
   },
   "outputs": [],
   "source": [
    "# reminder what's in my_lst \n",
    "my_lst"
   ]
  },
  {
   "cell_type": "code",
   "execution_count": null,
   "id": "f177b64c",
   "metadata": {
    "slideshow": {
     "slide_type": "fragment"
    }
   },
   "outputs": [],
   "source": [
    "# Redefine a particular element of the list\n",
    "my_lst[2] = 'Rich'"
   ]
  },
  {
   "cell_type": "code",
   "execution_count": null,
   "id": "29b0b155",
   "metadata": {
    "scrolled": false,
    "slideshow": {
     "slide_type": "fragment"
    }
   },
   "outputs": [],
   "source": [
    "# Check the contents of the list\n",
    "my_lst"
   ]
  },
  {
   "cell_type": "markdown",
   "id": "4d0ac5e7",
   "metadata": {
    "slideshow": {
     "slide_type": "slide"
    }
   },
   "source": [
    "#### Class Question #3\n",
    "\n",
    "```python\n",
    "lst_update = [1, 2, 3, 0, 5]\n",
    "lst_update[3] = 4\n",
    "```\n",
    "\n",
    "What is the final value of `lst_update`? You can also write \"error\" or \"idk\"."
   ]
  },
  {
   "cell_type": "code",
   "execution_count": null,
   "id": "98d1a240",
   "metadata": {
    "slideshow": {
     "slide_type": "fragment"
    },
    "tags": [
     "live"
    ]
   },
   "outputs": [],
   "source": []
  },
  {
   "cell_type": "markdown",
   "id": "7a0c1d3e",
   "metadata": {
    "slideshow": {
     "slide_type": "slide"
    }
   },
   "source": [
    "## Collections: Tuples "
   ]
  },
  {
   "cell_type": "markdown",
   "id": "02128632",
   "metadata": {
    "slideshow": {
     "slide_type": "fragment"
    }
   },
   "source": [
    "<div class=\"alert alert-success\">\n",
    "A <b>tuple</b> is an <i>immutable</i> collection of ordered items, that can be of mixed type. Tuples are created using parentheses. Tuples are used when you don't want to be able to update the items in your tuple.\n",
    "<p>\n",
    "Useful when you want to associate information together, for example first name, last name, and age: <code>('Alice', 'Smith', 20)</code>\n",
    "</p>\n",
    "</div>"
   ]
  },
  {
   "cell_type": "markdown",
   "id": "1a6110d0",
   "metadata": {
    "slideshow": {
     "slide_type": "fragment"
    }
   },
   "source": [
    "### Tuple Example"
   ]
  },
  {
   "cell_type": "code",
   "execution_count": null,
   "id": "a942fb42",
   "metadata": {
    "slideshow": {
     "slide_type": "fragment"
    }
   },
   "outputs": [],
   "source": [
    "# Define a tuple\n",
    "tup = (2, 'b', False)"
   ]
  },
  {
   "cell_type": "code",
   "execution_count": null,
   "id": "6b3467e1",
   "metadata": {
    "slideshow": {
     "slide_type": "fragment"
    }
   },
   "outputs": [],
   "source": [
    "# Print out the contents of a tuple\n",
    "print(tup)"
   ]
  },
  {
   "cell_type": "code",
   "execution_count": null,
   "id": "b265dfec",
   "metadata": {
    "slideshow": {
     "slide_type": "fragment"
    }
   },
   "outputs": [],
   "source": [
    "# Check the type of a tuple\n",
    "type(tup)"
   ]
  },
  {
   "cell_type": "code",
   "execution_count": null,
   "id": "ac28bc2c",
   "metadata": {
    "slideshow": {
     "slide_type": "fragment"
    }
   },
   "outputs": [],
   "source": [
    "# Index into a tuple\n",
    "tup[2]"
   ]
  },
  {
   "cell_type": "code",
   "execution_count": null,
   "id": "ae09ccc0",
   "metadata": {
    "slideshow": {
     "slide_type": "fragment"
    }
   },
   "outputs": [],
   "source": [
    "# Get the length of a tuple\n",
    "len(tup)"
   ]
  },
  {
   "cell_type": "markdown",
   "id": "198405af",
   "metadata": {},
   "source": [
    "#### Class Question #4\n",
    "\n",
    "Write a tuple containing the following four items:\n",
    "- `False`\n",
    "- `5`\n",
    "- `'hi'`\n",
    "- `tup`"
   ]
  },
  {
   "cell_type": "code",
   "execution_count": null,
   "id": "d5241e8a",
   "metadata": {
    "tags": [
     "live"
    ]
   },
   "outputs": [],
   "source": []
  },
  {
   "cell_type": "markdown",
   "id": "25207ae1",
   "metadata": {
    "slideshow": {
     "slide_type": "slide"
    }
   },
   "source": [
    "### Tuples are Immutable"
   ]
  },
  {
   "cell_type": "code",
   "execution_count": null,
   "id": "6fc92a87",
   "metadata": {
    "scrolled": true,
    "slideshow": {
     "slide_type": "fragment"
    }
   },
   "outputs": [],
   "source": [
    "tup = (2, 'b', False)\n",
    "\n",
    "# Tuples are immutable - meaning after they defined, you can't change them\n",
    "# This code will produce an error.\n",
    "tup[2] = 1"
   ]
  },
  {
   "cell_type": "markdown",
   "id": "8bdc4270",
   "metadata": {
    "slideshow": {
     "slide_type": "slide"
    }
   },
   "source": [
    "## Dictionaries\n"
   ]
  },
  {
   "cell_type": "markdown",
   "id": "4d79685c",
   "metadata": {
    "slideshow": {
     "slide_type": "fragment"
    }
   },
   "source": [
    "<div class=\"alert alert-success\">\n",
    "<p>A dictionary is mutable collection of entries that are stored as \"key-value\" pairs. They are useful for organizing information by some attribute you might look up the information by.\n",
    "</p>\n",
    "<p>\n",
    "For example, a lookup table of <em>name</em> to <em>age</em>: <code>{'Alice': 20, 'Bob': 19, 'Carol': 22, 'Dan': 20}</code>\n",
    "</p>\n",
    "</div>"
   ]
  },
  {
   "cell_type": "markdown",
   "id": "4042d6c3",
   "metadata": {
    "slideshow": {
     "slide_type": "fragment"
    }
   },
   "source": [
    "### Dictionaries Are Key-Value Collections"
   ]
  },
  {
   "cell_type": "code",
   "execution_count": null,
   "id": "7c9f9d33",
   "metadata": {
    "slideshow": {
     "slide_type": "fragment"
    }
   },
   "outputs": [],
   "source": [
    "# Create a dictionary\n",
    "dictionary = {'key_1': 'value_1', 'key_2': 'value_2'}"
   ]
  },
  {
   "cell_type": "code",
   "execution_count": null,
   "id": "061c531a",
   "metadata": {
    "slideshow": {
     "slide_type": "fragment"
    }
   },
   "outputs": [],
   "source": [
    "# Check the contents of the dictionary\n",
    "print(dictionary)"
   ]
  },
  {
   "cell_type": "code",
   "execution_count": null,
   "id": "f0e931e6",
   "metadata": {
    "slideshow": {
     "slide_type": "fragment"
    }
   },
   "outputs": [],
   "source": [
    "# Check the type of the dictionary\n",
    "type(dictionary)"
   ]
  },
  {
   "cell_type": "code",
   "execution_count": null,
   "id": "fdf8d384",
   "metadata": {
    "slideshow": {
     "slide_type": "fragment"
    }
   },
   "outputs": [],
   "source": [
    "# Dictionaries also have a length\n",
    "# length refers to how many pairs there are\n",
    "len(dictionary)"
   ]
  },
  {
   "cell_type": "markdown",
   "id": "6cee076f",
   "metadata": {},
   "source": [
    "#### Class Question #5\n",
    "\n",
    "Write a dictionary with two _entries_ where\n",
    "- the first entry's _key_ is the string `'fav_int'` and its _value_ is your favorite integer, and\n",
    "- the second entry's _key_ is the string `'fav_animal'` and its _value_ is a string of your favorite animal."
   ]
  },
  {
   "cell_type": "code",
   "execution_count": null,
   "id": "02b6860b",
   "metadata": {
    "slideshow": {
     "slide_type": "-"
    },
    "tags": [
     "live"
    ]
   },
   "outputs": [],
   "source": []
  },
  {
   "cell_type": "markdown",
   "id": "1380098e",
   "metadata": {
    "collapsed": true,
    "slideshow": {
     "slide_type": "slide"
    }
   },
   "source": [
    "### Dictionaries: Indexing\n",
    "\n",
    "Lists and tuples are indexed by numbers, but dictionaries are special because they are indexed by their _keys_."
   ]
  },
  {
   "cell_type": "code",
   "execution_count": null,
   "id": "2c5cf47a",
   "metadata": {},
   "outputs": [],
   "source": [
    "dictionary = {'key_1': 'value_1', 'key_2': 'value_2'}"
   ]
  },
  {
   "cell_type": "code",
   "execution_count": null,
   "id": "c6778197",
   "metadata": {
    "slideshow": {
     "slide_type": "-"
    }
   },
   "outputs": [],
   "source": [
    "# Dictionaries are indexed using their keys\n",
    "dictionary['key_1']"
   ]
  },
  {
   "cell_type": "code",
   "execution_count": null,
   "id": "a6460a0f",
   "metadata": {},
   "outputs": [],
   "source": [
    "dictionary['key_2']"
   ]
  },
  {
   "cell_type": "code",
   "execution_count": null,
   "id": "c0d8439a",
   "metadata": {},
   "outputs": [],
   "source": [
    "dictionary['not a key']"
   ]
  },
  {
   "cell_type": "code",
   "execution_count": null,
   "id": "5dcd8699",
   "metadata": {
    "slideshow": {
     "slide_type": "slide"
    }
   },
   "outputs": [],
   "source": [
    "# Another dictionary example.\n",
    "\n",
    "# Here, the keys are names (strings)\n",
    "# The values are ages (ints)\n",
    "\n",
    "ages = {'Alice': 20, 'Bob': 19, 'Carol': 22, 'Dan': 20}\n",
    "ages"
   ]
  },
  {
   "cell_type": "code",
   "execution_count": null,
   "id": "8cfc5746",
   "metadata": {
    "slideshow": {
     "slide_type": "fragment"
    }
   },
   "outputs": [],
   "source": [
    "ages['Alice']"
   ]
  },
  {
   "cell_type": "code",
   "execution_count": null,
   "id": "f019dbb9",
   "metadata": {
    "slideshow": {
     "slide_type": "fragment"
    }
   },
   "outputs": [],
   "source": [
    "ages['Carol']"
   ]
  },
  {
   "cell_type": "code",
   "execution_count": null,
   "id": "649cf2f4",
   "metadata": {},
   "outputs": [],
   "source": [
    "# Reminder: like everyting in Python, you can combine code fragments into larger expressions.\n",
    "\n",
    "ages['Alice'] > ages['Carol']"
   ]
  },
  {
   "cell_type": "code",
   "execution_count": null,
   "id": "d3d03031",
   "metadata": {
    "slideshow": {
     "slide_type": "fragment"
    }
   },
   "outputs": [],
   "source": [
    "# A key not in the dictionary\n",
    "\n",
    "ages['Erin']"
   ]
  },
  {
   "cell_type": "markdown",
   "id": "59898992",
   "metadata": {
    "slideshow": {
     "slide_type": "-"
    }
   },
   "source": [
    "#### Class Question #6"
   ]
  },
  {
   "cell_type": "code",
   "execution_count": null,
   "id": "4a06ae53",
   "metadata": {
    "slideshow": {
     "slide_type": "fragment"
    }
   },
   "outputs": [],
   "source": [
    "height_dict = {'height_1' : 60, 'height_2': 68, 'height_3' : 65, 'height_4' : 72}"
   ]
  },
  {
   "cell_type": "markdown",
   "id": "7354b20e",
   "metadata": {},
   "source": [
    "Write code to return the value stored in the second key."
   ]
  },
  {
   "cell_type": "code",
   "execution_count": null,
   "id": "1657a46b",
   "metadata": {
    "tags": [
     "live"
    ]
   },
   "outputs": [],
   "source": []
  },
  {
   "cell_type": "markdown",
   "id": "921ed696",
   "metadata": {
    "slideshow": {
     "slide_type": "slide"
    }
   },
   "source": [
    "How might we _add_ more entries to a dictionary? (Or are dictionarys immutable like tuples?)"
   ]
  },
  {
   "cell_type": "markdown",
   "id": "eeff839e",
   "metadata": {
    "slideshow": {
     "slide_type": "slide"
    }
   },
   "source": [
    "### Dictionaries are mutable\n",
    "\n",
    "This means that dictionaries, once created, *can* be updated."
   ]
  },
  {
   "cell_type": "code",
   "execution_count": null,
   "id": "919afcc5",
   "metadata": {
    "slideshow": {
     "slide_type": "fragment"
    }
   },
   "outputs": [],
   "source": [
    "# It is often nice to use multiple lines to define a collection.\n",
    "\n",
    "completed_lab = {\n",
    "    'A1234' : True,\n",
    "    'A5678' : False,\n",
    "    'A9123' : True\n",
    "}\n",
    "\n",
    "completed_lab"
   ]
  },
  {
   "cell_type": "code",
   "execution_count": null,
   "id": "0d637612",
   "metadata": {
    "slideshow": {
     "slide_type": "fragment"
    }
   },
   "outputs": [],
   "source": [
    "# Change value of specified key\n",
    "completed_lab['A5678'] = True\n",
    "completed_lab"
   ]
  },
  {
   "cell_type": "code",
   "execution_count": null,
   "id": "0e40df2f",
   "metadata": {
    "slideshow": {
     "slide_type": "fragment"
    }
   },
   "outputs": [],
   "source": [
    "# Adding a key is just ordinary assignment\n",
    "completed_lab['A9999'] = False\n",
    "completed_lab"
   ]
  },
  {
   "cell_type": "markdown",
   "id": "21d85208",
   "metadata": {
    "slideshow": {
     "slide_type": "fragment"
    }
   },
   "source": [
    "Because dictionaries are mutable, key-value pairs can also be removed from the dictionary using `del`."
   ]
  },
  {
   "cell_type": "code",
   "execution_count": null,
   "id": "71865777",
   "metadata": {
    "slideshow": {
     "slide_type": "fragment"
    }
   },
   "outputs": [],
   "source": [
    "## Remove key-value pair using del\n",
    "del completed_lab['A5678']\n",
    "\n",
    "print(completed_lab)\n",
    "len(completed_lab)"
   ]
  },
  {
   "cell_type": "markdown",
   "id": "a90d768e",
   "metadata": {
    "slideshow": {
     "slide_type": "slide"
    }
   },
   "source": [
    "### Additional Dictionary Properties\n",
    "\n",
    "- Only one value per key. Duplicate keys are not possible. \n",
    "    - If duplicate keys are given, the last assignment wins."
   ]
  },
  {
   "cell_type": "code",
   "execution_count": null,
   "id": "60516a0b",
   "metadata": {
    "slideshow": {
     "slide_type": "fragment"
    }
   },
   "outputs": [],
   "source": [
    "# Last duplicate key assigned wins\n",
    "my_dict = {'Student' : 97, 'Student': 88, 'Student' : 91}\n",
    "my_dict"
   ]
  },
  {
   "cell_type": "markdown",
   "id": "39b62eed",
   "metadata": {
    "slideshow": {
     "slide_type": "fragment"
    }
   },
   "source": [
    "- **keys** must be of an immutable type (string, tuple, integer, float, etc), but usually keys will just be strings\n",
    "- Note: **values** can be of any type"
   ]
  },
  {
   "cell_type": "code",
   "execution_count": null,
   "id": "4fe05e3f",
   "metadata": {
    "scrolled": true,
    "slideshow": {
     "slide_type": "fragment"
    }
   },
   "outputs": [],
   "source": [
    "# lists are not allowed as key types\n",
    "# this code will produce an error\n",
    "{[1,2,3] : 97}"
   ]
  },
  {
   "cell_type": "markdown",
   "id": "9213965e",
   "metadata": {
    "slideshow": {
     "slide_type": "fragment"
    }
   },
   "source": [
    "- Dictionary keys are case sensitive.\n"
   ]
  },
  {
   "cell_type": "code",
   "execution_count": null,
   "id": "e3065784",
   "metadata": {
    "slideshow": {
     "slide_type": "fragment"
    }
   },
   "outputs": [],
   "source": [
    "{'Student' : 97, 'student': 88, 'STUDENT' : 91}"
   ]
  },
  {
   "cell_type": "markdown",
   "id": "010373bc",
   "metadata": {
    "slideshow": {
     "slide_type": "slide"
    }
   },
   "source": [
    "## Revisiting membership: `in` operator"
   ]
  },
  {
   "cell_type": "markdown",
   "id": "80265c98",
   "metadata": {
    "slideshow": {
     "slide_type": "fragment"
    }
   },
   "source": [
    "<div class=\"alert alert-success\">\n",
    "The <code>in</code> operator asks whether an element is present inside a collection, and returns a boolean answer. \n",
    "</div>"
   ]
  },
  {
   "cell_type": "code",
   "execution_count": null,
   "id": "024ea342",
   "metadata": {
    "slideshow": {
     "slide_type": "fragment"
    }
   },
   "outputs": [],
   "source": [
    "# Define a new list and dictionary to work with\n",
    "lst_again = [False, 13, None, 'apples']\n",
    "dict_again = {'Shannon': 33, 'Josh': 41}"
   ]
  },
  {
   "cell_type": "code",
   "execution_count": null,
   "id": "94f19ae0",
   "metadata": {
    "slideshow": {
     "slide_type": "fragment"
    }
   },
   "outputs": [],
   "source": [
    "# Check if a particular element is present in the list\n",
    "14 in lst_again"
   ]
  },
  {
   "cell_type": "code",
   "execution_count": null,
   "id": "0b136677",
   "metadata": {
    "slideshow": {
     "slide_type": "fragment"
    }
   },
   "outputs": [],
   "source": [
    "# The `in` operator can also be combined with the `not` operator\n",
    "'19' not in lst_again"
   ]
  },
  {
   "cell_type": "code",
   "execution_count": null,
   "id": "596bbdfa",
   "metadata": {
    "slideshow": {
     "slide_type": "fragment"
    }
   },
   "outputs": [],
   "source": [
    "# In a dictionary, checks if value is a key\n",
    "'Shannon' in dict_again"
   ]
  },
  {
   "cell_type": "code",
   "execution_count": null,
   "id": "0d4425d7",
   "metadata": {
    "slideshow": {
     "slide_type": "fragment"
    }
   },
   "outputs": [],
   "source": [
    "# does not check for values in dictionary\n",
    "33 in dict_again"
   ]
  },
  {
   "cell_type": "markdown",
   "id": "b9ea52a5",
   "metadata": {
    "collapsed": true,
    "slideshow": {
     "slide_type": "slide"
    }
   },
   "source": [
    "#### Class Question #7\n",
    "\n",
    "```python\n",
    "q7_lst = [0, False, 'ten', None]\n",
    "\n",
    "bool_1 = False in q7_lst\n",
    "bool_2 = 10 not in q7_lst\n",
    "\n",
    "output = bool_1 and bool_2\n",
    "```\n",
    "\n",
    "What is the value of `output`?"
   ]
  },
  {
   "cell_type": "code",
   "execution_count": null,
   "id": "98cac9b5",
   "metadata": {
    "slideshow": {
     "slide_type": "-"
    },
    "tags": [
     "live"
    ]
   },
   "outputs": [],
   "source": []
  },
  {
   "cell_type": "markdown",
   "id": "93099888",
   "metadata": {
    "slideshow": {
     "slide_type": "slide"
    }
   },
   "source": [
    "## Aliases and Mutation"
   ]
  },
  {
   "cell_type": "code",
   "execution_count": null,
   "id": "7bde6c70",
   "metadata": {
    "scrolled": true,
    "slideshow": {
     "slide_type": "fragment"
    }
   },
   "outputs": [],
   "source": [
    "# When two variables point to the same thing, we call this \"aliasing\"\n",
    "a = 1\n",
    "b = a\n",
    "print(b)"
   ]
  },
  {
   "cell_type": "markdown",
   "id": "f6afff3e",
   "metadata": {
    "slideshow": {
     "slide_type": "fragment"
    }
   },
   "source": [
    "Here, the value 1 is assigned to the variable `a`.\n",
    "\n",
    "We then make an **alias** of `a` and call that alias `b`.\n",
    "\n",
    "Now, both `a` (the original) and `b` (the alias) point to the same value `1`\n",
    "\n",
    "(Note: the monikers \"original\" and \"alias\" are just for us. Python treats `a` and `b` the same, it doesn't care which is first.)"
   ]
  },
  {
   "cell_type": "markdown",
   "id": "d6a7b8d7",
   "metadata": {
    "slideshow": {
     "slide_type": "fragment"
    }
   },
   "source": [
    "[Visualize this code in Python Tutor](https://pythontutor.com/render.html#code=a%20%3D%201%0Ab%20%3D%20a%0A%0Aprint%28a%29%0Aprint%28b%29&cumulative=false&curInstr=0&heapPrimitives=true&mode=display&origin=opt-frontend.js&py=311&rawInputLstJSON=%5B%5D&textReferences=false)"
   ]
  },
  {
   "cell_type": "markdown",
   "id": "4e55a5e9",
   "metadata": {
    "slideshow": {
     "slide_type": "fragment"
    }
   },
   "source": [
    "What if we change the value of the original variable `a`? What happens to `b`?"
   ]
  },
  {
   "cell_type": "markdown",
   "id": "a3b83647",
   "metadata": {
    "slideshow": {
     "slide_type": "slide"
    }
   },
   "source": [
    "#### Class Question #8\n",
    "\n",
    "```python\n",
    "a = 1 # variable\n",
    "b = a # alias\n",
    "a = 2 # change the original variable\n",
    "```\n",
    "\n",
    "What are the final values of `a` and `b`?"
   ]
  },
  {
   "cell_type": "code",
   "execution_count": null,
   "id": "36badf36",
   "metadata": {
    "tags": [
     "live"
    ]
   },
   "outputs": [],
   "source": [
    "# a is ____\n",
    "# b is ____"
   ]
  },
  {
   "cell_type": "markdown",
   "id": "37159a99",
   "metadata": {
    "slideshow": {
     "slide_type": "-"
    }
   },
   "source": [
    "[Visualize this code in Python Tutor](https://pythontutor.com/render.html#code=a%20%3D%201%0Ab%20%3D%20a%0Aa%20%3D%202%0A%0Aprint%28a%29%0Aprint%28b%29&cumulative=false&curInstr=0&heapPrimitives=true&mode=display&origin=opt-frontend.js&py=311&rawInputLstJSON=%5B%5D&textReferences=false)"
   ]
  },
  {
   "cell_type": "markdown",
   "id": "cb4cf10e",
   "metadata": {
    "slideshow": {
     "slide_type": "slide"
    }
   },
   "source": [
    "What happens to `a`, `b`, and `c` here?"
   ]
  },
  {
   "cell_type": "code",
   "execution_count": null,
   "id": "dc3601fa",
   "metadata": {
    "slideshow": {
     "slide_type": "-"
    }
   },
   "outputs": [],
   "source": [
    "a = []\n",
    "b = []\n",
    "c = b\n",
    "b = 100"
   ]
  },
  {
   "cell_type": "markdown",
   "id": "c70ed18a",
   "metadata": {},
   "source": [
    "[Visualize this code in Python Tutor](https://pythontutor.com/render.html#code=a%20%3D%20%5B%5D%0Ab%20%3D%20%5B%5D%0Ac%20%3D%20b%0Ab%20%3D%20100&cumulative=false&curInstr=0&heapPrimitives=true&mode=display&origin=opt-frontend.js&py=311&rawInputLstJSON=%5B%5D&textReferences=false)"
   ]
  },
  {
   "cell_type": "markdown",
   "id": "9ef33d2c",
   "metadata": {},
   "source": [
    "### Assignment/Aliasing Rules\n",
    "\n",
    "1. Writing a literal value like `1` or `'hi'` or `[1,2,3]` creates a new object.*\n",
    "2. Using a variable does _not_ create a new object. (Line 3 above _uses_ the variable `b`.)\n",
    "3. Assigning to a variable makes the name point to object the right of the `=`\n",
    "\n",
    "So, assigning `a = b` makes `a` and `b` point to the same thing. But then assigning `a = 100` makes `a` point to a new number `100`, and `b` still points to whatever it did before.\n",
    "\n",
    "<div style=\"font-size: 9px; line-height: 1.2em; margin-top:1.5em; color: #444\">*For now it's best to assume Python always makes a new object for all types. In reality, Python may reuse an existing object for integers, booleans, and None just because those kinds of objects can't change so it doesn't matter if e.g. you point to a new number 1 or an existing number 1.</div>"
   ]
  },
  {
   "cell_type": "markdown",
   "id": "cff0f313",
   "metadata": {
    "slideshow": {
     "slide_type": "slide"
    }
   },
   "source": [
    "### Alias: mutable types\n",
    "\n",
    "What happens if we make an alias of a **mutable** variable, like a list?"
   ]
  },
  {
   "cell_type": "code",
   "execution_count": null,
   "id": "16c723f2",
   "metadata": {
    "slideshow": {
     "slide_type": "fragment"
    }
   },
   "outputs": [],
   "source": [
    "first_list = [1, 2, 3, 4]\n",
    "alias_list = first_list\n",
    "alias_list"
   ]
  },
  {
   "cell_type": "code",
   "execution_count": null,
   "id": "2bc8df87",
   "metadata": {
    "slideshow": {
     "slide_type": "fragment"
    }
   },
   "outputs": [],
   "source": [
    "# change second value of first_list\n",
    "first_list[1] = 29\n",
    "first_list"
   ]
  },
  {
   "cell_type": "code",
   "execution_count": null,
   "id": "643bcc02",
   "metadata": {
    "scrolled": true,
    "slideshow": {
     "slide_type": "fragment"
    }
   },
   "outputs": [],
   "source": [
    "# check alias_list\n",
    "alias_list"
   ]
  },
  {
   "cell_type": "markdown",
   "id": "ddff478e",
   "metadata": {
    "slideshow": {
     "slide_type": "fragment"
    }
   },
   "source": [
    "For *mutable* type variables, when you change one, both change because the lists were the same object."
   ]
  },
  {
   "cell_type": "markdown",
   "id": "dfe8b699",
   "metadata": {
    "slideshow": {
     "slide_type": "fragment"
    }
   },
   "source": [
    "[Visualize this code in Python Tutor](https://pythontutor.com/render.html#code=first_list%20%3D%20%5B1,%202,%203,%204%5D%0Aalias_list%20%3D%20first_list%0A%0A%23%20change%20second%20value%20of%20first_list%0Afirst_list%5B1%5D%20%3D%2029%0A%0Aprint%28first_list%29%0A%0A%23%20check%20alias_list%0Aprint%28alias_list%29&cumulative=false&curInstr=0&heapPrimitives=nevernest&mode=display&origin=opt-frontend.js&py=311&rawInputLstJSON=%5B%5D&textReferences=false)"
   ]
  },
  {
   "cell_type": "markdown",
   "id": "05c651eb",
   "metadata": {
    "slideshow": {
     "slide_type": "slide"
    }
   },
   "source": [
    "#### Class Question #9\n",
    "\n",
    "```python\n",
    "lst1 = ['a', 'b', 'c']\n",
    "lst2 = lst1\n",
    "lst2[1] = '🐝'\n",
    "```\n",
    "\n",
    "What is `lst1[1]` after the above code executes?"
   ]
  },
  {
   "cell_type": "code",
   "execution_count": null,
   "id": "ec0a4c59",
   "metadata": {
    "tags": [
     "live"
    ]
   },
   "outputs": [],
   "source": []
  },
  {
   "cell_type": "markdown",
   "id": "bf597c73",
   "metadata": {},
   "source": [
    "[Visualize this code in Python Tutor](https://pythontutor.com/render.html#code=lst1%20%3D%20%5B'a',%20'b',%20'c'%5D%0Alst2%20%3D%20lst1%0Alst2%5B1%5D%20%3D%20'%F0%9F%90%9D'%0A%0Aprint%28lst1%5B1%5D%29&cumulative=false&curInstr=0&heapPrimitives=nevernest&mode=display&origin=opt-frontend.js&py=311&rawInputLstJSON=%5B%5D&textReferences=false)"
   ]
  },
  {
   "cell_type": "markdown",
   "id": "9ea80a64",
   "metadata": {
    "slideshow": {
     "slide_type": "slide"
    }
   },
   "source": [
    "### Assignment/Aliasing/Mutation Rules\n",
    "\n",
    "The **bold** are new rules about mutation.\n",
    "\n",
    "1. Writing a literal value like `1` or `True` or `[1,2,3]` creates a new object.*\n",
    "2. Using a variable does _not_ create a new object.\n",
    "3. Assigning to a variable makes the name point to object the right of the `=`\n",
    "4. **Assigning _inside_ an object changes that item inside the object. For example, `my_lst[0] = 10` changes item 0 of the `my_lst` object. All variables that pointed to `my_lst` will see the change.**\n",
    "\n",
    "So, assigning `a = b` makes `a` and `b` point to the same thing. But then assigning `a = 100` makes `a` point to a new number `100`, and `b` still points to whatever it did before.\n",
    "\n",
    "**But, if `lst2 = lst1`, then `lst1[0] = 10` changes item 0 inside the `lst1` object. Because `lst2` still points at that same list, `lst2`'s item 0 is also `10`.**\n",
    "\n",
    "<div style=\"font-size: 9px; line-height: 1.2em; margin-top:1.5em; color: #444\">*For now it's best to assume Python always makes a new object for all types. In reality, Python may reuse an existing object for integers, booleans, and None just because those kinds of objects can't change so it doesn't matter if e.g. you point to a new number 1 or an existing number 1.</div>"
   ]
  },
  {
   "cell_type": "markdown",
   "id": "97a9f8ee",
   "metadata": {
    "slideshow": {
     "slide_type": "slide"
    }
   },
   "source": [
    "#### Class Question #10\n",
    "\n",
    "```python\n",
    "lst1 = ['a', 'b', 'c']\n",
    "lst2 = lst1\n",
    "lst3 = lst1\n",
    "lst2[1] = '🐝'\n",
    "lst2 = [1, 2, 3]\n",
    "lst1[2] = '🌊'\n",
    "```\n",
    "\n",
    "What are the final values of `lst1`, `lst2`, and `lst3`?"
   ]
  },
  {
   "cell_type": "code",
   "execution_count": null,
   "id": "d31f0df4",
   "metadata": {
    "tags": [
     "live"
    ]
   },
   "outputs": [],
   "source": [
    "# lst1 is [___]\n",
    "# lst2 is [___]\n",
    "# lst3 is [___]"
   ]
  },
  {
   "cell_type": "markdown",
   "id": "c114156b",
   "metadata": {},
   "source": [
    "[Visualize this code in Python Tutor](https://pythontutor.com/render.html#code=lst1%20%3D%20%5B'a',%20'b',%20'c'%5D%0Alst2%20%3D%20lst1%0Alst3%20%3D%20lst1%0Alst2%5B1%5D%20%3D%20'%F0%9F%90%9D'%0Alst2%20%3D%20%5B1,%202,%203%5D%0Alst1%5B2%5D%20%3D%20'%F0%9F%8C%8A'&cumulative=false&curInstr=0&heapPrimitives=nevernest&mode=display&origin=opt-frontend.js&py=311&rawInputLstJSON=%5B%5D&textReferences=false)"
   ]
  },
  {
   "cell_type": "markdown",
   "id": "e18bd41e",
   "metadata": {
    "slideshow": {
     "slide_type": "slide"
    }
   },
   "source": [
    "#### Class Question #11\n",
    "\n",
    "```python\n",
    "my_tuple = (1, 2, 3, 4) # a tuple variable\n",
    "second_tuple = my_tuple # an alias\n",
    "my_tuple[1] = 29        # mutate item 1 of the tuple\n",
    "```\n",
    "\n",
    "What is the final value of `second_tuple`?\n",
    "\n",
    "_(This may be a trick question. Recall: how are tuples different from lists?)_"
   ]
  },
  {
   "cell_type": "code",
   "execution_count": null,
   "id": "b5fad01f",
   "metadata": {
    "slideshow": {
     "slide_type": "-"
    },
    "tags": [
     "live"
    ]
   },
   "outputs": [],
   "source": []
  },
  {
   "cell_type": "markdown",
   "id": "12fe860b",
   "metadata": {
    "slideshow": {
     "slide_type": "slide"
    }
   },
   "source": [
    "Extra response cell below in case of impromptu question."
   ]
  },
  {
   "cell_type": "code",
   "execution_count": null,
   "id": "eb06b3b9",
   "metadata": {
    "tags": [
     "live"
    ]
   },
   "outputs": [],
   "source": []
  }
 ],
 "metadata": {
  "celltoolbar": "Tags",
  "kernelspec": {
   "display_name": "Python 3 (ipykernel)",
   "language": "python",
   "name": "python3"
  },
  "language_info": {
   "codemirror_mode": {
    "name": "ipython",
    "version": 3
   },
   "file_extension": ".py",
   "mimetype": "text/x-python",
   "name": "python",
   "nbconvert_exporter": "python",
   "pygments_lexer": "ipython3",
   "version": "3.11.6"
  },
  "rise": {
   "scroll": true
  }
 },
 "nbformat": 4,
 "nbformat_minor": 5
}
