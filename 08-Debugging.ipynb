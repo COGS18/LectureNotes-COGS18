{
 "cells": [
  {
   "cell_type": "markdown",
   "id": "49fffde1",
   "metadata": {
    "collapsed": true,
    "slideshow": {
     "slide_type": "-"
    }
   },
   "source": [
    "# Debugging\n",
    "\n",
    "You've probably encounted a lot of errors. Today we are going to catalog some of them, discuss strategies to \"debug\" them, and learn how to tell Python to ignore certain errors.\n",
    "\n",
    "<div class=\"alert alert-success\">\n",
    "Debugging is the process of finding and fixing errors (\"bugs\") in a computer program.\n",
    "</div>\n",
    "\n",
    "<img style=\"width:70%\" src=\"img/First_Computer_Bug_1945.jpeg\">\n",
    "<center>~1945 Harvard Mark II computer log: \"Relay #70 Panel F (moth) in relay. First actual case of bug begin found.\"</center>"
   ]
  },
  {
   "cell_type": "markdown",
   "id": "453e1537",
   "metadata": {
    "slideshow": {
     "slide_type": "slide"
    }
   },
   "source": [
    "# Outline\n",
    "\n",
    "Today we are going to **catalog** some errors, discuss **strategies to debug** them, and learn how to **tell Python to ignore** errors.\n",
    "\n",
    "- Errors\n",
    "    - Syntax\n",
    "    - Exceptions\n",
    "- Debugging Process\n",
    "    - Stack trace\n",
    "    - Using outside resources\n",
    "- `try`/`except` - for when you _don't_ want your program to crash\n",
    "\n",
    "_This lecture is the last material that will appear on Exam 1 (Tues 2/6)_"
   ]
  },
  {
   "cell_type": "markdown",
   "id": "7da780f7",
   "metadata": {
    "slideshow": {
     "slide_type": "slide"
    }
   },
   "source": [
    "## Errors\n",
    "\n",
    "<div class=\"alert alert-success\">\n",
    "Errors are problems with code definition or execution that interrupt running Python code.\n",
    "</div>\n",
    "\n",
    "- **Syntax Errors** (code too malformed to run)\n",
    "    - `SyntaxError`\n",
    "    - `IndentationError`\n",
    "- **Exceptions** (problem while code is running)\n",
    "    - `ZeroDivisionError` \n",
    "    - `NameError`\n",
    "    - Index Errors\n",
    "        - `IndexError`\n",
    "        - `KeyError`\n",
    "    - `ValueError`\n",
    "    - `TypeError`\n",
    "\n",
    "**Note:** You do _not_ need to memorize all these errors. But why each occurs needs to make sense to you."
   ]
  },
  {
   "cell_type": "markdown",
   "id": "d0d88ad2",
   "metadata": {
    "scrolled": true
   },
   "source": [
    "### Syntax Errors verus Exceptions\n",
    "\n",
    "Python processes your code in two steps:\n",
    "\n",
    "1. It \"parses\" your code, i.e. figures out its structure.\n",
    "2. If parsing succeeds, Python runs the code.\n",
    "\n",
    "Parsing problems are called _syntax errors_. If Python cannot figure out your code's structure, it will not even try to run it.\n",
    "\n",
    "If the code parses okay, problems while the code runs are called _exceptions_. We will see examples of these later."
   ]
  },
  {
   "cell_type": "markdown",
   "id": "c9ac3e97",
   "metadata": {
    "slideshow": {
     "slide_type": "slide"
    }
   },
   "source": [
    "### Syntax Errors\n",
    "\n",
    "- Syntax Errors\n",
    "- Indentation Errors"
   ]
  },
  {
   "cell_type": "markdown",
   "id": "0aa1ca71",
   "metadata": {
    "slideshow": {
     "slide_type": "-"
    }
   },
   "source": [
    "<div class=\"alert alert-success\">\n",
    "Syntax & Indentation Errors indicate code that doesn't follow Python structure, and will necessarily fail. \n",
    "</div>"
   ]
  },
  {
   "cell_type": "markdown",
   "id": "69946623",
   "metadata": {
    "slideshow": {
     "slide_type": "-"
    }
   },
   "source": [
    "### Syntax Error Examples"
   ]
  },
  {
   "cell_type": "code",
   "execution_count": null,
   "id": "468f4103",
   "metadata": {
    "slideshow": {
     "slide_type": "-"
    }
   },
   "outputs": [],
   "source": [
    "# will produce a syntax error\n",
    "if True\n",
    "    print('Yep.')"
   ]
  },
  {
   "cell_type": "markdown",
   "id": "3bdb150a",
   "metadata": {
    "slideshow": {
     "slide_type": "-"
    }
   },
   "source": [
    "Python does its best to tell you:\n",
    "- what type of error it is\n",
    "- and where it _thinks_ it occurred (`^`)"
   ]
  },
  {
   "cell_type": "code",
   "execution_count": null,
   "id": "d4a36e67",
   "metadata": {
    "slideshow": {
     "slide_type": "fragment"
    }
   },
   "outputs": [],
   "source": [
    "# will produce a syntax error\n",
    "# and specifically an indentation error\n",
    "if 3 < 5:\n",
    "print(value)"
   ]
  },
  {
   "cell_type": "markdown",
   "id": "8e5c733b",
   "metadata": {
    "slideshow": {
     "slide_type": "-"
    }
   },
   "source": [
    "Python gives you a readout about what it was expecting and where you appear to have gone wrong."
   ]
  },
  {
   "cell_type": "markdown",
   "id": "7b4b2bf3",
   "metadata": {
    "slideshow": {
     "slide_type": "slide"
    }
   },
   "source": [
    "- Syntax Errors\n",
    "    - `SyntaxError`\n",
    "    - `IndentationError`\n",
    "- Exceptions\n",
    "    - `ZeroDivisionError` \n",
    "    - `NameError`\n",
    "    - Index Errors\n",
    "        - `IndexError`\n",
    "        - `KeyError`\n",
    "    - `ValueError`\n",
    "    - `TypeError`"
   ]
  },
  {
   "cell_type": "markdown",
   "id": "61c4a938",
   "metadata": {
    "collapsed": true,
    "slideshow": {
     "slide_type": "slide"
    }
   },
   "source": [
    "## Exceptions\n",
    "\n",
    "<div class=\"alert alert-success\">\n",
    "Exceptions are errors that occur when code is executed.\n",
    "</div>"
   ]
  },
  {
   "cell_type": "markdown",
   "id": "33fa2d94",
   "metadata": {
    "slideshow": {
     "slide_type": "-"
    }
   },
   "source": [
    "For these, there's nothing wrong with the _syntax_ or _structure_ of the code, but in your specific case and how you're trying to use it, Python says 'no'.\n",
    "\n",
    "Today we will see five kinds of exceptions:\n",
    "\n",
    "1. NameError\n",
    "2. TypeError\n",
    "3. IndexError\n",
    "4. KeyError\n",
    "5. ValueError\n",
    "\n",
    "Again, you don't have to memorize these, but you should understand what they mean and why they are produced."
   ]
  },
  {
   "cell_type": "markdown",
   "id": "0d51bc6a",
   "metadata": {
    "slideshow": {
     "slide_type": "slide"
    }
   },
   "source": [
    "### ZeroDivisionError\n",
    "\n",
    "ZeroDivisionError occurs when you try to divide by zero. "
   ]
  },
  {
   "cell_type": "code",
   "execution_count": null,
   "id": "79923b3a",
   "metadata": {
    "scrolled": true,
    "slideshow": {
     "slide_type": "-"
    }
   },
   "outputs": [],
   "source": [
    "# produces ZeroDivisionError\n",
    "1 / 0"
   ]
  },
  {
   "cell_type": "markdown",
   "id": "0ea2a443",
   "metadata": {
    "slideshow": {
     "slide_type": "-"
    }
   },
   "source": [
    "Python specifies:\n",
    "- the Exception and specific type / error\n",
    "- points you to where the error occurred"
   ]
  },
  {
   "cell_type": "markdown",
   "id": "ae21fe9b",
   "metadata": {
    "slideshow": {
     "slide_type": "slide"
    }
   },
   "source": [
    "### NameError\n",
    "\n",
    "NameError occurs when you try to access a name that Python does not know."
   ]
  },
  {
   "cell_type": "code",
   "execution_count": null,
   "id": "d4a1d073",
   "metadata": {
    "slideshow": {
     "slide_type": "-"
    }
   },
   "outputs": [],
   "source": [
    "# Define a variable\n",
    "variable = 12"
   ]
  },
  {
   "cell_type": "code",
   "execution_count": null,
   "id": "e798fd3d",
   "metadata": {
    "scrolled": true,
    "slideshow": {
     "slide_type": "-"
    }
   },
   "outputs": [],
   "source": [
    "# If you typo a name, you will get a NameError\n",
    "varaible"
   ]
  },
  {
   "cell_type": "markdown",
   "id": "24020417",
   "metadata": {
    "slideshow": {
     "slide_type": "-"
    }
   },
   "source": [
    "While it's annoying, it's helpful that Python doesn't just _guess_ that you _meant_ 'variable'....because sometimes Python would guess wrong. It's better for Python to just give us the error."
   ]
  },
  {
   "cell_type": "code",
   "execution_count": null,
   "id": "070ca422",
   "metadata": {
    "slideshow": {
     "slide_type": "fragment"
    }
   },
   "outputs": [],
   "source": [
    "# You might also get a name error if you try to use the wrong operator for assignment\n",
    "new_variable == 1"
   ]
  },
  {
   "cell_type": "markdown",
   "id": "fbd598ab",
   "metadata": {},
   "source": [
    "You will also get a name error if you forget to run a cell that defines a variable. (For example, if you restart the kernel and forget to run a cell.)"
   ]
  },
  {
   "cell_type": "code",
   "execution_count": null,
   "id": "d49473d5",
   "metadata": {},
   "outputs": [],
   "source": [
    "# if you forget to run this...\n",
    "some_str = 'birdy'"
   ]
  },
  {
   "cell_type": "code",
   "execution_count": null,
   "id": "b86cb950",
   "metadata": {},
   "outputs": [],
   "source": [
    "# or you forget to run this...\n",
    "def my_func(string):\n",
    "    print('hi ' + string)"
   ]
  },
  {
   "cell_type": "code",
   "execution_count": null,
   "id": "8657a9f5",
   "metadata": {},
   "outputs": [],
   "source": [
    "# ...you will get a NameError here\n",
    "my_func(some_str)"
   ]
  },
  {
   "cell_type": "markdown",
   "id": "0ac77a77",
   "metadata": {
    "slideshow": {
     "slide_type": "slide"
    }
   },
   "source": [
    "### IndexError\n",
    "\n",
    "IndexError occurs when you try to access an index that doesn't exist."
   ]
  },
  {
   "cell_type": "code",
   "execution_count": null,
   "id": "e714d676",
   "metadata": {
    "slideshow": {
     "slide_type": "-"
    }
   },
   "outputs": [],
   "source": [
    "my_string = 'COGS18'\n",
    "my_string[6]"
   ]
  },
  {
   "cell_type": "code",
   "execution_count": null,
   "id": "a27c8264",
   "metadata": {
    "scrolled": true,
    "slideshow": {
     "slide_type": "-"
    }
   },
   "outputs": [],
   "source": [
    "# Relatedly, 'KeyError' occurs if you ask for a dictionary key that doesn't exist\n",
    "my_dictionary = {'name1' : 1, 'name2' : 2}\n",
    "my_dictionary['name3']"
   ]
  },
  {
   "cell_type": "markdown",
   "id": "de462a94",
   "metadata": {
    "slideshow": {
     "slide_type": "slide"
    }
   },
   "source": [
    "### ValueError\n",
    "\n",
    "ValueError occurs when you try to use an incompatible value for something.\n",
    "\n",
    "For example, the `int()` function will try to convert a string to an integer, but the input string needs to be all digits."
   ]
  },
  {
   "cell_type": "code",
   "execution_count": null,
   "id": "dcc293e0",
   "metadata": {
    "slideshow": {
     "slide_type": "-"
    }
   },
   "outputs": [],
   "source": [
    "int('asdf')"
   ]
  },
  {
   "cell_type": "code",
   "execution_count": null,
   "id": "ce1770e5",
   "metadata": {},
   "outputs": [],
   "source": [
    "# but this works\n",
    "int('123')"
   ]
  },
  {
   "cell_type": "markdown",
   "id": "d91a180d",
   "metadata": {
    "slideshow": {
     "slide_type": "slide"
    }
   },
   "source": [
    "### TypeError\n",
    "\n",
    "TypeError occurs when you try to do something with a variable type that Python cannot interpret."
   ]
  },
  {
   "cell_type": "code",
   "execution_count": null,
   "id": "7ab8f461",
   "metadata": {
    "slideshow": {
     "slide_type": "-"
    }
   },
   "outputs": [],
   "source": [
    "'10' + 12"
   ]
  },
  {
   "cell_type": "markdown",
   "id": "9b3ece64",
   "metadata": {
    "slideshow": {
     "slide_type": "slide"
    }
   },
   "source": [
    "## Error Recap\n",
    "\n",
    "- Syntax Errors\n",
    "    - `SyntaxError`\n",
    "    - `IndentationError`\n",
    "- Exceptions\n",
    "    - `ZeroDivisionError` \n",
    "    - `NameError`\n",
    "    - Index Errors\n",
    "        - `IndexError`\n",
    "        - `KeyError`\n",
    "    - `ValueError`\n",
    "    - `TypeError`\n"
   ]
  },
  {
   "cell_type": "markdown",
   "id": "187a4109",
   "metadata": {
    "slideshow": {
     "slide_type": "slide"
    }
   },
   "source": [
    "#### Class Question #1\n",
    "\n",
    "What type of error will the following code produce? SyntaxError, NameError, TypeError, IndexError, or ValueError?\n",
    "\n",
    "```python\n",
    "if num > 0\n",
    "    print(\"Greater than 0\")\n",
    "```"
   ]
  },
  {
   "cell_type": "code",
   "execution_count": null,
   "id": "ca2480de",
   "metadata": {
    "slideshow": {
     "slide_type": "-"
    },
    "tags": [
     "live"
    ]
   },
   "outputs": [],
   "source": []
  },
  {
   "cell_type": "markdown",
   "id": "060939c1",
   "metadata": {
    "slideshow": {
     "slide_type": "slide"
    }
   },
   "source": [
    "#### Class Question #2\n",
    "\n",
    "What type of error will the following code produce? SyntaxError, NameError, TypeError, IndexError, or ValueError?\n",
    "\n",
    "```python\n",
    "if num > 0:\n",
    "    print(\"Greater than 0\")\n",
    "```"
   ]
  },
  {
   "cell_type": "code",
   "execution_count": null,
   "id": "5504d84a",
   "metadata": {
    "slideshow": {
     "slide_type": "-"
    },
    "tags": [
     "live"
    ]
   },
   "outputs": [],
   "source": []
  },
  {
   "cell_type": "markdown",
   "id": "3aff1afa",
   "metadata": {
    "slideshow": {
     "slide_type": "slide"
    }
   },
   "source": [
    "#### Class Question #3\n",
    "\n",
    "Write code in the cell below that produces an error. Any kind of error!\n",
    "\n",
    "Then, rewrite the code and try to get a _different_ kind of error. Repeat up to 4x."
   ]
  },
  {
   "cell_type": "code",
   "execution_count": null,
   "id": "98102241",
   "metadata": {
    "tags": [
     "live"
    ]
   },
   "outputs": [],
   "source": []
  },
  {
   "cell_type": "markdown",
   "id": "b95d0870",
   "metadata": {
    "slideshow": {
     "slide_type": "slide"
    }
   },
   "source": [
    "## Stack Trace\n",
    "\n",
    "**Read (and understand!) your error messages!**\n",
    "\n",
    "The stack trace (log) of what Python did as it went through your code. Gets printed out if Python runs into an error."
   ]
  },
  {
   "cell_type": "markdown",
   "id": "aa651f8c",
   "metadata": {
    "slideshow": {
     "slide_type": "fragment"
    }
   },
   "source": [
    "For example, here's a function `is_happy` that checks to see if the variable `mood` has a smiley and also lacks a frowny face, using two \"helper functions\" called `has_happy` and `has_sad`."
   ]
  },
  {
   "cell_type": "code",
   "execution_count": 1,
   "id": "2ab1b5e6",
   "metadata": {
    "scrolled": true,
    "slideshow": {
     "slide_type": "fragment"
    }
   },
   "outputs": [
    {
     "ename": "TypeError",
     "evalue": "argument of type 'float' is not iterable",
     "output_type": "error",
     "traceback": [
      "\u001b[0;31m---------------------------------------------------------------------------\u001b[0m",
      "\u001b[0;31mTypeError\u001b[0m                                 Traceback (most recent call last)",
      "Cell \u001b[0;32mIn[1], line 11\u001b[0m\n\u001b[1;32m      8\u001b[0m     \u001b[38;5;28;01mreturn\u001b[39;00m has_happy(mood) \u001b[38;5;129;01mand\u001b[39;00m \u001b[38;5;129;01mnot\u001b[39;00m has_sad(mood)\n\u001b[1;32m     10\u001b[0m my_mood \u001b[38;5;241m=\u001b[39m \u001b[38;5;241m10\u001b[39m\u001b[38;5;241m/\u001b[39m\u001b[38;5;241m10\u001b[39m \u001b[38;5;66;03m# ten out of ten!\u001b[39;00m\n\u001b[0;32m---> 11\u001b[0m \u001b[43mis_happy\u001b[49m\u001b[43m(\u001b[49m\u001b[43mmy_mood\u001b[49m\u001b[43m)\u001b[49m\n",
      "Cell \u001b[0;32mIn[1], line 8\u001b[0m, in \u001b[0;36mis_happy\u001b[0;34m(mood)\u001b[0m\n\u001b[1;32m      7\u001b[0m \u001b[38;5;28;01mdef\u001b[39;00m \u001b[38;5;21mis_happy\u001b[39m(mood):\n\u001b[0;32m----> 8\u001b[0m     \u001b[38;5;28;01mreturn\u001b[39;00m \u001b[43mhas_happy\u001b[49m\u001b[43m(\u001b[49m\u001b[43mmood\u001b[49m\u001b[43m)\u001b[49m \u001b[38;5;129;01mand\u001b[39;00m \u001b[38;5;129;01mnot\u001b[39;00m has_sad(mood)\n",
      "Cell \u001b[0;32mIn[1], line 2\u001b[0m, in \u001b[0;36mhas_happy\u001b[0;34m(mood)\u001b[0m\n\u001b[1;32m      1\u001b[0m \u001b[38;5;28;01mdef\u001b[39;00m \u001b[38;5;21mhas_happy\u001b[39m(mood):\n\u001b[0;32m----> 2\u001b[0m     \u001b[38;5;28;01mreturn\u001b[39;00m \u001b[38;5;124;43m'\u001b[39;49m\u001b[38;5;124;43m🙂\u001b[39;49m\u001b[38;5;124;43m'\u001b[39;49m\u001b[43m \u001b[49m\u001b[38;5;129;43;01min\u001b[39;49;00m\u001b[43m \u001b[49m\u001b[43mmood\u001b[49m\n",
      "\u001b[0;31mTypeError\u001b[0m: argument of type 'float' is not iterable"
     ]
    }
   ],
   "source": [
    "def has_happy(mood):\n",
    "    return '🙂' in mood\n",
    "\n",
    "def has_sad(mood):\n",
    "    return '🙁' in mood\n",
    "\n",
    "def is_happy(mood):\n",
    "    return has_happy(mood) and not has_sad(mood)\n",
    "\n",
    "my_mood = 10/10 # ten out of ten!\n",
    "is_happy(my_mood)"
   ]
  },
  {
   "cell_type": "markdown",
   "id": "a1f3ca81",
   "metadata": {
    "slideshow": {
     "slide_type": "-"
    }
   },
   "source": [
    "Follow the \"WHERE, WHAT, MEANING\" strategy:\n",
    "\n",
    "1. **Where** is the error pointing to? (What line/part of line of code?)\n",
    "2. What **kind** of error is it?\n",
    "3. _Think:_ What does it **mean**?\n",
    "\n",
    "Only then do you ask: How do I fix this?\n",
    "\n",
    "Sometimes these traces get really complex. We're here to get better at interpreting these traces. Note that if external functions are being used, these will get longer."
   ]
  },
  {
   "cell_type": "markdown",
   "id": "b1990f97",
   "metadata": {
    "slideshow": {
     "slide_type": "slide"
    }
   },
   "source": [
    "Sometimes you even have `assert` messages to guide you...how should you use `assert` messages?\n",
    "\n",
    "1. Read them; understand them\n",
    "2. Revisit the part of your code most likely associated with the assertion\n",
    "3. *Think* about what you would need to change to fix the issue (do not just guess wildly trying to pass the `assert` - will waste your time)\n",
    "4. Fix the code; re-execute; re-run the assert"
   ]
  },
  {
   "cell_type": "code",
   "execution_count": null,
   "id": "b71c26a1",
   "metadata": {
    "slideshow": {
     "slide_type": "-"
    }
   },
   "outputs": [],
   "source": [
    "# Like before, but there's a different bug now.\n",
    "\n",
    "def has_happy(mood):\n",
    "    return '🙂' in mood\n",
    "\n",
    "def has_sad(mood):\n",
    "    return '🙁' in mood\n",
    "\n",
    "def is_happy(mood):\n",
    "    return has_happy(mood) and has_sad(mood)\n",
    "\n",
    "\n",
    "# Maybe lots of testing will find the problem:\n",
    "\n",
    "assert callable(is_happy)\n",
    "assert type(is_happy('')) == bool\n",
    "assert is_happy('') == False\n",
    "assert is_happy('🙂') == True\n",
    "assert is_happy('🙁') == False\n",
    "assert is_happy('🙂🙁') == False\n",
    "assert is_happy('my mood is 🙂') == True\n",
    "\n",
    "# Use \"WHERE, WHAT, MEANING\""
   ]
  },
  {
   "cell_type": "markdown",
   "id": "f7ec1f0d",
   "metadata": {
    "slideshow": {
     "slide_type": "slide"
    }
   },
   "source": [
    "## Helping yourself when debugging\n",
    "\n",
    "- Ask \"WHERE, WHAT, MEANING\"\n",
    "- Pause and *think*\n",
    "- You aren't sure how to approach a problem: add 'in python' and search\n",
    "- You don't understand an error message: \n",
    "    - Add `print()` statements\n",
    "    - Google the error message...but then you need to understand what you're reading"
   ]
  },
  {
   "cell_type": "markdown",
   "id": "63a5a142",
   "metadata": {
    "slideshow": {
     "slide_type": "fragment"
    }
   },
   "source": [
    "### Unsure how to approach a problem?\n",
    "\n",
    "> Write code that will check whether the value stored in `my_val` is **both** positive and even. If it is, store the integer `1` in the variable `output`\n",
    "\n",
    "...How do I check whether a variable stores an even value?\n",
    "\n",
    "**Google**: \"How to check whether a variable stores an even value _in python_\"\n",
    "\n",
    "**ChatGPT**: \"How would I check whether a variable stores an even value in python?\"\n",
    "\n",
    "_(Notice: this **not** exactly what we need. Remember our rule for ChatGPT is never to ask it what you wouldn't ask another classmate, e.g. never ask to just do the problem for you.)_"
   ]
  },
  {
   "cell_type": "markdown",
   "id": "2fb9bd68",
   "metadata": {
    "slideshow": {
     "slide_type": "fragment"
    }
   },
   "source": [
    "You reference these results and try to accomplish the task...below is your first attempt:"
   ]
  },
  {
   "cell_type": "code",
   "execution_count": null,
   "id": "ff335f06",
   "metadata": {
    "slideshow": {
     "slide_type": "-"
    },
    "tags": [
     "live"
    ]
   },
   "outputs": [],
   "source": [
    "# this code has errors\n",
    "# we're going to debug together in class\n",
    "my_val = 6\n",
    "\n",
    "if my_val > 0 and my_val % 2 = 0:\n",
    "    output == 1"
   ]
  },
  {
   "cell_type": "markdown",
   "id": "61471832",
   "metadata": {
    "slideshow": {
     "slide_type": "slide"
    }
   },
   "source": [
    "## Try / Except\n",
    "\n",
    "For when you _don't_ want the program to crash.\n",
    "\n",
    "<div class=\"alert alert-success\">\n",
    "Exceptions do not necessarily have to lead to breaking the program - they can be programmatically dealt with, using <code>try</code> and <code>except</code>. \n",
    "</div>"
   ]
  },
  {
   "cell_type": "markdown",
   "id": "034b2f3d",
   "metadata": {
    "slideshow": {
     "slide_type": "slide"
    }
   },
   "source": [
    "### `try` / `except` Block"
   ]
  },
  {
   "cell_type": "code",
   "execution_count": null,
   "id": "93905e26",
   "metadata": {},
   "outputs": [],
   "source": [
    "'a string' + 12\n",
    "\n",
    "print('we got here')"
   ]
  },
  {
   "cell_type": "code",
   "execution_count": null,
   "id": "6eb88958",
   "metadata": {},
   "outputs": [],
   "source": [
    "try:\n",
    "    'a string' + 12\n",
    "    print('we got here')\n",
    "except:\n",
    "    print('we did not get there, something broke, so we are here instead')"
   ]
  },
  {
   "cell_type": "markdown",
   "id": "05c142e8",
   "metadata": {
    "slideshow": {
     "slide_type": "slide"
    }
   },
   "source": [
    "### Another `try` / `except` example\n",
    "\n",
    "For this example, we are going to use `input()`, a function to get string input from the user. And we will use `int()` to convert that input string to an integer. But what if the user gives us input like `'gobblygook'` instead of an integer?"
   ]
  },
  {
   "cell_type": "code",
   "execution_count": null,
   "id": "15cd5aff",
   "metadata": {},
   "outputs": [],
   "source": [
    "# Warm up: run this cell, provide a response, and look at what input() returns\n",
    "input('Write something here')"
   ]
  },
  {
   "cell_type": "code",
   "execution_count": null,
   "id": "6e30a917",
   "metadata": {
    "slideshow": {
     "slide_type": "-"
    }
   },
   "outputs": [],
   "source": [
    "# Example: we want to get an input number from the user\n",
    "\n",
    "int_str = input('Integer please: ') # e.g. '10'\n",
    "as_int  = int(int_str)              # e.g. 10\n",
    "print('int_str as an integer is:')\n",
    "print(as_int)\n",
    "\n",
    "# Note: if you rerun a cell while it is waiting for input, Python will freeze and\n",
    "# you will have to use \"Kernel > Restart\" from the menus up top."
   ]
  },
  {
   "cell_type": "code",
   "execution_count": null,
   "id": "7cfcd102",
   "metadata": {
    "slideshow": {
     "slide_type": "fragment"
    }
   },
   "outputs": [],
   "source": [
    "try:\n",
    "    int_str = input('Integer please: ')\n",
    "    as_int = int(int_str)\n",
    "    print('int_str as an integer is:')\n",
    "    print(as_int)\n",
    "except:\n",
    "    print('nahhh I wanted an integer')"
   ]
  },
  {
   "cell_type": "code",
   "execution_count": null,
   "id": "1dfa300e",
   "metadata": {},
   "outputs": [],
   "source": [
    "# Careful: try/except can cause you problems by hiding *other* errors.\n",
    "#\n",
    "# This code *always* prints 'nahhh I wanted an integer', but why?!?!?!??!!\n",
    "\n",
    "try:\n",
    "    int_str = input('Integer please: ')\n",
    "    as_int = int(int_str)\n",
    "    print('int_str as an integer is: ' + as_int)\n",
    "except:\n",
    "    print('nahhh I wanted an integer')"
   ]
  },
  {
   "cell_type": "markdown",
   "id": "6377871e",
   "metadata": {
    "slideshow": {
     "slide_type": "slide"
    }
   },
   "source": [
    "## Raising Errors\n",
    "\n",
    "<div class=\"alert alert-success\">\n",
    "You can also write code to raise an Exception if something unexpected happens.\n",
    "</div>"
   ]
  },
  {
   "cell_type": "markdown",
   "id": "f1c8db0e",
   "metadata": {
    "slideshow": {
     "slide_type": "fragment"
    }
   },
   "source": [
    "### Raise Exception Example\n",
    "\n",
    "`raise` is a keyword that tells Python you want to create your own error."
   ]
  },
  {
   "cell_type": "code",
   "execution_count": null,
   "id": "17b9aa24",
   "metadata": {
    "scrolled": false,
    "slideshow": {
     "slide_type": "fragment"
    }
   },
   "outputs": [],
   "source": [
    "int_str = input('An integer please: ')\n",
    "if not int_str.isnumeric():\n",
    "    raise ValueError('I wanted a number! :(')\n",
    "    \n",
    "print('My integer is: ', int_str) "
   ]
  },
  {
   "cell_type": "markdown",
   "id": "0476a365",
   "metadata": {
    "slideshow": {
     "slide_type": "slide"
    }
   },
   "source": [
    "#### Class Question #4\n",
    "\n",
    "Edit the code below (replacing `---` with either values or variable names) so that when executed, this cell prints `None`."
   ]
  },
  {
   "cell_type": "code",
   "execution_count": null,
   "id": "4787a1bc",
   "metadata": {
    "slideshow": {
     "slide_type": "fragment"
    },
    "tags": [
     "live"
    ]
   },
   "outputs": [],
   "source": [
    "num1 = ---\n",
    "num2 = ---\n",
    "\n",
    "try:\n",
    "    output = num1 / num2\n",
    "except ZeroDivisionError:\n",
    "    output = None\n",
    "    \n",
    "print(output)"
   ]
  },
  {
   "cell_type": "markdown",
   "id": "65b36e03",
   "metadata": {
    "slideshow": {
     "slide_type": "slide"
    }
   },
   "source": [
    "### General Form\n",
    "\n",
    "`try:`<br>\n",
    "&nbsp;&nbsp;&nbsp;&nbsp;code that could raise an error<br>\n",
    "`except:`<br>\n",
    "&nbsp;&nbsp;&nbsp;&nbsp;code to run if error is raised<br>\n",
    "\n",
    "_OR_\n",
    "\n",
    "`try:`<br>\n",
    "&nbsp;&nbsp;&nbsp;&nbsp;code that could raise an error<br>\n",
    "`except SpecificErrorKind:`<br>\n",
    "&nbsp;&nbsp;&nbsp;&nbsp;code to run if SpecificErrorKind is raised, other errors are not caught<br>\n",
    "\n",
    "**Reminder:** If the `try` block runs with no errors, then the `except` clause is skipped without being run."
   ]
  },
  {
   "cell_type": "markdown",
   "id": "4f31c1bd",
   "metadata": {
    "slideshow": {
     "slide_type": "slide"
    }
   },
   "source": [
    "#### Class Question #5\n",
    "\n",
    "Write your own `try`/`except` below and make sure it runs.\n",
    "\n",
    "Then change your `try` block so it _does_ or _does not_ hit the `except` block—whatever is the reverse of what you originally wrote. (That is, change so the `try` block _does_ or _does not_ produce an error.)\n",
    "\n",
    "(Remember you do not have to specify _which_ kind of error in the `except` block, you can write `except:` instead of the more specific `except ZeroDivisionError:` above.)"
   ]
  },
  {
   "cell_type": "code",
   "execution_count": null,
   "id": "38fe935d",
   "metadata": {
    "tags": [
     "live"
    ]
   },
   "outputs": [],
   "source": [
    "# Note: syntax errors won't even run, can't use try/except with them\n",
    "\n",
    "# your code here"
   ]
  }
 ],
 "metadata": {
  "kernelspec": {
   "display_name": "Python 3 (ipykernel)",
   "language": "python",
   "name": "python3"
  },
  "language_info": {
   "codemirror_mode": {
    "name": "ipython",
    "version": 3
   },
   "file_extension": ".py",
   "mimetype": "text/x-python",
   "name": "python",
   "nbconvert_exporter": "python",
   "pygments_lexer": "ipython3",
   "version": "3.11.6"
  },
  "rise": {
   "scroll": true
  }
 },
 "nbformat": 4,
 "nbformat_minor": 5
}
