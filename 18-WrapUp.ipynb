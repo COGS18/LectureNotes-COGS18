{
 "cells": [
  {
   "cell_type": "markdown",
   "id": "315f5a76",
   "metadata": {
    "slideshow": {
     "slide_type": "-"
    }
   },
   "source": [
    "# Wrap Up\n",
    "\n",
    "- Don't forget to submit a course eval!\n",
    "- The exam (completely take-home) will be released no sooner than Monday morning and no later than Tues evening. I expect the exam will take 2-5hours. Exam/projects **due at 11:59pm Thurs**.\n",
    "- Office hours next week will be a modified schedule—we will update the Canvas syllabus by Sunday. For help with projects only (not exams)."
   ]
  },
  {
   "cell_type": "markdown",
   "id": "0d432ffc",
   "metadata": {
    "slideshow": {
     "slide_type": "-"
    }
   },
   "source": [
    "A little pandas review and then...\n",
    "\n",
    "## Some (extra) Python\n",
    "\n",
    "- string formatting (`format`)\n",
    "- sets\n",
    "- `collections`\n",
    "- args & kwargs\n",
    "- list comprehensions\n",
    "- map\n",
    "\n",
    "...and then I want to leave a little time for questions on _anything_."
   ]
  },
  {
   "cell_type": "markdown",
   "id": "3adbb00f",
   "metadata": {
    "slideshow": {
     "slide_type": "fragment"
    }
   },
   "source": [
    "Today is a day of shortcuts.\n",
    "\n",
    "Note: Shortcuts make *your* life easier, but your code *less* understandable to beginners."
   ]
  },
  {
   "cell_type": "markdown",
   "id": "db796563",
   "metadata": {
    "slideshow": {
     "slide_type": "slide"
    }
   },
   "source": [
    "## Pandas review"
   ]
  },
  {
   "cell_type": "code",
   "execution_count": null,
   "id": "99e92adc",
   "metadata": {
    "scrolled": true
   },
   "outputs": [],
   "source": [
    "import numpy as np\n",
    "import pandas as pd"
   ]
  },
  {
   "cell_type": "code",
   "execution_count": null,
   "id": "6bdea029",
   "metadata": {},
   "outputs": [],
   "source": [
    "df = pd.DataFrame({\n",
    "    'name': ['Alice', 'Bob', 'Charlie', 'David', 'Emily'],\n",
    "    'age': [25, 20, 22, 25, 18],\n",
    "    'city': ['San Diego', 'San Francisco', 'Los Angeles', 'Chicago', 'Boston']\n",
    "})\n",
    "\n",
    "df"
   ]
  },
  {
   "cell_type": "markdown",
   "id": "c4f3b8f2",
   "metadata": {},
   "source": [
    "#### Class Question #1\n",
    "\n",
    "**Get the mean age of all the people whose name begins with 'A' or 'B' or 'C' in the alphabet.**\n",
    "\n",
    "- Hint: you can compare against a string e.g. `something <= 'C'`\n",
    "- Hint: use `.loc` to select rows and a column\n",
    "- Hint: there is a `.mean()` method on series"
   ]
  },
  {
   "cell_type": "code",
   "execution_count": null,
   "id": "2ba6fd1f",
   "metadata": {
    "tags": [
     "live"
    ]
   },
   "outputs": [],
   "source": []
  },
  {
   "cell_type": "markdown",
   "id": "47ca352b",
   "metadata": {
    "slideshow": {
     "slide_type": "slide"
    }
   },
   "source": [
    "## Some (extra) Python\n",
    "\n",
    "It's hard to search for things you don't know exist.\n",
    "\n",
    "Today's goal: let you know these things exist.\n",
    "\n",
    "NOT today's goal: teach you all the details."
   ]
  },
  {
   "cell_type": "markdown",
   "id": "5bc25f64",
   "metadata": {
    "slideshow": {
     "slide_type": "fragment"
    }
   },
   "source": [
    "You do *not* need to incorporate these into your project, but if they'll help you, go for it!"
   ]
  },
  {
   "cell_type": "code",
   "execution_count": null,
   "id": "d9f3421c",
   "metadata": {
    "slideshow": {
     "slide_type": "-"
    }
   },
   "outputs": [],
   "source": [
    "import antigravity"
   ]
  },
  {
   "cell_type": "markdown",
   "id": "f11a6d5e",
   "metadata": {
    "slideshow": {
     "slide_type": "slide"
    }
   },
   "source": [
    "## String Formatting"
   ]
  },
  {
   "cell_type": "markdown",
   "id": "80721909",
   "metadata": {
    "slideshow": {
     "slide_type": "fragment"
    }
   },
   "source": [
    "Use the `format` method to manipulate and format strings."
   ]
  },
  {
   "cell_type": "code",
   "execution_count": null,
   "id": "5e1aaeb1",
   "metadata": {},
   "outputs": [],
   "source": [
    "age = 111\n",
    "\"Hello my åge is \" + str(age) + \"!\""
   ]
  },
  {
   "cell_type": "code",
   "execution_count": null,
   "id": "d9d1d6ed",
   "metadata": {
    "slideshow": {
     "slide_type": "fragment"
    }
   },
   "outputs": [],
   "source": [
    "name = \"Brian\"\n",
    "job = \"Lecturer\"\n",
    "topic = \"Python\"\n",
    "\n",
    "\"Hello! My name is {}. My job is {}, and I work on {}\".format(name, job, topic)"
   ]
  },
  {
   "cell_type": "code",
   "execution_count": null,
   "id": "cad2a1dd",
   "metadata": {},
   "outputs": [],
   "source": [
    "# Or...\n",
    "\n",
    "f\"Hello! My name is {name}. My job is {job}, and I work on {topic}\""
   ]
  },
  {
   "cell_type": "code",
   "execution_count": null,
   "id": "2b16baf2",
   "metadata": {},
   "outputs": [],
   "source": [
    "f\"Hello my åge is {age}!\""
   ]
  },
  {
   "cell_type": "markdown",
   "id": "d44daac1",
   "metadata": {
    "slideshow": {
     "slide_type": "slide"
    }
   },
   "source": [
    "## Sets "
   ]
  },
  {
   "cell_type": "markdown",
   "id": "cbc459e7",
   "metadata": {
    "slideshow": {
     "slide_type": "fragment"
    }
   },
   "source": [
    "Sets are a variable type that store **only unique entries**."
   ]
  },
  {
   "cell_type": "code",
   "execution_count": null,
   "id": "b7625d45",
   "metadata": {
    "slideshow": {
     "slide_type": "fragment"
    }
   },
   "outputs": [],
   "source": [
    "my_set = set([1, 1, 2, 3, 4])\n",
    "my_set"
   ]
  },
  {
   "cell_type": "markdown",
   "id": "59985e63",
   "metadata": {
    "slideshow": {
     "slide_type": "fragment"
    }
   },
   "source": [
    "Like lists, they are iterable & mutable."
   ]
  },
  {
   "cell_type": "code",
   "execution_count": null,
   "id": "e1cec6de",
   "metadata": {
    "scrolled": true,
    "slideshow": {
     "slide_type": "fragment"
    }
   },
   "outputs": [],
   "source": [
    "my_set.add(6)\n",
    "my_set"
   ]
  },
  {
   "cell_type": "markdown",
   "id": "a130330b",
   "metadata": {
    "slideshow": {
     "slide_type": "notes"
    }
   },
   "source": [
    "Reminder that if you add a value that is already in the set...the set will not change"
   ]
  },
  {
   "cell_type": "code",
   "execution_count": null,
   "id": "f6756fcb",
   "metadata": {},
   "outputs": [],
   "source": [
    "my_set.add(6)\n",
    "my_set"
   ]
  },
  {
   "cell_type": "code",
   "execution_count": null,
   "id": "ce0cd142",
   "metadata": {},
   "outputs": [],
   "source": [
    "my_set.add(6)\n",
    "my_set"
   ]
  },
  {
   "cell_type": "code",
   "execution_count": null,
   "id": "996bd3ae",
   "metadata": {},
   "outputs": [],
   "source": [
    "my_set.remove(3)\n",
    "my_set"
   ]
  },
  {
   "cell_type": "code",
   "execution_count": null,
   "id": "12d73cff",
   "metadata": {},
   "outputs": [],
   "source": [
    "len(my_set)"
   ]
  },
  {
   "cell_type": "markdown",
   "id": "1bfc98a3",
   "metadata": {
    "slideshow": {
     "slide_type": "slide"
    }
   },
   "source": [
    "## Collections"
   ]
  },
  {
   "cell_type": "markdown",
   "id": "e9357c0f",
   "metadata": {
    "slideshow": {
     "slide_type": "fragment"
    }
   },
   "source": [
    "The `collections` module has a number of useful variable types, with special properties. "
   ]
  },
  {
   "cell_type": "markdown",
   "id": "1b455733",
   "metadata": {
    "slideshow": {
     "slide_type": "fragment"
    }
   },
   "source": [
    "\"Special editions\" of collections we've discussed before (lists, tuples, and dictionaries)."
   ]
  },
  {
   "cell_type": "code",
   "execution_count": null,
   "id": "0c5757c7",
   "metadata": {
    "slideshow": {
     "slide_type": "fragment"
    }
   },
   "outputs": [],
   "source": [
    "from collections import Counter"
   ]
  },
  {
   "cell_type": "code",
   "execution_count": null,
   "id": "fdb6b163",
   "metadata": {
    "slideshow": {
     "slide_type": "fragment"
    }
   },
   "outputs": [],
   "source": [
    "# count how many elements there are in collection\n",
    "# return values in a dictionary\n",
    "Counter([1, 0, 1, 2, 1])"
   ]
  },
  {
   "cell_type": "code",
   "execution_count": null,
   "id": "a0b34ed1",
   "metadata": {},
   "outputs": [],
   "source": [
    "import collections"
   ]
  },
  {
   "cell_type": "code",
   "execution_count": null,
   "id": "3c9abc1b",
   "metadata": {},
   "outputs": [],
   "source": [
    "collections.Counter([1, 0, 1, 2, 1])"
   ]
  },
  {
   "cell_type": "code",
   "execution_count": null,
   "id": "7fa83313",
   "metadata": {
    "slideshow": {
     "slide_type": "fragment"
    }
   },
   "outputs": [],
   "source": [
    "# can count how many of each letter are in there\n",
    "Counter(\"I wonder how many times I use the letter 'e'\")"
   ]
  },
  {
   "cell_type": "code",
   "execution_count": null,
   "id": "d2695701",
   "metadata": {},
   "outputs": [],
   "source": [
    "my_counts = Counter(\"I wonder how many times I use the letter 'e'\")\n",
    "\n",
    "my_counts['e']"
   ]
  },
  {
   "cell_type": "code",
   "execution_count": null,
   "id": "1d97b74b",
   "metadata": {},
   "outputs": [],
   "source": [
    "# behaves like a dictionary\n",
    "\n",
    "for k, v in Counter(\"I wonder how many times I use the letter 'e'\").items():\n",
    "    print(k, v)"
   ]
  },
  {
   "cell_type": "markdown",
   "id": "a1be26bf",
   "metadata": {
    "slideshow": {
     "slide_type": "fragment"
    }
   },
   "source": [
    "Think back to simple substitution encryption schemes...\n",
    "\n",
    "The most common letter in the English language is 'e'.\n",
    "\n",
    "A Counter could help us crack the code!"
   ]
  },
  {
   "cell_type": "markdown",
   "id": "a8e34f45",
   "metadata": {
    "slideshow": {
     "slide_type": "slide"
    }
   },
   "source": [
    "## `args` & `kwargs`\n",
    "\n",
    "- allow you to pass a variable number of arguments to a function\n",
    "    - `*args` - allow any number of extra arguments (including zero)\n",
    "    - `**kwargs` - allow any number of *keyword* arguments to be passed (as a dictionary)"
   ]
  },
  {
   "cell_type": "markdown",
   "id": "5e8f7620",
   "metadata": {
    "slideshow": {
     "slide_type": "fragment"
    }
   },
   "source": [
    "### `*args`"
   ]
  },
  {
   "cell_type": "code",
   "execution_count": null,
   "id": "21f03616",
   "metadata": {
    "slideshow": {
     "slide_type": "-"
    }
   },
   "outputs": [],
   "source": [
    "# use *arguments to demonstrate args\n",
    "def tell_audience(in1, in2, *arguments):\n",
    "    print('first arg', in1)\n",
    "    print('second arg', in2)\n",
    "    for arg in arguments:\n",
    "        print(arg)"
   ]
  },
  {
   "cell_type": "code",
   "execution_count": null,
   "id": "3a8a607f",
   "metadata": {},
   "outputs": [],
   "source": [
    "tell_audience('hi', 'bye')"
   ]
  },
  {
   "cell_type": "code",
   "execution_count": null,
   "id": "7e6f51cc",
   "metadata": {
    "scrolled": true,
    "slideshow": {
     "slide_type": "fragment"
    }
   },
   "outputs": [],
   "source": [
    "tell_audience(\"Hello!\", \n",
    "              \"My name is Brian.\", \n",
    "              \"My job is Lecturer.\",\n",
    "              \"And\",\n",
    "              \"Here\",\n",
    "              \"Are\",\n",
    "              \"Some\",\n",
    "              \"More\",\n",
    "              \"Lines!\")"
   ]
  },
  {
   "cell_type": "markdown",
   "id": "fafdf694",
   "metadata": {
    "slideshow": {
     "slide_type": "fragment"
    }
   },
   "source": [
    "### `**kwargs`"
   ]
  },
  {
   "cell_type": "code",
   "execution_count": null,
   "id": "d302cf20",
   "metadata": {
    "slideshow": {
     "slide_type": "-"
    }
   },
   "outputs": [],
   "source": [
    "def tell_audience_kwargs(**info):\n",
    "    print(\"type: \", type(info), '\\n')\n",
    "    \n",
    "    for key, value in info.items():\n",
    "        print(\"key: \", key)\n",
    "        print(\"value: \", value, \"\\n\")"
   ]
  },
  {
   "cell_type": "code",
   "execution_count": null,
   "id": "2f1b6018",
   "metadata": {
    "slideshow": {
     "slide_type": "fragment"
    }
   },
   "outputs": [],
   "source": [
    "tell_audience_kwargs(first='Brian', \n",
    "                     last='Hempel', \n",
    "                     email='bhempel@ucsd.edu')"
   ]
  },
  {
   "cell_type": "markdown",
   "id": "3d9ffde9",
   "metadata": {
    "slideshow": {
     "slide_type": "slide"
    }
   },
   "source": [
    "## List Comprehensions"
   ]
  },
  {
   "cell_type": "markdown",
   "id": "ce926132",
   "metadata": {
    "collapsed": true,
    "slideshow": {
     "slide_type": "fragment"
    }
   },
   "source": [
    "List comprehensions allow you to run loops and conditionals, *inside lists*."
   ]
  },
  {
   "cell_type": "markdown",
   "id": "ac3a3953",
   "metadata": {},
   "source": [
    "The general format is :\n",
    "\n",
    "`[ expression for item in list if conditional ]`\n"
   ]
  },
  {
   "cell_type": "code",
   "execution_count": null,
   "id": "f7b91fe2",
   "metadata": {
    "slideshow": {
     "slide_type": "fragment"
    }
   },
   "outputs": [],
   "source": [
    "# NOT a list comprehension\n",
    "# how we've been doing it\n",
    "input_list = [0, 1, 2]\n",
    "output_list = []\n",
    "\n",
    "for item in input_list:\n",
    "    output_list.append(item + 1)\n",
    "    \n",
    "# look at output\n",
    "output_list"
   ]
  },
  {
   "cell_type": "code",
   "execution_count": null,
   "id": "ab94d12d",
   "metadata": {
    "slideshow": {
     "slide_type": "fragment"
    }
   },
   "outputs": [],
   "source": [
    "# This list comprehension is equivalent to the cell above\n",
    "# note the square brackets on the outside\n",
    "[item + 1 for item in [0, 1, 2]]"
   ]
  },
  {
   "cell_type": "code",
   "execution_count": null,
   "id": "cce77106",
   "metadata": {
    "slideshow": {
     "slide_type": "fragment"
    }
   },
   "outputs": [],
   "source": [
    "# You can also include conditionals inside a list comprehension\n",
    "[str(val ** 3) for val in [1, 2, 3, 4, 5] if val % 2 == 0]"
   ]
  },
  {
   "cell_type": "markdown",
   "id": "ed45d968",
   "metadata": {},
   "source": [
    "The common task \"Find the first item that matches a condition\" is surprisingly clumsy in Python. I use list comprehensions:"
   ]
  },
  {
   "cell_type": "code",
   "execution_count": null,
   "id": "0da6339b",
   "metadata": {},
   "outputs": [],
   "source": [
    "# Find first string that begins with 'B'\n",
    "\n",
    "names = ['David', 'Emily', 'Alice', 'Brian', 'Bob', 'Charlie']\n",
    "\n",
    "[name for name in names if name.startswith('B')][0]"
   ]
  },
  {
   "cell_type": "markdown",
   "id": "9d5f67cd",
   "metadata": {
    "slideshow": {
     "slide_type": "fragment"
    }
   },
   "source": [
    "Note: there are also tuple & dictionary comprehensions. They're just used less frequently."
   ]
  },
  {
   "cell_type": "markdown",
   "id": "5d5fc145",
   "metadata": {
    "slideshow": {
     "slide_type": "slide"
    }
   },
   "source": [
    "## Regular Expressions"
   ]
  },
  {
   "cell_type": "markdown",
   "id": "50b4c6c0",
   "metadata": {
    "slideshow": {
     "slide_type": "fragment"
    }
   },
   "source": [
    "Regular expressions allow you to work with **specified patterns in strings**."
   ]
  },
  {
   "cell_type": "code",
   "execution_count": null,
   "id": "1f0213c1",
   "metadata": {
    "slideshow": {
     "slide_type": "fragment"
    }
   },
   "outputs": [],
   "source": [
    "import re"
   ]
  },
  {
   "cell_type": "code",
   "execution_count": null,
   "id": "f7a0c704",
   "metadata": {
    "slideshow": {
     "slide_type": "fragment"
    }
   },
   "outputs": [],
   "source": [
    "my_string = \"If 12 Python programmers try to complete 14 tasks in 16 minutes, why?\""
   ]
  },
  {
   "cell_type": "code",
   "execution_count": null,
   "id": "101cd2e1",
   "metadata": {
    "slideshow": {
     "slide_type": "fragment"
    }
   },
   "outputs": [],
   "source": [
    "# can just search for a letter\n",
    "re.findall(r'o', my_string)"
   ]
  },
  {
   "cell_type": "code",
   "execution_count": null,
   "id": "c1c6a4a3",
   "metadata": {
    "slideshow": {
     "slide_type": "fragment"
    }
   },
   "outputs": [],
   "source": [
    "# but the patterns are where these shine\n",
    "\n",
    "# \\d matches a digit character 0-9\n",
    "\n",
    "re.findall(r'\\d\\d', my_string)"
   ]
  },
  {
   "cell_type": "code",
   "execution_count": null,
   "id": "69061a35",
   "metadata": {},
   "outputs": [],
   "source": [
    "# + means one or more of the previous thing\n",
    "\n",
    "re.findall(r'\\d+', my_string)"
   ]
  },
  {
   "cell_type": "code",
   "execution_count": null,
   "id": "2e050aab",
   "metadata": {},
   "outputs": [],
   "source": [
    "# \\w matches a \"word\" character: A-z a-z 0-9 _\n",
    "\n",
    "re.findall(r'P\\w+', my_string)"
   ]
  },
  {
   "cell_type": "code",
   "execution_count": null,
   "id": "2cfe9298",
   "metadata": {
    "scrolled": true
   },
   "outputs": [],
   "source": [
    "# [abc] matches any of the characters a, b, or c\n",
    "\n",
    "re.findall(r'[Pp]\\w+', my_string)"
   ]
  },
  {
   "cell_type": "code",
   "execution_count": null,
   "id": "782ae250",
   "metadata": {},
   "outputs": [],
   "source": [
    "# \\b matches at a word boundary\n",
    "\n",
    "re.findall(r'\\b[Pp]\\w+', my_string)"
   ]
  },
  {
   "cell_type": "code",
   "execution_count": null,
   "id": "4817d58d",
   "metadata": {},
   "outputs": [],
   "source": [
    "# The r'string' syntax means to keep backslashes in the string.\n",
    "# (Usually, backslashes are used for special characters)\n",
    "\n",
    "print(r'hi\\nbye')"
   ]
  },
  {
   "cell_type": "markdown",
   "id": "7c6cf3a6",
   "metadata": {
    "slideshow": {
     "slide_type": "slide"
    }
   },
   "source": [
    "## Lambda Functions"
   ]
  },
  {
   "cell_type": "markdown",
   "id": "695bd6ab",
   "metadata": {
    "slideshow": {
     "slide_type": "fragment"
    }
   },
   "source": [
    "Lambda functions are small, anonymous functions. \n",
    "\n",
    "Can define them inline."
   ]
  },
  {
   "cell_type": "code",
   "execution_count": null,
   "id": "d3adae5b",
   "metadata": {
    "slideshow": {
     "slide_type": "fragment"
    }
   },
   "outputs": [],
   "source": [
    "increment = lambda a: a + 1"
   ]
  },
  {
   "cell_type": "code",
   "execution_count": null,
   "id": "5be97f0e",
   "metadata": {
    "slideshow": {
     "slide_type": "fragment"
    }
   },
   "outputs": [],
   "source": [
    "increment(1)"
   ]
  },
  {
   "cell_type": "code",
   "execution_count": null,
   "id": "0d5301df",
   "metadata": {
    "slideshow": {
     "slide_type": "fragment"
    }
   },
   "outputs": [],
   "source": [
    "# not a lambda function\n",
    "def lambda_equivalent(a):\n",
    "    \n",
    "    return a + 1"
   ]
  },
  {
   "cell_type": "code",
   "execution_count": null,
   "id": "cc642437",
   "metadata": {
    "scrolled": true,
    "slideshow": {
     "slide_type": "fragment"
    }
   },
   "outputs": [],
   "source": [
    "lambda_equivalent(1)"
   ]
  },
  {
   "cell_type": "code",
   "execution_count": null,
   "id": "bc25b766",
   "metadata": {},
   "outputs": [],
   "source": [
    "(lambda a: a + 1)(10)"
   ]
  },
  {
   "cell_type": "code",
   "execution_count": null,
   "id": "c96588de",
   "metadata": {},
   "outputs": [],
   "source": [
    "(lambda a: a + 1)(100)"
   ]
  },
  {
   "cell_type": "code",
   "execution_count": null,
   "id": "4285adbb",
   "metadata": {},
   "outputs": [],
   "source": [
    "# This is pointless but kinda funky:\n",
    "\n",
    "(lambda increment: increment(10))(lambda a: a + 1)"
   ]
  },
  {
   "cell_type": "markdown",
   "id": "b1c0df47",
   "metadata": {
    "slideshow": {
     "slide_type": "slide"
    }
   },
   "source": [
    "## map"
   ]
  },
  {
   "cell_type": "markdown",
   "id": "30411ec2",
   "metadata": {
    "slideshow": {
     "slide_type": "fragment"
    }
   },
   "source": [
    "`map` applies a given function to each element in a collection. "
   ]
  },
  {
   "cell_type": "code",
   "execution_count": null,
   "id": "2e12522d",
   "metadata": {
    "slideshow": {
     "slide_type": "fragment"
    }
   },
   "outputs": [],
   "source": [
    "# create a function\n",
    "def double(val):\n",
    "    return val * 2"
   ]
  },
  {
   "cell_type": "code",
   "execution_count": null,
   "id": "8605b4d6",
   "metadata": {
    "slideshow": {
     "slide_type": "fragment"
    }
   },
   "outputs": [],
   "source": [
    "# map function to each element of list\n",
    "my_list = [1, 2, 3, 4]\n",
    "list(map(double, my_list))"
   ]
  },
  {
   "cell_type": "code",
   "execution_count": null,
   "id": "a71ec915",
   "metadata": {
    "slideshow": {
     "slide_type": "fragment"
    }
   },
   "outputs": [],
   "source": [
    "# Note - we can use lambda functions with map\n",
    "list(map(lambda x: x * 3, my_list))"
   ]
  },
  {
   "cell_type": "markdown",
   "id": "244a8cc0",
   "metadata": {
    "slideshow": {
     "slide_type": "slide"
    }
   },
   "source": [
    "## finding the first item that matches a condition\n",
    "\n",
    "Earlier I said it's clumsy to find the first item that matches a condition. With plain Python, this is about the best we can do:"
   ]
  },
  {
   "cell_type": "code",
   "execution_count": null,
   "id": "23d00664",
   "metadata": {},
   "outputs": [],
   "source": [
    "# Find first string that begins with 'B'\n",
    "\n",
    "names = ['David', 'Emily', 'Alice', 'Brian', 'Bob', 'Charlie']\n",
    "\n",
    "[name for name in names if name.startswith('B')][0]"
   ]
  },
  {
   "cell_type": "markdown",
   "id": "0115467c",
   "metadata": {},
   "source": [
    "With lambdas, we can make a `findfirst` function that would let us write:\n",
    "    \n",
    "```python\n",
    "findfirst(lambda name: name.startswith('B'), names)\n",
    "```"
   ]
  },
  {
   "cell_type": "code",
   "execution_count": null,
   "id": "ecc2a1c1",
   "metadata": {},
   "outputs": [],
   "source": [
    "def findfirst(bool_func, lst):\n",
    "\n",
    "    for item in lst:\n",
    "        if bool_func(item):\n",
    "            return item\n",
    "\n",
    "    return None"
   ]
  },
  {
   "cell_type": "code",
   "execution_count": null,
   "id": "64e8f856",
   "metadata": {},
   "outputs": [],
   "source": [
    "findfirst(lambda name: name.startswith('B'), names)"
   ]
  },
  {
   "cell_type": "markdown",
   "id": "3a09176f",
   "metadata": {
    "collapsed": true,
    "slideshow": {
     "slide_type": "slide"
    }
   },
   "source": [
    "## The Goal"
   ]
  },
  {
   "cell_type": "markdown",
   "id": "2b69e219",
   "metadata": {
    "slideshow": {
     "slide_type": "fragment"
    }
   },
   "source": [
    "To teach you a skill - of how to do things with Python."
   ]
  },
  {
   "cell_type": "markdown",
   "id": "2ff57d8e",
   "metadata": {
    "slideshow": {
     "slide_type": "fragment"
    }
   },
   "source": [
    "You've been more formally trained than *many* people out in the world programming."
   ]
  },
  {
   "cell_type": "markdown",
   "id": "0f59bce4",
   "metadata": {
    "slideshow": {
     "slide_type": "-"
    }
   },
   "source": [
    "## Where We've Been:\n",
    "\n",
    "- Python & Jupyter\n",
    "- Variables\n",
    "- Operators\n",
    "- Conditionals\n",
    "- Functions\n",
    "- Lists, Tuples & Dictionaries\n",
    "- Loops\n",
    "- Objects & Classes\n",
    "- Command Line\n",
    "- Scientific Computing\n",
    "- Documentation, Code Style, Code Testing"
   ]
  },
  {
   "cell_type": "markdown",
   "id": "9f14f855",
   "metadata": {},
   "source": [
    "#### Class Question #2\n",
    "\n",
    "Any lingering Python questions? (Answer n/a if not.)"
   ]
  },
  {
   "cell_type": "code",
   "execution_count": null,
   "id": "65c6ffe5",
   "metadata": {
    "tags": [
     "live"
    ]
   },
   "outputs": [],
   "source": []
  },
  {
   "cell_type": "markdown",
   "id": "6cfe5329",
   "metadata": {
    "slideshow": {
     "slide_type": "slide"
    }
   },
   "source": [
    "#### Class Question #3\n",
    "\n",
    "After COGS 18, I feel \\_\\_\\_\\_\\_\\_\\_\\_\\_\\_\\_\\_ my Python programming abilities\n",
    "\n",
    "- A) very confident in\n",
    "- B) somewhat confident in\n",
    "- C) middle-of-the-road about\n",
    "- D) somewhat unsure about\n",
    "- E) very unsure about\n"
   ]
  },
  {
   "cell_type": "code",
   "execution_count": null,
   "id": "1de1f463",
   "metadata": {
    "tags": [
     "live"
    ]
   },
   "outputs": [],
   "source": []
  },
  {
   "cell_type": "markdown",
   "id": "1ddd355b",
   "metadata": {
    "slideshow": {
     "slide_type": "slide"
    }
   },
   "source": [
    "#### Class Question #4\n",
    "\n",
    "After COGS 18, I feel the following about my future Python programming:\n",
    "\n",
    "- A) will use again for sure\n",
    "- B) may use again\n",
    "- C) unsure if will use again\n",
    "- D) probably won't use again\n",
    "- E) definitely won't use again\n"
   ]
  },
  {
   "cell_type": "code",
   "execution_count": null,
   "id": "70f2ae6c",
   "metadata": {
    "tags": [
     "live"
    ]
   },
   "outputs": [],
   "source": []
  },
  {
   "cell_type": "markdown",
   "id": "d41a84c9",
   "metadata": {
    "slideshow": {
     "slide_type": "slide"
    }
   },
   "source": [
    "## How to Continue with Coding"
   ]
  },
  {
   "cell_type": "markdown",
   "id": "a4da4100",
   "metadata": {
    "slideshow": {
     "slide_type": "fragment"
    }
   },
   "source": [
    "- Write Code\n",
    "- Read Code\n",
    "- Learn and follow standard procedures\n",
    "- Do code reviews\n",
    "- Interact with the community\n",
    "- Build a code portfolio"
   ]
  },
  {
   "cell_type": "markdown",
   "id": "b8a86180",
   "metadata": {
    "slideshow": {
     "slide_type": "-"
    }
   },
   "source": [
    "## Powered by Python"
   ]
  },
  {
   "cell_type": "markdown",
   "id": "5dbf91e2",
   "metadata": {
    "slideshow": {
     "slide_type": "fragment"
    }
   },
   "source": [
    "This course used:\n",
    "- Python Programming Language\n",
    "- Jupyter Notebooks\n",
    "- nbgrader\n",
    "- pytest\n",
    "- numpy and pandas"
   ]
  },
  {
   "cell_type": "markdown",
   "id": "fab0a51c",
   "metadata": {
    "slideshow": {
     "slide_type": "slide"
    }
   },
   "source": [
    "## Where do you go from here"
   ]
  },
  {
   "cell_type": "markdown",
   "id": "1e7bebca",
   "metadata": {
    "slideshow": {
     "slide_type": "fragment"
    }
   },
   "source": [
    "- if want_more_data_science:\n",
    "    - go to [COGS 9](https://catalog.ucsd.edu/courses/COGS.html#cogs9)\n",
    "- if you want *to do* more_data_science:\n",
    "    - ...*and* Python: take [COGS 108](https://catalog.ucsd.edu/courses/COGS.html#cogs108)\n",
    "    - ...*and* R: take [COGS 137](https://catalog.ucsd.edu/courses/COGS.html#cogs137)\n",
    "- if interested_in_research:\n",
    "    - look for labs, tell them you can code\n",
    "- if you want_something_else:\n",
    "    - go do it!"
   ]
  },
  {
   "cell_type": "markdown",
   "id": "c8647a39",
   "metadata": {
    "slideshow": {
     "slide_type": "slide"
    }
   },
   "source": [
    "#### Final Class Question\n",
    "\n",
    "What questions do you have, about _anything_?"
   ]
  },
  {
   "cell_type": "code",
   "execution_count": null,
   "id": "c67effc6",
   "metadata": {
    "tags": [
     "live"
    ]
   },
   "outputs": [],
   "source": []
  },
  {
   "cell_type": "markdown",
   "id": "3f9c9f53",
   "metadata": {
    "slideshow": {
     "slide_type": "slide"
    }
   },
   "source": [
    "## Acknowledgments"
   ]
  },
  {
   "cell_type": "markdown",
   "id": "181c6453",
   "metadata": {
    "slideshow": {
     "slide_type": "fragment"
    }
   },
   "source": [
    "Thank you to Tom for his original design of this course."
   ]
  },
  {
   "cell_type": "markdown",
   "id": "56fb3d94",
   "metadata": {
    "slideshow": {
     "slide_type": "fragment"
    }
   },
   "source": [
    "Thank you to the TAs & IAs for their tireless work on this class."
   ]
  },
  {
   "cell_type": "markdown",
   "id": "d3b9da28",
   "metadata": {
    "slideshow": {
     "slide_type": "fragment"
    }
   },
   "source": [
    "Thank you students for you time, effort and patience. "
   ]
  },
  {
   "cell_type": "markdown",
   "id": "c9002d70",
   "metadata": {
    "collapsed": true,
    "slideshow": {
     "slide_type": "slide"
    }
   },
   "source": [
    "<center><h1> The End "
   ]
  }
 ],
 "metadata": {
  "kernelspec": {
   "display_name": "Python 3 (ipykernel)",
   "language": "python",
   "name": "python3"
  },
  "language_info": {
   "codemirror_mode": {
    "name": "ipython",
    "version": 3
   },
   "file_extension": ".py",
   "mimetype": "text/x-python",
   "name": "python",
   "nbconvert_exporter": "python",
   "pygments_lexer": "ipython3",
   "version": "3.11.6"
  },
  "rise": {
   "scroll": true
  }
 },
 "nbformat": 4,
 "nbformat_minor": 5
}
